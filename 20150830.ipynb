{
 "cells": [
  {
   "cell_type": "markdown",
   "metadata": {},
   "source": [
    "### FindBook"
   ]
  },
  {
   "cell_type": "code",
   "execution_count": 10,
   "metadata": {
    "collapsed": false
   },
   "outputs": [
    {
     "name": "stdout",
     "output_type": "stream",
     "text": [
      "[<span class=\"pink_bold\">192</span>]\n",
      "<span class=\"pink_bold\">192</span>\n",
      "192\n",
      "是誰在說謊\n"
     ]
    }
   ],
   "source": [
    "import requests\n",
    "from bs4 import BeautifulSoup as bs\n",
    "res = requests.get('http://findbook.tw/book/9789865880941/price')\n",
    "#print res.encoding\n",
    "res.encoding = 'utf-8'\n",
    "#print res.encoding #convert encoding\n",
    "soup = bs(res.text)\n",
    "print soup.select('#main .pink_bold')\n",
    "print soup.select('#main .pink_bold')[0]\n",
    "print soup.select('#main .pink_bold')[0].text\n",
    "print soup.select('.book-profile h1')[0].text\n",
    "#print res.text"
   ]
  },
  {
   "cell_type": "markdown",
   "metadata": {},
   "source": [
    "### PTT"
   ]
  },
  {
   "cell_type": "code",
   "execution_count": 16,
   "metadata": {
    "collapsed": false
   },
   "outputs": [
    {
     "name": "stdout",
     "output_type": "stream",
     "text": [
      "Re: [請益] 老闆該如何當? 8/29 cem236321\n",
      "Re: [請益] 老闆該如何當? 8/30 kros\n",
      "Re: [請益] 老闆該如何當? 8/30 capita\n",
      "[討論] 專案管理方法 8/30 JayReed\n",
      "【 版　規 】 最後修訂：2012/02/29 3/29 TonyQ\n",
      "[情報] 軟體工作相關看板 5/01 TonyQ\n",
      "[公告] 有關本版範圍跟文章走向 7/07 TonyQ\n",
      "Fw: [情報] 22nd 小天使招生囉～（08/24 ~ 09/05） 8/19 TonyQ\n"
     ]
    },
    {
     "name": "stderr",
     "output_type": "stream",
     "text": [
      "C:\\Python27\\lib\\site-packages\\requests\\packages\\urllib3\\util\\ssl_.py:90: InsecurePlatformWarning: A true SSLContext object is not available. This prevents urllib3 from configuring SSL appropriately and may cause certain SSL connections to fail. For more information, see https://urllib3.readthedocs.org/en/latest/security.html#insecureplatformwarning.\n",
      "  InsecurePlatformWarning\n",
      "C:\\Python27\\lib\\site-packages\\requests\\packages\\urllib3\\connectionpool.py:768: InsecureRequestWarning: Unverified HTTPS request is being made. Adding certificate verification is strongly advised. See: https://urllib3.readthedocs.org/en/latest/security.html\n",
      "  InsecureRequestWarning)\n"
     ]
    }
   ],
   "source": [
    "import requests\n",
    "from bs4 import BeautifulSoup as bs\n",
    "res = requests.get('https://www.ptt.cc/bbs/Soft_Job/index.html', verify=False)\n",
    "soup = bs(res.text)\n",
    "for ent in soup.select('.r-ent'):\n",
    "    print ent.select('.title')[0].text.strip(), ent.select('.date')[0].text.strip(), ent.select('.author')[0].text.strip()"
   ]
  },
  {
   "cell_type": "code",
   "execution_count": 22,
   "metadata": {
    "collapsed": false
   },
   "outputs": [
    {
     "name": "stderr",
     "output_type": "stream",
     "text": [
      "C:\\Python27\\lib\\site-packages\\requests\\packages\\urllib3\\util\\ssl_.py:90: InsecurePlatformWarning: A true SSLContext object is not available. This prevents urllib3 from configuring SSL appropriately and may cause certain SSL connections to fail. For more information, see https://urllib3.readthedocs.org/en/latest/security.html#insecureplatformwarning.\n",
      "  InsecurePlatformWarning\n",
      "C:\\Python27\\lib\\site-packages\\requests\\packages\\urllib3\\connectionpool.py:768: InsecureRequestWarning: Unverified HTTPS request is being made. Adding certificate verification is strongly advised. See: https://urllib3.readthedocs.org/en/latest/security.html\n",
      "  InsecureRequestWarning)\n",
      "C:\\Python27\\lib\\site-packages\\requests\\packages\\urllib3\\connectionpool.py:768: InsecureRequestWarning: Unverified HTTPS request is being made. Adding certificate verification is strongly advised. See: https://urllib3.readthedocs.org/en/latest/security.html\n",
      "  InsecureRequestWarning)\n",
      "C:\\Python27\\lib\\site-packages\\requests\\packages\\urllib3\\connectionpool.py:768: InsecureRequestWarning: Unverified HTTPS request is being made. Adding certificate verification is strongly advised. See: https://urllib3.readthedocs.org/en/latest/security.html\n",
      "  InsecureRequestWarning)\n"
     ]
    },
    {
     "name": "stdout",
     "output_type": "stream",
     "text": [
      "[問卦] 有沒有以前臺灣到底多好賺錢的八卦呢? 8/30 DamnIAmSucks\n",
      "Re: [問卦] 削鐵如泥的匕首真的是天方夜譚嗎？ 8/30 backere0720\n",
      "[新聞] 劉香慈「遇到對的人」 藥品小開只差求婚 8/30 jailkobe5566\n",
      "Re: [問卦] av女優在日本社會的地位? 8/30 n99lu\n",
      "[新聞] 宋楚瑜訪台南 達彌儒道信徒喊:不要女總統 8/30 behappy0924\n",
      "Re: [問卦] 有沒有不禁條頓人改禁韓國人的八卦 8/30 cito\n",
      "[新聞] 校車疑遭惡意逼車 叭叭示警！反遭下車嗆 8/30 chen1765\n",
      "[ＦＢ] 李富城提告啦 8/30 zuan\n",
      "[新聞] 保母費每月6萬 黑范顧飛翔全程緊盯 8/30 CraigKimbrel\n",
      "Re: [問卦] 有沒有蜜月至少要去哪裏的八卦？ 8/30 Sodium\n",
      "(已被meowmeowgo刪除) <lunhsuan>閒聊 8/30 -\n",
      "[問卦] 有沒有手機轉珠遊戲差在哪的卦？ 8/30 okokokya\n",
      "Re: [問卦] av女優在日本社會的地位? 8/30 OLM\n",
      "Re: [新聞]「執政後保證不缺電」 蔡英文：逐步達成非 8/30 fankung\n",
      "[問卦] 有沒有人買過權利車的八卦? 8/30 zombie123321\n",
      "[問卦] 有沒有打鐵的八卦? 8/30 Atwo\n",
      "[問卦] 誰是早餐界的霸主 8/30 meinlvc\n",
      "Re: [問卦] 有沒有手機轉珠遊戲差在哪的卦？ 8/30 liveforhappy\n",
      "Re: [問卦] 誰是早餐界的霸主 8/30 jerwei2010\n",
      "[公告] 八卦板板規(2015.06.16) 6/16 seabox\n",
      "[公告] PTT 二十周年-報名開始(新竹尚有名額) 8/15 iPad3\n",
      "[爆卦] 9/19 台灣失智症協會 一日志工 8/27 Leeng\n",
      "Fw: [協尋]8/18 台北市內湖區瑞光路行車紀錄器或目擊者 8/27 sppin\n",
      "[公告] 八月份置底閒聊文 8/01 seabox\n"
     ]
    }
   ],
   "source": [
    "import requests\n",
    "from bs4 import BeautifulSoup as bs\n",
    "rs = requests.session()\n",
    "payload = {\n",
    "    'from':'/bbs/Gossiping/index.html',\n",
    "    'yes':'yes'\n",
    "}\n",
    "res = rs.post('https://www.ptt.cc/ask/over18', data= payload, verify= False)\n",
    "\n",
    "\n",
    "res = rs.get('https://www.ptt.cc/bbs/Gossiping/index.html', verify=False)\n",
    "soup = bs(res.text)\n",
    "\n",
    "for ent in soup.select('.r-ent'):\n",
    "    print ent.select('.title')[0].text.strip(), ent.select('.date')[0].text.strip(), ent.select('.author')[0].text.strip()\n"
   ]
  },
  {
   "cell_type": "code",
   "execution_count": 24,
   "metadata": {
    "collapsed": false
   },
   "outputs": [],
   "source": [
    "f = open(\"gov/51603709_104040.txt\", \"r\") \n",
    "#print f.read() \n",
    "f.close()\n"
   ]
  },
  {
   "cell_type": "code",
   "execution_count": 25,
   "metadata": {
    "collapsed": true
   },
   "outputs": [],
   "source": [
    "from bs4 import BeautifulSoup \n",
    "f = open('gov/51603709_104040.txt', 'r') \n",
    "response_text = f.read() \n",
    "soup = BeautifulSoup(response_text) \n",
    "f.close()\n"
   ]
  },
  {
   "cell_type": "code",
   "execution_count": 28,
   "metadata": {
    "collapsed": false
   },
   "outputs": [
    {
     "name": "stdout",
     "output_type": "stream",
     "text": [
      "[] 0\n",
      "[] 0\n",
      "[<th align=\"left\" bgcolor=\"#DAEBED\" class=\"T11b\" valign=\"middle\" width=\"200\">\n",
      "     機關代碼\n",
      "    </th>] 1\n",
      "[<th align=\"left\" bgcolor=\"#DAEBED\" class=\"T11b\" valign=\"middle\" width=\"200\">\n",
      "     機關名稱\n",
      "    </th>] 1\n",
      "[<th align=\"left\" bgcolor=\"#DAEBED\" class=\"T11b\" valign=\"middle\" width=\"200\">\n",
      "     單位名稱\n",
      "    </th>] 1\n",
      "[<th align=\"left\" bgcolor=\"#DAEBED\" class=\"T11b\" valign=\"middle\" width=\"200\">\n",
      "     機關地址\n",
      "    </th>] 1\n",
      "[<th align=\"left\" bgcolor=\"#DAEBED\" class=\"T11b\" valign=\"middle\" width=\"200\">\n",
      "     聯絡人\n",
      "    </th>] 1\n",
      "[<th align=\"left\" bgcolor=\"#DAEBED\" class=\"T11b\" valign=\"middle\" width=\"200\">\n",
      "     聯絡電話\n",
      "    </th>] 1\n",
      "[<th align=\"left\" bgcolor=\"#DAEBED\" class=\"T11b\" style=\"height: 25px\" valign=\"middle\" width=\"200\">\n",
      "     傳真號碼\n",
      "    </th>] 1\n",
      "[] 0\n",
      "[<th align=\"left\" bgcolor=\"#FFFF99\" class=\"T11b\" valign=\"middle\" width=\"200\">\n",
      "     標案案號\n",
      "    </th>] 1\n",
      "[<th align=\"left\" bgcolor=\"#FFFF99\" class=\"T11b\" valign=\"middle\" width=\"200\">\n",
      "     招標方式\n",
      "    </th>] 1\n",
      "[<th align=\"left\" bgcolor=\"#FFFF99\" class=\"T11b\" valign=\"middle\" width=\"200\">\n",
      "     決標方式\n",
      "    </th>] 1\n",
      "[<th align=\"left\" bgcolor=\"#FFFF99\" class=\"T11b\" valign=\"middle\" width=\"200\">\n",
      "     新增公告傳輸次數\n",
      "    </th>] 1\n",
      "[<th align=\"left\" bgcolor=\"#FFFF99\" class=\"T11b\" valign=\"middle\" width=\"200\">\n",
      "     是否依據採購法第106條第1項第1款辦理\n",
      "    </th>] 1\n",
      "[<th align=\"left\" bgcolor=\"#FFFF99\" class=\"T11b\" valign=\"middle\" width=\"200\">\n",
      "     標案名稱\n",
      "    </th>] 1\n",
      "[<th align=\"left\" bgcolor=\"#FFFF99\" class=\"T11b\" valign=\"middle\" width=\"200\">\n",
      "     決標資料類別\n",
      "    </th>] 1\n",
      "[<th align=\"left\" bgcolor=\"#FFFF99\" class=\"T11b\" valign=\"middle\" width=\"200\">\n",
      "     是否屬共同供應契約採購\n",
      "    </th>] 1\n",
      "[<th align=\"left\" bgcolor=\"#FFFF99\" class=\"T11b\" valign=\"middle\" width=\"200\">\n",
      "     是否屬二以上機關之聯合採購(不適用共同供應契約規定)\n",
      "    </th>] 1\n",
      "[<th align=\"left\" bgcolor=\"#FFFF99\" class=\"T11b\" valign=\"middle\" width=\"200\">\n",
      "     是否複數決標\n",
      "    </th>] 1\n",
      "[<th align=\"left\" bgcolor=\"#FFFF99\" class=\"T11b\" valign=\"middle\" width=\"200\">\n",
      "     是否共同投標\n",
      "    </th>] 1\n",
      "[<th align=\"left\" bgcolor=\"#FFFF99\" class=\"T11b\" valign=\"middle\" width=\"200\">\n",
      "     標的分類\n",
      "    </th>] 1\n",
      "[<th align=\"left\" bgcolor=\"#FFFF99\" class=\"T11b\" valign=\"middle\" width=\"200\">\n",
      "     是否屬統包\n",
      "    </th>] 1\n",
      "[<th align=\"left\" bgcolor=\"#FFFF99\" class=\"T11b\" valign=\"middle\" width=\"200\">\n",
      "     是否應依公共工程專業技師簽證規則實施技師簽證\n",
      "    </th>] 1\n",
      "[<th align=\"left\" bgcolor=\"#FFFF99\" class=\"T11b\" valign=\"middle\" width=\"200\">\n",
      "     開標時間\n",
      "    </th>] 1\n",
      "[<th align=\"left\" bgcolor=\"#FFFF99\" class=\"T11b\" valign=\"middle\" width=\"200\">\n",
      "     原公告日期\n",
      "    </th>] 1\n",
      "[<th align=\"left\" bgcolor=\"#FFFF99\" class=\"T11b\" valign=\"middle\" width=\"200\">\n",
      "     採購金額級距\n",
      "    </th>] 1\n",
      "[<th align=\"left\" bgcolor=\"#FFFF99\" class=\"T11b\" valign=\"middle\" width=\"200\">\n",
      "     辦理方式\n",
      "    </th>] 1\n",
      "[<th align=\"left\" bgcolor=\"#FFFF99\" class=\"T11b\" valign=\"middle\" width=\"200\">\n",
      "     預算金額是否公開\n",
      "    </th>] 1\n",
      "[<th align=\"left\" bgcolor=\"#FFFF99\" class=\"T11b\" valign=\"middle\" width=\"200\">\n",
      "     預算金額\n",
      "    </th>] 1\n",
      "[<th align=\"left\" bgcolor=\"#FFFF99\" class=\"T11b\" valign=\"middle\" width=\"200\">\n",
      "     是否受機關補助\n",
      "    </th>] 1\n",
      "[<th align=\"left\" bgcolor=\"#FFFF99\" class=\"T11b\" valign=\"middle\" width=\"200\">\n",
      "     履約地點\n",
      "    </th>] 1\n",
      "[<th align=\"left\" bgcolor=\"#FFFF99\" class=\"T11b\" valign=\"middle\" width=\"200\">\n",
      "     履約地點（含地區）\n",
      "    </th>] 1\n",
      "[<th align=\"left\" bgcolor=\"#FFFF99\" class=\"T11b\" valign=\"middle\" width=\"200\">\n",
      "     是否於招標文件載明優先決標予身心障礙福利機構團體或庇護工場\n",
      "    </th>] 1\n",
      "[<th align=\"left\" bgcolor=\"#FFFF99\" class=\"T11b\" valign=\"middle\" width=\"200\">\n",
      "     是否含特別預算\n",
      "    </th>] 1\n",
      "[<th align=\"left\" bgcolor=\"#FFFF99\" class=\"T11b\" valign=\"middle\" width=\"200\">\n",
      "     歸屬計畫類別\n",
      "    </th>] 1\n",
      "[<th align=\"left\" bgcolor=\"#FFFF99\" class=\"T11b\" valign=\"middle\" width=\"200\">\n",
      "     本案採購契約是否採用主管機關訂定之範本\n",
      "    </th>] 1\n",
      "[] 0\n",
      "[<th align=\"left\" bgcolor=\"#ffdd83\" class=\"T11b\" valign=\"middle\" width=\"200\">\n",
      "        投標廠商家數\n",
      "       </th>, <th align=\"left\" bgcolor=\"#ffdd83\" class=\"T11b\" valign=\"middle\" width=\"200\">\n",
      "        投標廠商1\n",
      "       </th>, <th align=\"left\" bgcolor=\"#ffdd83\" class=\"T11b\" valign=\"middle\" width=\"200\">\n",
      "        廠商代碼\n",
      "       </th>, <th align=\"left\" bgcolor=\"#ffdd83\" class=\"T11b\" valign=\"middle\" width=\"200\">\n",
      "        廠商名稱\n",
      "       </th>, <th align=\"left\" bgcolor=\"#ffdd83\" class=\"T11b\" valign=\"middle\" width=\"200\">\n",
      "        是否得標\n",
      "       </th>, <th align=\"left\" bgcolor=\"#ffdd83\" class=\"T11b\" valign=\"middle\" width=\"200\">\n",
      "        組織型態\n",
      "       </th>, <th align=\"left\" bgcolor=\"#ffdd83\" class=\"T11b\" valign=\"middle\" width=\"200\">\n",
      "        廠商業別\n",
      "       </th>, <th align=\"left\" bgcolor=\"#ffdd83\" class=\"T11b\" valign=\"middle\" width=\"200\">\n",
      "        廠商地址\n",
      "       </th>, <th align=\"left\" bgcolor=\"#ffdd83\" class=\"T11b\" valign=\"middle\" width=\"200\">\n",
      "        廠商電話\n",
      "       </th>, <th align=\"left\" bgcolor=\"#ffdd83\" class=\"T11b\" valign=\"middle\" width=\"200\">\n",
      "        決標金額\n",
      "       </th>, <th align=\"left\" bgcolor=\"#ffdd83\" class=\"T11b\" valign=\"middle\" width=\"200\">\n",
      "        得標廠商國別\n",
      "       </th>, <th align=\"left\" bgcolor=\"#ffdd83\" class=\"T11b\" valign=\"middle\" width=\"200\">\n",
      "        是否為中小企業\n",
      "       </th>, <th align=\"left\" bgcolor=\"#ffdd83\" class=\"T11b\" valign=\"middle\" width=\"200\">\n",
      "        履約起迄日期\n",
      "       </th>, <th align=\"left\" bgcolor=\"#ffdd83\" class=\"T11b\" valign=\"middle\" width=\"200\">\n",
      "        雇用員工總人數是否\n",
      "        <br>\n",
      "         超過100人\n",
      "        </br>\n",
      "</th>] 14\n",
      "[<th align=\"left\" bgcolor=\"#ffdd83\" class=\"T11b\" valign=\"middle\" width=\"200\">\n",
      "        投標廠商家數\n",
      "       </th>] 1\n",
      "[<th align=\"left\" bgcolor=\"#ffdd83\" class=\"T11b\" valign=\"middle\" width=\"200\">\n",
      "        投標廠商1\n",
      "       </th>] 1\n",
      "[<th align=\"left\" bgcolor=\"#ffdd83\" class=\"T11b\" valign=\"middle\" width=\"200\">\n",
      "        廠商代碼\n",
      "       </th>] 1\n",
      "[<th align=\"left\" bgcolor=\"#ffdd83\" class=\"T11b\" valign=\"middle\" width=\"200\">\n",
      "        廠商名稱\n",
      "       </th>] 1\n",
      "[<th align=\"left\" bgcolor=\"#ffdd83\" class=\"T11b\" valign=\"middle\" width=\"200\">\n",
      "        是否得標\n",
      "       </th>] 1\n",
      "[<th align=\"left\" bgcolor=\"#ffdd83\" class=\"T11b\" valign=\"middle\" width=\"200\">\n",
      "        組織型態\n",
      "       </th>] 1\n",
      "[<th align=\"left\" bgcolor=\"#ffdd83\" class=\"T11b\" valign=\"middle\" width=\"200\">\n",
      "        廠商業別\n",
      "       </th>] 1\n",
      "[<th align=\"left\" bgcolor=\"#ffdd83\" class=\"T11b\" valign=\"middle\" width=\"200\">\n",
      "        廠商地址\n",
      "       </th>] 1\n",
      "[<th align=\"left\" bgcolor=\"#ffdd83\" class=\"T11b\" valign=\"middle\" width=\"200\">\n",
      "        廠商電話\n",
      "       </th>] 1\n",
      "[<th align=\"left\" bgcolor=\"#ffdd83\" class=\"T11b\" valign=\"middle\" width=\"200\">\n",
      "        決標金額\n",
      "       </th>] 1\n",
      "[<th align=\"left\" bgcolor=\"#ffdd83\" class=\"T11b\" valign=\"middle\" width=\"200\">\n",
      "        得標廠商國別\n",
      "       </th>] 1\n",
      "[<th align=\"left\" bgcolor=\"#ffdd83\" class=\"T11b\" valign=\"middle\" width=\"200\">\n",
      "        是否為中小企業\n",
      "       </th>] 1\n",
      "[<th align=\"left\" bgcolor=\"#ffdd83\" class=\"T11b\" valign=\"middle\" width=\"200\">\n",
      "        履約起迄日期\n",
      "       </th>] 1\n",
      "[<th align=\"left\" bgcolor=\"#ffdd83\" class=\"T11b\" valign=\"middle\" width=\"200\">\n",
      "        雇用員工總人數是否\n",
      "        <br>\n",
      "         超過100人\n",
      "        </br>\n",
      "</th>] 1\n",
      "[] 0\n",
      "[<th align=\"left\" bgcolor=\"#FFCCCC\" class=\"T11b\" valign=\"middle\" width=\"200\">\n",
      "        決標品項數\n",
      "       </th>, <th align=\"left\" bgcolor=\"#FFCCCC\" class=\"T11b\" valign=\"middle\" width=\"200\">\n",
      "        第1品項\n",
      "       </th>, <th align=\"left\" bgcolor=\"#FFCCCC\" class=\"T11b\" valign=\"middle\" width=\"200\">\n",
      "        品項名稱\n",
      "       </th>, <th align=\"left\" bgcolor=\"#FFCCCC\" class=\"T11b\" valign=\"middle\" width=\"200\">\n",
      "        是否以單價及預估需\n",
      "        <br>\n",
      "         求數量之乘積決定最\n",
      "         <br>\n",
      "          低標\n",
      "         </br>\n",
      "</br>\n",
      "</th>, <th align=\"left\" bgcolor=\"#FFCCCC\" class=\"T11b\" valign=\"middle\" width=\"200\">\n",
      "        得標廠商1\n",
      "       </th>, <th align=\"left\" bgcolor=\"#FFCCCC\" class=\"T11b\" valign=\"middle\" width=\"200\">\n",
      "        得標廠商\n",
      "       </th>, <th align=\"left\" bgcolor=\"#FFCCCC\" class=\"T11b\" valign=\"middle\" width=\"200\">\n",
      "        預估需求數量\n",
      "       </th>, <th align=\"left\" bgcolor=\"#FFCCCC\" class=\"T11b\" valign=\"middle\" width=\"200\">\n",
      "        決標金額\n",
      "       </th>, <th align=\"left\" bgcolor=\"#FFCCCC\" class=\"T11b\" valign=\"middle\" width=\"200\">\n",
      "        底價金額\n",
      "       </th>, <th align=\"left\" bgcolor=\"#FFCCCC\" class=\"T11b\" valign=\"middle\" width=\"200\">\n",
      "        原產地國別\n",
      "       </th>] 10\n",
      "[<th align=\"left\" bgcolor=\"#FFCCCC\" class=\"T11b\" valign=\"middle\" width=\"200\">\n",
      "        決標品項數\n",
      "       </th>] 1\n",
      "[<th align=\"left\" bgcolor=\"#FFCCCC\" class=\"T11b\" valign=\"middle\" width=\"200\">\n",
      "        第1品項\n",
      "       </th>] 1\n",
      "[<th align=\"left\" bgcolor=\"#FFCCCC\" class=\"T11b\" valign=\"middle\" width=\"200\">\n",
      "        品項名稱\n",
      "       </th>] 1\n",
      "[<th align=\"left\" bgcolor=\"#FFCCCC\" class=\"T11b\" valign=\"middle\" width=\"200\">\n",
      "        是否以單價及預估需\n",
      "        <br>\n",
      "         求數量之乘積決定最\n",
      "         <br>\n",
      "          低標\n",
      "         </br>\n",
      "</br>\n",
      "</th>] 1\n",
      "[<th align=\"left\" bgcolor=\"#FFCCCC\" class=\"T11b\" valign=\"middle\" width=\"200\">\n",
      "        得標廠商1\n",
      "       </th>] 1\n",
      "[<th align=\"left\" bgcolor=\"#FFCCCC\" class=\"T11b\" valign=\"middle\" width=\"200\">\n",
      "        得標廠商\n",
      "       </th>] 1\n",
      "[<th align=\"left\" bgcolor=\"#FFCCCC\" class=\"T11b\" valign=\"middle\" width=\"200\">\n",
      "        預估需求數量\n",
      "       </th>] 1\n",
      "[<th align=\"left\" bgcolor=\"#FFCCCC\" class=\"T11b\" valign=\"middle\" width=\"200\">\n",
      "        決標金額\n",
      "       </th>] 1\n",
      "[<th align=\"left\" bgcolor=\"#FFCCCC\" class=\"T11b\" valign=\"middle\" width=\"200\">\n",
      "        底價金額\n",
      "       </th>] 1\n",
      "[<th align=\"left\" bgcolor=\"#FFCCCC\" class=\"T11b\" valign=\"middle\" width=\"200\">\n",
      "        原產地國別\n",
      "       </th>] 1\n",
      "[] 0\n",
      "[] 0\n",
      "[] 0\n",
      "[] 0\n",
      "[<th bgcolor=\"#ddc09e\" class=\"T11b\" width=\"200\">\n",
      "     決標公告序號\n",
      "    </th>] 1\n",
      "[<th bgcolor=\"#ddc09e\" class=\"T11b\" width=\"200\">\n",
      "     決標日期\n",
      "    </th>] 1\n",
      "[<th bgcolor=\"#ddc09e\" class=\"T11b\" width=\"200\">\n",
      "     決標公告日期\n",
      "    </th>] 1\n",
      "[<th bgcolor=\"#ddc09e\" class=\"T11b\" width=\"200\">\n",
      "     是否刊登公報\n",
      "    </th>] 1\n",
      "[<th bgcolor=\"#ddc09e\" class=\"T11b\" width=\"200\">\n",
      "     底價金額\n",
      "    </th>] 1\n",
      "[<th bgcolor=\"#ddc09e\" class=\"T11b\" width=\"200\">\n",
      "     底價金額是否公開\n",
      "    </th>] 1\n",
      "[<th bgcolor=\"#ddc09e\" class=\"T11b\" width=\"200\">\n",
      "     總決標金額\n",
      "    </th>] 1\n",
      "[<th bgcolor=\"#ddc09e\" class=\"T11b\" width=\"200\">\n",
      "     總決標金額是否公開\n",
      "    </th>] 1\n",
      "[<th bgcolor=\"#ddc09e\" class=\"T11b\" width=\"200\">\n",
      "     契約是否訂有依物價指數調整價金規定\n",
      "    </th>] 1\n",
      "[<th bgcolor=\"#ddc09e\" class=\"T11b\" width=\"200\">\n",
      "     未列物價調整規定說明\n",
      "    </th>] 1\n",
      "[<th bgcolor=\"#ddc09e\" class=\"T11b\" width=\"200\">\n",
      "     履約執行機關\n",
      "    </th>] 1\n",
      "[<th bgcolor=\"#ddc09e\" class=\"T11b\" width=\"200\">\n",
      "     附加說明\n",
      "    </th>] 1\n"
     ]
    }
   ],
   "source": [
    "from bs4 import BeautifulSoup \n",
    "f = open('gov/51603709_104040.txt', 'r') \n",
    "response_text = f.read() \n",
    "f.close() \n",
    "soup = BeautifulSoup(response_text) \n",
    "for row in soup.select('tr') : \n",
    "    print row.select('th'), len(row.select('th'))\n"
   ]
  },
  {
   "cell_type": "code",
   "execution_count": 29,
   "metadata": {
    "collapsed": false
   },
   "outputs": [
    {
     "name": "stdout",
     "output_type": "stream",
     "text": [
      "0\n",
      "3\n"
     ]
    }
   ],
   "source": [
    "a = []\n",
    "b = [1,2,3]\n",
    "print len(a)\n",
    "print len(b)"
   ]
  },
  {
   "cell_type": "code",
   "execution_count": 33,
   "metadata": {
    "collapsed": false
   },
   "outputs": [
    {
     "name": "stdout",
     "output_type": "stream",
     "text": [
      "\n",
      "     機關代碼\n",
      "    \n",
      "\n",
      "     機關名稱\n",
      "    \n",
      "\n",
      "     單位名稱\n",
      "    \n",
      "\n",
      "     機關地址\n",
      "    \n",
      "\n",
      "     聯絡人\n",
      "    \n",
      "\n",
      "     聯絡電話\n",
      "    \n",
      "\n",
      "     傳真號碼\n",
      "    \n",
      "\n",
      "     標案案號\n",
      "    \n",
      "\n",
      "     招標方式\n",
      "    \n",
      "\n",
      "     決標方式\n",
      "    \n",
      "\n",
      "     新增公告傳輸次數\n",
      "    \n",
      "\n",
      "     是否依據採購法第106條第1項第1款辦理\n",
      "    \n",
      "\n",
      "     標案名稱\n",
      "    \n",
      "\n",
      "     決標資料類別\n",
      "    \n",
      "\n",
      "     是否屬共同供應契約採購\n",
      "    \n",
      "\n",
      "     是否屬二以上機關之聯合採購(不適用共同供應契約規定)\n",
      "    \n",
      "\n",
      "     是否複數決標\n",
      "    \n",
      "\n",
      "     是否共同投標\n",
      "    \n",
      "\n",
      "     標的分類\n",
      "    \n",
      "\n",
      "     是否屬統包\n",
      "    \n",
      "\n",
      "     是否應依公共工程專業技師簽證規則實施技師簽證\n",
      "    \n",
      "\n",
      "     開標時間\n",
      "    \n",
      "\n",
      "     原公告日期\n",
      "    \n",
      "\n",
      "     採購金額級距\n",
      "    \n",
      "\n",
      "     辦理方式\n",
      "    \n",
      "\n",
      "     預算金額是否公開\n",
      "    \n",
      "\n",
      "     預算金額\n",
      "    \n",
      "\n",
      "     是否受機關補助\n",
      "    \n",
      "\n",
      "     履約地點\n",
      "    \n",
      "\n",
      "     履約地點（含地區）\n",
      "    \n",
      "\n",
      "     是否於招標文件載明優先決標予身心障礙福利機構團體或庇護工場\n",
      "    \n",
      "\n",
      "     是否含特別預算\n",
      "    \n",
      "\n",
      "     歸屬計畫類別\n",
      "    \n",
      "\n",
      "     本案採購契約是否採用主管機關訂定之範本\n",
      "    \n",
      "\n",
      "        投標廠商家數\n",
      "       \n",
      "\n",
      "        投標廠商家數\n",
      "       \n",
      "\n",
      "        投標廠商1\n",
      "       \n",
      "\n",
      "        廠商代碼\n",
      "       \n",
      "\n",
      "        廠商名稱\n",
      "       \n",
      "\n",
      "        是否得標\n",
      "       \n",
      "\n",
      "        組織型態\n",
      "       \n",
      "\n",
      "        廠商業別\n",
      "       \n",
      "\n",
      "        廠商地址\n",
      "       \n",
      "\n",
      "        廠商電話\n",
      "       \n",
      "\n",
      "        決標金額\n",
      "       \n",
      "\n",
      "        得標廠商國別\n",
      "       \n",
      "\n",
      "        是否為中小企業\n",
      "       \n",
      "\n",
      "        履約起迄日期\n",
      "       \n",
      "\n",
      "        雇用員工總人數是否\n",
      "        \n",
      "         超過100人\n",
      "        \n",
      "\n",
      "\n",
      "        決標品項數\n",
      "       \n",
      "\n",
      "        決標品項數\n",
      "       \n",
      "\n",
      "        第1品項\n",
      "       \n",
      "\n",
      "        品項名稱\n",
      "       \n",
      "\n",
      "        是否以單價及預估需\n",
      "        \n",
      "         求數量之乘積決定最\n",
      "         \n",
      "          低標\n",
      "         \n",
      "\n",
      "\n",
      "\n",
      "        得標廠商1\n",
      "       \n",
      "\n",
      "        得標廠商\n",
      "       \n",
      "\n",
      "        預估需求數量\n",
      "       \n",
      "\n",
      "        決標金額\n",
      "       \n",
      "\n",
      "        底價金額\n",
      "       \n",
      "\n",
      "        原產地國別\n",
      "       \n",
      "\n",
      "     決標公告序號\n",
      "    \n",
      "\n",
      "     決標日期\n",
      "    \n",
      "\n",
      "     決標公告日期\n",
      "    \n",
      "\n",
      "     是否刊登公報\n",
      "    \n",
      "\n",
      "     底價金額\n",
      "    \n",
      "\n",
      "     底價金額是否公開\n",
      "    \n",
      "\n",
      "     總決標金額\n",
      "    \n",
      "\n",
      "     總決標金額是否公開\n",
      "    \n",
      "\n",
      "     契約是否訂有依物價指數調整價金規定\n",
      "    \n",
      "\n",
      "     未列物價調整規定說明\n",
      "    \n",
      "\n",
      "     履約執行機關\n",
      "    \n",
      "\n",
      "     附加說明\n",
      "    \n"
     ]
    }
   ],
   "source": [
    "from bs4 import BeautifulSoup \n",
    "f = open('gov/51603709_104040.txt', 'r') \n",
    "response_text = f.read() \n",
    "f.close() \n",
    "soup = BeautifulSoup(response_text) \n",
    "for row in soup.select('tr') : \n",
    "    th =  row.select('th')\n",
    "    if len(th) >0:\n",
    "        #print row.select('th'), row.select('td')\n",
    "        print row.select('th')[0].text\n"
   ]
  },
  {
   "cell_type": "code",
   "execution_count": 39,
   "metadata": {
    "collapsed": false
   },
   "outputs": [
    {
     "name": "stdout",
     "output_type": "stream",
     "text": [
      " \t string test\n",
      "string test \t \n",
      "\n",
      "\r\n"
     ]
    }
   ],
   "source": [
    "s = \" \\t string test \\t \\n\\n\\r\"\n",
    "#print s\n",
    "#print s.strip()\n",
    "print s.rstrip()\n",
    "print s.lstrip()\n",
    "\n"
   ]
  },
  {
   "cell_type": "code",
   "execution_count": 46,
   "metadata": {
    "collapsed": false
   },
   "outputs": [
    {
     "name": "stdout",
     "output_type": "stream",
     "text": [
      "A.25.6\n",
      "國立歷史博物館\n"
     ]
    }
   ],
   "source": [
    "from bs4 import BeautifulSoup \n",
    "f = open('gov/51603709_104040.txt', 'r') \n",
    "response_text = f.read() \n",
    "f.close() \n",
    "soup = BeautifulSoup(response_text) \n",
    "for row in soup.select('tr') : \n",
    "    th =  row.select('th')\n",
    "    if len(th) >0 and row.select('th')[0].text.encode('utf-8').strip() == '機關代碼':\n",
    "            print row.select('td')[0].text.strip()\n",
    "    elif len(th) >0 and row.select('th')[0].text.encode('utf-8').strip() == '機關名稱':\n",
    "        print row.select('td')[0].text.strip()\n"
   ]
  },
  {
   "cell_type": "code",
   "execution_count": 48,
   "metadata": {
    "collapsed": false
   },
   "outputs": [
    {
     "name": "stdout",
     "output_type": "stream",
     "text": [
      "{'a': 100, 'c': 0.98, 'b': 'yes'}\n"
     ]
    }
   ],
   "source": [
    "dic = {'a':100, 'b':\"yes\", 'c':0.98} \n",
    "print dic"
   ]
  },
  {
   "cell_type": "code",
   "execution_count": 49,
   "metadata": {
    "collapsed": false
   },
   "outputs": [
    {
     "data": {
      "text/plain": [
       "100"
      ]
     },
     "execution_count": 49,
     "metadata": {},
     "output_type": "execute_result"
    }
   ],
   "source": [
    "dic['a']"
   ]
  },
  {
   "cell_type": "code",
   "execution_count": 50,
   "metadata": {
    "collapsed": false
   },
   "outputs": [
    {
     "data": {
      "text/plain": [
       "100"
      ]
     },
     "execution_count": 50,
     "metadata": {},
     "output_type": "execute_result"
    }
   ],
   "source": [
    "dic.get('a')"
   ]
  },
  {
   "cell_type": "code",
   "execution_count": 51,
   "metadata": {
    "collapsed": false
   },
   "outputs": [
    {
     "ename": "KeyError",
     "evalue": "'d'",
     "output_type": "error",
     "traceback": [
      "\u001b[1;31m---------------------------------------------------------------------------\u001b[0m",
      "\u001b[1;31mKeyError\u001b[0m                                  Traceback (most recent call last)",
      "\u001b[1;32m<ipython-input-51-dedc2af341b8>\u001b[0m in \u001b[0;36m<module>\u001b[1;34m()\u001b[0m\n\u001b[1;32m----> 1\u001b[1;33m \u001b[0mdic\u001b[0m\u001b[1;33m[\u001b[0m\u001b[1;34m'd'\u001b[0m\u001b[1;33m]\u001b[0m\u001b[1;33m\u001b[0m\u001b[0m\n\u001b[0m",
      "\u001b[1;31mKeyError\u001b[0m: 'd'"
     ]
    }
   ],
   "source": [
    "dic['d']"
   ]
  },
  {
   "cell_type": "code",
   "execution_count": 54,
   "metadata": {
    "collapsed": false
   },
   "outputs": [
    {
     "data": {
      "text/plain": [
       "'No'"
      ]
     },
     "execution_count": 54,
     "metadata": {},
     "output_type": "execute_result"
    }
   ],
   "source": [
    "dic.get('d', 'No')"
   ]
  },
  {
   "cell_type": "code",
   "execution_count": 58,
   "metadata": {
    "collapsed": false
   },
   "outputs": [
    {
     "name": "stdout",
     "output_type": "stream",
     "text": [
      "1\n",
      "2\n",
      "default\n"
     ]
    }
   ],
   "source": [
    "'''\n",
    "case n:\n",
    "    when 1:\n",
    "        then\n",
    "    when 2\n",
    "        then\n",
    "'''\n",
    "\n",
    "def func(x):\n",
    "    return {'a':1,\n",
    "        'b':2}.get(x, 'default')\n",
    "\n",
    "print func('a')\n",
    "print func('b')\n",
    "print func('c')"
   ]
  },
  {
   "cell_type": "code",
   "execution_count": 61,
   "metadata": {
    "collapsed": false
   },
   "outputs": [
    {
     "name": "stdout",
     "output_type": "stream",
     "text": [
      "{'a': 100, 'c': 0.98, 'b': 'yes'}\n",
      "False\n",
      "True\n"
     ]
    }
   ],
   "source": [
    "print dic\n",
    "print 'd' in dic\n",
    "print 'a' in dic"
   ]
  },
  {
   "cell_type": "code",
   "execution_count": 76,
   "metadata": {
    "collapsed": false
   },
   "outputs": [
    {
     "name": "stdout",
     "output_type": "stream",
     "text": [
      "機關代碼 A.25.6\n",
      "機關名稱 國立歷史博物館\n",
      "機關地址 100臺北市中正區南海路49號\n",
      "聯絡人 黃英哲\n",
      "標案案號 104040\n",
      "招標方式 公開取得報價單或企劃書\n",
      "決標方式 參考最有利標精神\n",
      "標的分類 <勞務類>    \r\n",
      "                            842\r\n",
      "                            軟體執行服務\n"
     ]
    }
   ],
   "source": [
    "dic = {\"機關代碼\":\"\", \"機關名稱\":\"\", \"機關地址\":\"\", \"聯絡人\":\"\",\\\n",
    "      \"標案案號\":\"\", \"招標方式\":\"\", \"決標方式\":\"\", \"標的分類\":\"\"}\n",
    "soup = BeautifulSoup(response_text) \n",
    "for row in soup.select('tr') : \n",
    "    th =  row.select('th')\n",
    "    if len(th) >0 :\n",
    "            th_value = row.select('th')[0].text.encode('utf-8').strip()\n",
    "            if th_value in dic:\n",
    "                td_value =  row.select('td')[0].text.strip()\n",
    "                print th_value, td_value\n",
    "                dic[th_value] =  td_value\n",
    "\n"
   ]
  },
  {
   "cell_type": "code",
   "execution_count": 77,
   "metadata": {
    "collapsed": false
   },
   "outputs": [
    {
     "name": "stdout",
     "output_type": "stream",
     "text": [
      "標的分類 <勞務類>    \r\n",
      "                            842\r\n",
      "                            軟體執行服務\n",
      "招標方式 公開取得報價單或企劃書\n",
      "決標方式 參考最有利標精神\n",
      "聯絡人 黃英哲\n",
      "標案案號 104040\n",
      "機關名稱 國立歷史博物館\n",
      "機關代碼 A.25.6\n",
      "機關地址 100臺北市中正區南海路49號\n"
     ]
    }
   ],
   "source": [
    "#print dic\n",
    "for ele in dic:\n",
    "    print ele, dic[ele]"
   ]
  },
  {
   "cell_type": "code",
   "execution_count": 75,
   "metadata": {
    "collapsed": false
   },
   "outputs": [
    {
     "name": "stdout",
     "output_type": "stream",
     "text": [
      "\t\t string \n",
      "\t\n",
      "'\\t\\t string \\n\\t'\n"
     ]
    }
   ],
   "source": [
    "a = '\\t\\t string \\n\\t' \n",
    "print a \n",
    "print repr(a)"
   ]
  },
  {
   "cell_type": "code",
   "execution_count": 79,
   "metadata": {
    "collapsed": false
   },
   "outputs": [
    {
     "name": "stdout",
     "output_type": "stream",
     "text": [
      "<勞務類>    \r\n",
      "                            842\r\n",
      "                            軟體執行服務\n",
      "u'<\\u52de\\u52d9\\u985e>    \\r\\n                            842\\r\\n                            \\u8edf\\u9ad4\\u57f7\\u884c\\u670d\\u52d9'\n"
     ]
    }
   ],
   "source": [
    "#print dic\n",
    "print dic[\"標的分類\"]\n",
    "print repr(dic[\"標的分類\"])"
   ]
  },
  {
   "cell_type": "code",
   "execution_count": 80,
   "metadata": {
    "collapsed": false
   },
   "outputs": [
    {
     "name": "stdout",
     "output_type": "stream",
     "text": [
      "['123', '555', '111', '99']\n",
      "['123', '555,111,99']\n"
     ]
    }
   ],
   "source": [
    "a = '123,555,111,99' \n",
    "print a.split(',') \n",
    "print a.split(',',1) \n"
   ]
  },
  {
   "cell_type": "code",
   "execution_count": 82,
   "metadata": {
    "collapsed": false
   },
   "outputs": [
    {
     "name": "stdout",
     "output_type": "stream",
     "text": [
      "887ee607b9fe76daa836f3c2f73e5233.jpg\n"
     ]
    }
   ],
   "source": [
    "link = 'http://files.ckcdn.com/attachments/block/88/887ee607b9fe76daa836f3c2f73e5233.jpg'\n",
    "link.split('/')\n",
    "fname =  link.split('/')[-1]\n",
    "print fname"
   ]
  },
  {
   "cell_type": "code",
   "execution_count": 91,
   "metadata": {
    "collapsed": false
   },
   "outputs": [
    {
     "name": "stdout",
     "output_type": "stream",
     "text": [
      "['adfadf', 'dsfdf', 'fadfadfadf']\n",
      "adfadfdsfdffadfadfadf\n"
     ]
    },
    {
     "data": {
      "text/plain": [
       "'adfadfdsfdffadfadfadf'"
      ]
     },
     "execution_count": 91,
     "metadata": {},
     "output_type": "execute_result"
    }
   ],
   "source": [
    "a = 'adfadf                   dsfdf                      \\t       \\n   \\tfadfadfadf'\n",
    "print a.split()\n",
    "lines = \"\"\n",
    "for ele in a.split():\n",
    "    lines += ele\n",
    "print lines\n",
    "\n",
    "\n",
    "''.join(a.split())"
   ]
  },
  {
   "cell_type": "code",
   "execution_count": 90,
   "metadata": {
    "collapsed": false
   },
   "outputs": [
    {
     "name": "stdout",
     "output_type": "stream",
     "text": [
      "123|555|111|99\n"
     ]
    }
   ],
   "source": [
    "a = '123,555,111,99' \n",
    "ary = a.split(',') \n",
    "#print ary\n",
    "print '|'.join(ary)\n"
   ]
  },
  {
   "cell_type": "code",
   "execution_count": 97,
   "metadata": {
    "collapsed": false
   },
   "outputs": [
    {
     "name": "stdout",
     "output_type": "stream",
     "text": [
      "<勞務類>    \r\n",
      "                            842\r\n",
      "                            軟體執行服務\n",
      "[u'<\\u52de\\u52d9\\u985e>', u'842', u'\\u8edf\\u9ad4\\u57f7\\u884c\\u670d\\u52d9']\n",
      "<勞務類>842軟體執行服務\n",
      "<勞務類> 842 軟體執行服務\n"
     ]
    }
   ],
   "source": [
    "print dic[\"標的分類\"]\n",
    "print dic[\"標的分類\"].split()\n",
    "print ''.join(dic[\"標的分類\"].split())\n",
    "print ' '.join(dic[\"標的分類\"].split())"
   ]
  },
  {
   "cell_type": "code",
   "execution_count": 106,
   "metadata": {
    "collapsed": false
   },
   "outputs": [
    {
     "name": "stdout",
     "output_type": "stream",
     "text": [
      "2015-08-30 12:13:48.074000\n",
      "2015-08-30\n",
      "2015-05-03 14:00:00\n",
      "2015-05-02 14:00:00\n",
      "2015-05-02\n"
     ]
    }
   ],
   "source": [
    "from datetime import date,datetime, timedelta \n",
    "currenttime = datetime.now() \n",
    "print currenttime\n",
    "print currenttime.strftime(\"%Y-%m-%d\") \n",
    "\n",
    "\n",
    "a = '2015-05-03 14:00' \n",
    "print datetime.strptime(a, \"%Y-%m-%d %H:%M\")\n",
    "print datetime.strptime(a, \"%Y-%m-%d %H:%M\") - timedelta(days = 1)\n",
    "print (datetime.strptime(a, \"%Y-%m-%d %H:%M\") - timedelta(days = 1)).\\\n",
    "    strftime('%Y-%m-%d')\n"
   ]
  },
  {
   "cell_type": "code",
   "execution_count": 117,
   "metadata": {
    "collapsed": false
   },
   "outputs": [
    {
     "name": "stdout",
     "output_type": "stream",
     "text": [
      "<Response [200]>\n",
      "<Response [200]>\n",
      "<Response [200]>\n",
      "<Response [200]>\n",
      "<Response [200]>\n",
      "<Response [200]>\n",
      "<Response [200]>\n",
      "<Response [200]>\n",
      "<Response [200]>\n",
      "<Response [200]>\n",
      "<Response [200]>\n"
     ]
    }
   ],
   "source": [
    "import requests\n",
    "from datetime import date,datetime, timedelta \n",
    "payload = {\n",
    "    'qdate':'2015/08/27',\n",
    "    'sorting':'by_issue'\n",
    "}\n",
    "for i in range(1,12): \n",
    "    payload['qdate'] = (datetime.now() - timedelta(days = i)).strftime('%Y/%m/%d')\n",
    "    res = requests.post('http://www.twse.com.tw/en/trading/fund/TWT38U/TWT38U.php', data = payload)\n",
    "    print res"
   ]
  },
  {
   "cell_type": "code",
   "execution_count": 118,
   "metadata": {
    "collapsed": false
   },
   "outputs": [
    {
     "name": "stdout",
     "output_type": "stream",
     "text": [
      "['104', '06/03 10:00']\n"
     ]
    }
   ],
   "source": [
    "response_date = '104/06/03 10:00' \n",
    "getyear = response_date.split('/', 1) \n",
    "print getyear"
   ]
  },
  {
   "cell_type": "code",
   "execution_count": 126,
   "metadata": {
    "collapsed": false
   },
   "outputs": [
    {
     "name": "stdout",
     "output_type": "stream",
     "text": [
      "104\n",
      "<type 'str'>\n",
      "<type 'int'>\n",
      "2015 06/03 10:00\n",
      "2015/06/03 10:00\n",
      "2015/06/03 10:00\n"
     ]
    }
   ],
   "source": [
    "print getyear[0]\n",
    "print type(getyear[0])\n",
    "y =  int(getyear[0]) + 1911\n",
    "print type(y)\n",
    "print str(y), getyear[1]\n",
    "print '/'.join([str(y), getyear[1]])\n",
    "print str(y) +'/'+ getyear[1]"
   ]
  },
  {
   "cell_type": "code",
   "execution_count": 128,
   "metadata": {
    "collapsed": false
   },
   "outputs": [
    {
     "name": "stdout",
     "output_type": "stream",
     "text": [
      "2015/06/03 10:00\n",
      "2015-06-03 10:00:00\n"
     ]
    }
   ],
   "source": [
    "response_date = '104/06/03 10:00' \n",
    "getyear = response_date.split('/', 1) \n",
    "bctime= str(int(getyear[0]) + 1911) + \"/\" + getyear[1]\n",
    "print bctime\n",
    "print datetime.strptime(bctime, \"%Y/%m/%d %H:%M\")\n",
    "\n"
   ]
  },
  {
   "cell_type": "code",
   "execution_count": 158,
   "metadata": {
    "collapsed": false
   },
   "outputs": [],
   "source": [
    "import requests\n",
    "import shutil\n",
    "from bs4 import BeautifulSoup\n",
    "rs = requests.session()\n",
    "res = rs.get('http://fyjud.lawbank.com.tw/index.aspx')\n",
    "\n",
    "payload = {'__VIEWSTATE':'/wEPDwUKMTgyNzI3MzkwN2RkbUHPUeMShef+cUJ+GdpcX6xaY/Q=',\n",
    "'__VIEWSTATEGENERATOR':'90059987',\n",
    "'__EVENTVALIDATION':'/wEWAgKQudqjDwLXvLSFB5QqsL1B3epelOV9Gz1TnweF9eFT',\n",
    "'txtmail':'請輸入電子信箱',\n",
    "'courtFullName':'TPDV',\n",
    "'sel_judword':'常用字別',\n",
    "'dy1':'104',\n",
    "'dm1':'1',\n",
    "'dd1':'1',\n",
    "'dy2':'104',\n",
    "'dm2':'3',\n",
    "'dd2':'1',\n",
    "'jcatagory':'0',\n",
    "'issimple':'-1',\n",
    "'lc1a-id':'',\n",
    "'txt_input':'',\n",
    "'x':'29',\n",
    "'y':'6',\n",
    "'sdate':'20150101',\n",
    "'edate':'20150301'}\n",
    "\n",
    "soup = BeautifulSoup(res.text)\n",
    "for ele in soup.select('input'):\n",
    "    if ele.get('type') == 'hidden':\n",
    "        if ele.get('value') is not None:\n",
    "            payload[ele['name']] = ele['value']"
   ]
  },
  {
   "cell_type": "code",
   "execution_count": 159,
   "metadata": {
    "collapsed": false
   },
   "outputs": [],
   "source": [
    "\n",
    "headers = {\n",
    " 'user-agent':'Mozilla/5.0 (Windows NT 6.1; WOW64) AppleWebKit/537.36 (KHTML, like Gecko) Chrome/44.0.2403.262 Safari/537.36'  ,\n",
    "'Cookie':'ASP.NET_SessionId=duo1lz55woaza155zv3xs245; _gat=1; nrhbne=yA0+nIPaCeKlO30qlrrVmw==; _ga=GA1.3.1217717349.1440913423; x=i=myu5o2REsXY/ZzBVbGRbCdqQtnLz3iFD8oix83t/bSD+taI0B/oRmlAgkxEQ+42v&j=ExKZIgGGiQD19KUxjSulmQb58Xq9tzxh/6k2CZDMXMbqn+pyISjsF42Gyv8r7WXOK2TSUk8PjqCjFgL8iLOg+hw9v6UxAj0R35VjqA4VyegKss0Zb3+bxxOx/rJPbQ6c7p/69D4xKVl1sh2yoUDGFy6GOJopzYebbNOK2B8PZ7wTLDR6o1cGDXLXrJE2lD2uSyu8D67u5NOj+ola1KNFTdx+AaDbOKnV305PJfPPLr4ux0721rcaSCt/UVves9AEuRU16n4Jq6fe9k2SPjyycVnenDqqWzDSah0DmjBmEoI=; JubFrm-pagebox=%5EcourtFullName%3DTPDV%60%5Edy1%3D104%5Edm1%3D1%5Edd1%3D1%5Edy2%3D104%5Edm2%3D3%5Edd2%3D1%5Ejcatagory%3D0%5Eissimple%3D-1'\n",
    "}\n",
    "response = rs.get('http://fyjud.lawbank.com.tw/ValidateNumber.ashx?0.5151687755715102', stream=True, headers = headers)\n",
    "\n",
    "soup = BeautifulSoup(res.text)\n",
    "\n",
    "with open('img.png', 'wb') as out_file:\n",
    "    shutil.copyfileobj(response.raw, out_file)\n",
    "    del response"
   ]
  },
  {
   "cell_type": "code",
   "execution_count": 160,
   "metadata": {
    "collapsed": false
   },
   "outputs": [
    {
     "data": {
      "image/png": "[encoded data removed]",
      "text/plain": [
       "<IPython.core.display.Image object>"
      ]
     },
     "execution_count": 160,
     "metadata": {},
     "output_type": "execute_result"
    }
   ],
   "source": [
    "from IPython.core.display import Image\n",
    "Image(\"img.png\")"
   ]
  },
  {
   "cell_type": "code",
   "execution_count": 161,
   "metadata": {
    "collapsed": false
   },
   "outputs": [
    {
     "name": "stdout",
     "output_type": "stream",
     "text": [
      "{'sdate': '20150101', 'dy1': '104', 'dy2': '104', '__EVENTVALIDATION': u'/wEWAgKQudqjDwLXvLSFB5QqsL1B3epelOV9Gz1TnweF9eFT', 'txt_input': '6558', 'txtmail': '\\xe8\\xab\\x8b\\xe8\\xbc\\xb8\\xe5\\x85\\xa5\\xe9\\x9b\\xbb\\xe5\\xad\\x90\\xe4\\xbf\\xa1\\xe7\\xae\\xb1', 'dm2': '3', 'dm1': '1', 'courtFullName': 'TPDV', '__VIEWSTATEGENERATOR': u'90059987', u'jud_jmain': u'ok', 'edate': '20150301', 'sel_judword': '\\xe5\\xb8\\xb8\\xe7\\x94\\xa8\\xe5\\xad\\x97\\xe5\\x88\\xa5', 'jcatagory': '0', u'jud_title': u'ok', '__VIEWSTATE': u'/wEPDwUKMTgyNzI3MzkwN2RkbUHPUeMShef+cUJ+GdpcX6xaY/Q=', 'lc1a-id': '', 'dd2': '1', 'dd1': '1', 'issimple': '-1', 'y': '6', 'x': '29', u'searchkw': u'ok'}\n"
     ]
    }
   ],
   "source": [
    "payload['txt_input'] = '6558'\n",
    "print payload"
   ]
  },
  {
   "cell_type": "code",
   "execution_count": 162,
   "metadata": {
    "collapsed": true
   },
   "outputs": [],
   "source": [
    "res2 = rs.get('http://fyjud.lawbank.com.tw/list2.aspx', data=payload, headers=headers)"
   ]
  },
  {
   "cell_type": "code",
   "execution_count": 163,
   "metadata": {
    "collapsed": false
   },
   "outputs": [
    {
     "name": "stdout",
     "output_type": "stream",
     "text": [
      "\n"
     ]
    }
   ],
   "source": [
    "print \"\""
   ]
  },
  {
   "cell_type": "code",
   "execution_count": 164,
   "metadata": {
    "collapsed": false
   },
   "outputs": [
    {
     "name": "stdout",
     "output_type": "stream",
     "text": [
      "\r\n",
      "\r\n",
      "<!DOCTYPE html PUBLIC \"-//W3C//DTD XHTML 1.0 Transitional//EN\" \"http://www.w3.org/TR/xhtml1/DTD/xhtml1-transitional.dtd\">\r\n",
      "\r\n",
      "<html xmlns=\"http://www.w3.org/1999/xhtml\">\r\n",
      "<head id=\"Head1\"><title>\r\n",
      "\t裁判書查詢結果\r\n",
      "</title><link href=\"css/reset.css\" rel=\"stylesheet\" type=\"text/css\" />\r\n",
      "    <script type=\"text/javascript\" src=\"Js/jquery-1.11.1.min.js\"></script>\r\n",
      "    <style type=\"text/css\"> \r\n",
      "    <!--\r\n",
      "    body {margin: 10px;font-size:0.9375em;font-size:0.9575em\\9\\0;font-family:細明體}\r\n",
      "    h4 {margin: 15px 0px 10px 0px; text-align:center}\r\n",
      "    a:link {text-decoration:none;color: #0033CC;}\r\n",
      "    a:visited {text-decoration:none;color: #4d0496;}\r\n",
      "    a:hover, a:active {text-decoration:underline;color: #CC0000;}\r\n",
      "    .Table-List {border-collapse:collapse; border:1px #999999 solid !important; background-color:#ffffff; margin:auto;}\r\n",
      "    .Table-List th{vertical-align:middle;text-align:left;background-color:#DFDFDF;font-weight:normal;padding:6px;}\r\n",
      "    .Table-List td{vertical-align:top; line-height:150%; padding:3px 6px 3px 6px; border-bottom:1px #d1d1d1 solid;}\r\n",
      "    .page {font-size:0.8125em; padding:6px 0; font-family:Verdana, Arial, Helvetica, sans-serif;}\r\n",
      "    /*.PayOnly {-webkit-border-radius: 5px;-moz-border-radius: 5px;border-radius: 5px;background-color:#CC0000;color:#FFFFFF; padding:2px 4px; font-size:11px; font-family:微軟正黑體;}*/\r\n",
      "    .PayOnly {color:#8B0000; padding:2px 4px; font-size:13px;}\r\n",
      "    -->\r\n",
      "    </style>\r\n",
      "</head>\r\n",
      "<body>\r\n",
      "    <form name=\"Form1\" method=\"post\" action=\"listcontent5.aspx\" id=\"Form1\">\r\n",
      "<div>\r\n",
      "<input type=\"hidden\" name=\"__EVENTTARGET\" id=\"__EVENTTARGET\" value=\"\" />\r\n",
      "<input type=\"hidden\" name=\"__EVENTARGUMENT\" id=\"__EVENTARGUMENT\" value=\"\" />\r\n",
      "<input type=\"hidden\" name=\"__VIEWSTATE\" id=\"__VIEWSTATE\" value=\"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\" />\r\n",
      "</div>\r\n",
      "\r\n",
      "<script type=\"text/javascript\">\r\n",
      "//<![CDATA[\r\n",
      "var theForm = document.forms['Form1'];\r\n",
      "if (!theForm) {\r\n",
      "    theForm = document.Form1;\r\n",
      "}\r\n",
      "function __doPostBack(eventTarget, eventArgument) {\r\n",
      "    if (!theForm.onsubmit || (theForm.onsubmit() != false)) {\r\n",
      "        theForm.__EVENTTARGET.value = eventTarget;\r\n",
      "        theForm.__EVENTARGUMENT.value = eventArgument;\r\n",
      "        theForm.submit();\r\n",
      "    }\r\n",
      "}\r\n",
      "//]]>\r\n",
      "</script>\r\n",
      "\r\n",
      "\r\n",
      "<div>\r\n",
      "\r\n",
      "\t<input type=\"hidden\" name=\"__VIEWSTATEGENERATOR\" id=\"__VIEWSTATEGENERATOR\" value=\"75816AEB\" />\r\n",
      "\t<input type=\"hidden\" name=\"__EVENTVALIDATION\" id=\"__EVENTVALIDATION\" value=\"/wEWBQKasrT6DQLGtMruDQLDqfnOAwKX8KOuDALekpfkDYP5FLsftU47eWlVQP2xNIRLRXDT\" />\r\n",
      "</div>\r\n",
      "\t<h4>臺灣台北地方法院 裁判書 -- 民事類</h4>\r\n",
      "\t<!-- 上方分頁 -->\r\n",
      "\t<table class=\"page\" width=\"100%\">\r\n",
      "\t\t\r\n",
      "\t\t<tr>\r\n",
      "\t\t\t<td width=\"42%\" valign=\"middle\">共 15478 筆 第 1 / 774 頁</td>\r\n",
      "\t\t\t<td width=\"58%\" valign=\"middle\" align=\"right\">\r\n",
      "                \r\n",
      "                \r\n",
      "                <a id=\"lnkbtnOhmy1\" href=\"javascript:__doPostBack('lnkbtnOhmy1','')\">下一頁｜</a>\r\n",
      "                <a id=\"lnkbtnLast1\" href=\"javascript:__doPostBack('lnkbtnLast1','')\">最末頁｜</a>\r\n",
      "            </td>\r\n",
      "\t\t</tr>\r\n",
      "\t</table>\r\n",
      "\t\r\n",
      "\t\t<table id=\"table3\" class=\"Table-List\" width=\"100%\">\r\n",
      "        <TBODY>\r\n",
      "\t\t\t<tr>\r\n",
      "\t\t\t\t<th width=\"5%\" nowrap>序號</th>\r\n",
      "\t\t\t\t<th width=\"25%\" nowrap>裁判字號(檔案大小)</th>\r\n",
      "\t\t\t\t<th width=\"5%\" nowrap>裁判</th>\r\n",
      "\t\t\t\t<th width=\"10%\" nowrap>裁判日期</th>\r\n",
      "\t\t\t\t<th width=\"38%\" nowrap>裁判案由</th>\r\n",
      "                <th width=\"15%\"></th>\r\n",
      "\t\t\t</tr>\r\n",
      "\t\t\r\n",
      "\t\t\t<tr>\r\n",
      "\t\t\t\t<!-- 序號 -->\r\n",
      "\t\t\t\t<td>1.</td>\r\n",
      "\t\t\t\t<!-- 裁判字號 -->\r\n",
      "\t\t\t\t<td nowrap><a href=\"content3.aspx?p=XRqv%2fJMB0Hc3oilUHYGFlO%2fH6d8EOkbWuzDZT%2fKSgkxiRG5kSVt5ywz3Ud1ipPE8\" onclick=\"cookieId('MqDn%2fDH8psdMGTSKtKSR47%2fDkfIgodm8Giw3e%2bMITFN%2bhZZ2tBeflDPjxAibDD4YB8t40v9ouKc45fhv777eXg%3d%3d')\">103,司執消債更,159</a>(6K)</td>\r\n",
      "\t\t\t\t<!-- 裁判 -->\r\n",
      "\t\t\t\t<td>裁定</td>\r\n",
      "\t\t\t\t<!-- 日期及案由 -->\r\n",
      "\t\t\t\t<td>1040228</td>\r\n",
      "\t\t\t\t<td>更生事件</td>\r\n",
      "                <td nowrap></td>\r\n",
      "\t\t\t</tr>\r\n",
      "\t\t\t<!-- 不可公開或太早 -->\r\n",
      "\t\t\t\r\n",
      "\t\t\r\n",
      "\t\t\t<tr>\r\n",
      "\t\t\t\t<!-- 序號 -->\r\n",
      "\t\t\t\t<td>2.</td>\r\n",
      "\t\t\t\t<!-- 裁判字號 -->\r\n",
      "\t\t\t\t<td nowrap><a href=\"content3.aspx?p=P3z5QrAXEFAiPX2JwQfhe7R4VAlPQyL7LwrThnRWK40%3d\" onclick=\"cookieId('7kQYS0k0i7kSap27E8tUxMYiajjhWaSNpw%2b80CoTIq0OAqLhPlpTNeNu8NLJc2laL9WyGfl7hg8X1c%2feSfDwNQ%3d%3d')\">104,除,369</a>(1K)</td>\r\n",
      "\t\t\t\t<!-- 裁判 -->\r\n",
      "\t\t\t\t<td>判決</td>\r\n",
      "\t\t\t\t<!-- 日期及案由 -->\r\n",
      "\t\t\t\t<td>1040226</td>\r\n",
      "\t\t\t\t<td>除權判決（股票）</td>\r\n",
      "                <td nowrap></td>\r\n",
      "\t\t\t</tr>\r\n",
      "\t\t\t<!-- 不可公開或太早 -->\r\n",
      "\t\t\t\r\n",
      "\t\t\r\n",
      "\t\t\t<tr>\r\n",
      "\t\t\t\t<!-- 序號 -->\r\n",
      "\t\t\t\t<td>3.</td>\r\n",
      "\t\t\t\t<!-- 裁判字號 -->\r\n",
      "\t\t\t\t<td nowrap><a href=\"content3.aspx?p=%2f1Yx%2f363CRaHmQEUmSiOll32kR34DxBl%2fipwclE3e%2fI%3d\" onclick=\"cookieId('7kQYS0k0i7kSap27E8tUxPy5ysPns8yMqAlp4bVhrEBFn8irkCXK0951Ajx9x9aFN7fzOz71Q%2f3mfJAqaslcGA%3d%3d')\">104,除,343</a>(2K)</td>\r\n",
      "\t\t\t\t<!-- 裁判 -->\r\n",
      "\t\t\t\t<td>判決</td>\r\n",
      "\t\t\t\t<!-- 日期及案由 -->\r\n",
      "\t\t\t\t<td>1040226</td>\r\n",
      "\t\t\t\t<td>除權判決（票據）</td>\r\n",
      "                <td nowrap></td>\r\n",
      "\t\t\t</tr>\r\n",
      "\t\t\t<!-- 不可公開或太早 -->\r\n",
      "\t\t\t\r\n",
      "\t\t\r\n",
      "\t\t\t<tr>\r\n",
      "\t\t\t\t<!-- 序號 -->\r\n",
      "\t\t\t\t<td>4.</td>\r\n",
      "\t\t\t\t<!-- 裁判字號 -->\r\n",
      "\t\t\t\t<td nowrap><a href=\"content3.aspx?p=g7h%2fVproOhpuDa%2foNHK1XWXIQXml2nOmy0%2b5SgJRg9c%3d\" onclick=\"cookieId('7kQYS0k0i7kSap27E8tUxCxZ8ePn6xNQLhdh%2b06qVhq70MkrCmtn2nSpBIHfdNrFNhcDMhefgaRPvXS7DHS5MQ%3d%3d')\">104,除,338</a>(1K)</td>\r\n",
      "\t\t\t\t<!-- 裁判 -->\r\n",
      "\t\t\t\t<td>判決</td>\r\n",
      "\t\t\t\t<!-- 日期及案由 -->\r\n",
      "\t\t\t\t<td>1040226</td>\r\n",
      "\t\t\t\t<td>除權判決（股票）</td>\r\n",
      "                <td nowrap></td>\r\n",
      "\t\t\t</tr>\r\n",
      "\t\t\t<!-- 不可公開或太早 -->\r\n",
      "\t\t\t\r\n",
      "\t\t\r\n",
      "\t\t\t<tr>\r\n",
      "\t\t\t\t<!-- 序號 -->\r\n",
      "\t\t\t\t<td>5.</td>\r\n",
      "\t\t\t\t<!-- 裁判字號 -->\r\n",
      "\t\t\t\t<td nowrap><a href=\"content3.aspx?p=jHqw3vwB3UZdULyJlbX800DZ2O5Jl5s%2b%2fbEz1cIBA%2fQ%3d\" onclick=\"cookieId('7kQYS0k0i7kSap27E8tUxOniCs9GnLzdOtxiChx60wU0I7E2khC%2f2HRXrdQEF4jUDocfrHi0tAbgLrV5ONd1aQ%3d%3d')\">104,除,330</a>(1K)</td>\r\n",
      "\t\t\t\t<!-- 裁判 -->\r\n",
      "\t\t\t\t<td>判決</td>\r\n",
      "\t\t\t\t<!-- 日期及案由 -->\r\n",
      "\t\t\t\t<td>1040226</td>\r\n",
      "\t\t\t\t<td>除權判決（票據）</td>\r\n",
      "                <td nowrap></td>\r\n",
      "\t\t\t</tr>\r\n",
      "\t\t\t<!-- 不可公開或太早 -->\r\n",
      "\t\t\t\r\n",
      "\t\t\r\n",
      "\t\t\t<tr>\r\n",
      "\t\t\t\t<!-- 序號 -->\r\n",
      "\t\t\t\t<td>6.</td>\r\n",
      "\t\t\t\t<!-- 裁判字號 -->\r\n",
      "\t\t\t\t<td nowrap><a href=\"content3.aspx?p=x3cRhkLThz2I%2bgs4EbPXVKFL%2bQQCOIzkxlSpOc1%2fZ%2f4%3d\" onclick=\"cookieId('7kQYS0k0i7kSap27E8tUxH%2b4MLJyA55zo0BZZFaJ8j5RtrVR9rQlMxUNar891po6dpRCJN1WmUhG2HtWgjJG7A%3d%3d')\">104,除,315</a>(1K)</td>\r\n",
      "\t\t\t\t<!-- 裁判 -->\r\n",
      "\t\t\t\t<td>判決</td>\r\n",
      "\t\t\t\t<!-- 日期及案由 -->\r\n",
      "\t\t\t\t<td>1040226</td>\r\n",
      "\t\t\t\t<td>除權判決（股票）</td>\r\n",
      "                <td nowrap></td>\r\n",
      "\t\t\t</tr>\r\n",
      "\t\t\t<!-- 不可公開或太早 -->\r\n",
      "\t\t\t\r\n",
      "\t\t\r\n",
      "\t\t\t<tr>\r\n",
      "\t\t\t\t<!-- 序號 -->\r\n",
      "\t\t\t\t<td>7.</td>\r\n",
      "\t\t\t\t<!-- 裁判字號 -->\r\n",
      "\t\t\t\t<td nowrap><a href=\"content3.aspx?p=ZhHS7lce878N9sQPmF11stPWHB%2fdscU5cAmbX2EZ3z0%3d\" onclick=\"cookieId('7kQYS0k0i7kSap27E8tUxHI2B%2bI5MVhi3kuCPLKBDbEg%2fzNnlt4KbIDxF4pZ5SwEy6ig%2bX7MwKdNgqFII9YVfg%3d%3d')\">104,除,311</a>(2K)</td>\r\n",
      "\t\t\t\t<!-- 裁判 -->\r\n",
      "\t\t\t\t<td>判決</td>\r\n",
      "\t\t\t\t<!-- 日期及案由 -->\r\n",
      "\t\t\t\t<td>1040226</td>\r\n",
      "\t\t\t\t<td>除權判決（股票）</td>\r\n",
      "                <td nowrap></td>\r\n",
      "\t\t\t</tr>\r\n",
      "\t\t\t<!-- 不可公開或太早 -->\r\n",
      "\t\t\t\r\n",
      "\t\t\r\n",
      "\t\t\t<tr>\r\n",
      "\t\t\t\t<!-- 序號 -->\r\n",
      "\t\t\t\t<td>8.</td>\r\n",
      "\t\t\t\t<!-- 裁判字號 -->\r\n",
      "\t\t\t\t<td nowrap><a href=\"content3.aspx?p=gV%2bcjaD2y40W5mZxrbudpBdWgTxv0hegwjpYRWK7JFs%3d\" onclick=\"cookieId('7kQYS0k0i7kSap27E8tUxFEyFwANiBHnt6UMr1BBFNrSeNqfi6dTQqOstaY07fr9bGyXYY8o8mwl5IxKYR5pIw%3d%3d')\">104,除,306</a>(1K)</td>\r\n",
      "\t\t\t\t<!-- 裁判 -->\r\n",
      "\t\t\t\t<td>判決</td>\r\n",
      "\t\t\t\t<!-- 日期及案由 -->\r\n",
      "\t\t\t\t<td>1040226</td>\r\n",
      "\t\t\t\t<td>除權判決（股票）</td>\r\n",
      "                <td nowrap></td>\r\n",
      "\t\t\t</tr>\r\n",
      "\t\t\t<!-- 不可公開或太早 -->\r\n",
      "\t\t\t\r\n",
      "\t\t\r\n",
      "\t\t\t<tr>\r\n",
      "\t\t\t\t<!-- 序號 -->\r\n",
      "\t\t\t\t<td>9.</td>\r\n",
      "\t\t\t\t<!-- 裁判字號 -->\r\n",
      "\t\t\t\t<td nowrap><a href=\"content3.aspx?p=V2%2bE%2fP3MiCwwq2NI3e%2bwmfNkvk7D8%2fpnzIN7aP33NEo%3d\" onclick=\"cookieId('7kQYS0k0i7kSap27E8tUxLM3jES233s9%2bi3b%2fJloqRJxxwo9EiDBHO%2fuHCqscWDM%2f4YyGqwuGD4r5XSo3Aw8yg%3d%3d')\">104,除,304</a>(2K)</td>\r\n",
      "\t\t\t\t<!-- 裁判 -->\r\n",
      "\t\t\t\t<td>判決</td>\r\n",
      "\t\t\t\t<!-- 日期及案由 -->\r\n",
      "\t\t\t\t<td>1040226</td>\r\n",
      "\t\t\t\t<td>除權判決（股票）</td>\r\n",
      "                <td nowrap></td>\r\n",
      "\t\t\t</tr>\r\n",
      "\t\t\t<!-- 不可公開或太早 -->\r\n",
      "\t\t\t\r\n",
      "\t\t\r\n",
      "\t\t\t<tr>\r\n",
      "\t\t\t\t<!-- 序號 -->\r\n",
      "\t\t\t\t<td>10.</td>\r\n",
      "\t\t\t\t<!-- 裁判字號 -->\r\n",
      "\t\t\t\t<td nowrap><a href=\"content3.aspx?p=E6DktrRNZSg4AeVmtvQg%2f78hkYfIKZfGqAYUNL%2bjDSE%3d\" onclick=\"cookieId('7kQYS0k0i7kSap27E8tUxP2wqWGmZVH%2fzMZu3%2fqsz2s8gZLkPTK8C1rqspfBRmtUwGSTzCicHahfpaCh9VQkWA%3d%3d')\">104,除,300</a>(1K)</td>\r\n",
      "\t\t\t\t<!-- 裁判 -->\r\n",
      "\t\t\t\t<td>判決</td>\r\n",
      "\t\t\t\t<!-- 日期及案由 -->\r\n",
      "\t\t\t\t<td>1040226</td>\r\n",
      "\t\t\t\t<td>除權判決（股票）</td>\r\n",
      "                <td nowrap></td>\r\n",
      "\t\t\t</tr>\r\n",
      "\t\t\t<!-- 不可公開或太早 -->\r\n",
      "\t\t\t\r\n",
      "\t\t\r\n",
      "\t\t\t<tr>\r\n",
      "\t\t\t\t<!-- 序號 -->\r\n",
      "\t\t\t\t<td>11.</td>\r\n",
      "\t\t\t\t<!-- 裁判字號 -->\r\n",
      "\t\t\t\t<td nowrap><a href=\"content3.aspx?p=pml9F68wYeqD2qay4G8QekdtQNjYfUJlgpe17O6A9Jg%3d\" onclick=\"cookieId('FSyyLFCeyevXoE5gO9WIehSa%2br4H5E2XfZUWoS8YC4T8lYWR%2bqlvukzYAqbYRSTFN9Fdj%2bXDU81X%2fUeVxfPcnQ%3d%3d')\">104,除,295</a>(1K)</td>\r\n",
      "\t\t\t\t<!-- 裁判 -->\r\n",
      "\t\t\t\t<td>判決</td>\r\n",
      "\t\t\t\t<!-- 日期及案由 -->\r\n",
      "\t\t\t\t<td>1040226</td>\r\n",
      "\t\t\t\t<td>除權判決（票據）</td>\r\n",
      "                <td nowrap></td>\r\n",
      "\t\t\t</tr>\r\n",
      "\t\t\t<!-- 不可公開或太早 -->\r\n",
      "\t\t\t\r\n",
      "\t\t\r\n",
      "\t\t\t<tr>\r\n",
      "\t\t\t\t<!-- 序號 -->\r\n",
      "\t\t\t\t<td>12.</td>\r\n",
      "\t\t\t\t<!-- 裁判字號 -->\r\n",
      "\t\t\t\t<td nowrap><a href=\"content3.aspx?p=8%2fcY6WHleoRDtCIPSiEoLoAQ7fuExrBaQ1dOjzt3ZSQ%3d\" onclick=\"cookieId('FSyyLFCeyevXoE5gO9WIem86DSHK0XU4WH9d2xbJUrFEkgdMp7RqF5EITniGicO1kgJtGKfmtpQhCPKJRj4w%2fg%3d%3d')\">104,除,290</a>(1K)</td>\r\n",
      "\t\t\t\t<!-- 裁判 -->\r\n",
      "\t\t\t\t<td>判決</td>\r\n",
      "\t\t\t\t<!-- 日期及案由 -->\r\n",
      "\t\t\t\t<td>1040226</td>\r\n",
      "\t\t\t\t<td>除權判決</td>\r\n",
      "                <td nowrap></td>\r\n",
      "\t\t\t</tr>\r\n",
      "\t\t\t<!-- 不可公開或太早 -->\r\n",
      "\t\t\t\r\n",
      "\t\t\r\n",
      "\t\t\t<tr>\r\n",
      "\t\t\t\t<!-- 序號 -->\r\n",
      "\t\t\t\t<td>13.</td>\r\n",
      "\t\t\t\t<!-- 裁判字號 -->\r\n",
      "\t\t\t\t<td nowrap><a href=\"content3.aspx?p=SGw8a%2bFDDY3Vft9%2bjO%2b7u9%2b%2fecB7JfzRB8NnWTwf%2bHE%3d\" onclick=\"cookieId('FSyyLFCeyevXoE5gO9WIepYjEk5aFfPgG19ZP6K86EsX%2fFEzsHVaKMxgCy4ngPRT96Gir6xMMGXD0qHy%2fUvAuQ%3d%3d')\">104,除,286</a>(11K)</td>\r\n",
      "\t\t\t\t<!-- 裁判 -->\r\n",
      "\t\t\t\t<td>判決</td>\r\n",
      "\t\t\t\t<!-- 日期及案由 -->\r\n",
      "\t\t\t\t<td>1040226</td>\r\n",
      "\t\t\t\t<td>除權判決（股票）</td>\r\n",
      "                <td nowrap></td>\r\n",
      "\t\t\t</tr>\r\n",
      "\t\t\t<!-- 不可公開或太早 -->\r\n",
      "\t\t\t\r\n",
      "\t\t\r\n",
      "\t\t\t<tr>\r\n",
      "\t\t\t\t<!-- 序號 -->\r\n",
      "\t\t\t\t<td>14.</td>\r\n",
      "\t\t\t\t<!-- 裁判字號 -->\r\n",
      "\t\t\t\t<td nowrap><a href=\"content3.aspx?p=hk9hOrH7ubTUN45qaxFI5wCOIqAFwsway7Pn4P00N2A%3d\" onclick=\"cookieId('FSyyLFCeyevXoE5gO9WIegns8tVLmFOf7i8QXt1qVJtB0khwmWJfAwTJGJP9dEcJO66dTdcvdvj5JgTAaNv7aQ%3d%3d')\">104,除,285</a>(1K)</td>\r\n",
      "\t\t\t\t<!-- 裁判 -->\r\n",
      "\t\t\t\t<td>判決</td>\r\n",
      "\t\t\t\t<!-- 日期及案由 -->\r\n",
      "\t\t\t\t<td>1040226</td>\r\n",
      "\t\t\t\t<td>除權判決（票據）</td>\r\n",
      "                <td nowrap></td>\r\n",
      "\t\t\t</tr>\r\n",
      "\t\t\t<!-- 不可公開或太早 -->\r\n",
      "\t\t\t\r\n",
      "\t\t\r\n",
      "\t\t\t<tr>\r\n",
      "\t\t\t\t<!-- 序號 -->\r\n",
      "\t\t\t\t<td>15.</td>\r\n",
      "\t\t\t\t<!-- 裁判字號 -->\r\n",
      "\t\t\t\t<td nowrap><a href=\"content3.aspx?p=hIZJvqsSpaZRqBqabw4VovqZUEv6qVQQKyZuMq2UO0g%3d\" onclick=\"cookieId('FSyyLFCeyevXoE5gO9WIetTRXWlei%2bsGOr3KhwpXadAf46uqJ6W3abqZthXYcfAziqHE1%2fsBLtGCECi01Stu%2fg%3d%3d')\">104,除,283</a>(1K)</td>\r\n",
      "\t\t\t\t<!-- 裁判 -->\r\n",
      "\t\t\t\t<td>判決</td>\r\n",
      "\t\t\t\t<!-- 日期及案由 -->\r\n",
      "\t\t\t\t<td>1040226</td>\r\n",
      "\t\t\t\t<td>除權判決（票據）</td>\r\n",
      "                <td nowrap></td>\r\n",
      "\t\t\t</tr>\r\n",
      "\t\t\t<!-- 不可公開或太早 -->\r\n",
      "\t\t\t\r\n",
      "\t\t\r\n",
      "\t\t\t<tr>\r\n",
      "\t\t\t\t<!-- 序號 -->\r\n",
      "\t\t\t\t<td>16.</td>\r\n",
      "\t\t\t\t<!-- 裁判字號 -->\r\n",
      "\t\t\t\t<td nowrap><a href=\"content3.aspx?p=bLTY%2bXWNvJfRyoCmJ66nsWX4788AHkontLOsypSSFk8%3d\" onclick=\"cookieId('FSyyLFCeyevXoE5gO9WIeokf9SLkC1GvhiGUywc0IKUqrEeLPbRmx4N451rrcxz03K7dclnp6e8Jc66qPJD5QQ%3d%3d')\">104,除,277</a>(1K)</td>\r\n",
      "\t\t\t\t<!-- 裁判 -->\r\n",
      "\t\t\t\t<td>判決</td>\r\n",
      "\t\t\t\t<!-- 日期及案由 -->\r\n",
      "\t\t\t\t<td>1040226</td>\r\n",
      "\t\t\t\t<td>除權判決（票據）</td>\r\n",
      "                <td nowrap></td>\r\n",
      "\t\t\t</tr>\r\n",
      "\t\t\t<!-- 不可公開或太早 -->\r\n",
      "\t\t\t\r\n",
      "\t\t\r\n",
      "\t\t\t<tr>\r\n",
      "\t\t\t\t<!-- 序號 -->\r\n",
      "\t\t\t\t<td>17.</td>\r\n",
      "\t\t\t\t<!-- 裁判字號 -->\r\n",
      "\t\t\t\t<td nowrap><a href=\"content3.aspx?p=1F8pbuulsATG2n6a80ZJbg%2fZepvh3y2qXTqmH63LuOw%3d\" onclick=\"cookieId('FSyyLFCeyevXoE5gO9WIeorbJxCVo2Umc0oejZjnSE1knBATZxE1Ramcw8HJPeaImT8%2bLQdDNKCZvm0iPFjxPg%3d%3d')\">104,除,276</a>(1K)</td>\r\n",
      "\t\t\t\t<!-- 裁判 -->\r\n",
      "\t\t\t\t<td>判決</td>\r\n",
      "\t\t\t\t<!-- 日期及案由 -->\r\n",
      "\t\t\t\t<td>1040226</td>\r\n",
      "\t\t\t\t<td>除權判決（股票）</td>\r\n",
      "                <td nowrap></td>\r\n",
      "\t\t\t</tr>\r\n",
      "\t\t\t<!-- 不可公開或太早 -->\r\n",
      "\t\t\t\r\n",
      "\t\t\r\n",
      "\t\t\t<tr>\r\n",
      "\t\t\t\t<!-- 序號 -->\r\n",
      "\t\t\t\t<td>18.</td>\r\n",
      "\t\t\t\t<!-- 裁判字號 -->\r\n",
      "\t\t\t\t<td nowrap><a href=\"content3.aspx?p=br%2boE%2b2NGEyJzoZi3st%2f8LBD0z05ONv02qGMVebzPS0%3d\" onclick=\"cookieId('FSyyLFCeyevXoE5gO9WIelh4XCnvBS%2fHuaujrj8JSIYNmv72FDnSr7QkH8QL4A3ux4OxJVp7qn9WyoRf3cMQeA%3d%3d')\">104,除,268</a>(2K)</td>\r\n",
      "\t\t\t\t<!-- 裁判 -->\r\n",
      "\t\t\t\t<td>判決</td>\r\n",
      "\t\t\t\t<!-- 日期及案由 -->\r\n",
      "\t\t\t\t<td>1040226</td>\r\n",
      "\t\t\t\t<td>除權判決（票據）</td>\r\n",
      "                <td nowrap></td>\r\n",
      "\t\t\t</tr>\r\n",
      "\t\t\t<!-- 不可公開或太早 -->\r\n",
      "\t\t\t\r\n",
      "\t\t\r\n",
      "\t\t\t<tr>\r\n",
      "\t\t\t\t<!-- 序號 -->\r\n",
      "\t\t\t\t<td>19.</td>\r\n",
      "\t\t\t\t<!-- 裁判字號 -->\r\n",
      "\t\t\t\t<td nowrap><a href=\"content3.aspx?p=2UC%2fVEWY%2fjtmhwyCOsgI9zZDYgy8cNmId0b3aRAvdHM%3d\" onclick=\"cookieId('FSyyLFCeyevXoE5gO9WIep4iSqiIRQJemye7yRJ4XFhGv9zGHDavmKzqIZ0JkLkNRCck82SQpYQFeUv8IXCd9A%3d%3d')\">104,除,265</a>(1K)</td>\r\n",
      "\t\t\t\t<!-- 裁判 -->\r\n",
      "\t\t\t\t<td>判決</td>\r\n",
      "\t\t\t\t<!-- 日期及案由 -->\r\n",
      "\t\t\t\t<td>1040226</td>\r\n",
      "\t\t\t\t<td>除權判決（股票）</td>\r\n",
      "                <td nowrap></td>\r\n",
      "\t\t\t</tr>\r\n",
      "\t\t\t<!-- 不可公開或太早 -->\r\n",
      "\t\t\t\r\n",
      "\t\t\r\n",
      "\t\t\t<tr>\r\n",
      "\t\t\t\t<!-- 序號 -->\r\n",
      "\t\t\t\t<td>20.</td>\r\n",
      "\t\t\t\t<!-- 裁判字號 -->\r\n",
      "\t\t\t\t<td nowrap><a href=\"content3.aspx?p=0mWyoCXsCWRE6y3vOwlVX5N68ZbqOMv5ughCGw3V74c%3d\" onclick=\"cookieId('FSyyLFCeyevXoE5gO9WIeiJ6E7ZKmDL%2bL9tCJEbmFDTAV%2fTJIxXqjiJxdnhz63nl7BR0izLc0c4fQ9EG9pQnDQ%3d%3d')\">104,除,263</a>(2K)</td>\r\n",
      "\t\t\t\t<!-- 裁判 -->\r\n",
      "\t\t\t\t<td>判決</td>\r\n",
      "\t\t\t\t<!-- 日期及案由 -->\r\n",
      "\t\t\t\t<td>1040226</td>\r\n",
      "\t\t\t\t<td>除權判決（股票）</td>\r\n",
      "                <td nowrap></td>\r\n",
      "\t\t\t</tr>\r\n",
      "\t\t\t<!-- 不可公開或太早 -->\r\n",
      "\t\t\t\r\n",
      "\t\t\r\n",
      "\t\t</TBODY>\r\n",
      "\t    </table>\r\n",
      "\t\t\r\n",
      "\t<table class=\"page\" border=\"0\" align=\"center\" cellpadding=\"0\" cellspacing=\"0\" width=\"100%\">\r\n",
      "\t\t<tr>\r\n",
      "\t\t\t<td width=\"42%\" valign=\"middle\">共 15478 筆 第 1 / 774 頁</td>\r\n",
      "\t\t\t<td width=\"58%\" valign=\"middle\" align=\"right\">\r\n",
      "                \r\n",
      "                \r\n",
      "                <a id=\"lnkbtnOhmy2\" href=\"javascript:__doPostBack('lnkbtnOhmy2','')\">下一頁｜</a>\r\n",
      "                <a id=\"lnkbtnLast2\" href=\"javascript:__doPostBack('lnkbtnLast2','')\">最末頁｜</a></td>\r\n",
      "\t\t</tr>\r\n",
      "\t</table>\r\n",
      "    \r\n",
      "    \r\n",
      "</form>\r\n",
      "</body>\r\n",
      "</html>\r\n",
      "<script type=\"text/javascript\">\r\n",
      "function cookieId(ia) {\r\n",
      "    document.cookie = \"y=p=\" + ia;\r\n",
      "}\r\n",
      "function MM_preloadImages_1() { //v3.0\r\n",
      "    var d = document; if (d.Images_1) {\r\n",
      "        if (!d.MM_p) d.MM_p = new Array();\r\n",
      "        var i, j = d.MM_p.length, a = MM_preloadImages_1.arguments; for (i = 0; i < a.length; i++)\r\n",
      "            if (a[i].indexOf(\"#\") != 0) { d.MM_p[j] = new Image; d.MM_p[j++].src = a[i]; }\r\n",
      "    }\r\n",
      "}\r\n",
      "</script>\n"
     ]
    }
   ],
   "source": [
    "res3 = rs.get('http://fyjud.lawbank.com.tw/listcontent5.aspx', headers = headers)\n",
    "print res3.text"
   ]
  },
  {
   "cell_type": "code",
   "execution_count": 165,
   "metadata": {
    "collapsed": false
   },
   "outputs": [
    {
     "data": {
      "text/plain": [
       "'http://www.agoda.com/zh-tw/pages/agoda/default/DestinationSearchResult.aspx?asq=7ylWkWYo99jpLRsOqDXpOosgFWTYFaDxKLkG0dUs%2fmnnqrV2dU%2f0e62kY%2bnPnyZECUnxGtPWAfUHfpLcTjGYNuDWeu%2fFno%2fZ7bc5weF6wa2SM%2fuUroZ3BI3IagP6pIMH3%2fXCyLGkR4DVp50lBmunUtAF0t%2bq4REManoTPDV5a7U%3d&tick=635765366988#'"
      ]
     },
     "execution_count": 165,
     "metadata": {},
     "output_type": "execute_result"
    }
   ],
   "source": [
    "'http://www.agoda.com/zh-tw/pages/agoda/default/DestinationSearchResult.aspx?asq=7ylWkWYo99jpLRsOqDXpOosgFWTYFaDxKLkG0dUs%2fmnnqrV2dU%2f0e62kY%2bnPnyZECUnxGtPWAfUHfpLcTjGYNuDWeu%2fFno%2fZ7bc5weF6wa2SM%2fuUroZ3BI3IagP6pIMH3%2fXCyLGkR4DVp50lBmunUtAF0t%2bq4REManoTPDV5a7U%3d&tick=635765366988'\n",
    "'http://www.agoda.com/zh-tw/pages/agoda/default/DestinationSearchResult.aspx?asq=7ylWkWYo99jpLRsOqDXpOosgFWTYFaDxKLkG0dUs%2fmnnqrV2dU%2f0e62kY%2bnPnyZECUnxGtPWAfUHfpLcTjGYNuDWeu%2fFno%2fZ7bc5weF6wa2SM%2fuUroZ3BI3IagP6pIMH3%2fXCyLGkR4DVp50lBmunUtAF0t%2bq4REManoTPDV5a7U%3d&tick=635765366988#'"
   ]
  },
  {
   "cell_type": "code",
   "execution_count": null,
   "metadata": {
    "collapsed": true
   },
   "outputs": [],
   "source": [
    "# -*- coding: utf-8 -*- \n",
    "from selenium import selenium \n",
    "from selenium import webdriver\n",
    "from selenium.common.exceptions import NoSuchElementException\n",
    "from selenium.webdriver.common.keys import Keys\n",
    "import time\n",
    "from bs4 import BeautifulSoup\n",
    "\n",
    "browser = webdriver.Firefox() \n",
    "#browser = webdriver.Ie('IEDriverServer.exe') \n",
    "\n",
    "browser.get('http://www.agoda.com/pages/agoda/default/DestinationSearchResult.aspx?urltogo=%2fpages%2fagoda%2fdefault%2fDestinationSearchResult.aspx&asq=7ylWkWYo99jpLRsOqDXpOhB2TKxNx+lAwj0NnSLkOeHzi0OB3U0iFJOXqkTwxeF04ZjahgldRwiJlrX%2flIupu+n7HeJGxaqgqhj1JVvli+osVO1U+kZDgbfMDc93rsShsxmSy2Ijwbb%2f2%2f+YckLlDxZm%2fwUJCMc850nD28jQU5xGOAZLIQ4nFJ4Y32b6D61yloZXoqQZAPMPZzHQJuiJ7A%3d%3d&cid=1618671&tag=fd84620f-f6e6-83d4-7a05-964389ea9767#') \n",
    "\n",
    "soup = BeautifulSoup(browser.page_source)\n",
    "while len(soup.select('.pager-right')) > 0:\n",
    "\tfor ele in soup.select('.hotel-info'):\n",
    "\t\tprint \"%s\\t%s\\t%s\"%(ele.select('h3 a')[0].text, ele.select('h3 i')[0].text, ele.select('.property-snippet strong')[0].text.strip())\n",
    "\tbrowser.find_element_by_link_text(\"Next\").click()\n",
    "\tsoup = BeautifulSoup(browser.page_source)\n",
    "\ttime.sleep(1)\n",
    "\n",
    "\n",
    "browser.close()"
   ]
  },
  {
   "cell_type": "code",
   "execution_count": 170,
   "metadata": {
    "collapsed": false
   },
   "outputs": [
    {
     "name": "stdout",
     "output_type": "stream",
     "text": [
      "950,000\n",
      "950,000元\n",
      "['950', '000']\n",
      "950000\n"
     ]
    }
   ],
   "source": [
    "import re \n",
    "m = re.match( r\"([0-9,]+)元\", '950,000元') \n",
    "print m.group(1)\n",
    "print m.group(0)\n",
    "print m.group(1).split(',')\n",
    "print ''.join(m.group(1).split(','))\n"
   ]
  },
  {
   "cell_type": "code",
   "execution_count": 172,
   "metadata": {
    "collapsed": false
   },
   "outputs": [],
   "source": [
    "\n",
    "# -*- coding: utf-8 -*- \n",
    "from bs4 import BeautifulSoup \n",
    "from datetime import datetime \n",
    "import os, sys, re"
   ]
  },
  {
   "cell_type": "code",
   "execution_count": 174,
   "metadata": {
    "collapsed": true
   },
   "outputs": [],
   "source": [
    "def get_response_element (file_name): \n",
    "    f = open(file_name, 'r') \n",
    "    response_text = f.read() \n",
    "    f.close() \n",
    "    soup = BeautifulSoup(response_text) \n",
    "    tender_table = soup.select('.tender_table') \n",
    "    tr = tender_table[0].select('tr') \n",
    "    return tr"
   ]
  },
  {
   "cell_type": "code",
   "execution_count": 178,
   "metadata": {
    "collapsed": false
   },
   "outputs": [],
   "source": [
    "ele = get_response_element(\"gov/51603709_104040.txt\")\n",
    "#for e in ele:\n",
    "#    print e"
   ]
  },
  {
   "cell_type": "code",
   "execution_count": 180,
   "metadata": {
    "collapsed": false
   },
   "outputs": [
    {
     "name": "stdout",
     "output_type": "stream",
     "text": [
      "2015-06-03 00:00:00\n"
     ]
    }
   ],
   "source": [
    "def date_conversion(element):\n",
    "    m = re.match(r\"(\\d+/\\d+/\\d+)\",element.strip())\n",
    "    if m is not None:\n",
    "        ymd = m.group(1).split('/', 1)\n",
    "        if ymd[0] != '':\n",
    "            rt = str(int(ymd[0]) + 1911) + \"/\" + ymd[1]\n",
    "            return datetime.strptime(rt, \"%Y/%m/%d\")\n",
    "    else:\n",
    "        return None\n",
    "\n",
    "print date_conversion('104/06/03 10:00 ')"
   ]
  },
  {
   "cell_type": "code",
   "execution_count": 226,
   "metadata": {
    "collapsed": false
   },
   "outputs": [],
   "source": [
    "def money_conversion(element): \n",
    "    #print element\n",
    "    m = re.match( r\"([0-9,]+)元\".decode('utf-8'), \"\".join(element.split()).strip()) \n",
    "    return int(''.join(m.group(1).split(',')))\n",
    "\n",
    "#print money_conversion('912,333,111元')\n"
   ]
  },
  {
   "cell_type": "code",
   "execution_count": 227,
   "metadata": {
    "collapsed": false
   },
   "outputs": [
    {
     "name": "stdout",
     "output_type": "stream",
     "text": [
      "adfadfdds\n"
     ]
    }
   ],
   "source": [
    "def remove_space(element): \n",
    "    return \"\".join(element.split())\n",
    "print remove_space('adfadfd              d              s')"
   ]
  },
  {
   "cell_type": "code",
   "execution_count": 228,
   "metadata": {
    "collapsed": true
   },
   "outputs": [],
   "source": [
    "name_map = {\"機關代碼\":\"entity_code\", \"機關名稱\":\"procuring_entity\",\"標案案號\":\"job_number\",\"招標方式\":\"procurement_type\",\"決標方式\":\"tender_awarding_type\",\"標案名稱\":\"subject_of_procurement\", \"決標資料類別\":\"attr_of_tender_awarding\", \\\n",
    "    \"標的分類\":\"attr_of_procurement\", \"預算金額\":\"budget_value\", \"開標時間\":\"opening_date\",\"決標公告日期\":\"tender_awarding_announce_date\",\\\n",
    "    \"歸屬計畫類別\":\"project_type\",\"總決標金額\":\"total_tender_awarding_value\",\"底價金額\":\"floor_price_value\",\"決標日期\":\"tender_awarding_date\", \"pkAtmMain\":\"pkAtmMain\"}\n",
    "tender_awards_map = {\"機關代碼\":remove_space, \"機關名稱\":remove_space, \"標案案號\":remove_space, \\\n",
    "    \"招標方式\":remove_space,\"決標方式\":remove_space,\"標案名稱\":remove_space, \"決標資料類別\":remove_space, \\\n",
    "    \"標的分類\":remove_space, \"預算金額\":money_conversion, \"開標時間\":date_conversion,\"歸屬計畫類別\":remove_space, \\\n",
    "    \"總決標金額\":money_conversion,\"底價金額\":money_conversion,\"決標日期\":date_conversion, \"決標公告日期\":date_conversion}"
   ]
  },
  {
   "cell_type": "code",
   "execution_count": 229,
   "metadata": {
    "collapsed": true
   },
   "outputs": [],
   "source": [
    "def get_award_info_dic (element):\n",
    "    returned_dic = {}\n",
    "    for row in element:\n",
    "        th = row.select('th')\n",
    "        if len(th) > 0 :\n",
    "            th_name = th[0].text.encode('utf-8').strip()\n",
    "            #print th_name\n",
    "            if th_name in tender_awards_map:\n",
    "                returned_dic[name_map[th_name]] = tender_awards_map[th_name](row.select('td')[0].text)\n",
    "    return returned_dic"
   ]
  },
  {
   "cell_type": "code",
   "execution_count": 230,
   "metadata": {
    "collapsed": false
   },
   "outputs": [
    {
     "name": "stdout",
     "output_type": "stream",
     "text": [
      "dasfsdsd\n",
      "dasfsdsd\n"
     ]
    }
   ],
   "source": [
    "dic = {'a': remove_space}\n",
    "s = \"dasf       sd           sd \"\n",
    "print remove_space(s)\n",
    "print dic['a'](s)"
   ]
  },
  {
   "cell_type": "code",
   "execution_count": 231,
   "metadata": {
    "collapsed": false
   },
   "outputs": [],
   "source": [
    "ele = get_response_element(\"gov/51603709_104040.txt\")\n",
    "award_info_dic = get_award_info_dic(ele) \n",
    "#print award_info_dic\n",
    "#for ele in award_info_dic:\n",
    "#print ele, award_info_dic[ele]"
   ]
  },
  {
   "cell_type": "code",
   "execution_count": 212,
   "metadata": {
    "collapsed": false,
    "scrolled": true
   },
   "outputs": [
    {
     "name": "stdout",
     "output_type": "stream",
     "text": [
      "{'opening_date': datetime.datetime(2015, 6, 3, 0, 0), 'total_tender_awarding_value': 950000, 'tender_awarding_date': datetime.datetime(2015, 6, 25, 0, 0), 'entity_code': u'A.25.6', 'procurement_type': u'\\u516c\\u958b\\u53d6\\u5f97\\u5831\\u50f9\\u55ae\\u6216\\u4f01\\u5283\\u66f8', 'procuring_entity': u'\\u570b\\u7acb\\u6b77\\u53f2\\u535a\\u7269\\u9928', 'attr_of_procurement': u'<\\u52de\\u52d9\\u985e>842\\u8edf\\u9ad4\\u57f7\\u884c\\u670d\\u52d9', 'tender_awarding_announce_date': datetime.datetime(2015, 7, 24, 0, 0), 'subject_of_procurement': u'\\u570b\\u7acb\\u6b77\\u53f2\\u535a\\u7269\\u9928\\u300c\\uf969\\u4f4d\\u8de8\\u57df\\u6587\\u5275\\u8cc7\\u6e90\\u52a0\\u503c\\u7db2\\u7ad9\\u958b\\u767c\\u59d4\\u5916\\u88fd\\u4f5c\\u6848\\u300d', 'project_type': u'\\u975e\\u5c6c\\u611b\\u53f0\\u5341\\u4e8c\\u9805\\u8a08\\u756b', 'attr_of_tender_awarding': u'\\u5b9a\\u671f\\u5f59\\u9001', 'budget_value': 983324, 'floor_price_value': 950000, 'job_number': u'104040', 'tender_awarding_type': u'\\u53c3\\u8003\\u6700\\u6709\\u5229\\u6a19\\u7cbe\\u795e'}\n"
     ]
    }
   ],
   "source": [
    "print "
   ]
  },
  {
   "cell_type": "code",
   "execution_count": null,
   "metadata": {
    "collapsed": true
   },
   "outputs": [],
   "source": []
  }
 ],
 "metadata": {
  "kernelspec": {
   "display_name": "Python 2",
   "language": "python",
   "name": "python2"
  },
  "language_info": {
   "codemirror_mode": {
    "name": "ipython",
    "version": 2
   },
   "file_extension": ".py",
   "mimetype": "text/x-python",
   "name": "python",
   "nbconvert_exporter": "python",
   "pygments_lexer": "ipython2",
   "version": "2.7.10"
  }
 },
 "nbformat": 4,
 "nbformat_minor": 0
}
