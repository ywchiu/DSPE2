{
 "cells": [
  {
   "cell_type": "markdown",
   "metadata": {},
   "source": [
    "### FindBook"
   ]
  },
  {
   "cell_type": "code",
   "execution_count": 10,
   "metadata": {
    "collapsed": false
   },
   "outputs": [
    {
     "name": "stdout",
     "output_type": "stream",
     "text": [
      "[<span class=\"pink_bold\">192</span>]\n",
      "<span class=\"pink_bold\">192</span>\n",
      "192\n",
      "是誰在說謊\n"
     ]
    }
   ],
   "source": [
    "import requests\n",
    "from bs4 import BeautifulSoup as bs\n",
    "res = requests.get('http://findbook.tw/book/9789865880941/price')\n",
    "#print res.encoding\n",
    "res.encoding = 'utf-8'\n",
    "#print res.encoding #convert encoding\n",
    "soup = bs(res.text)\n",
    "print soup.select('#main .pink_bold')\n",
    "print soup.select('#main .pink_bold')[0]\n",
    "print soup.select('#main .pink_bold')[0].text\n",
    "print soup.select('.book-profile h1')[0].text\n",
    "#print res.text"
   ]
  },
  {
   "cell_type": "markdown",
   "metadata": {},
   "source": [
    "### PTT"
   ]
  },
  {
   "cell_type": "code",
   "execution_count": 16,
   "metadata": {
    "collapsed": false
   },
   "outputs": [
    {
     "name": "stdout",
     "output_type": "stream",
     "text": [
      "Re: [請益] 老闆該如何當? 8/29 cem236321\n",
      "Re: [請益] 老闆該如何當? 8/30 kros\n",
      "Re: [請益] 老闆該如何當? 8/30 capita\n",
      "[討論] 專案管理方法 8/30 JayReed\n",
      "【 版　規 】 最後修訂：2012/02/29 3/29 TonyQ\n",
      "[情報] 軟體工作相關看板 5/01 TonyQ\n",
      "[公告] 有關本版範圍跟文章走向 7/07 TonyQ\n",
      "Fw: [情報] 22nd 小天使招生囉～（08/24 ~ 09/05） 8/19 TonyQ\n"
     ]
    },
    {
     "name": "stderr",
     "output_type": "stream",
     "text": [
      "C:\\Python27\\lib\\site-packages\\requests\\packages\\urllib3\\util\\ssl_.py:90: InsecurePlatformWarning: A true SSLContext object is not available. This prevents urllib3 from configuring SSL appropriately and may cause certain SSL connections to fail. For more information, see https://urllib3.readthedocs.org/en/latest/security.html#insecureplatformwarning.\n",
      "  InsecurePlatformWarning\n",
      "C:\\Python27\\lib\\site-packages\\requests\\packages\\urllib3\\connectionpool.py:768: InsecureRequestWarning: Unverified HTTPS request is being made. Adding certificate verification is strongly advised. See: https://urllib3.readthedocs.org/en/latest/security.html\n",
      "  InsecureRequestWarning)\n"
     ]
    }
   ],
   "source": [
    "import requests\n",
    "from bs4 import BeautifulSoup as bs\n",
    "res = requests.get('https://www.ptt.cc/bbs/Soft_Job/index.html', verify=False)\n",
    "soup = bs(res.text)\n",
    "for ent in soup.select('.r-ent'):\n",
    "    print ent.select('.title')[0].text.strip(), ent.select('.date')[0].text.strip(), ent.select('.author')[0].text.strip()"
   ]
  },
  {
   "cell_type": "code",
   "execution_count": 22,
   "metadata": {
    "collapsed": false
   },
   "outputs": [
    {
     "name": "stderr",
     "output_type": "stream",
     "text": [
      "C:\\Python27\\lib\\site-packages\\requests\\packages\\urllib3\\util\\ssl_.py:90: InsecurePlatformWarning: A true SSLContext object is not available. This prevents urllib3 from configuring SSL appropriately and may cause certain SSL connections to fail. For more information, see https://urllib3.readthedocs.org/en/latest/security.html#insecureplatformwarning.\n",
      "  InsecurePlatformWarning\n",
      "C:\\Python27\\lib\\site-packages\\requests\\packages\\urllib3\\connectionpool.py:768: InsecureRequestWarning: Unverified HTTPS request is being made. Adding certificate verification is strongly advised. See: https://urllib3.readthedocs.org/en/latest/security.html\n",
      "  InsecureRequestWarning)\n",
      "C:\\Python27\\lib\\site-packages\\requests\\packages\\urllib3\\connectionpool.py:768: InsecureRequestWarning: Unverified HTTPS request is being made. Adding certificate verification is strongly advised. See: https://urllib3.readthedocs.org/en/latest/security.html\n",
      "  InsecureRequestWarning)\n",
      "C:\\Python27\\lib\\site-packages\\requests\\packages\\urllib3\\connectionpool.py:768: InsecureRequestWarning: Unverified HTTPS request is being made. Adding certificate verification is strongly advised. See: https://urllib3.readthedocs.org/en/latest/security.html\n",
      "  InsecureRequestWarning)\n"
     ]
    },
    {
     "name": "stdout",
     "output_type": "stream",
     "text": [
      "[問卦] 有沒有以前臺灣到底多好賺錢的八卦呢? 8/30 DamnIAmSucks\n",
      "Re: [問卦] 削鐵如泥的匕首真的是天方夜譚嗎？ 8/30 backere0720\n",
      "[新聞] 劉香慈「遇到對的人」 藥品小開只差求婚 8/30 jailkobe5566\n",
      "Re: [問卦] av女優在日本社會的地位? 8/30 n99lu\n",
      "[新聞] 宋楚瑜訪台南 達彌儒道信徒喊:不要女總統 8/30 behappy0924\n",
      "Re: [問卦] 有沒有不禁條頓人改禁韓國人的八卦 8/30 cito\n",
      "[新聞] 校車疑遭惡意逼車 叭叭示警！反遭下車嗆 8/30 chen1765\n",
      "[ＦＢ] 李富城提告啦 8/30 zuan\n",
      "[新聞] 保母費每月6萬 黑范顧飛翔全程緊盯 8/30 CraigKimbrel\n",
      "Re: [問卦] 有沒有蜜月至少要去哪裏的八卦？ 8/30 Sodium\n",
      "(已被meowmeowgo刪除) <lunhsuan>閒聊 8/30 -\n",
      "[問卦] 有沒有手機轉珠遊戲差在哪的卦？ 8/30 okokokya\n",
      "Re: [問卦] av女優在日本社會的地位? 8/30 OLM\n",
      "Re: [新聞]「執政後保證不缺電」 蔡英文：逐步達成非 8/30 fankung\n",
      "[問卦] 有沒有人買過權利車的八卦? 8/30 zombie123321\n",
      "[問卦] 有沒有打鐵的八卦? 8/30 Atwo\n",
      "[問卦] 誰是早餐界的霸主 8/30 meinlvc\n",
      "Re: [問卦] 有沒有手機轉珠遊戲差在哪的卦？ 8/30 liveforhappy\n",
      "Re: [問卦] 誰是早餐界的霸主 8/30 jerwei2010\n",
      "[公告] 八卦板板規(2015.06.16) 6/16 seabox\n",
      "[公告] PTT 二十周年-報名開始(新竹尚有名額) 8/15 iPad3\n",
      "[爆卦] 9/19 台灣失智症協會 一日志工 8/27 Leeng\n",
      "Fw: [協尋]8/18 台北市內湖區瑞光路行車紀錄器或目擊者 8/27 sppin\n",
      "[公告] 八月份置底閒聊文 8/01 seabox\n"
     ]
    }
   ],
   "source": [
    "import requests\n",
    "from bs4 import BeautifulSoup as bs\n",
    "rs = requests.session()\n",
    "payload = {\n",
    "    'from':'/bbs/Gossiping/index.html',\n",
    "    'yes':'yes'\n",
    "}\n",
    "res = rs.post('https://www.ptt.cc/ask/over18', data= payload, verify= False)\n",
    "\n",
    "\n",
    "res = rs.get('https://www.ptt.cc/bbs/Gossiping/index.html', verify=False)\n",
    "soup = bs(res.text)\n",
    "\n",
    "for ent in soup.select('.r-ent'):\n",
    "    print ent.select('.title')[0].text.strip(), ent.select('.date')[0].text.strip(), ent.select('.author')[0].text.strip()\n"
   ]
  },
  {
   "cell_type": "code",
   "execution_count": 24,
   "metadata": {
    "collapsed": false
   },
   "outputs": [],
   "source": [
    "f = open(\"gov/51603709_104040.txt\", \"r\") \n",
    "#print f.read() \n",
    "f.close()\n"
   ]
  },
  {
   "cell_type": "code",
   "execution_count": 25,
   "metadata": {
    "collapsed": true
   },
   "outputs": [],
   "source": [
    "from bs4 import BeautifulSoup \n",
    "f = open('gov/51603709_104040.txt', 'r') \n",
    "response_text = f.read() \n",
    "soup = BeautifulSoup(response_text) \n",
    "f.close()\n"
   ]
  },
  {
   "cell_type": "code",
   "execution_count": 28,
   "metadata": {
    "collapsed": false
   },
   "outputs": [
    {
     "name": "stdout",
     "output_type": "stream",
     "text": [
      "[] 0\n",
      "[] 0\n",
      "[<th align=\"left\" bgcolor=\"#DAEBED\" class=\"T11b\" valign=\"middle\" width=\"200\">\n",
      "     機關代碼\n",
      "    </th>] 1\n",
      "[<th align=\"left\" bgcolor=\"#DAEBED\" class=\"T11b\" valign=\"middle\" width=\"200\">\n",
      "     機關名稱\n",
      "    </th>] 1\n",
      "[<th align=\"left\" bgcolor=\"#DAEBED\" class=\"T11b\" valign=\"middle\" width=\"200\">\n",
      "     單位名稱\n",
      "    </th>] 1\n",
      "[<th align=\"left\" bgcolor=\"#DAEBED\" class=\"T11b\" valign=\"middle\" width=\"200\">\n",
      "     機關地址\n",
      "    </th>] 1\n",
      "[<th align=\"left\" bgcolor=\"#DAEBED\" class=\"T11b\" valign=\"middle\" width=\"200\">\n",
      "     聯絡人\n",
      "    </th>] 1\n",
      "[<th align=\"left\" bgcolor=\"#DAEBED\" class=\"T11b\" valign=\"middle\" width=\"200\">\n",
      "     聯絡電話\n",
      "    </th>] 1\n",
      "[<th align=\"left\" bgcolor=\"#DAEBED\" class=\"T11b\" style=\"height: 25px\" valign=\"middle\" width=\"200\">\n",
      "     傳真號碼\n",
      "    </th>] 1\n",
      "[] 0\n",
      "[<th align=\"left\" bgcolor=\"#FFFF99\" class=\"T11b\" valign=\"middle\" width=\"200\">\n",
      "     標案案號\n",
      "    </th>] 1\n",
      "[<th align=\"left\" bgcolor=\"#FFFF99\" class=\"T11b\" valign=\"middle\" width=\"200\">\n",
      "     招標方式\n",
      "    </th>] 1\n",
      "[<th align=\"left\" bgcolor=\"#FFFF99\" class=\"T11b\" valign=\"middle\" width=\"200\">\n",
      "     決標方式\n",
      "    </th>] 1\n",
      "[<th align=\"left\" bgcolor=\"#FFFF99\" class=\"T11b\" valign=\"middle\" width=\"200\">\n",
      "     新增公告傳輸次數\n",
      "    </th>] 1\n",
      "[<th align=\"left\" bgcolor=\"#FFFF99\" class=\"T11b\" valign=\"middle\" width=\"200\">\n",
      "     是否依據採購法第106條第1項第1款辦理\n",
      "    </th>] 1\n",
      "[<th align=\"left\" bgcolor=\"#FFFF99\" class=\"T11b\" valign=\"middle\" width=\"200\">\n",
      "     標案名稱\n",
      "    </th>] 1\n",
      "[<th align=\"left\" bgcolor=\"#FFFF99\" class=\"T11b\" valign=\"middle\" width=\"200\">\n",
      "     決標資料類別\n",
      "    </th>] 1\n",
      "[<th align=\"left\" bgcolor=\"#FFFF99\" class=\"T11b\" valign=\"middle\" width=\"200\">\n",
      "     是否屬共同供應契約採購\n",
      "    </th>] 1\n",
      "[<th align=\"left\" bgcolor=\"#FFFF99\" class=\"T11b\" valign=\"middle\" width=\"200\">\n",
      "     是否屬二以上機關之聯合採購(不適用共同供應契約規定)\n",
      "    </th>] 1\n",
      "[<th align=\"left\" bgcolor=\"#FFFF99\" class=\"T11b\" valign=\"middle\" width=\"200\">\n",
      "     是否複數決標\n",
      "    </th>] 1\n",
      "[<th align=\"left\" bgcolor=\"#FFFF99\" class=\"T11b\" valign=\"middle\" width=\"200\">\n",
      "     是否共同投標\n",
      "    </th>] 1\n",
      "[<th align=\"left\" bgcolor=\"#FFFF99\" class=\"T11b\" valign=\"middle\" width=\"200\">\n",
      "     標的分類\n",
      "    </th>] 1\n",
      "[<th align=\"left\" bgcolor=\"#FFFF99\" class=\"T11b\" valign=\"middle\" width=\"200\">\n",
      "     是否屬統包\n",
      "    </th>] 1\n",
      "[<th align=\"left\" bgcolor=\"#FFFF99\" class=\"T11b\" valign=\"middle\" width=\"200\">\n",
      "     是否應依公共工程專業技師簽證規則實施技師簽證\n",
      "    </th>] 1\n",
      "[<th align=\"left\" bgcolor=\"#FFFF99\" class=\"T11b\" valign=\"middle\" width=\"200\">\n",
      "     開標時間\n",
      "    </th>] 1\n",
      "[<th align=\"left\" bgcolor=\"#FFFF99\" class=\"T11b\" valign=\"middle\" width=\"200\">\n",
      "     原公告日期\n",
      "    </th>] 1\n",
      "[<th align=\"left\" bgcolor=\"#FFFF99\" class=\"T11b\" valign=\"middle\" width=\"200\">\n",
      "     採購金額級距\n",
      "    </th>] 1\n",
      "[<th align=\"left\" bgcolor=\"#FFFF99\" class=\"T11b\" valign=\"middle\" width=\"200\">\n",
      "     辦理方式\n",
      "    </th>] 1\n",
      "[<th align=\"left\" bgcolor=\"#FFFF99\" class=\"T11b\" valign=\"middle\" width=\"200\">\n",
      "     預算金額是否公開\n",
      "    </th>] 1\n",
      "[<th align=\"left\" bgcolor=\"#FFFF99\" class=\"T11b\" valign=\"middle\" width=\"200\">\n",
      "     預算金額\n",
      "    </th>] 1\n",
      "[<th align=\"left\" bgcolor=\"#FFFF99\" class=\"T11b\" valign=\"middle\" width=\"200\">\n",
      "     是否受機關補助\n",
      "    </th>] 1\n",
      "[<th align=\"left\" bgcolor=\"#FFFF99\" class=\"T11b\" valign=\"middle\" width=\"200\">\n",
      "     履約地點\n",
      "    </th>] 1\n",
      "[<th align=\"left\" bgcolor=\"#FFFF99\" class=\"T11b\" valign=\"middle\" width=\"200\">\n",
      "     履約地點（含地區）\n",
      "    </th>] 1\n",
      "[<th align=\"left\" bgcolor=\"#FFFF99\" class=\"T11b\" valign=\"middle\" width=\"200\">\n",
      "     是否於招標文件載明優先決標予身心障礙福利機構團體或庇護工場\n",
      "    </th>] 1\n",
      "[<th align=\"left\" bgcolor=\"#FFFF99\" class=\"T11b\" valign=\"middle\" width=\"200\">\n",
      "     是否含特別預算\n",
      "    </th>] 1\n",
      "[<th align=\"left\" bgcolor=\"#FFFF99\" class=\"T11b\" valign=\"middle\" width=\"200\">\n",
      "     歸屬計畫類別\n",
      "    </th>] 1\n",
      "[<th align=\"left\" bgcolor=\"#FFFF99\" class=\"T11b\" valign=\"middle\" width=\"200\">\n",
      "     本案採購契約是否採用主管機關訂定之範本\n",
      "    </th>] 1\n",
      "[] 0\n",
      "[<th align=\"left\" bgcolor=\"#ffdd83\" class=\"T11b\" valign=\"middle\" width=\"200\">\n",
      "        投標廠商家數\n",
      "       </th>, <th align=\"left\" bgcolor=\"#ffdd83\" class=\"T11b\" valign=\"middle\" width=\"200\">\n",
      "        投標廠商1\n",
      "       </th>, <th align=\"left\" bgcolor=\"#ffdd83\" class=\"T11b\" valign=\"middle\" width=\"200\">\n",
      "        廠商代碼\n",
      "       </th>, <th align=\"left\" bgcolor=\"#ffdd83\" class=\"T11b\" valign=\"middle\" width=\"200\">\n",
      "        廠商名稱\n",
      "       </th>, <th align=\"left\" bgcolor=\"#ffdd83\" class=\"T11b\" valign=\"middle\" width=\"200\">\n",
      "        是否得標\n",
      "       </th>, <th align=\"left\" bgcolor=\"#ffdd83\" class=\"T11b\" valign=\"middle\" width=\"200\">\n",
      "        組織型態\n",
      "       </th>, <th align=\"left\" bgcolor=\"#ffdd83\" class=\"T11b\" valign=\"middle\" width=\"200\">\n",
      "        廠商業別\n",
      "       </th>, <th align=\"left\" bgcolor=\"#ffdd83\" class=\"T11b\" valign=\"middle\" width=\"200\">\n",
      "        廠商地址\n",
      "       </th>, <th align=\"left\" bgcolor=\"#ffdd83\" class=\"T11b\" valign=\"middle\" width=\"200\">\n",
      "        廠商電話\n",
      "       </th>, <th align=\"left\" bgcolor=\"#ffdd83\" class=\"T11b\" valign=\"middle\" width=\"200\">\n",
      "        決標金額\n",
      "       </th>, <th align=\"left\" bgcolor=\"#ffdd83\" class=\"T11b\" valign=\"middle\" width=\"200\">\n",
      "        得標廠商國別\n",
      "       </th>, <th align=\"left\" bgcolor=\"#ffdd83\" class=\"T11b\" valign=\"middle\" width=\"200\">\n",
      "        是否為中小企業\n",
      "       </th>, <th align=\"left\" bgcolor=\"#ffdd83\" class=\"T11b\" valign=\"middle\" width=\"200\">\n",
      "        履約起迄日期\n",
      "       </th>, <th align=\"left\" bgcolor=\"#ffdd83\" class=\"T11b\" valign=\"middle\" width=\"200\">\n",
      "        雇用員工總人數是否\n",
      "        <br>\n",
      "         超過100人\n",
      "        </br>\n",
      "</th>] 14\n",
      "[<th align=\"left\" bgcolor=\"#ffdd83\" class=\"T11b\" valign=\"middle\" width=\"200\">\n",
      "        投標廠商家數\n",
      "       </th>] 1\n",
      "[<th align=\"left\" bgcolor=\"#ffdd83\" class=\"T11b\" valign=\"middle\" width=\"200\">\n",
      "        投標廠商1\n",
      "       </th>] 1\n",
      "[<th align=\"left\" bgcolor=\"#ffdd83\" class=\"T11b\" valign=\"middle\" width=\"200\">\n",
      "        廠商代碼\n",
      "       </th>] 1\n",
      "[<th align=\"left\" bgcolor=\"#ffdd83\" class=\"T11b\" valign=\"middle\" width=\"200\">\n",
      "        廠商名稱\n",
      "       </th>] 1\n",
      "[<th align=\"left\" bgcolor=\"#ffdd83\" class=\"T11b\" valign=\"middle\" width=\"200\">\n",
      "        是否得標\n",
      "       </th>] 1\n",
      "[<th align=\"left\" bgcolor=\"#ffdd83\" class=\"T11b\" valign=\"middle\" width=\"200\">\n",
      "        組織型態\n",
      "       </th>] 1\n",
      "[<th align=\"left\" bgcolor=\"#ffdd83\" class=\"T11b\" valign=\"middle\" width=\"200\">\n",
      "        廠商業別\n",
      "       </th>] 1\n",
      "[<th align=\"left\" bgcolor=\"#ffdd83\" class=\"T11b\" valign=\"middle\" width=\"200\">\n",
      "        廠商地址\n",
      "       </th>] 1\n",
      "[<th align=\"left\" bgcolor=\"#ffdd83\" class=\"T11b\" valign=\"middle\" width=\"200\">\n",
      "        廠商電話\n",
      "       </th>] 1\n",
      "[<th align=\"left\" bgcolor=\"#ffdd83\" class=\"T11b\" valign=\"middle\" width=\"200\">\n",
      "        決標金額\n",
      "       </th>] 1\n",
      "[<th align=\"left\" bgcolor=\"#ffdd83\" class=\"T11b\" valign=\"middle\" width=\"200\">\n",
      "        得標廠商國別\n",
      "       </th>] 1\n",
      "[<th align=\"left\" bgcolor=\"#ffdd83\" class=\"T11b\" valign=\"middle\" width=\"200\">\n",
      "        是否為中小企業\n",
      "       </th>] 1\n",
      "[<th align=\"left\" bgcolor=\"#ffdd83\" class=\"T11b\" valign=\"middle\" width=\"200\">\n",
      "        履約起迄日期\n",
      "       </th>] 1\n",
      "[<th align=\"left\" bgcolor=\"#ffdd83\" class=\"T11b\" valign=\"middle\" width=\"200\">\n",
      "        雇用員工總人數是否\n",
      "        <br>\n",
      "         超過100人\n",
      "        </br>\n",
      "</th>] 1\n",
      "[] 0\n",
      "[<th align=\"left\" bgcolor=\"#FFCCCC\" class=\"T11b\" valign=\"middle\" width=\"200\">\n",
      "        決標品項數\n",
      "       </th>, <th align=\"left\" bgcolor=\"#FFCCCC\" class=\"T11b\" valign=\"middle\" width=\"200\">\n",
      "        第1品項\n",
      "       </th>, <th align=\"left\" bgcolor=\"#FFCCCC\" class=\"T11b\" valign=\"middle\" width=\"200\">\n",
      "        品項名稱\n",
      "       </th>, <th align=\"left\" bgcolor=\"#FFCCCC\" class=\"T11b\" valign=\"middle\" width=\"200\">\n",
      "        是否以單價及預估需\n",
      "        <br>\n",
      "         求數量之乘積決定最\n",
      "         <br>\n",
      "          低標\n",
      "         </br>\n",
      "</br>\n",
      "</th>, <th align=\"left\" bgcolor=\"#FFCCCC\" class=\"T11b\" valign=\"middle\" width=\"200\">\n",
      "        得標廠商1\n",
      "       </th>, <th align=\"left\" bgcolor=\"#FFCCCC\" class=\"T11b\" valign=\"middle\" width=\"200\">\n",
      "        得標廠商\n",
      "       </th>, <th align=\"left\" bgcolor=\"#FFCCCC\" class=\"T11b\" valign=\"middle\" width=\"200\">\n",
      "        預估需求數量\n",
      "       </th>, <th align=\"left\" bgcolor=\"#FFCCCC\" class=\"T11b\" valign=\"middle\" width=\"200\">\n",
      "        決標金額\n",
      "       </th>, <th align=\"left\" bgcolor=\"#FFCCCC\" class=\"T11b\" valign=\"middle\" width=\"200\">\n",
      "        底價金額\n",
      "       </th>, <th align=\"left\" bgcolor=\"#FFCCCC\" class=\"T11b\" valign=\"middle\" width=\"200\">\n",
      "        原產地國別\n",
      "       </th>] 10\n",
      "[<th align=\"left\" bgcolor=\"#FFCCCC\" class=\"T11b\" valign=\"middle\" width=\"200\">\n",
      "        決標品項數\n",
      "       </th>] 1\n",
      "[<th align=\"left\" bgcolor=\"#FFCCCC\" class=\"T11b\" valign=\"middle\" width=\"200\">\n",
      "        第1品項\n",
      "       </th>] 1\n",
      "[<th align=\"left\" bgcolor=\"#FFCCCC\" class=\"T11b\" valign=\"middle\" width=\"200\">\n",
      "        品項名稱\n",
      "       </th>] 1\n",
      "[<th align=\"left\" bgcolor=\"#FFCCCC\" class=\"T11b\" valign=\"middle\" width=\"200\">\n",
      "        是否以單價及預估需\n",
      "        <br>\n",
      "         求數量之乘積決定最\n",
      "         <br>\n",
      "          低標\n",
      "         </br>\n",
      "</br>\n",
      "</th>] 1\n",
      "[<th align=\"left\" bgcolor=\"#FFCCCC\" class=\"T11b\" valign=\"middle\" width=\"200\">\n",
      "        得標廠商1\n",
      "       </th>] 1\n",
      "[<th align=\"left\" bgcolor=\"#FFCCCC\" class=\"T11b\" valign=\"middle\" width=\"200\">\n",
      "        得標廠商\n",
      "       </th>] 1\n",
      "[<th align=\"left\" bgcolor=\"#FFCCCC\" class=\"T11b\" valign=\"middle\" width=\"200\">\n",
      "        預估需求數量\n",
      "       </th>] 1\n",
      "[<th align=\"left\" bgcolor=\"#FFCCCC\" class=\"T11b\" valign=\"middle\" width=\"200\">\n",
      "        決標金額\n",
      "       </th>] 1\n",
      "[<th align=\"left\" bgcolor=\"#FFCCCC\" class=\"T11b\" valign=\"middle\" width=\"200\">\n",
      "        底價金額\n",
      "       </th>] 1\n",
      "[<th align=\"left\" bgcolor=\"#FFCCCC\" class=\"T11b\" valign=\"middle\" width=\"200\">\n",
      "        原產地國別\n",
      "       </th>] 1\n",
      "[] 0\n",
      "[] 0\n",
      "[] 0\n",
      "[] 0\n",
      "[<th bgcolor=\"#ddc09e\" class=\"T11b\" width=\"200\">\n",
      "     決標公告序號\n",
      "    </th>] 1\n",
      "[<th bgcolor=\"#ddc09e\" class=\"T11b\" width=\"200\">\n",
      "     決標日期\n",
      "    </th>] 1\n",
      "[<th bgcolor=\"#ddc09e\" class=\"T11b\" width=\"200\">\n",
      "     決標公告日期\n",
      "    </th>] 1\n",
      "[<th bgcolor=\"#ddc09e\" class=\"T11b\" width=\"200\">\n",
      "     是否刊登公報\n",
      "    </th>] 1\n",
      "[<th bgcolor=\"#ddc09e\" class=\"T11b\" width=\"200\">\n",
      "     底價金額\n",
      "    </th>] 1\n",
      "[<th bgcolor=\"#ddc09e\" class=\"T11b\" width=\"200\">\n",
      "     底價金額是否公開\n",
      "    </th>] 1\n",
      "[<th bgcolor=\"#ddc09e\" class=\"T11b\" width=\"200\">\n",
      "     總決標金額\n",
      "    </th>] 1\n",
      "[<th bgcolor=\"#ddc09e\" class=\"T11b\" width=\"200\">\n",
      "     總決標金額是否公開\n",
      "    </th>] 1\n",
      "[<th bgcolor=\"#ddc09e\" class=\"T11b\" width=\"200\">\n",
      "     契約是否訂有依物價指數調整價金規定\n",
      "    </th>] 1\n",
      "[<th bgcolor=\"#ddc09e\" class=\"T11b\" width=\"200\">\n",
      "     未列物價調整規定說明\n",
      "    </th>] 1\n",
      "[<th bgcolor=\"#ddc09e\" class=\"T11b\" width=\"200\">\n",
      "     履約執行機關\n",
      "    </th>] 1\n",
      "[<th bgcolor=\"#ddc09e\" class=\"T11b\" width=\"200\">\n",
      "     附加說明\n",
      "    </th>] 1\n"
     ]
    }
   ],
   "source": [
    "from bs4 import BeautifulSoup \n",
    "f = open('gov/51603709_104040.txt', 'r') \n",
    "response_text = f.read() \n",
    "f.close() \n",
    "soup = BeautifulSoup(response_text) \n",
    "for row in soup.select('tr') : \n",
    "    print row.select('th'), len(row.select('th'))\n"
   ]
  },
  {
   "cell_type": "code",
   "execution_count": 29,
   "metadata": {
    "collapsed": false
   },
   "outputs": [
    {
     "name": "stdout",
     "output_type": "stream",
     "text": [
      "0\n",
      "3\n"
     ]
    }
   ],
   "source": [
    "a = []\n",
    "b = [1,2,3]\n",
    "print len(a)\n",
    "print len(b)"
   ]
  },
  {
   "cell_type": "code",
   "execution_count": 33,
   "metadata": {
    "collapsed": false
   },
   "outputs": [
    {
     "name": "stdout",
     "output_type": "stream",
     "text": [
      "\n",
      "     機關代碼\n",
      "    \n",
      "\n",
      "     機關名稱\n",
      "    \n",
      "\n",
      "     單位名稱\n",
      "    \n",
      "\n",
      "     機關地址\n",
      "    \n",
      "\n",
      "     聯絡人\n",
      "    \n",
      "\n",
      "     聯絡電話\n",
      "    \n",
      "\n",
      "     傳真號碼\n",
      "    \n",
      "\n",
      "     標案案號\n",
      "    \n",
      "\n",
      "     招標方式\n",
      "    \n",
      "\n",
      "     決標方式\n",
      "    \n",
      "\n",
      "     新增公告傳輸次數\n",
      "    \n",
      "\n",
      "     是否依據採購法第106條第1項第1款辦理\n",
      "    \n",
      "\n",
      "     標案名稱\n",
      "    \n",
      "\n",
      "     決標資料類別\n",
      "    \n",
      "\n",
      "     是否屬共同供應契約採購\n",
      "    \n",
      "\n",
      "     是否屬二以上機關之聯合採購(不適用共同供應契約規定)\n",
      "    \n",
      "\n",
      "     是否複數決標\n",
      "    \n",
      "\n",
      "     是否共同投標\n",
      "    \n",
      "\n",
      "     標的分類\n",
      "    \n",
      "\n",
      "     是否屬統包\n",
      "    \n",
      "\n",
      "     是否應依公共工程專業技師簽證規則實施技師簽證\n",
      "    \n",
      "\n",
      "     開標時間\n",
      "    \n",
      "\n",
      "     原公告日期\n",
      "    \n",
      "\n",
      "     採購金額級距\n",
      "    \n",
      "\n",
      "     辦理方式\n",
      "    \n",
      "\n",
      "     預算金額是否公開\n",
      "    \n",
      "\n",
      "     預算金額\n",
      "    \n",
      "\n",
      "     是否受機關補助\n",
      "    \n",
      "\n",
      "     履約地點\n",
      "    \n",
      "\n",
      "     履約地點（含地區）\n",
      "    \n",
      "\n",
      "     是否於招標文件載明優先決標予身心障礙福利機構團體或庇護工場\n",
      "    \n",
      "\n",
      "     是否含特別預算\n",
      "    \n",
      "\n",
      "     歸屬計畫類別\n",
      "    \n",
      "\n",
      "     本案採購契約是否採用主管機關訂定之範本\n",
      "    \n",
      "\n",
      "        投標廠商家數\n",
      "       \n",
      "\n",
      "        投標廠商家數\n",
      "       \n",
      "\n",
      "        投標廠商1\n",
      "       \n",
      "\n",
      "        廠商代碼\n",
      "       \n",
      "\n",
      "        廠商名稱\n",
      "       \n",
      "\n",
      "        是否得標\n",
      "       \n",
      "\n",
      "        組織型態\n",
      "       \n",
      "\n",
      "        廠商業別\n",
      "       \n",
      "\n",
      "        廠商地址\n",
      "       \n",
      "\n",
      "        廠商電話\n",
      "       \n",
      "\n",
      "        決標金額\n",
      "       \n",
      "\n",
      "        得標廠商國別\n",
      "       \n",
      "\n",
      "        是否為中小企業\n",
      "       \n",
      "\n",
      "        履約起迄日期\n",
      "       \n",
      "\n",
      "        雇用員工總人數是否\n",
      "        \n",
      "         超過100人\n",
      "        \n",
      "\n",
      "\n",
      "        決標品項數\n",
      "       \n",
      "\n",
      "        決標品項數\n",
      "       \n",
      "\n",
      "        第1品項\n",
      "       \n",
      "\n",
      "        品項名稱\n",
      "       \n",
      "\n",
      "        是否以單價及預估需\n",
      "        \n",
      "         求數量之乘積決定最\n",
      "         \n",
      "          低標\n",
      "         \n",
      "\n",
      "\n",
      "\n",
      "        得標廠商1\n",
      "       \n",
      "\n",
      "        得標廠商\n",
      "       \n",
      "\n",
      "        預估需求數量\n",
      "       \n",
      "\n",
      "        決標金額\n",
      "       \n",
      "\n",
      "        底價金額\n",
      "       \n",
      "\n",
      "        原產地國別\n",
      "       \n",
      "\n",
      "     決標公告序號\n",
      "    \n",
      "\n",
      "     決標日期\n",
      "    \n",
      "\n",
      "     決標公告日期\n",
      "    \n",
      "\n",
      "     是否刊登公報\n",
      "    \n",
      "\n",
      "     底價金額\n",
      "    \n",
      "\n",
      "     底價金額是否公開\n",
      "    \n",
      "\n",
      "     總決標金額\n",
      "    \n",
      "\n",
      "     總決標金額是否公開\n",
      "    \n",
      "\n",
      "     契約是否訂有依物價指數調整價金規定\n",
      "    \n",
      "\n",
      "     未列物價調整規定說明\n",
      "    \n",
      "\n",
      "     履約執行機關\n",
      "    \n",
      "\n",
      "     附加說明\n",
      "    \n"
     ]
    }
   ],
   "source": [
    "from bs4 import BeautifulSoup \n",
    "f = open('gov/51603709_104040.txt', 'r') \n",
    "response_text = f.read() \n",
    "f.close() \n",
    "soup = BeautifulSoup(response_text) \n",
    "for row in soup.select('tr') : \n",
    "    th =  row.select('th')\n",
    "    if len(th) >0:\n",
    "        #print row.select('th'), row.select('td')\n",
    "        print row.select('th')[0].text\n"
   ]
  },
  {
   "cell_type": "code",
   "execution_count": 39,
   "metadata": {
    "collapsed": false
   },
   "outputs": [
    {
     "name": "stdout",
     "output_type": "stream",
     "text": [
      " \t string test\n",
      "string test \t \n",
      "\n",
      "\r\n"
     ]
    }
   ],
   "source": [
    "s = \" \\t string test \\t \\n\\n\\r\"\n",
    "#print s\n",
    "#print s.strip()\n",
    "print s.rstrip()\n",
    "print s.lstrip()\n",
    "\n"
   ]
  },
  {
   "cell_type": "code",
   "execution_count": 46,
   "metadata": {
    "collapsed": false
   },
   "outputs": [
    {
     "name": "stdout",
     "output_type": "stream",
     "text": [
      "A.25.6\n",
      "國立歷史博物館\n"
     ]
    }
   ],
   "source": [
    "from bs4 import BeautifulSoup \n",
    "f = open('gov/51603709_104040.txt', 'r') \n",
    "response_text = f.read() \n",
    "f.close() \n",
    "soup = BeautifulSoup(response_text) \n",
    "for row in soup.select('tr') : \n",
    "    th =  row.select('th')\n",
    "    if len(th) >0 and row.select('th')[0].text.encode('utf-8').strip() == '機關代碼':\n",
    "            print row.select('td')[0].text.strip()\n",
    "    elif len(th) >0 and row.select('th')[0].text.encode('utf-8').strip() == '機關名稱':\n",
    "        print row.select('td')[0].text.strip()\n"
   ]
  },
  {
   "cell_type": "code",
   "execution_count": 48,
   "metadata": {
    "collapsed": false
   },
   "outputs": [
    {
     "name": "stdout",
     "output_type": "stream",
     "text": [
      "{'a': 100, 'c': 0.98, 'b': 'yes'}\n"
     ]
    }
   ],
   "source": [
    "dic = {'a':100, 'b':\"yes\", 'c':0.98} \n",
    "print dic"
   ]
  },
  {
   "cell_type": "code",
   "execution_count": 49,
   "metadata": {
    "collapsed": false
   },
   "outputs": [
    {
     "data": {
      "text/plain": [
       "100"
      ]
     },
     "execution_count": 49,
     "metadata": {},
     "output_type": "execute_result"
    }
   ],
   "source": [
    "dic['a']"
   ]
  },
  {
   "cell_type": "code",
   "execution_count": 50,
   "metadata": {
    "collapsed": false
   },
   "outputs": [
    {
     "data": {
      "text/plain": [
       "100"
      ]
     },
     "execution_count": 50,
     "metadata": {},
     "output_type": "execute_result"
    }
   ],
   "source": [
    "dic.get('a')"
   ]
  },
  {
   "cell_type": "code",
   "execution_count": 51,
   "metadata": {
    "collapsed": false
   },
   "outputs": [
    {
     "ename": "KeyError",
     "evalue": "'d'",
     "output_type": "error",
     "traceback": [
      "\u001b[1;31m---------------------------------------------------------------------------\u001b[0m",
      "\u001b[1;31mKeyError\u001b[0m                                  Traceback (most recent call last)",
      "\u001b[1;32m<ipython-input-51-dedc2af341b8>\u001b[0m in \u001b[0;36m<module>\u001b[1;34m()\u001b[0m\n\u001b[1;32m----> 1\u001b[1;33m \u001b[0mdic\u001b[0m\u001b[1;33m[\u001b[0m\u001b[1;34m'd'\u001b[0m\u001b[1;33m]\u001b[0m\u001b[1;33m\u001b[0m\u001b[0m\n\u001b[0m",
      "\u001b[1;31mKeyError\u001b[0m: 'd'"
     ]
    }
   ],
   "source": [
    "dic['d']"
   ]
  },
  {
   "cell_type": "code",
   "execution_count": 54,
   "metadata": {
    "collapsed": false
   },
   "outputs": [
    {
     "data": {
      "text/plain": [
       "'No'"
      ]
     },
     "execution_count": 54,
     "metadata": {},
     "output_type": "execute_result"
    }
   ],
   "source": [
    "dic.get('d', 'No')"
   ]
  },
  {
   "cell_type": "code",
   "execution_count": 58,
   "metadata": {
    "collapsed": false
   },
   "outputs": [
    {
     "name": "stdout",
     "output_type": "stream",
     "text": [
      "1\n",
      "2\n",
      "default\n"
     ]
    }
   ],
   "source": [
    "'''\n",
    "case n:\n",
    "    when 1:\n",
    "        then\n",
    "    when 2\n",
    "        then\n",
    "'''\n",
    "\n",
    "def func(x):\n",
    "    return {'a':1,\n",
    "        'b':2}.get(x, 'default')\n",
    "\n",
    "print func('a')\n",
    "print func('b')\n",
    "print func('c')"
   ]
  },
  {
   "cell_type": "code",
   "execution_count": 61,
   "metadata": {
    "collapsed": false
   },
   "outputs": [
    {
     "name": "stdout",
     "output_type": "stream",
     "text": [
      "{'a': 100, 'c': 0.98, 'b': 'yes'}\n",
      "False\n",
      "True\n"
     ]
    }
   ],
   "source": [
    "print dic\n",
    "print 'd' in dic\n",
    "print 'a' in dic"
   ]
  },
  {
   "cell_type": "code",
   "execution_count": 76,
   "metadata": {
    "collapsed": false
   },
   "outputs": [
    {
     "name": "stdout",
     "output_type": "stream",
     "text": [
      "機關代碼 A.25.6\n",
      "機關名稱 國立歷史博物館\n",
      "機關地址 100臺北市中正區南海路49號\n",
      "聯絡人 黃英哲\n",
      "標案案號 104040\n",
      "招標方式 公開取得報價單或企劃書\n",
      "決標方式 參考最有利標精神\n",
      "標的分類 <勞務類>    \r\n",
      "                            842\r\n",
      "                            軟體執行服務\n"
     ]
    }
   ],
   "source": [
    "dic = {\"機關代碼\":\"\", \"機關名稱\":\"\", \"機關地址\":\"\", \"聯絡人\":\"\",\\\n",
    "      \"標案案號\":\"\", \"招標方式\":\"\", \"決標方式\":\"\", \"標的分類\":\"\"}\n",
    "soup = BeautifulSoup(response_text) \n",
    "for row in soup.select('tr') : \n",
    "    th =  row.select('th')\n",
    "    if len(th) >0 :\n",
    "            th_value = row.select('th')[0].text.encode('utf-8').strip()\n",
    "            if th_value in dic:\n",
    "                td_value =  row.select('td')[0].text.strip()\n",
    "                print th_value, td_value\n",
    "                dic[th_value] =  td_value\n",
    "\n"
   ]
  },
  {
   "cell_type": "code",
   "execution_count": 77,
   "metadata": {
    "collapsed": false
   },
   "outputs": [
    {
     "name": "stdout",
     "output_type": "stream",
     "text": [
      "標的分類 <勞務類>    \r\n",
      "                            842\r\n",
      "                            軟體執行服務\n",
      "招標方式 公開取得報價單或企劃書\n",
      "決標方式 參考最有利標精神\n",
      "聯絡人 黃英哲\n",
      "標案案號 104040\n",
      "機關名稱 國立歷史博物館\n",
      "機關代碼 A.25.6\n",
      "機關地址 100臺北市中正區南海路49號\n"
     ]
    }
   ],
   "source": [
    "#print dic\n",
    "for ele in dic:\n",
    "    print ele, dic[ele]"
   ]
  },
  {
   "cell_type": "code",
   "execution_count": 75,
   "metadata": {
    "collapsed": false
   },
   "outputs": [
    {
     "name": "stdout",
     "output_type": "stream",
     "text": [
      "\t\t string \n",
      "\t\n",
      "'\\t\\t string \\n\\t'\n"
     ]
    }
   ],
   "source": [
    "a = '\\t\\t string \\n\\t' \n",
    "print a \n",
    "print repr(a)"
   ]
  },
  {
   "cell_type": "code",
   "execution_count": 79,
   "metadata": {
    "collapsed": false
   },
   "outputs": [
    {
     "name": "stdout",
     "output_type": "stream",
     "text": [
      "<勞務類>    \r\n",
      "                            842\r\n",
      "                            軟體執行服務\n",
      "u'<\\u52de\\u52d9\\u985e>    \\r\\n                            842\\r\\n                            \\u8edf\\u9ad4\\u57f7\\u884c\\u670d\\u52d9'\n"
     ]
    }
   ],
   "source": [
    "#print dic\n",
    "print dic[\"標的分類\"]\n",
    "print repr(dic[\"標的分類\"])"
   ]
  },
  {
   "cell_type": "code",
   "execution_count": 80,
   "metadata": {
    "collapsed": false
   },
   "outputs": [
    {
     "name": "stdout",
     "output_type": "stream",
     "text": [
      "['123', '555', '111', '99']\n",
      "['123', '555,111,99']\n"
     ]
    }
   ],
   "source": [
    "a = '123,555,111,99' \n",
    "print a.split(',') \n",
    "print a.split(',',1) \n"
   ]
  },
  {
   "cell_type": "code",
   "execution_count": 82,
   "metadata": {
    "collapsed": false
   },
   "outputs": [
    {
     "name": "stdout",
     "output_type": "stream",
     "text": [
      "887ee607b9fe76daa836f3c2f73e5233.jpg\n"
     ]
    }
   ],
   "source": [
    "link = 'http://files.ckcdn.com/attachments/block/88/887ee607b9fe76daa836f3c2f73e5233.jpg'\n",
    "link.split('/')\n",
    "fname =  link.split('/')[-1]\n",
    "print fname"
   ]
  },
  {
   "cell_type": "code",
   "execution_count": 91,
   "metadata": {
    "collapsed": false
   },
   "outputs": [
    {
     "name": "stdout",
     "output_type": "stream",
     "text": [
      "['adfadf', 'dsfdf', 'fadfadfadf']\n",
      "adfadfdsfdffadfadfadf\n"
     ]
    },
    {
     "data": {
      "text/plain": [
       "'adfadfdsfdffadfadfadf'"
      ]
     },
     "execution_count": 91,
     "metadata": {},
     "output_type": "execute_result"
    }
   ],
   "source": [
    "a = 'adfadf                   dsfdf                      \\t       \\n   \\tfadfadfadf'\n",
    "print a.split()\n",
    "lines = \"\"\n",
    "for ele in a.split():\n",
    "    lines += ele\n",
    "print lines\n",
    "\n",
    "\n",
    "''.join(a.split())"
   ]
  },
  {
   "cell_type": "code",
   "execution_count": 90,
   "metadata": {
    "collapsed": false
   },
   "outputs": [
    {
     "name": "stdout",
     "output_type": "stream",
     "text": [
      "123|555|111|99\n"
     ]
    }
   ],
   "source": [
    "a = '123,555,111,99' \n",
    "ary = a.split(',') \n",
    "#print ary\n",
    "print '|'.join(ary)\n"
   ]
  },
  {
   "cell_type": "code",
   "execution_count": 97,
   "metadata": {
    "collapsed": false
   },
   "outputs": [
    {
     "name": "stdout",
     "output_type": "stream",
     "text": [
      "<勞務類>    \r\n",
      "                            842\r\n",
      "                            軟體執行服務\n",
      "[u'<\\u52de\\u52d9\\u985e>', u'842', u'\\u8edf\\u9ad4\\u57f7\\u884c\\u670d\\u52d9']\n",
      "<勞務類>842軟體執行服務\n",
      "<勞務類> 842 軟體執行服務\n"
     ]
    }
   ],
   "source": [
    "print dic[\"標的分類\"]\n",
    "print dic[\"標的分類\"].split()\n",
    "print ''.join(dic[\"標的分類\"].split())\n",
    "print ' '.join(dic[\"標的分類\"].split())"
   ]
  },
  {
   "cell_type": "code",
   "execution_count": 106,
   "metadata": {
    "collapsed": false
   },
   "outputs": [
    {
     "name": "stdout",
     "output_type": "stream",
     "text": [
      "2015-08-30 12:13:48.074000\n",
      "2015-08-30\n",
      "2015-05-03 14:00:00\n",
      "2015-05-02 14:00:00\n",
      "2015-05-02\n"
     ]
    }
   ],
   "source": [
    "from datetime import date,datetime, timedelta \n",
    "currenttime = datetime.now() \n",
    "print currenttime\n",
    "print currenttime.strftime(\"%Y-%m-%d\") \n",
    "\n",
    "\n",
    "a = '2015-05-03 14:00' \n",
    "print datetime.strptime(a, \"%Y-%m-%d %H:%M\")\n",
    "print datetime.strptime(a, \"%Y-%m-%d %H:%M\") - timedelta(days = 1)\n",
    "print (datetime.strptime(a, \"%Y-%m-%d %H:%M\") - timedelta(days = 1)).\\\n",
    "    strftime('%Y-%m-%d')\n"
   ]
  },
  {
   "cell_type": "code",
   "execution_count": 117,
   "metadata": {
    "collapsed": false
   },
   "outputs": [
    {
     "name": "stdout",
     "output_type": "stream",
     "text": [
      "<Response [200]>\n",
      "<Response [200]>\n",
      "<Response [200]>\n",
      "<Response [200]>\n",
      "<Response [200]>\n",
      "<Response [200]>\n",
      "<Response [200]>\n",
      "<Response [200]>\n",
      "<Response [200]>\n",
      "<Response [200]>\n",
      "<Response [200]>\n"
     ]
    }
   ],
   "source": [
    "import requests\n",
    "from datetime import date,datetime, timedelta \n",
    "payload = {\n",
    "    'qdate':'2015/08/27',\n",
    "    'sorting':'by_issue'\n",
    "}\n",
    "for i in range(1,12): \n",
    "    payload['qdate'] = (datetime.now() - timedelta(days = i)).strftime('%Y/%m/%d')\n",
    "    res = requests.post('http://www.twse.com.tw/en/trading/fund/TWT38U/TWT38U.php', data = payload)\n",
    "    print res"
   ]
  },
  {
   "cell_type": "code",
   "execution_count": 118,
   "metadata": {
    "collapsed": false
   },
   "outputs": [
    {
     "name": "stdout",
     "output_type": "stream",
     "text": [
      "['104', '06/03 10:00']\n"
     ]
    }
   ],
   "source": [
    "response_date = '104/06/03 10:00' \n",
    "getyear = response_date.split('/', 1) \n",
    "print getyear"
   ]
  },
  {
   "cell_type": "code",
   "execution_count": 126,
   "metadata": {
    "collapsed": false
   },
   "outputs": [
    {
     "name": "stdout",
     "output_type": "stream",
     "text": [
      "104\n",
      "<type 'str'>\n",
      "<type 'int'>\n",
      "2015 06/03 10:00\n",
      "2015/06/03 10:00\n",
      "2015/06/03 10:00\n"
     ]
    }
   ],
   "source": [
    "print getyear[0]\n",
    "print type(getyear[0])\n",
    "y =  int(getyear[0]) + 1911\n",
    "print type(y)\n",
    "print str(y), getyear[1]\n",
    "print '/'.join([str(y), getyear[1]])\n",
    "print str(y) +'/'+ getyear[1]"
   ]
  },
  {
   "cell_type": "code",
   "execution_count": 128,
   "metadata": {
    "collapsed": false
   },
   "outputs": [
    {
     "name": "stdout",
     "output_type": "stream",
     "text": [
      "2015/06/03 10:00\n",
      "2015-06-03 10:00:00\n"
     ]
    }
   ],
   "source": [
    "response_date = '104/06/03 10:00' \n",
    "getyear = response_date.split('/', 1) \n",
    "bctime= str(int(getyear[0]) + 1911) + \"/\" + getyear[1]\n",
    "print bctime\n",
    "print datetime.strptime(bctime, \"%Y/%m/%d %H:%M\")\n",
    "\n"
   ]
  },
  {
   "cell_type": "code",
   "execution_count": null,
   "metadata": {
    "collapsed": true
   },
   "outputs": [],
   "source": []
  }
 ],
 "metadata": {
  "kernelspec": {
   "display_name": "Python 2",
   "language": "python",
   "name": "python2"
  },
  "language_info": {
   "codemirror_mode": {
    "name": "ipython",
    "version": 2
   },
   "file_extension": ".py",
   "mimetype": "text/x-python",
   "name": "python",
   "nbconvert_exporter": "python",
   "pygments_lexer": "ipython2",
   "version": "2.7.10"
  }
 },
 "nbformat": 4,
 "nbformat_minor": 0
}
