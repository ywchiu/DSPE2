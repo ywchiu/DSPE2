{
 "cells": [
  {
   "cell_type": "markdown",
   "metadata": {},
   "source": [
    "# Python ETL Data Crawling"
   ]
  },
  {
   "cell_type": "markdown",
   "metadata": {},
   "source": [
    "## 使用requests.get"
   ]
  },
  {
   "cell_type": "code",
   "execution_count": 1,
   "metadata": {
    "collapsed": false
   },
   "outputs": [
    {
     "name": "stdout",
     "output_type": "stream",
     "text": [
      "200\n",
      "text/html; charset=utf-8\n"
     ]
    },
    {
     "name": "stderr",
     "output_type": "stream",
     "text": [
      "C:\\Python27\\lib\\site-packages\\requests\\packages\\urllib3\\util\\ssl_.py:90: InsecurePlatformWarning: A true SSLContext object is not available. This prevents urllib3 from configuring SSL appropriately and may cause certain SSL connections to fail. For more information, see https://urllib3.readthedocs.org/en/latest/security.html#insecureplatformwarning.\n",
      "  InsecurePlatformWarning\n"
     ]
    }
   ],
   "source": [
    "import requests\n",
    "res = requests.get('https://www.python.org/')\n",
    "#print res.text\n",
    "print res.status_code \n",
    "print res.headers['content-type']\n"
   ]
  },
  {
   "cell_type": "markdown",
   "metadata": {},
   "source": [
    "## 使用requests.post"
   ]
  },
  {
   "cell_type": "code",
   "execution_count": 3,
   "metadata": {
    "collapsed": false
   },
   "outputs": [],
   "source": [
    "import requests\n",
    "payload = {\n",
    "'StartStation':'977abb69-413a-4ccf-a109-0272c24fd490',\n",
    "'EndStation':'60831846-f0e4-47f6-9b5b-46323ebdcef7',\n",
    "'SearchDate':'2015/08/29',\n",
    "'SearchTime':'10:30',\n",
    "'SearchWay':'DepartureInMandarin'\n",
    "}\n",
    "res = requests.post('http://www.thsrc.com.tw/tw/TimeTable/SearchResult', data=payload)\n",
    "#print res.text\n"
   ]
  },
  {
   "cell_type": "markdown",
   "metadata": {},
   "source": [
    "## 台鐵時課表查詢"
   ]
  },
  {
   "cell_type": "code",
   "execution_count": 10,
   "metadata": {
    "collapsed": false
   },
   "outputs": [],
   "source": [
    "import requests\n",
    "res = requests.get('http://twtraffic.tra.gov.tw/twrail/SearchResult.aspx?searchtype=0&searchdate=2015/08/29&fromstation=1810&tostation=1008&trainclass=%271100%27,%271101%27,%271102%27,%271107%27,%271108%27,%271110%27,%271120%27&fromtime=0600&totime=2359')\n",
    "#print res.text\n"
   ]
  },
  {
   "cell_type": "markdown",
   "metadata": {},
   "source": [
    "## 將網頁讀進BeautifulSoup 中"
   ]
  },
  {
   "cell_type": "code",
   "execution_count": 4,
   "metadata": {
    "collapsed": false
   },
   "outputs": [
    {
     "name": "stdout",
     "output_type": "stream",
     "text": [
      "   Hello World This is link1 This is link2  \n"
     ]
    }
   ],
   "source": [
    "from bs4 import BeautifulSoup \n",
    "html_sample = ' \\\n",
    "<html> \\\n",
    " <body> \\\n",
    " <h1 id=\"title\">Hello World</h1> \\\n",
    " <a href=\"#\" class=\"link\">This is link1</a> \\\n",
    " <a href=\"# link2\" class=\"link\">This is link2</a> \\\n",
    " </body> \\\n",
    " </html>'\n",
    "\n",
    "soup = BeautifulSoup(html_sample)\n",
    "print soup.text\n"
   ]
  },
  {
   "cell_type": "markdown",
   "metadata": {},
   "source": [
    "## 使用select 找出含有a tag 的元素"
   ]
  },
  {
   "cell_type": "code",
   "execution_count": 14,
   "metadata": {
    "collapsed": false
   },
   "outputs": [
    {
     "name": "stdout",
     "output_type": "stream",
     "text": [
      "[<a class=\"link\" href=\"#\">This is link1</a>, <a class=\"link\" href=\"# link2\">This is link2</a>]\n"
     ]
    }
   ],
   "source": [
    "soup = BeautifulSoup(html_sample) \n",
    "alink = soup.select('a') \n",
    "print alink"
   ]
  },
  {
   "cell_type": "markdown",
   "metadata": {},
   "source": [
    "## 取得所有a tag 內的連結"
   ]
  },
  {
   "cell_type": "code",
   "execution_count": 15,
   "metadata": {
    "collapsed": false
   },
   "outputs": [
    {
     "name": "stdout",
     "output_type": "stream",
     "text": [
      "#\n",
      "# link2\n"
     ]
    }
   ],
   "source": [
    "alinks = soup.select('a') \n",
    "for link in alinks: \n",
    "    print link['href']"
   ]
  },
  {
   "cell_type": "markdown",
   "metadata": {},
   "source": [
    "## 使用select 找出id為title的元素"
   ]
  },
  {
   "cell_type": "code",
   "execution_count": 13,
   "metadata": {
    "collapsed": false
   },
   "outputs": [
    {
     "name": "stdout",
     "output_type": "stream",
     "text": [
      "[<h1 id=\"title\">Hello World</h1>]\n"
     ]
    }
   ],
   "source": [
    "alink = soup.select('#title') \n",
    "print alink"
   ]
  },
  {
   "cell_type": "markdown",
   "metadata": {},
   "source": [
    "## 使用select 找出所有class為link的元素"
   ]
  },
  {
   "cell_type": "code",
   "execution_count": 7,
   "metadata": {
    "collapsed": false
   },
   "outputs": [
    {
     "name": "stdout",
     "output_type": "stream",
     "text": [
      "<a class=\"link\" href=\"#\">This is link1</a>\n",
      "<a class=\"link\" href=\"# link2\">This is link2</a>\n"
     ]
    }
   ],
   "source": [
    "soup = BeautifulSoup(html_sample) \n",
    "for link in soup.findAll('a', {'class': 'link'}): \n",
    "    print link"
   ]
  },
  {
   "cell_type": "markdown",
   "metadata": {},
   "source": [
    "## 設定POST 的Form Data"
   ]
  },
  {
   "cell_type": "code",
   "execution_count": 17,
   "metadata": {
    "collapsed": false
   },
   "outputs": [],
   "source": [
    "# -*- coding: utf-8 -*- \n",
    "import requests\n",
    "\n",
    "payload = { 'method':'search', 'searchMethod':'true', 'searchTarget':'ATM',\n",
    " 'orgName':'', 'orgId':'', 'hid_1':'1',\n",
    " 'tenderName':'', 'tenderId':'', 'tenderStatus':'4,5,21,29',\n",
    " 'tenderWay':'', 'awardAnnounceStartDate':'104/07/24',\n",
    " 'awardAnnounceEndDate':'104/07/24', 'radProctrgCate':'3', \n",
    " 'proctrgCate':'3', 'tenderRange':'', 'minBudget':'',\n",
    " 'maxBudget':'', 'item':'','hid_2':'1',\n",
    " 'gottenVendorName':'', 'gottenVendorId':'', 'hid_3':'1',\n",
    " 'submitVendorName':'', 'submitVendorId':'', 'location':'',\n",
    " 'priorityCate':'', 'isReConstruct':'', 'btnQuery':'查詢' }\n"
   ]
  },
  {
   "cell_type": "markdown",
   "metadata": {},
   "source": [
    "## 送出Post 取得資料"
   ]
  },
  {
   "cell_type": "code",
   "execution_count": 18,
   "metadata": {
    "collapsed": false
   },
   "outputs": [],
   "source": [
    "user_post = requests.post(\"http://web.pcc.gov.tw/tps/pss/tender.do?searchMode=common&searchType=advance\", data=payload) \n",
    "response_text = user_post.text.encode('utf8') \n",
    "#print response_text"
   ]
  },
  {
   "cell_type": "markdown",
   "metadata": {},
   "source": [
    "## 如何延續Session"
   ]
  },
  {
   "cell_type": "code",
   "execution_count": 19,
   "metadata": {
    "collapsed": false
   },
   "outputs": [],
   "source": [
    "# -*- coding: utf-8 -*- \n",
    "import requests\n",
    "\n",
    "payload = { 'method':'search', 'searchMethod':'true', 'searchTarget':'ATM',\n",
    " 'orgName':'', 'orgId':'', 'hid_1':'1',\n",
    " 'tenderName':'', 'tenderId':'', 'tenderStatus':'4,5,21,29',\n",
    " 'tenderWay':'', 'awardAnnounceStartDate':'104/07/24',\n",
    " 'awardAnnounceEndDate':'104/07/24', 'radProctrgCate':'3', \n",
    " 'proctrgCate':'3', 'tenderRange':'', 'minBudget':'',\n",
    " 'maxBudget':'', 'item':'','hid_2':'1',\n",
    " 'gottenVendorName':'', 'gottenVendorId':'', 'hid_3':'1',\n",
    " 'submitVendorName':'', 'submitVendorId':'', 'location':'',\n",
    " 'priorityCate':'', 'isReConstruct':'', 'btnQuery':'查詢' }"
   ]
  },
  {
   "cell_type": "code",
   "execution_count": 20,
   "metadata": {
    "collapsed": false
   },
   "outputs": [],
   "source": [
    "rs = requests.session() \n",
    "rs_post = rs.post(\"http://web.pcc.gov.tw/tps/pss/tender.do?searchMode=common&searchType=advance\", data=payload) \n",
    "rs_get = rs.get(\"http://web.pcc.gov.tw/tps/pss/tender.do?searchMode=common&searchType=advance&searchTarget=ATM&method=search&isSpdt=&pageIndex=2\") \n",
    "response = rs_get.text.encode('utf8')"
   ]
  },
  {
   "cell_type": "markdown",
   "metadata": {},
   "source": [
    "## 取得資料筆數"
   ]
  },
  {
   "cell_type": "code",
   "execution_count": 21,
   "metadata": {
    "collapsed": false
   },
   "outputs": [
    {
     "name": "stdout",
     "output_type": "stream",
     "text": [
      "214\n"
     ]
    }
   ],
   "source": [
    "from bs4 import BeautifulSoup\n",
    "\n",
    "user_post = requests.post(\"http://web.pcc.gov.tw/tps/pss/tender.do?searchMode=common&searchType=advance\", data=payload) \n",
    "response_text = user_post.text.encode('utf8') \n",
    "soup = BeautifulSoup(response_text) \n",
    "rec_number_element = soup.select('.T11b')[0]\n",
    "rec_number = int(rec_number_element.text) \n",
    "print rec_number"
   ]
  },
  {
   "cell_type": "markdown",
   "metadata": {},
   "source": [
    "## 將資料筆數轉換成頁數"
   ]
  },
  {
   "cell_type": "code",
   "execution_count": 22,
   "metadata": {
    "collapsed": false
   },
   "outputs": [
    {
     "name": "stdout",
     "output_type": "stream",
     "text": [
      "3\n"
     ]
    }
   ],
   "source": [
    "from math import ceil \n",
    "page_number = int(ceil(float(rec_number) / 100)) \n",
    "print page_number\n"
   ]
  },
  {
   "cell_type": "markdown",
   "metadata": {},
   "source": [
    "## 字串格式化 - 使用format"
   ]
  },
  {
   "cell_type": "code",
   "execution_count": 23,
   "metadata": {
    "collapsed": false
   },
   "outputs": [
    {
     "name": "stdout",
     "output_type": "stream",
     "text": [
      "http://web.pcc.gov.tw/tps/pss/tender.do?searchMode=common&searchType=advance&searchTarget=ATM&method=search&isSpdt=&pageIndex=1\n",
      "http://web.pcc.gov.tw/tps/pss/tender.do?searchMode=common&searchType=advance&searchTarget=ATM&method=search&isSpdt=&pageIndex=2\n",
      "http://web.pcc.gov.tw/tps/pss/tender.do?searchMode=common&searchType=advance&searchTarget=ATM&method=search&isSpdt=&pageIndex=3\n"
     ]
    }
   ],
   "source": [
    "page_format = \"http://web.pcc.gov.tw/tps/pss/tender.do?searchMode=common&searchType=advance&searchTarget=ATM&method=search&isSpdt=&pageIndex={0}\" \n",
    "for page in range(1, page_number + 1): \n",
    "    print page_format.format(page)"
   ]
  },
  {
   "cell_type": "markdown",
   "metadata": {},
   "source": [
    "## 使用%"
   ]
  },
  {
   "cell_type": "code",
   "execution_count": 24,
   "metadata": {
    "collapsed": false
   },
   "outputs": [
    {
     "name": "stdout",
     "output_type": "stream",
     "text": [
      "http://web.pcc.gov.tw/tps/pss/tender.do?searchMode=common&searchType=advance&searchTarget=ATM&method=search&isSpdt=&pageIndex=1\n",
      "http://web.pcc.gov.tw/tps/pss/tender.do?searchMode=common&searchType=advance&searchTarget=ATM&method=search&isSpdt=&pageIndex=2\n",
      "http://web.pcc.gov.tw/tps/pss/tender.do?searchMode=common&searchType=advance&searchTarget=ATM&method=search&isSpdt=&pageIndex=3\n"
     ]
    }
   ],
   "source": [
    "page_format = \"http://web.pcc.gov.tw/tps/pss/tender.do?searchMode=common&searchType=advance&searchTarget=ATM&method=search&isSpdt=&pageIndex=%d\" \n",
    "for page in range(1, page_number + 1): \n",
    "    print page_format%(page)"
   ]
  },
  {
   "cell_type": "markdown",
   "metadata": {},
   "source": [
    "## 取得每頁標案清單的內容"
   ]
  },
  {
   "cell_type": "code",
   "execution_count": 25,
   "metadata": {
    "collapsed": false
   },
   "outputs": [],
   "source": [
    "page_format = \"http://web.pcc.gov.tw/tps/pss/tender.do?searchMode=common&searchType=advance&searchTarget=ATM&method=search&isSpdt=&pageIndex=%d\" \n",
    "for page in range(1, page_number + 1): \n",
    "    bid_list = rs.get(page_format%(page)) \n",
    "    bid_response = bid_list.text.encode('utf8')\n",
    "    #print bid_response"
   ]
  },
  {
   "cell_type": "markdown",
   "metadata": {},
   "source": [
    "## 先拿一頁做試驗"
   ]
  },
  {
   "cell_type": "code",
   "execution_count": 26,
   "metadata": {
    "collapsed": false
   },
   "outputs": [],
   "source": [
    "page_format = \"http://web.pcc.gov.tw/tps/pss/tender.do?searchMode=common&searchType=advance&searchTarget=ATM&method=search&isSpdt=&pageIndex=%d\" \n",
    "page = 1 \n",
    "bid_list = rs.get(page_format%(page)) \n",
    "bid_response = bid_list.text.encode('utf8') \n",
    "bid_soup = BeautifulSoup(bid_response) \n",
    "#print bid_response\n",
    "bid_table = bid_soup.select('#print_area')[0]\n",
    "#print bid_table"
   ]
  },
  {
   "cell_type": "markdown",
   "metadata": {},
   "source": [
    "## 去掉標頭"
   ]
  },
  {
   "cell_type": "code",
   "execution_count": 27,
   "metadata": {
    "collapsed": false
   },
   "outputs": [],
   "source": [
    "bid_rows = bid_table.select('tr')[1:] \n",
    "#print bid_rows"
   ]
  },
  {
   "cell_type": "markdown",
   "metadata": {},
   "source": [
    "## 去掉標頭跟頁次"
   ]
  },
  {
   "cell_type": "code",
   "execution_count": 28,
   "metadata": {
    "collapsed": false
   },
   "outputs": [],
   "source": [
    "bid_rows = bid_table.select('tr')[1:-1] \n",
    "#print bid_rows"
   ]
  },
  {
   "cell_type": "markdown",
   "metadata": {},
   "source": [
    "## 索引範例"
   ]
  },
  {
   "cell_type": "code",
   "execution_count": 29,
   "metadata": {
    "collapsed": false
   },
   "outputs": [
    {
     "name": "stdout",
     "output_type": "stream",
     "text": [
      "[2, 3, 4, 5]\n"
     ]
    }
   ],
   "source": [
    "ary = [1,2,3,4,5,6] \n",
    "print ary[1:-1] \n",
    "#[2,3,4,5]"
   ]
  },
  {
   "cell_type": "markdown",
   "metadata": {},
   "source": [
    "## 抓出每一列所有的連結"
   ]
  },
  {
   "cell_type": "code",
   "execution_count": 31,
   "metadata": {
    "collapsed": false
   },
   "outputs": [
    {
     "name": "stdout",
     "output_type": "stream",
     "text": [
      "[<a href=\"../main/pms/tps/atm/atmAwardAction.do?newEdit=false&amp;searchMode=common&amp;method=inquiryForPublic&amp;pkAtmMain=51603142&amp;tenderCaseNo=104037\">\n",
      "<u>新竹郵局各單位暨所轄支局104年度40歲以上員工一般健康檢查</u>\n",
      "</a>, <a href=\"../main/pms/tps/atm/atmAwardAction.do?newEdit=false&amp;searchMode=common&amp;method=inquiryForPublic&amp;pkAtmMain=51603142&amp;tenderCaseNo=104037\">\n",
      "<u>001</u>\n",
      "</a>]\n",
      "[<a href=\"../main/pms/tps/atm/atmAwardAction.do?newEdit=false&amp;searchMode=common&amp;method=inquiryForPublic&amp;pkAtmMain=51603189&amp;tenderCaseNo=1040202\">\n",
      "<u>104年第二次電腦軟體共同供應契約採購－雲端服務</u>\n",
      "</a>, <a href=\"../main/pms/tps/atm/atmAwardAction.do?newEdit=false&amp;searchMode=common&amp;method=inquiryForPublic&amp;pkAtmMain=51603189&amp;tenderCaseNo=1040202\">\n",
      "<u>001</u>\n",
      "</a>]\n",
      "[<a href=\"../main/pms/tps/atm/atmAwardAction.do?newEdit=false&amp;searchMode=common&amp;method=inquiryForPublic&amp;pkAtmMain=51602392&amp;tenderCaseNo=GUA20150522-1\">\n",
      "<u>訪賓機票採購</u>\n",
      "</a>, <a href=\"../main/pms/tps/atm/atmAwardAction.do?newEdit=false&amp;searchMode=common&amp;method=inquiryForPublic&amp;pkAtmMain=51602392&amp;tenderCaseNo=GUA20150522-1\">\n",
      "<u>001</u>\n",
      "</a>]\n",
      "[<a href=\"../main/pms/tps/atm/atmAwardAction.do?newEdit=false&amp;searchMode=common&amp;method=inquiryForPublic&amp;pkAtmMain=51603176&amp;tenderCaseNo=104W038\">\n",
      "<u>「三峽區道路瓶頸打通工程」、「全區基礎工程建設經費」委託設計監造技術服務</u>\n",
      "</a>, <a href=\"../main/pms/tps/atm/atmAwardAction.do?newEdit=false&amp;searchMode=common&amp;method=inquiryForPublic&amp;pkAtmMain=51603176&amp;tenderCaseNo=104W038\">\n",
      "<u>001</u>\n",
      "</a>]\n",
      "[<a href=\"../main/pms/tps/atm/atmAwardAction.do?newEdit=false&amp;searchMode=common&amp;method=inquiryForPublic&amp;pkAtmMain=51603207&amp;tenderCaseNo=1040071869\">\n",
      "<u>台25線大寮橋配合流域綜合治理計畫橋梁改建工程委託測量、設計及地質探查工作 </u>\n",
      "</a>, <a href=\"../main/pms/tps/atm/atmAwardAction.do?newEdit=false&amp;searchMode=common&amp;method=inquiryForPublic&amp;pkAtmMain=51603207&amp;tenderCaseNo=1040071869\">\n",
      "<u>001</u>\n",
      "</a>]\n",
      "[<a href=\"../main/pms/tps/atm/atmAwardAction.do?newEdit=false&amp;searchMode=common&amp;method=inquiryForPublic&amp;pkAtmMain=51603035&amp;tenderCaseNo=YG10403\">\n",
      "<u>群組學校104學年度中央廚房勞務委外採購案</u>\n",
      "</a>, <a href=\"../main/pms/tps/atm/atmAwardAction.do?newEdit=false&amp;searchMode=common&amp;method=inquiryForPublic&amp;pkAtmMain=51603035&amp;tenderCaseNo=YG10403\">\n",
      "<u>001</u>\n",
      "</a>]\n",
      "[<a href=\"../main/pms/tps/atm/atmAwardAction.do?newEdit=false&amp;searchMode=common&amp;method=inquiryForPublic&amp;pkAtmMain=51604288&amp;tenderCaseNo=104812124A\">\n",
      "<u>104年度國家重要節慶新北市政府國旗插掛採購案</u>\n",
      "</a>, <a href=\"../main/pms/tps/atm/atmAwardAction.do?newEdit=false&amp;searchMode=common&amp;method=inquiryForPublic&amp;pkAtmMain=51604288&amp;tenderCaseNo=104812124A\">\n",
      "<u>001</u>\n",
      "</a>]\n",
      "[<a href=\"../main/pms/tps/atm/atmAwardAction.do?newEdit=false&amp;searchMode=common&amp;method=inquiryForPublic&amp;pkAtmMain=51604257&amp;tenderCaseNo=104220130202\">\n",
      "<u>104年度資訊安全管理系統（ISMS）驗證及維護</u>\n",
      "</a>, <a href=\"../main/pms/tps/atm/atmAwardAction.do?newEdit=false&amp;searchMode=common&amp;method=inquiryForPublic&amp;pkAtmMain=51604257&amp;tenderCaseNo=104220130202\">\n",
      "<u>001</u>\n",
      "</a>]\n",
      "[<a href=\"../main/pms/tps/atm/atmAwardAction.do?newEdit=false&amp;searchMode=common&amp;method=inquiryForPublic&amp;pkAtmMain=51604227&amp;tenderCaseNo=RAD104211\">\n",
      "<u>104年度數位課程製作服務專案第2次後續擴充案</u>\n",
      "</a>, <a href=\"../main/pms/tps/atm/atmAwardAction.do?newEdit=false&amp;searchMode=common&amp;method=inquiryForPublic&amp;pkAtmMain=51604227&amp;tenderCaseNo=RAD104211\">\n",
      "<u>001</u>\n",
      "</a>]\n",
      "[<a href=\"../main/pms/tps/atm/atmAwardAction.do?newEdit=false&amp;searchMode=common&amp;method=inquiryForPublic&amp;pkAtmMain=51604181&amp;tenderCaseNo=1040716-1\">\n",
      "<u>溪州鄉立幼兒園104學年度主題教學幼童音樂課程師資</u>\n",
      "</a>, <a href=\"../main/pms/tps/atm/atmAwardAction.do?newEdit=false&amp;searchMode=common&amp;method=inquiryForPublic&amp;pkAtmMain=51604181&amp;tenderCaseNo=1040716-1\">\n",
      "<u>001</u>\n",
      "</a>]\n",
      "[<a href=\"../main/pms/tps/atm/atmAwardAction.do?newEdit=false&amp;searchMode=common&amp;method=inquiryForPublic&amp;pkAtmMain=51604170&amp;tenderCaseNo=1040716-2\">\n",
      "<u>溪州鄉立幼兒園104學年度主題教學幼童體能課程師資</u>\n",
      "</a>, <a href=\"../main/pms/tps/atm/atmAwardAction.do?newEdit=false&amp;searchMode=common&amp;method=inquiryForPublic&amp;pkAtmMain=51604170&amp;tenderCaseNo=1040716-2\">\n",
      "<u>001</u>\n",
      "</a>]\n",
      "[<a href=\"../main/pms/tps/atm/atmAwardAction.do?newEdit=false&amp;searchMode=common&amp;method=inquiryForPublic&amp;pkAtmMain=51604146&amp;tenderCaseNo=c1040724\">\n",
      "<u>104學年度第一學期斗南高中高中部三年級公民教育訓練活動</u>\n",
      "</a>, <a href=\"../main/pms/tps/atm/atmAwardAction.do?newEdit=false&amp;searchMode=common&amp;method=inquiryForPublic&amp;pkAtmMain=51604146&amp;tenderCaseNo=c1040724\">\n",
      "<u>001</u>\n",
      "</a>]\n",
      "[<a href=\"../main/pms/tps/atm/atmAwardAction.do?newEdit=false&amp;searchMode=common&amp;method=inquiryForPublic&amp;pkAtmMain=51604137&amp;tenderCaseNo=1040702\">\n",
      "<u>宜蘭設治紀念館木地板及周邊設施修繕計畫</u>\n",
      "</a>, <a href=\"../main/pms/tps/atm/atmAwardAction.do?newEdit=false&amp;searchMode=common&amp;method=inquiryForPublic&amp;pkAtmMain=51604137&amp;tenderCaseNo=1040702\">\n",
      "<u>001</u>\n",
      "</a>]\n",
      "[<a href=\"../main/pms/tps/atm/atmAwardAction.do?newEdit=false&amp;searchMode=common&amp;method=inquiryForPublic&amp;pkAtmMain=51604138&amp;tenderCaseNo=1021031\">\n",
      "<u>Capital IQ People Intelligence</u>\n",
      "</a>, <a href=\"../main/pms/tps/atm/atmAwardAction.do?newEdit=false&amp;searchMode=common&amp;method=inquiryForPublic&amp;pkAtmMain=51604138&amp;tenderCaseNo=1021031\">\n",
      "<u>001</u>\n",
      "</a>]\n",
      "[<a href=\"../main/pms/tps/atm/atmAwardAction.do?newEdit=false&amp;searchMode=common&amp;method=inquiryForPublic&amp;pkAtmMain=51604121&amp;tenderCaseNo=HFS-104001\">\n",
      "<u>上海社科院勞務支援一式     </u>\n",
      "</a>, <a href=\"../main/pms/tps/atm/atmAwardAction.do?newEdit=false&amp;searchMode=common&amp;method=inquiryForPublic&amp;pkAtmMain=51604121&amp;tenderCaseNo=HFS-104001\">\n",
      "<u>001</u>\n",
      "</a>]\n",
      "[<a href=\"../main/pms/tps/atm/atmAwardAction.do?newEdit=false&amp;searchMode=common&amp;method=inquiryForPublic&amp;pkAtmMain=51604021&amp;tenderCaseNo=1042005\">\n",
      "<u>彰化縣伸港鄉公所104年村鄰長業務會報暨研習聯誼活動</u>\n",
      "</a>, <a href=\"../main/pms/tps/atm/atmAwardAction.do?newEdit=false&amp;searchMode=common&amp;method=inquiryForPublic&amp;pkAtmMain=51604021&amp;tenderCaseNo=1042005\">\n",
      "<u>001</u>\n",
      "</a>]\n",
      "[<a href=\"../main/pms/tps/atm/atmAwardAction.do?newEdit=false&amp;searchMode=common&amp;method=inquiryForPublic&amp;pkAtmMain=51604018&amp;tenderCaseNo=10407C075\">\n",
      "<u>新北市土城區樂利里辦公處辦理親子生態研習活動</u>\n",
      "</a>, <a href=\"../main/pms/tps/atm/atmAwardAction.do?newEdit=false&amp;searchMode=common&amp;method=inquiryForPublic&amp;pkAtmMain=51604018&amp;tenderCaseNo=10407C075\">\n",
      "<u>001</u>\n",
      "</a>]\n",
      "[<a href=\"../main/pms/tps/atm/atmAwardAction.do?newEdit=false&amp;searchMode=common&amp;method=inquiryForPublic&amp;pkAtmMain=51604015&amp;tenderCaseNo=10406C067\">\n",
      "<u>新北市土城區埤林里辦公處辦理自然生態宣導活動</u>\n",
      "</a>, <a href=\"../main/pms/tps/atm/atmAwardAction.do?newEdit=false&amp;searchMode=common&amp;method=inquiryForPublic&amp;pkAtmMain=51604015&amp;tenderCaseNo=10406C067\">\n",
      "<u>001</u>\n",
      "</a>]\n",
      "[<a href=\"../main/pms/tps/atm/atmAwardAction.do?newEdit=false&amp;searchMode=common&amp;method=inquiryForPublic&amp;pkAtmMain=51603832&amp;tenderCaseNo=1040717\">\n",
      "<u>104學年度學生餐廳幫廚勞務採購案</u>\n",
      "</a>, <a href=\"../main/pms/tps/atm/atmAwardAction.do?newEdit=false&amp;searchMode=common&amp;method=inquiryForPublic&amp;pkAtmMain=51603832&amp;tenderCaseNo=1040717\">\n",
      "<u>001</u>\n",
      "</a>]\n",
      "[<a href=\"../main/pms/tps/atm/atmAwardAction.do?newEdit=false&amp;searchMode=common&amp;method=inquiryForPublic&amp;pkAtmMain=51603795&amp;tenderCaseNo=1040204\">\n",
      "<u>104年臺中市政府教育局營養教育教材設計製作</u>\n",
      "</a>, <a href=\"../main/pms/tps/atm/atmAwardAction.do?newEdit=false&amp;searchMode=common&amp;method=inquiryForPublic&amp;pkAtmMain=51603795&amp;tenderCaseNo=1040204\">\n",
      "<u>001</u>\n",
      "</a>]\n",
      "[<a href=\"../main/pms/tps/atm/atmAwardAction.do?newEdit=false&amp;searchMode=common&amp;method=inquiryForPublic&amp;pkAtmMain=51603755&amp;tenderCaseNo=104041\">\n",
      "<u>國立歷史博物館「藏品數位拍攝及影像後製」委外製作案</u>\n",
      "</a>, <a href=\"../main/pms/tps/atm/atmAwardAction.do?newEdit=false&amp;searchMode=common&amp;method=inquiryForPublic&amp;pkAtmMain=51603755&amp;tenderCaseNo=104041\">\n",
      "<u>001</u>\n",
      "</a>]\n",
      "[<a href=\"../main/pms/tps/atm/atmAwardAction.do?newEdit=false&amp;searchMode=common&amp;method=inquiryForPublic&amp;pkAtmMain=51603709&amp;tenderCaseNo=104040\">\n",
      "<u>國立歷史博物館「數位跨域文創資源加值網站開發委外製作案」</u>\n",
      "</a>, <a href=\"../main/pms/tps/atm/atmAwardAction.do?newEdit=false&amp;searchMode=common&amp;method=inquiryForPublic&amp;pkAtmMain=51603709&amp;tenderCaseNo=104040\">\n",
      "<u>001</u>\n",
      "</a>]\n",
      "[<a href=\"../main/pms/tps/atm/atmAwardAction.do?newEdit=false&amp;searchMode=common&amp;method=inquiryForPublic&amp;pkAtmMain=51603686&amp;tenderCaseNo=104039\">\n",
      "<u>國立歷史博物館「常在我心----數位文創行銷推廣案」委外製作</u>\n",
      "</a>, <a href=\"../main/pms/tps/atm/atmAwardAction.do?newEdit=false&amp;searchMode=common&amp;method=inquiryForPublic&amp;pkAtmMain=51603686&amp;tenderCaseNo=104039\">\n",
      "<u>001</u>\n",
      "</a>]\n",
      "[<a href=\"../main/pms/tps/atm/atmAwardAction.do?newEdit=false&amp;searchMode=common&amp;method=inquiryForPublic&amp;pkAtmMain=51603685&amp;tenderCaseNo=1040563\">\n",
      "<u>《天閒老人──獨立性易全集》（上）（下）印製案</u>\n",
      "</a>, <a href=\"../main/pms/tps/atm/atmAwardAction.do?newEdit=false&amp;searchMode=common&amp;method=inquiryForPublic&amp;pkAtmMain=51603685&amp;tenderCaseNo=1040563\">\n",
      "<u>001</u>\n",
      "</a>]\n",
      "[<a href=\"../main/pms/tps/atm/atmAwardAction.do?newEdit=false&amp;searchMode=common&amp;method=inquiryForPublic&amp;pkAtmMain=51603651&amp;tenderCaseNo=104-7\">\n",
      "<u>宜蘭縣104學年度校園傷病服務系統及硬體設備案</u>\n",
      "</a>, <a href=\"../main/pms/tps/atm/atmAwardAction.do?newEdit=false&amp;searchMode=common&amp;method=inquiryForPublic&amp;pkAtmMain=51603651&amp;tenderCaseNo=104-7\">\n",
      "<u>001</u>\n",
      "</a>]\n",
      "[<a href=\"../main/pms/tps/atm/atmAwardAction.do?newEdit=false&amp;searchMode=common&amp;method=inquiryForPublic&amp;pkAtmMain=51603587&amp;tenderCaseNo=1040610\">\n",
      "<u>104年臺中市動物之家流浪犬寄養訓練採購</u>\n",
      "</a>, <a href=\"../main/pms/tps/atm/atmAwardAction.do?newEdit=false&amp;searchMode=common&amp;method=inquiryForPublic&amp;pkAtmMain=51603587&amp;tenderCaseNo=1040610\">\n",
      "<u>001</u>\n",
      "</a>]\n",
      "[<a href=\"../main/pms/tps/atm/atmAwardAction.do?newEdit=false&amp;searchMode=common&amp;method=inquiryForPublic&amp;pkAtmMain=51603450&amp;tenderCaseNo=104110130149\">\n",
      "<u>水獺成長日記記錄片(二)拍攝案</u>\n",
      "</a>, <a href=\"../main/pms/tps/atm/atmAwardAction.do?newEdit=false&amp;searchMode=common&amp;method=inquiryForPublic&amp;pkAtmMain=51603450&amp;tenderCaseNo=104110130149\">\n",
      "<u>001</u>\n",
      "</a>]\n",
      "[<a href=\"../main/pms/tps/atm/atmAwardAction.do?newEdit=false&amp;searchMode=common&amp;method=inquiryForPublic&amp;pkAtmMain=51603443&amp;tenderCaseNo=10405-2\">\n",
      "<u>本局104年度退休撫卹管理系統軟體維護服務案</u>\n",
      "</a>, <a href=\"../main/pms/tps/atm/atmAwardAction.do?newEdit=false&amp;searchMode=common&amp;method=inquiryForPublic&amp;pkAtmMain=51603443&amp;tenderCaseNo=10405-2\">\n",
      "<u>001</u>\n",
      "</a>]\n",
      "[<a href=\"../main/pms/tps/atm/atmAwardAction.do?newEdit=false&amp;searchMode=common&amp;method=inquiryForPublic&amp;pkAtmMain=51603427&amp;tenderCaseNo=10418\">\n",
      "<u>104年飲料調製丙級證照班</u>\n",
      "</a>, <a href=\"../main/pms/tps/atm/atmAwardAction.do?newEdit=false&amp;searchMode=common&amp;method=inquiryForPublic&amp;pkAtmMain=51603427&amp;tenderCaseNo=10418\">\n",
      "<u>001</u>\n",
      "</a>]\n",
      "[<a href=\"../main/pms/tps/atm/atmAwardAction.do?newEdit=false&amp;searchMode=common&amp;method=inquiryForPublic&amp;pkAtmMain=51603424&amp;tenderCaseNo=LN104007\">\n",
      "<u>104學年度(第五屆)學生畢業紀念冊製作案</u>\n",
      "</a>, <a href=\"../main/pms/tps/atm/atmAwardAction.do?newEdit=false&amp;searchMode=common&amp;method=inquiryForPublic&amp;pkAtmMain=51603424&amp;tenderCaseNo=LN104007\">\n",
      "<u>001</u>\n",
      "</a>]\n",
      "[<a href=\"../main/pms/tps/atm/atmAwardAction.do?newEdit=false&amp;searchMode=common&amp;method=inquiryForPublic&amp;pkAtmMain=51603412&amp;tenderCaseNo=10417\">\n",
      "<u>104年甲種職業安全衛生業務主管訓練班</u>\n",
      "</a>, <a href=\"../main/pms/tps/atm/atmAwardAction.do?newEdit=false&amp;searchMode=common&amp;method=inquiryForPublic&amp;pkAtmMain=51603412&amp;tenderCaseNo=10417\">\n",
      "<u>001</u>\n",
      "</a>]\n",
      "[<a href=\"../main/pms/tps/atm/atmAwardAction.do?newEdit=false&amp;searchMode=common&amp;method=inquiryForPublic&amp;pkAtmMain=51603405&amp;tenderCaseNo=10416\">\n",
      "<u>104年公寓大廈管理服務人員回訓班第3期</u>\n",
      "</a>, <a href=\"../main/pms/tps/atm/atmAwardAction.do?newEdit=false&amp;searchMode=common&amp;method=inquiryForPublic&amp;pkAtmMain=51603405&amp;tenderCaseNo=10416\">\n",
      "<u>001</u>\n",
      "</a>]\n",
      "[<a href=\"../main/pms/tps/atm/atmAwardAction.do?newEdit=false&amp;searchMode=common&amp;method=inquiryForPublic&amp;pkAtmMain=51582175&amp;tenderCaseNo=AASC-104088\">\n",
      "<u>學生活動中心清潔維護委外104年7月1日至105年6月30日</u>\n",
      "</a>, <a href=\"../main/pms/tps/atm/atmAwardAction.do?newEdit=false&amp;searchMode=common&amp;method=inquiryForPublic&amp;pkAtmMain=51582175&amp;tenderCaseNo=AASC-104088\">\n",
      "<u>001</u>\n",
      "</a>]\n",
      "[<a href=\"../main/pms/tps/atm/atmAwardAction.do?newEdit=false&amp;searchMode=common&amp;method=inquiryForPublic&amp;pkAtmMain=51601391&amp;tenderCaseNo=1040707\">\n",
      "<u>104年守望相助隊觀摩聯誼活動委託專業服務採購案</u>\n",
      "</a>, <a href=\"../main/pms/tps/atm/atmAwardAction.do?newEdit=false&amp;searchMode=common&amp;method=inquiryForPublic&amp;pkAtmMain=51601391&amp;tenderCaseNo=1040707\">\n",
      "<u>001</u>\n",
      "</a>]\n",
      "[<a href=\"../main/pms/tps/atm/atmAwardAction.do?newEdit=false&amp;searchMode=common&amp;method=inquiryForPublic&amp;pkAtmMain=51602341&amp;tenderCaseNo=104060901\">\n",
      "<u>內埔天后宮客家生活環境營造整建工程委託設計監造服務</u>\n",
      "</a>, <a href=\"../main/pms/tps/atm/atmAwardAction.do?newEdit=false&amp;searchMode=common&amp;method=inquiryForPublic&amp;pkAtmMain=51602341&amp;tenderCaseNo=104060901\">\n",
      "<u>001</u>\n",
      "</a>]\n",
      "[<a href=\"../main/pms/tps/atm/atmAwardAction.do?newEdit=false&amp;searchMode=common&amp;method=inquiryForPublic&amp;pkAtmMain=51602350&amp;tenderCaseNo=104072\">\n",
      "<u>104年度委託辦理「全國性暨省級財團法人社會福利慈善事業基金會業務輔導及複評行政工作」</u>\n",
      "</a>, <a href=\"../main/pms/tps/atm/atmAwardAction.do?newEdit=false&amp;searchMode=common&amp;method=inquiryForPublic&amp;pkAtmMain=51602350&amp;tenderCaseNo=104072\">\n",
      "<u>001</u>\n",
      "</a>]\n",
      "[<a href=\"../main/pms/tps/atm/atmAwardAction.do?newEdit=false&amp;searchMode=common&amp;method=inquiryForPublic&amp;pkAtmMain=51602358&amp;tenderCaseNo=P1040521\">\n",
      "<u>「桃園機場公司資金籌措暨財務健全計畫」委託專業服務</u>\n",
      "</a>, <a href=\"../main/pms/tps/atm/atmAwardAction.do?newEdit=false&amp;searchMode=common&amp;method=inquiryForPublic&amp;pkAtmMain=51602358&amp;tenderCaseNo=P1040521\">\n",
      "<u>001</u>\n",
      "</a>]\n",
      "[<a href=\"../main/pms/tps/atm/atmAwardAction.do?newEdit=false&amp;searchMode=common&amp;method=inquiryForPublic&amp;pkAtmMain=51602359&amp;tenderCaseNo=IMSC-104139\">\n",
      "<u>AMPL軟體網路一人版5套</u>\n",
      "</a>, <a href=\"../main/pms/tps/atm/atmAwardAction.do?newEdit=false&amp;searchMode=common&amp;method=inquiryForPublic&amp;pkAtmMain=51602359&amp;tenderCaseNo=IMSC-104139\">\n",
      "<u>001</u>\n",
      "</a>]\n",
      "[<a href=\"../main/pms/tps/atm/atmAwardAction.do?newEdit=false&amp;searchMode=common&amp;method=inquiryForPublic&amp;pkAtmMain=51602363&amp;tenderCaseNo=K104020\">\n",
      "<u>糞便潛血免疫分析等項目外送檢驗1批</u>\n",
      "</a>, <a href=\"../main/pms/tps/atm/atmAwardAction.do?newEdit=false&amp;searchMode=common&amp;method=inquiryForPublic&amp;pkAtmMain=51602363&amp;tenderCaseNo=K104020\">\n",
      "<u>001</u>\n",
      "</a>]\n",
      "[<a href=\"../main/pms/tps/atm/atmAwardAction.do?newEdit=false&amp;searchMode=common&amp;method=inquiryForPublic&amp;pkAtmMain=51602364&amp;tenderCaseNo=104-02-033\">\n",
      "<u>本署104學年度中等學校足球聯賽案</u>\n",
      "</a>, <a href=\"../main/pms/tps/atm/atmAwardAction.do?newEdit=false&amp;searchMode=common&amp;method=inquiryForPublic&amp;pkAtmMain=51602364&amp;tenderCaseNo=104-02-033\">\n",
      "<u>001</u>\n",
      "</a>]\n",
      "[<a href=\"../main/pms/tps/atm/atmAwardAction.do?newEdit=false&amp;searchMode=common&amp;method=inquiryForPublic&amp;pkAtmMain=51602370&amp;tenderCaseNo=104-02-037\">\n",
      "<u>本署104學年度中小學女子壘球聯賽案</u>\n",
      "</a>, <a href=\"../main/pms/tps/atm/atmAwardAction.do?newEdit=false&amp;searchMode=common&amp;method=inquiryForPublic&amp;pkAtmMain=51602370&amp;tenderCaseNo=104-02-037\">\n",
      "<u>001</u>\n",
      "</a>]\n",
      "[<a href=\"../main/pms/tps/atm/atmAwardAction.do?newEdit=false&amp;searchMode=common&amp;method=inquiryForPublic&amp;pkAtmMain=51602374&amp;tenderCaseNo=104-02-035\">\n",
      "<u>本署104學年度高中棒球軟式組聯賽案</u>\n",
      "</a>, <a href=\"../main/pms/tps/atm/atmAwardAction.do?newEdit=false&amp;searchMode=common&amp;method=inquiryForPublic&amp;pkAtmMain=51602374&amp;tenderCaseNo=104-02-035\">\n",
      "<u>001</u>\n",
      "</a>]\n",
      "[<a href=\"../main/pms/tps/atm/atmAwardAction.do?newEdit=false&amp;searchMode=common&amp;method=inquiryForPublic&amp;pkAtmMain=51602372&amp;tenderCaseNo=104-02-034\">\n",
      "<u>本署104學年度高中棒球硬式鋁棒組聯賽案</u>\n",
      "</a>, <a href=\"../main/pms/tps/atm/atmAwardAction.do?newEdit=false&amp;searchMode=common&amp;method=inquiryForPublic&amp;pkAtmMain=51602372&amp;tenderCaseNo=104-02-034\">\n",
      "<u>001</u>\n",
      "</a>]\n",
      "[<a href=\"../main/pms/tps/atm/atmAwardAction.do?newEdit=false&amp;searchMode=common&amp;method=inquiryForPublic&amp;pkAtmMain=51602375&amp;tenderCaseNo=104-02-036\">\n",
      "<u>本署104學年度國中棒球軟式組聯賽案</u>\n",
      "</a>, <a href=\"../main/pms/tps/atm/atmAwardAction.do?newEdit=false&amp;searchMode=common&amp;method=inquiryForPublic&amp;pkAtmMain=51602375&amp;tenderCaseNo=104-02-036\">\n",
      "<u>001</u>\n",
      "</a>]\n",
      "[<a href=\"../main/pms/tps/atm/atmAwardAction.do?newEdit=false&amp;searchMode=common&amp;method=inquiryForPublic&amp;pkAtmMain=51602378&amp;tenderCaseNo=S104074\">\n",
      "<u>電話交換機系統暨相關設備維護勞務委外三個月</u>\n",
      "</a>, <a href=\"../main/pms/tps/atm/atmAwardAction.do?newEdit=false&amp;searchMode=common&amp;method=inquiryForPublic&amp;pkAtmMain=51602378&amp;tenderCaseNo=S104074\">\n",
      "<u>001</u>\n",
      "</a>]\n",
      "[<a href=\"../main/pms/tps/atm/atmAwardAction.do?newEdit=false&amp;searchMode=common&amp;method=inquiryForPublic&amp;pkAtmMain=51602383&amp;tenderCaseNo=IC103007\">\n",
      "<u>300KV場發射槍穿透式電子顯微鏡及能量散佈分析維護合約</u>\n",
      "</a>, <a href=\"../main/pms/tps/atm/atmAwardAction.do?newEdit=false&amp;searchMode=common&amp;method=inquiryForPublic&amp;pkAtmMain=51602383&amp;tenderCaseNo=IC103007\">\n",
      "<u>001</u>\n",
      "</a>]\n",
      "[<a href=\"../main/pms/tps/atm/atmAwardAction.do?newEdit=false&amp;searchMode=common&amp;method=inquiryForPublic&amp;pkAtmMain=51601955&amp;tenderCaseNo=1040960\">\n",
      "<u>本局函件大樓5號電梯設備維護保養</u>\n",
      "</a>, <a href=\"../main/pms/tps/atm/atmAwardAction.do?newEdit=false&amp;searchMode=common&amp;method=inquiryForPublic&amp;pkAtmMain=51601955&amp;tenderCaseNo=1040960\">\n",
      "<u>001</u>\n",
      "</a>]\n",
      "[<a href=\"../main/pms/tps/atm/atmAwardAction.do?newEdit=false&amp;searchMode=common&amp;method=inquiryForPublic&amp;pkAtmMain=51602407&amp;tenderCaseNo=104070201\">\n",
      "<u>104年度大溪區農特產特色料理饗宴餐會活動</u>\n",
      "</a>, <a href=\"../main/pms/tps/atm/atmAwardAction.do?newEdit=false&amp;searchMode=common&amp;method=inquiryForPublic&amp;pkAtmMain=51602407&amp;tenderCaseNo=104070201\">\n",
      "<u>001</u>\n",
      "</a>]\n",
      "[<a href=\"../main/pms/tps/atm/atmAwardAction.do?newEdit=false&amp;searchMode=common&amp;method=inquiryForPublic&amp;pkAtmMain=51559072&amp;tenderCaseNo=10439\">\n",
      "<u>104年度汽輪發電機組歲修專業服務</u>\n",
      "</a>, <a href=\"../main/pms/tps/atm/atmAwardAction.do?newEdit=false&amp;searchMode=common&amp;method=inquiryForPublic&amp;pkAtmMain=51559072&amp;tenderCaseNo=10439\">\n",
      "<u>001</u>\n",
      "</a>]\n",
      "[<a href=\"../main/pms/tps/atm/atmAwardAction.do?newEdit=false&amp;searchMode=common&amp;method=inquiryForPublic&amp;pkAtmMain=51602433&amp;tenderCaseNo=1040522A\">\n",
      "<u>新北市104年度委託辦理老人福利機構評鑑作業</u>\n",
      "</a>, <a href=\"../main/pms/tps/atm/atmAwardAction.do?newEdit=false&amp;searchMode=common&amp;method=inquiryForPublic&amp;pkAtmMain=51602433&amp;tenderCaseNo=1040522A\">\n",
      "<u>001</u>\n",
      "</a>]\n",
      "[<a href=\"../main/pms/tps/atm/atmAwardAction.do?newEdit=false&amp;searchMode=common&amp;method=inquiryForPublic&amp;pkAtmMain=51602435&amp;tenderCaseNo=1040623G\">\n",
      "<u>104年新北市客家文化研習成果發表會委外專業服務案</u>\n",
      "</a>, <a href=\"../main/pms/tps/atm/atmAwardAction.do?newEdit=false&amp;searchMode=common&amp;method=inquiryForPublic&amp;pkAtmMain=51602435&amp;tenderCaseNo=1040623G\">\n",
      "<u>001</u>\n",
      "</a>]\n",
      "[<a href=\"../main/pms/tps/atm/atmAwardAction.do?newEdit=false&amp;searchMode=common&amp;method=inquiryForPublic&amp;pkAtmMain=51602453&amp;tenderCaseNo=S104014\">\n",
      "<u>104年度月台作業業務承攬</u>\n",
      "</a>, <a href=\"../main/pms/tps/atm/atmAwardAction.do?newEdit=false&amp;searchMode=common&amp;method=inquiryForPublic&amp;pkAtmMain=51602453&amp;tenderCaseNo=S104014\">\n",
      "<u>001</u>\n",
      "</a>]\n",
      "[<a href=\"../main/pms/tps/atm/atmAwardAction.do?newEdit=false&amp;searchMode=common&amp;method=inquiryForPublic&amp;pkAtmMain=51602454&amp;tenderCaseNo=NPM104077\">\n",
      "<u>「神筆丹青-郎世寧來華三百年特展」展示設計製作案</u>\n",
      "</a>, <a href=\"../main/pms/tps/atm/atmAwardAction.do?newEdit=false&amp;searchMode=common&amp;method=inquiryForPublic&amp;pkAtmMain=51602454&amp;tenderCaseNo=NPM104077\">\n",
      "<u>001</u>\n",
      "</a>]\n",
      "[<a href=\"../main/pms/tps/atm/atmAwardAction.do?newEdit=false&amp;searchMode=common&amp;method=inquiryForPublic&amp;pkAtmMain=51602456&amp;tenderCaseNo=1040624C\">\n",
      "<u>104年-105年新北市政府地理資訊系統維護案</u>\n",
      "</a>, <a href=\"../main/pms/tps/atm/atmAwardAction.do?newEdit=false&amp;searchMode=common&amp;method=inquiryForPublic&amp;pkAtmMain=51602456&amp;tenderCaseNo=1040624C\">\n",
      "<u>001</u>\n",
      "</a>]\n",
      "[<a href=\"../main/pms/tps/atm/atmAwardAction.do?newEdit=false&amp;searchMode=common&amp;method=inquiryForPublic&amp;pkAtmMain=51602468&amp;tenderCaseNo=1040708\">\n",
      "<u>學甲國中104學年度三年級校外教學參觀活動</u>\n",
      "</a>, <a href=\"../main/pms/tps/atm/atmAwardAction.do?newEdit=false&amp;searchMode=common&amp;method=inquiryForPublic&amp;pkAtmMain=51602468&amp;tenderCaseNo=1040708\">\n",
      "<u>001</u>\n",
      "</a>]\n",
      "[<a href=\"../main/pms/tps/atm/atmAwardAction.do?newEdit=false&amp;searchMode=common&amp;method=inquiryForPublic&amp;pkAtmMain=51602470&amp;tenderCaseNo=104-A-014\">\n",
      "<u>本學院2015年「法人之刑事責任」國際學術研討會委辦案</u>\n",
      "</a>, <a href=\"../main/pms/tps/atm/atmAwardAction.do?newEdit=false&amp;searchMode=common&amp;method=inquiryForPublic&amp;pkAtmMain=51602470&amp;tenderCaseNo=104-A-014\">\n",
      "<u>001</u>\n",
      "</a>]\n",
      "[<a href=\"../main/pms/tps/atm/atmAwardAction.do?newEdit=false&amp;searchMode=common&amp;method=inquiryForPublic&amp;pkAtmMain=51602471&amp;tenderCaseNo=10406B\">\n",
      "<u>「104年水質水量保護區水資源教育宣導活動」規劃執行採購案</u>\n",
      "</a>, <a href=\"../main/pms/tps/atm/atmAwardAction.do?newEdit=false&amp;searchMode=common&amp;method=inquiryForPublic&amp;pkAtmMain=51602471&amp;tenderCaseNo=10406B\">\n",
      "<u>001</u>\n",
      "</a>]\n",
      "[<a href=\"../main/pms/tps/atm/atmAwardAction.do?newEdit=false&amp;searchMode=common&amp;method=inquiryForPublic&amp;pkAtmMain=51602472&amp;tenderCaseNo=104062505\">\n",
      "<u>104年度大安海水浴場風箏衝浪表演暨比賽及教學活動案</u>\n",
      "</a>, <a href=\"../main/pms/tps/atm/atmAwardAction.do?newEdit=false&amp;searchMode=common&amp;method=inquiryForPublic&amp;pkAtmMain=51602472&amp;tenderCaseNo=104062505\">\n",
      "<u>001</u>\n",
      "</a>]\n",
      "[<a href=\"../main/pms/tps/atm/atmAwardAction.do?newEdit=false&amp;searchMode=common&amp;method=inquiryForPublic&amp;pkAtmMain=51602482&amp;tenderCaseNo=No104-0010\">\n",
      "<u>104年實驗室廢液、廢藥品及廢玻璃委託清除、處理</u>\n",
      "</a>, <a href=\"../main/pms/tps/atm/atmAwardAction.do?newEdit=false&amp;searchMode=common&amp;method=inquiryForPublic&amp;pkAtmMain=51602482&amp;tenderCaseNo=No104-0010\">\n",
      "<u>001</u>\n",
      "</a>]\n",
      "[<a href=\"../main/pms/tps/atm/atmAwardAction.do?newEdit=false&amp;searchMode=common&amp;method=inquiryForPublic&amp;pkAtmMain=51602492&amp;tenderCaseNo=F104-036\">\n",
      "<u>內政部消防署訓練中心e化管理系統維護採購案</u>\n",
      "</a>, <a href=\"../main/pms/tps/atm/atmAwardAction.do?newEdit=false&amp;searchMode=common&amp;method=inquiryForPublic&amp;pkAtmMain=51602492&amp;tenderCaseNo=F104-036\">\n",
      "<u>001</u>\n",
      "</a>]\n",
      "[<a href=\"../main/pms/tps/atm/atmAwardAction.do?newEdit=false&amp;searchMode=common&amp;method=inquiryForPublic&amp;pkAtmMain=51602495&amp;tenderCaseNo=104-096\">\n",
      "<u>土壤及地下水環境教育及觀摩活動</u>\n",
      "</a>, <a href=\"../main/pms/tps/atm/atmAwardAction.do?newEdit=false&amp;searchMode=common&amp;method=inquiryForPublic&amp;pkAtmMain=51602495&amp;tenderCaseNo=104-096\">\n",
      "<u>001</u>\n",
      "</a>]\n",
      "[<a href=\"../main/pms/tps/atm/atmAwardAction.do?newEdit=false&amp;searchMode=common&amp;method=inquiryForPublic&amp;pkAtmMain=51602501&amp;tenderCaseNo=NPM104069\">\n",
      "<u>「104年度國立故宮博物院觀眾意見調查暨經濟與社會影響評估」採購案</u>\n",
      "</a>, <a href=\"../main/pms/tps/atm/atmAwardAction.do?newEdit=false&amp;searchMode=common&amp;method=inquiryForPublic&amp;pkAtmMain=51602501&amp;tenderCaseNo=NPM104069\">\n",
      "<u>001</u>\n",
      "</a>]\n",
      "[<a href=\"../main/pms/tps/atm/atmAwardAction.do?newEdit=false&amp;searchMode=common&amp;method=inquiryForPublic&amp;pkAtmMain=51602508&amp;tenderCaseNo=MOEAWRA1040061\">\n",
      "<u>水文觀測檢校作業制度之研析</u>\n",
      "</a>, <a href=\"../main/pms/tps/atm/atmAwardAction.do?newEdit=false&amp;searchMode=common&amp;method=inquiryForPublic&amp;pkAtmMain=51602508&amp;tenderCaseNo=MOEAWRA1040061\">\n",
      "<u>001</u>\n",
      "</a>]\n",
      "[<a href=\"../main/pms/tps/atm/atmAwardAction.do?newEdit=false&amp;searchMode=common&amp;method=inquiryForPublic&amp;pkAtmMain=51602531&amp;tenderCaseNo=104A011\">\n",
      "<u>最高法院104年度花園養護及盆栽租賃</u>\n",
      "</a>, <a href=\"../main/pms/tps/atm/atmAwardAction.do?newEdit=false&amp;searchMode=common&amp;method=inquiryForPublic&amp;pkAtmMain=51602531&amp;tenderCaseNo=104A011\">\n",
      "<u>001</u>\n",
      "</a>]\n",
      "[<a href=\"../main/pms/tps/atm/atmAwardAction.do?newEdit=false&amp;searchMode=common&amp;method=inquiryForPublic&amp;pkAtmMain=51602532&amp;tenderCaseNo=104020\">\n",
      "<u>耕地管理資訊系統暨開發區公地管理系統104年度增修功能案</u>\n",
      "</a>, <a href=\"../main/pms/tps/atm/atmAwardAction.do?newEdit=false&amp;searchMode=common&amp;method=inquiryForPublic&amp;pkAtmMain=51602532&amp;tenderCaseNo=104020\">\n",
      "<u>001</u>\n",
      "</a>]\n",
      "[<a href=\"../main/pms/tps/atm/atmAwardAction.do?newEdit=false&amp;searchMode=common&amp;method=inquiryForPublic&amp;pkAtmMain=51602564&amp;tenderCaseNo=104024\">\n",
      "<u>嘉義縣警察局「全球資訊網暨內部知識網站建置案」</u>\n",
      "</a>, <a href=\"../main/pms/tps/atm/atmAwardAction.do?newEdit=false&amp;searchMode=common&amp;method=inquiryForPublic&amp;pkAtmMain=51602564&amp;tenderCaseNo=104024\">\n",
      "<u>001</u>\n",
      "</a>]\n",
      "[<a href=\"../main/pms/tps/atm/atmAwardAction.do?newEdit=false&amp;searchMode=common&amp;method=inquiryForPublic&amp;pkAtmMain=51602565&amp;tenderCaseNo=1040703\">\n",
      "<u>高階文官培訓飛躍方案104年訓練領導發展國外研習(芬蘭) </u>\n",
      "</a>, <a href=\"../main/pms/tps/atm/atmAwardAction.do?newEdit=false&amp;searchMode=common&amp;method=inquiryForPublic&amp;pkAtmMain=51602565&amp;tenderCaseNo=1040703\">\n",
      "<u>001</u>\n",
      "</a>]\n",
      "[<a href=\"../main/pms/tps/atm/atmAwardAction.do?newEdit=false&amp;searchMode=common&amp;method=inquiryForPublic&amp;pkAtmMain=51602570&amp;tenderCaseNo=104-006\">\n",
      "<u>104學年度兒童課後照顧服務</u>\n",
      "</a>, <a href=\"../main/pms/tps/atm/atmAwardAction.do?newEdit=false&amp;searchMode=common&amp;method=inquiryForPublic&amp;pkAtmMain=51602570&amp;tenderCaseNo=104-006\">\n",
      "<u>001</u>\n",
      "</a>]\n",
      "[<a href=\"../main/pms/tps/atm/atmAwardAction.do?newEdit=false&amp;searchMode=common&amp;method=inquiryForPublic&amp;pkAtmMain=51602578&amp;tenderCaseNo=D104033\">\n",
      "<u>104年機械科機械設備維修</u>\n",
      "</a>, <a href=\"../main/pms/tps/atm/atmAwardAction.do?newEdit=false&amp;searchMode=common&amp;method=inquiryForPublic&amp;pkAtmMain=51602578&amp;tenderCaseNo=D104033\">\n",
      "<u>001</u>\n",
      "</a>]\n",
      "[<a href=\"../main/pms/tps/atm/atmAwardAction.do?newEdit=false&amp;searchMode=common&amp;method=inquiryForPublic&amp;pkAtmMain=51602589&amp;tenderCaseNo=1040529\">\n",
      "<u>104學年度國三校外教學採購案(第二次)</u>\n",
      "</a>, <a href=\"../main/pms/tps/atm/atmAwardAction.do?newEdit=false&amp;searchMode=common&amp;method=inquiryForPublic&amp;pkAtmMain=51602589&amp;tenderCaseNo=1040529\">\n",
      "<u>001</u>\n",
      "</a>]\n",
      "[<a href=\"../main/pms/tps/atm/atmAwardAction.do?newEdit=false&amp;searchMode=common&amp;method=inquiryForPublic&amp;pkAtmMain=51602590&amp;tenderCaseNo=TC104C094\">\n",
      "<u>臺南市噍吧哖紀念館硬體工程公共藝術設置計畫案</u>\n",
      "</a>, <a href=\"../main/pms/tps/atm/atmAwardAction.do?newEdit=false&amp;searchMode=common&amp;method=inquiryForPublic&amp;pkAtmMain=51602590&amp;tenderCaseNo=TC104C094\">\n",
      "<u>001</u>\n",
      "</a>]\n",
      "[<a href=\"../main/pms/tps/atm/atmAwardAction.do?newEdit=false&amp;searchMode=common&amp;method=inquiryForPublic&amp;pkAtmMain=51482308&amp;tenderCaseNo=104-C-Z-004\">\n",
      "<u>「臺中計畫」豐原車站公共藝術設置邀請比件案</u>\n",
      "</a>, <a href=\"../main/pms/tps/atm/atmAwardAction.do?newEdit=false&amp;searchMode=common&amp;method=inquiryForPublic&amp;pkAtmMain=51482308&amp;tenderCaseNo=104-C-Z-004\">\n",
      "<u>001</u>\n",
      "</a>]\n",
      "[<a href=\"../main/pms/tps/atm/atmAwardAction.do?newEdit=false&amp;searchMode=common&amp;method=inquiryForPublic&amp;pkAtmMain=51602594&amp;tenderCaseNo=1040005214\">\n",
      "<u>嘉義縣104年度文化集會所 (願景館)展示活動規劃執行委託服務案</u>\n",
      "</a>, <a href=\"../main/pms/tps/atm/atmAwardAction.do?newEdit=false&amp;searchMode=common&amp;method=inquiryForPublic&amp;pkAtmMain=51602594&amp;tenderCaseNo=1040005214\">\n",
      "<u>001</u>\n",
      "</a>]\n",
      "[<a href=\"../main/pms/tps/atm/atmAwardAction.do?newEdit=false&amp;searchMode=common&amp;method=inquiryForPublic&amp;pkAtmMain=51482312&amp;tenderCaseNo=104-C-Z-002\">\n",
      "<u>「臺中計畫」太原車站公共藝術設置公開徵選案</u>\n",
      "</a>, <a href=\"../main/pms/tps/atm/atmAwardAction.do?newEdit=false&amp;searchMode=common&amp;method=inquiryForPublic&amp;pkAtmMain=51482312&amp;tenderCaseNo=104-C-Z-002\">\n",
      "<u>001</u>\n",
      "</a>]\n",
      "[<a href=\"../main/pms/tps/atm/atmAwardAction.do?newEdit=false&amp;searchMode=common&amp;method=inquiryForPublic&amp;pkAtmMain=51602597&amp;tenderCaseNo=J104-040\">\n",
      "<u>直轄市、縣(市)消防車輛、裝備及其人力配置標準修正評估委託研究案</u>\n",
      "</a>, <a href=\"../main/pms/tps/atm/atmAwardAction.do?newEdit=false&amp;searchMode=common&amp;method=inquiryForPublic&amp;pkAtmMain=51602597&amp;tenderCaseNo=J104-040\">\n",
      "<u>001</u>\n",
      "</a>]\n",
      "[<a href=\"../main/pms/tps/atm/atmAwardAction.do?newEdit=false&amp;searchMode=common&amp;method=inquiryForPublic&amp;pkAtmMain=51482311&amp;tenderCaseNo=104-C-Z-003\">\n",
      "<u>「臺中計畫」松竹車站公共藝術設置邀請比件案</u>\n",
      "</a>, <a href=\"../main/pms/tps/atm/atmAwardAction.do?newEdit=false&amp;searchMode=common&amp;method=inquiryForPublic&amp;pkAtmMain=51482311&amp;tenderCaseNo=104-C-Z-003\">\n",
      "<u>001</u>\n",
      "</a>]\n",
      "[<a href=\"../main/pms/tps/atm/atmAwardAction.do?newEdit=false&amp;searchMode=common&amp;method=inquiryForPublic&amp;pkAtmMain=51602601&amp;tenderCaseNo=1040702001\">\n",
      "<u>平鎮區東勢里太平西路雨水下水道工程委託設計監造</u>\n",
      "</a>, <a href=\"../main/pms/tps/atm/atmAwardAction.do?newEdit=false&amp;searchMode=common&amp;method=inquiryForPublic&amp;pkAtmMain=51602601&amp;tenderCaseNo=1040702001\">\n",
      "<u>001</u>\n",
      "</a>]\n",
      "[<a href=\"../main/pms/tps/atm/atmAwardAction.do?newEdit=false&amp;searchMode=common&amp;method=inquiryForPublic&amp;pkAtmMain=51602603&amp;tenderCaseNo=104A143\">\n",
      "<u>104年度環境影響評估書件及審查結論執行情形監督專案工作計畫</u>\n",
      "</a>, <a href=\"../main/pms/tps/atm/atmAwardAction.do?newEdit=false&amp;searchMode=common&amp;method=inquiryForPublic&amp;pkAtmMain=51602603&amp;tenderCaseNo=104A143\">\n",
      "<u>001</u>\n",
      "</a>]\n",
      "[<a href=\"../main/pms/tps/atm/atmAwardAction.do?newEdit=false&amp;searchMode=common&amp;method=inquiryForPublic&amp;pkAtmMain=51520991&amp;tenderCaseNo=104-C-Z-007\">\n",
      "<u>「臺中計畫」豐原車站公共藝術設置公開徵選案</u>\n",
      "</a>, <a href=\"../main/pms/tps/atm/atmAwardAction.do?newEdit=false&amp;searchMode=common&amp;method=inquiryForPublic&amp;pkAtmMain=51520991&amp;tenderCaseNo=104-C-Z-007\">\n",
      "<u>001</u>\n",
      "</a>]\n",
      "[<a href=\"../main/pms/tps/atm/atmAwardAction.do?newEdit=false&amp;searchMode=common&amp;method=inquiryForPublic&amp;pkAtmMain=51520995&amp;tenderCaseNo=104-C-Z-008\">\n",
      "<u>「臺中計畫」潭子車站公共藝術設置公開徵選案</u>\n",
      "</a>, <a href=\"../main/pms/tps/atm/atmAwardAction.do?newEdit=false&amp;searchMode=common&amp;method=inquiryForPublic&amp;pkAtmMain=51520995&amp;tenderCaseNo=104-C-Z-008\">\n",
      "<u>001</u>\n",
      "</a>]\n",
      "[<a href=\"../main/pms/tps/atm/atmAwardAction.do?newEdit=false&amp;searchMode=common&amp;method=inquiryForPublic&amp;pkAtmMain=51602615&amp;tenderCaseNo=1040702B1\">\n",
      "<u>本所區政立體停車場機械停車設備定期保養維護一年期</u>\n",
      "</a>, <a href=\"../main/pms/tps/atm/atmAwardAction.do?newEdit=false&amp;searchMode=common&amp;method=inquiryForPublic&amp;pkAtmMain=51602615&amp;tenderCaseNo=1040702B1\">\n",
      "<u>001</u>\n",
      "</a>]\n",
      "[<a href=\"../main/pms/tps/atm/atmAwardAction.do?newEdit=false&amp;searchMode=common&amp;method=inquiryForPublic&amp;pkAtmMain=51602617&amp;tenderCaseNo=DEA0461004\">\n",
      "<u>本處(花蓮區)104年度員工一般及特殊健康檢查(含代辦潤滑油事業部駐本區人員)</u>\n",
      "</a>, <a href=\"../main/pms/tps/atm/atmAwardAction.do?newEdit=false&amp;searchMode=common&amp;method=inquiryForPublic&amp;pkAtmMain=51602617&amp;tenderCaseNo=DEA0461004\">\n",
      "<u>001</u>\n",
      "</a>]\n",
      "[<a href=\"../main/pms/tps/atm/atmAwardAction.do?newEdit=false&amp;searchMode=common&amp;method=inquiryForPublic&amp;pkAtmMain=51602620&amp;tenderCaseNo=KMA-L-10405\">\n",
      "<u>「金門尚義機場鄰近海陸域地形監測與分析」委託技術服務案</u>\n",
      "</a>, <a href=\"../main/pms/tps/atm/atmAwardAction.do?newEdit=false&amp;searchMode=common&amp;method=inquiryForPublic&amp;pkAtmMain=51602620&amp;tenderCaseNo=KMA-L-10405\">\n",
      "<u>001</u>\n",
      "</a>]\n",
      "[<a href=\"../main/pms/tps/atm/atmAwardAction.do?newEdit=false&amp;searchMode=common&amp;method=inquiryForPublic&amp;pkAtmMain=51602629&amp;tenderCaseNo=104-9\">\n",
      "<u>104學年度9年級校外教學參觀旅行活動</u>\n",
      "</a>, <a href=\"../main/pms/tps/atm/atmAwardAction.do?newEdit=false&amp;searchMode=common&amp;method=inquiryForPublic&amp;pkAtmMain=51602629&amp;tenderCaseNo=104-9\">\n",
      "<u>001</u>\n",
      "</a>]\n",
      "[<a href=\"../main/pms/tps/atm/atmAwardAction.do?newEdit=false&amp;searchMode=common&amp;method=inquiryForPublic&amp;pkAtmMain=51602645&amp;tenderCaseNo=104009\">\n",
      "<u>臺中市立沙鹿國中104學年度午餐團膳</u>\n",
      "</a>, <a href=\"../main/pms/tps/atm/atmAwardAction.do?newEdit=false&amp;searchMode=common&amp;method=inquiryForPublic&amp;pkAtmMain=51602645&amp;tenderCaseNo=104009\">\n",
      "<u>001</u>\n",
      "</a>]\n",
      "[<a href=\"../main/pms/tps/atm/atmAwardAction.do?newEdit=false&amp;searchMode=common&amp;method=inquiryForPublic&amp;pkAtmMain=51602652&amp;tenderCaseNo=1040720\">\n",
      "<u>新北市蘆洲區仁愛國民小學104學年度附設幼兒園餐點採購案</u>\n",
      "</a>, <a href=\"../main/pms/tps/atm/atmAwardAction.do?newEdit=false&amp;searchMode=common&amp;method=inquiryForPublic&amp;pkAtmMain=51602652&amp;tenderCaseNo=1040720\">\n",
      "<u>001</u>\n",
      "</a>]\n",
      "[<a href=\"../main/pms/tps/atm/atmAwardAction.do?newEdit=false&amp;searchMode=common&amp;method=inquiryForPublic&amp;pkAtmMain=51602662&amp;tenderCaseNo=3410400166-S04060\">\n",
      "<u>興二、三、一機大修期間控儀設備改善工作</u>\n",
      "</a>, <a href=\"../main/pms/tps/atm/atmAwardAction.do?newEdit=false&amp;searchMode=common&amp;method=inquiryForPublic&amp;pkAtmMain=51602662&amp;tenderCaseNo=3410400166-S04060\">\n",
      "<u>001</u>\n",
      "</a>]\n",
      "[<a href=\"../main/pms/tps/atm/atmAwardAction.do?newEdit=false&amp;searchMode=common&amp;method=inquiryForPublic&amp;pkAtmMain=51602670&amp;tenderCaseNo=10400004\">\n",
      "<u>光華新聞文化中心2015台灣月「快閃店及市集策展委辦案」</u>\n",
      "</a>, <a href=\"../main/pms/tps/atm/atmAwardAction.do?newEdit=false&amp;searchMode=common&amp;method=inquiryForPublic&amp;pkAtmMain=51602670&amp;tenderCaseNo=10400004\">\n",
      "<u>001</u>\n",
      "</a>]\n",
      "[<a href=\"../main/pms/tps/atm/atmAwardAction.do?newEdit=false&amp;searchMode=common&amp;method=inquiryForPublic&amp;pkAtmMain=51602674&amp;tenderCaseNo=104-0022205-052-2-1\">\n",
      "<u>彰化縣土方測量開口契約（第三期）</u>\n",
      "</a>, <a href=\"../main/pms/tps/atm/atmAwardAction.do?newEdit=false&amp;searchMode=common&amp;method=inquiryForPublic&amp;pkAtmMain=51602674&amp;tenderCaseNo=104-0022205-052-2-1\">\n",
      "<u>001</u>\n",
      "</a>]\n",
      "[<a href=\"../main/pms/tps/atm/atmAwardAction.do?newEdit=false&amp;searchMode=common&amp;method=inquiryForPublic&amp;pkAtmMain=51602677&amp;tenderCaseNo=104A102\">\n",
      "<u>國研大樓華語自學園桌椅裝潢1式</u>\n",
      "</a>, <a href=\"../main/pms/tps/atm/atmAwardAction.do?newEdit=false&amp;searchMode=common&amp;method=inquiryForPublic&amp;pkAtmMain=51602677&amp;tenderCaseNo=104A102\">\n",
      "<u>001</u>\n",
      "</a>]\n",
      "[<a href=\"../main/pms/tps/atm/atmAwardAction.do?newEdit=false&amp;searchMode=common&amp;method=inquiryForPublic&amp;pkAtmMain=51602678&amp;tenderCaseNo=1040701\">\n",
      "<u>104學年度學生游泳教學活動</u>\n",
      "</a>, <a href=\"../main/pms/tps/atm/atmAwardAction.do?newEdit=false&amp;searchMode=common&amp;method=inquiryForPublic&amp;pkAtmMain=51602678&amp;tenderCaseNo=1040701\">\n",
      "<u>001</u>\n",
      "</a>]\n",
      "[<a href=\"../main/pms/tps/atm/atmAwardAction.do?newEdit=false&amp;searchMode=common&amp;method=inquiryForPublic&amp;pkAtmMain=51602681&amp;tenderCaseNo=MDK0470002\">\n",
      "<u>104年南崁儲運課油料抽卸長約工作</u>\n",
      "</a>, <a href=\"../main/pms/tps/atm/atmAwardAction.do?newEdit=false&amp;searchMode=common&amp;method=inquiryForPublic&amp;pkAtmMain=51602681&amp;tenderCaseNo=MDK0470002\">\n",
      "<u>001</u>\n",
      "</a>]\n",
      "[<a href=\"../main/pms/tps/atm/atmAwardAction.do?newEdit=false&amp;searchMode=common&amp;method=inquiryForPublic&amp;pkAtmMain=51602691&amp;tenderCaseNo=104AP03\">\n",
      "<u>104年棉花嶼、花瓶嶼野生動物保護區陸域生態調查委託案</u>\n",
      "</a>, <a href=\"../main/pms/tps/atm/atmAwardAction.do?newEdit=false&amp;searchMode=common&amp;method=inquiryForPublic&amp;pkAtmMain=51602691&amp;tenderCaseNo=104AP03\">\n",
      "<u>001</u>\n",
      "</a>]\n",
      "[<a href=\"../main/pms/tps/atm/atmAwardAction.do?newEdit=false&amp;searchMode=common&amp;method=inquiryForPublic&amp;pkAtmMain=51602702&amp;tenderCaseNo=104-07-03\">\n",
      "<u>澎湖縣104學年度第1學期生字語詞簿簿本印製及配送採購</u>\n",
      "</a>, <a href=\"../main/pms/tps/atm/atmAwardAction.do?newEdit=false&amp;searchMode=common&amp;method=inquiryForPublic&amp;pkAtmMain=51602702&amp;tenderCaseNo=104-07-03\">\n",
      "<u>001</u>\n",
      "</a>]\n",
      "[<a href=\"../main/pms/tps/atm/atmAwardAction.do?newEdit=false&amp;searchMode=common&amp;method=inquiryForPublic&amp;pkAtmMain=51602706&amp;tenderCaseNo=104TFDA-MD-032\">\n",
      "<u>104年度「新興化粧品國際趨勢研究及學習課程數位化」</u>\n",
      "</a>, <a href=\"../main/pms/tps/atm/atmAwardAction.do?newEdit=false&amp;searchMode=common&amp;method=inquiryForPublic&amp;pkAtmMain=51602706&amp;tenderCaseNo=104TFDA-MD-032\">\n",
      "<u>001</u>\n",
      "</a>]\n",
      "[<a href=\"../main/pms/tps/atm/atmAwardAction.do?newEdit=false&amp;searchMode=common&amp;method=inquiryForPublic&amp;pkAtmMain=51602714&amp;tenderCaseNo=M04C5346\">\n",
      "<u>家庭暴力安全防護網工作手冊編纂計畫</u>\n",
      "</a>, <a href=\"../main/pms/tps/atm/atmAwardAction.do?newEdit=false&amp;searchMode=common&amp;method=inquiryForPublic&amp;pkAtmMain=51602714&amp;tenderCaseNo=M04C5346\">\n",
      "<u>001</u>\n",
      "</a>]\n",
      "[<a href=\"../main/pms/tps/atm/atmAwardAction.do?newEdit=false&amp;searchMode=common&amp;method=inquiryForPublic&amp;pkAtmMain=51602720&amp;tenderCaseNo=104072306\">\n",
      "<u>「我國家庭型態變遷趨勢—政策與法制調適之規劃」委託辦理計畫</u>\n",
      "</a>, <a href=\"../main/pms/tps/atm/atmAwardAction.do?newEdit=false&amp;searchMode=common&amp;method=inquiryForPublic&amp;pkAtmMain=51602720&amp;tenderCaseNo=104072306\">\n",
      "<u>001</u>\n",
      "</a>]\n",
      "[<a href=\"../main/pms/tps/atm/atmAwardAction.do?newEdit=false&amp;searchMode=common&amp;method=inquiryForPublic&amp;pkAtmMain=51602725&amp;tenderCaseNo=EEA0423002\">\n",
      "<u>104~105年度員工健康檢查</u>\n",
      "</a>, <a href=\"../main/pms/tps/atm/atmAwardAction.do?newEdit=false&amp;searchMode=common&amp;method=inquiryForPublic&amp;pkAtmMain=51602725&amp;tenderCaseNo=EEA0423002\">\n",
      "<u>001</u>\n",
      "</a>]\n",
      "[<a href=\"../main/pms/tps/atm/atmAwardAction.do?newEdit=false&amp;searchMode=common&amp;method=inquiryForPublic&amp;pkAtmMain=51602740&amp;tenderCaseNo=104-0022204-078-2-4\">\n",
      "<u>員林鎮溝皂排水改善及分流第一期工程委託設計監造服務案</u>\n",
      "</a>, <a href=\"../main/pms/tps/atm/atmAwardAction.do?newEdit=false&amp;searchMode=common&amp;method=inquiryForPublic&amp;pkAtmMain=51602740&amp;tenderCaseNo=104-0022204-078-2-4\">\n",
      "<u>001</u>\n",
      "</a>]\n",
      "[<a href=\"../main/pms/tps/atm/atmAwardAction.do?newEdit=false&amp;searchMode=common&amp;method=inquiryForPublic&amp;pkAtmMain=51602744&amp;tenderCaseNo=DDA0442003\">\n",
      "<u>104年桃園區加油站地下管線維修工作</u>\n",
      "</a>, <a href=\"../main/pms/tps/atm/atmAwardAction.do?newEdit=false&amp;searchMode=common&amp;method=inquiryForPublic&amp;pkAtmMain=51602744&amp;tenderCaseNo=DDA0442003\">\n",
      "<u>001</u>\n",
      "</a>]\n"
     ]
    }
   ],
   "source": [
    "bid_rows = bid_table.select('tr')[1:-1] \n",
    "for bid_row in bid_rows: \n",
    "    print bid_row.select('a')\n",
    "\n",
    "    #print links\n"
   ]
  },
  {
   "cell_type": "markdown",
   "metadata": {},
   "source": [
    "## 用[0]取第一個連結"
   ]
  },
  {
   "cell_type": "code",
   "execution_count": 32,
   "metadata": {
    "collapsed": false
   },
   "outputs": [
    {
     "name": "stdout",
     "output_type": "stream",
     "text": [
      "../main/pms/tps/atm/atmAwardAction.do?newEdit=false&searchMode=common&method=inquiryForPublic&pkAtmMain=51603142&tenderCaseNo=104037\n",
      "../main/pms/tps/atm/atmAwardAction.do?newEdit=false&searchMode=common&method=inquiryForPublic&pkAtmMain=51603189&tenderCaseNo=1040202\n",
      "../main/pms/tps/atm/atmAwardAction.do?newEdit=false&searchMode=common&method=inquiryForPublic&pkAtmMain=51602392&tenderCaseNo=GUA20150522-1\n",
      "../main/pms/tps/atm/atmAwardAction.do?newEdit=false&searchMode=common&method=inquiryForPublic&pkAtmMain=51603176&tenderCaseNo=104W038\n",
      "../main/pms/tps/atm/atmAwardAction.do?newEdit=false&searchMode=common&method=inquiryForPublic&pkAtmMain=51603207&tenderCaseNo=1040071869\n",
      "../main/pms/tps/atm/atmAwardAction.do?newEdit=false&searchMode=common&method=inquiryForPublic&pkAtmMain=51603035&tenderCaseNo=YG10403\n",
      "../main/pms/tps/atm/atmAwardAction.do?newEdit=false&searchMode=common&method=inquiryForPublic&pkAtmMain=51604288&tenderCaseNo=104812124A\n",
      "../main/pms/tps/atm/atmAwardAction.do?newEdit=false&searchMode=common&method=inquiryForPublic&pkAtmMain=51604257&tenderCaseNo=104220130202\n",
      "../main/pms/tps/atm/atmAwardAction.do?newEdit=false&searchMode=common&method=inquiryForPublic&pkAtmMain=51604227&tenderCaseNo=RAD104211\n",
      "../main/pms/tps/atm/atmAwardAction.do?newEdit=false&searchMode=common&method=inquiryForPublic&pkAtmMain=51604181&tenderCaseNo=1040716-1\n",
      "../main/pms/tps/atm/atmAwardAction.do?newEdit=false&searchMode=common&method=inquiryForPublic&pkAtmMain=51604170&tenderCaseNo=1040716-2\n",
      "../main/pms/tps/atm/atmAwardAction.do?newEdit=false&searchMode=common&method=inquiryForPublic&pkAtmMain=51604146&tenderCaseNo=c1040724\n",
      "../main/pms/tps/atm/atmAwardAction.do?newEdit=false&searchMode=common&method=inquiryForPublic&pkAtmMain=51604137&tenderCaseNo=1040702\n",
      "../main/pms/tps/atm/atmAwardAction.do?newEdit=false&searchMode=common&method=inquiryForPublic&pkAtmMain=51604138&tenderCaseNo=1021031\n",
      "../main/pms/tps/atm/atmAwardAction.do?newEdit=false&searchMode=common&method=inquiryForPublic&pkAtmMain=51604121&tenderCaseNo=HFS-104001\n",
      "../main/pms/tps/atm/atmAwardAction.do?newEdit=false&searchMode=common&method=inquiryForPublic&pkAtmMain=51604021&tenderCaseNo=1042005\n",
      "../main/pms/tps/atm/atmAwardAction.do?newEdit=false&searchMode=common&method=inquiryForPublic&pkAtmMain=51604018&tenderCaseNo=10407C075\n",
      "../main/pms/tps/atm/atmAwardAction.do?newEdit=false&searchMode=common&method=inquiryForPublic&pkAtmMain=51604015&tenderCaseNo=10406C067\n",
      "../main/pms/tps/atm/atmAwardAction.do?newEdit=false&searchMode=common&method=inquiryForPublic&pkAtmMain=51603832&tenderCaseNo=1040717\n",
      "../main/pms/tps/atm/atmAwardAction.do?newEdit=false&searchMode=common&method=inquiryForPublic&pkAtmMain=51603795&tenderCaseNo=1040204\n",
      "../main/pms/tps/atm/atmAwardAction.do?newEdit=false&searchMode=common&method=inquiryForPublic&pkAtmMain=51603755&tenderCaseNo=104041\n",
      "../main/pms/tps/atm/atmAwardAction.do?newEdit=false&searchMode=common&method=inquiryForPublic&pkAtmMain=51603709&tenderCaseNo=104040\n",
      "../main/pms/tps/atm/atmAwardAction.do?newEdit=false&searchMode=common&method=inquiryForPublic&pkAtmMain=51603686&tenderCaseNo=104039\n",
      "../main/pms/tps/atm/atmAwardAction.do?newEdit=false&searchMode=common&method=inquiryForPublic&pkAtmMain=51603685&tenderCaseNo=1040563\n",
      "../main/pms/tps/atm/atmAwardAction.do?newEdit=false&searchMode=common&method=inquiryForPublic&pkAtmMain=51603651&tenderCaseNo=104-7\n",
      "../main/pms/tps/atm/atmAwardAction.do?newEdit=false&searchMode=common&method=inquiryForPublic&pkAtmMain=51603587&tenderCaseNo=1040610\n",
      "../main/pms/tps/atm/atmAwardAction.do?newEdit=false&searchMode=common&method=inquiryForPublic&pkAtmMain=51603450&tenderCaseNo=104110130149\n",
      "../main/pms/tps/atm/atmAwardAction.do?newEdit=false&searchMode=common&method=inquiryForPublic&pkAtmMain=51603443&tenderCaseNo=10405-2\n",
      "../main/pms/tps/atm/atmAwardAction.do?newEdit=false&searchMode=common&method=inquiryForPublic&pkAtmMain=51603427&tenderCaseNo=10418\n",
      "../main/pms/tps/atm/atmAwardAction.do?newEdit=false&searchMode=common&method=inquiryForPublic&pkAtmMain=51603424&tenderCaseNo=LN104007\n",
      "../main/pms/tps/atm/atmAwardAction.do?newEdit=false&searchMode=common&method=inquiryForPublic&pkAtmMain=51603412&tenderCaseNo=10417\n",
      "../main/pms/tps/atm/atmAwardAction.do?newEdit=false&searchMode=common&method=inquiryForPublic&pkAtmMain=51603405&tenderCaseNo=10416\n",
      "../main/pms/tps/atm/atmAwardAction.do?newEdit=false&searchMode=common&method=inquiryForPublic&pkAtmMain=51582175&tenderCaseNo=AASC-104088\n",
      "../main/pms/tps/atm/atmAwardAction.do?newEdit=false&searchMode=common&method=inquiryForPublic&pkAtmMain=51601391&tenderCaseNo=1040707\n",
      "../main/pms/tps/atm/atmAwardAction.do?newEdit=false&searchMode=common&method=inquiryForPublic&pkAtmMain=51602341&tenderCaseNo=104060901\n",
      "../main/pms/tps/atm/atmAwardAction.do?newEdit=false&searchMode=common&method=inquiryForPublic&pkAtmMain=51602350&tenderCaseNo=104072\n",
      "../main/pms/tps/atm/atmAwardAction.do?newEdit=false&searchMode=common&method=inquiryForPublic&pkAtmMain=51602358&tenderCaseNo=P1040521\n",
      "../main/pms/tps/atm/atmAwardAction.do?newEdit=false&searchMode=common&method=inquiryForPublic&pkAtmMain=51602359&tenderCaseNo=IMSC-104139\n",
      "../main/pms/tps/atm/atmAwardAction.do?newEdit=false&searchMode=common&method=inquiryForPublic&pkAtmMain=51602363&tenderCaseNo=K104020\n",
      "../main/pms/tps/atm/atmAwardAction.do?newEdit=false&searchMode=common&method=inquiryForPublic&pkAtmMain=51602364&tenderCaseNo=104-02-033\n",
      "../main/pms/tps/atm/atmAwardAction.do?newEdit=false&searchMode=common&method=inquiryForPublic&pkAtmMain=51602370&tenderCaseNo=104-02-037\n",
      "../main/pms/tps/atm/atmAwardAction.do?newEdit=false&searchMode=common&method=inquiryForPublic&pkAtmMain=51602374&tenderCaseNo=104-02-035\n",
      "../main/pms/tps/atm/atmAwardAction.do?newEdit=false&searchMode=common&method=inquiryForPublic&pkAtmMain=51602372&tenderCaseNo=104-02-034\n",
      "../main/pms/tps/atm/atmAwardAction.do?newEdit=false&searchMode=common&method=inquiryForPublic&pkAtmMain=51602375&tenderCaseNo=104-02-036\n",
      "../main/pms/tps/atm/atmAwardAction.do?newEdit=false&searchMode=common&method=inquiryForPublic&pkAtmMain=51602378&tenderCaseNo=S104074\n",
      "../main/pms/tps/atm/atmAwardAction.do?newEdit=false&searchMode=common&method=inquiryForPublic&pkAtmMain=51602383&tenderCaseNo=IC103007\n",
      "../main/pms/tps/atm/atmAwardAction.do?newEdit=false&searchMode=common&method=inquiryForPublic&pkAtmMain=51601955&tenderCaseNo=1040960\n",
      "../main/pms/tps/atm/atmAwardAction.do?newEdit=false&searchMode=common&method=inquiryForPublic&pkAtmMain=51602407&tenderCaseNo=104070201\n",
      "../main/pms/tps/atm/atmAwardAction.do?newEdit=false&searchMode=common&method=inquiryForPublic&pkAtmMain=51559072&tenderCaseNo=10439\n",
      "../main/pms/tps/atm/atmAwardAction.do?newEdit=false&searchMode=common&method=inquiryForPublic&pkAtmMain=51602433&tenderCaseNo=1040522A\n",
      "../main/pms/tps/atm/atmAwardAction.do?newEdit=false&searchMode=common&method=inquiryForPublic&pkAtmMain=51602435&tenderCaseNo=1040623G\n",
      "../main/pms/tps/atm/atmAwardAction.do?newEdit=false&searchMode=common&method=inquiryForPublic&pkAtmMain=51602453&tenderCaseNo=S104014\n",
      "../main/pms/tps/atm/atmAwardAction.do?newEdit=false&searchMode=common&method=inquiryForPublic&pkAtmMain=51602454&tenderCaseNo=NPM104077\n",
      "../main/pms/tps/atm/atmAwardAction.do?newEdit=false&searchMode=common&method=inquiryForPublic&pkAtmMain=51602456&tenderCaseNo=1040624C\n",
      "../main/pms/tps/atm/atmAwardAction.do?newEdit=false&searchMode=common&method=inquiryForPublic&pkAtmMain=51602468&tenderCaseNo=1040708\n",
      "../main/pms/tps/atm/atmAwardAction.do?newEdit=false&searchMode=common&method=inquiryForPublic&pkAtmMain=51602470&tenderCaseNo=104-A-014\n",
      "../main/pms/tps/atm/atmAwardAction.do?newEdit=false&searchMode=common&method=inquiryForPublic&pkAtmMain=51602471&tenderCaseNo=10406B\n",
      "../main/pms/tps/atm/atmAwardAction.do?newEdit=false&searchMode=common&method=inquiryForPublic&pkAtmMain=51602472&tenderCaseNo=104062505\n",
      "../main/pms/tps/atm/atmAwardAction.do?newEdit=false&searchMode=common&method=inquiryForPublic&pkAtmMain=51602482&tenderCaseNo=No104-0010\n",
      "../main/pms/tps/atm/atmAwardAction.do?newEdit=false&searchMode=common&method=inquiryForPublic&pkAtmMain=51602492&tenderCaseNo=F104-036\n",
      "../main/pms/tps/atm/atmAwardAction.do?newEdit=false&searchMode=common&method=inquiryForPublic&pkAtmMain=51602495&tenderCaseNo=104-096\n",
      "../main/pms/tps/atm/atmAwardAction.do?newEdit=false&searchMode=common&method=inquiryForPublic&pkAtmMain=51602501&tenderCaseNo=NPM104069\n",
      "../main/pms/tps/atm/atmAwardAction.do?newEdit=false&searchMode=common&method=inquiryForPublic&pkAtmMain=51602508&tenderCaseNo=MOEAWRA1040061\n",
      "../main/pms/tps/atm/atmAwardAction.do?newEdit=false&searchMode=common&method=inquiryForPublic&pkAtmMain=51602531&tenderCaseNo=104A011\n",
      "../main/pms/tps/atm/atmAwardAction.do?newEdit=false&searchMode=common&method=inquiryForPublic&pkAtmMain=51602532&tenderCaseNo=104020\n",
      "../main/pms/tps/atm/atmAwardAction.do?newEdit=false&searchMode=common&method=inquiryForPublic&pkAtmMain=51602564&tenderCaseNo=104024\n",
      "../main/pms/tps/atm/atmAwardAction.do?newEdit=false&searchMode=common&method=inquiryForPublic&pkAtmMain=51602565&tenderCaseNo=1040703\n",
      "../main/pms/tps/atm/atmAwardAction.do?newEdit=false&searchMode=common&method=inquiryForPublic&pkAtmMain=51602570&tenderCaseNo=104-006\n",
      "../main/pms/tps/atm/atmAwardAction.do?newEdit=false&searchMode=common&method=inquiryForPublic&pkAtmMain=51602578&tenderCaseNo=D104033\n",
      "../main/pms/tps/atm/atmAwardAction.do?newEdit=false&searchMode=common&method=inquiryForPublic&pkAtmMain=51602589&tenderCaseNo=1040529\n",
      "../main/pms/tps/atm/atmAwardAction.do?newEdit=false&searchMode=common&method=inquiryForPublic&pkAtmMain=51602590&tenderCaseNo=TC104C094\n",
      "../main/pms/tps/atm/atmAwardAction.do?newEdit=false&searchMode=common&method=inquiryForPublic&pkAtmMain=51482308&tenderCaseNo=104-C-Z-004\n",
      "../main/pms/tps/atm/atmAwardAction.do?newEdit=false&searchMode=common&method=inquiryForPublic&pkAtmMain=51602594&tenderCaseNo=1040005214\n",
      "../main/pms/tps/atm/atmAwardAction.do?newEdit=false&searchMode=common&method=inquiryForPublic&pkAtmMain=51482312&tenderCaseNo=104-C-Z-002\n",
      "../main/pms/tps/atm/atmAwardAction.do?newEdit=false&searchMode=common&method=inquiryForPublic&pkAtmMain=51602597&tenderCaseNo=J104-040\n",
      "../main/pms/tps/atm/atmAwardAction.do?newEdit=false&searchMode=common&method=inquiryForPublic&pkAtmMain=51482311&tenderCaseNo=104-C-Z-003\n",
      "../main/pms/tps/atm/atmAwardAction.do?newEdit=false&searchMode=common&method=inquiryForPublic&pkAtmMain=51602601&tenderCaseNo=1040702001\n",
      "../main/pms/tps/atm/atmAwardAction.do?newEdit=false&searchMode=common&method=inquiryForPublic&pkAtmMain=51602603&tenderCaseNo=104A143\n",
      "../main/pms/tps/atm/atmAwardAction.do?newEdit=false&searchMode=common&method=inquiryForPublic&pkAtmMain=51520991&tenderCaseNo=104-C-Z-007\n",
      "../main/pms/tps/atm/atmAwardAction.do?newEdit=false&searchMode=common&method=inquiryForPublic&pkAtmMain=51520995&tenderCaseNo=104-C-Z-008\n",
      "../main/pms/tps/atm/atmAwardAction.do?newEdit=false&searchMode=common&method=inquiryForPublic&pkAtmMain=51602615&tenderCaseNo=1040702B1\n",
      "../main/pms/tps/atm/atmAwardAction.do?newEdit=false&searchMode=common&method=inquiryForPublic&pkAtmMain=51602617&tenderCaseNo=DEA0461004\n",
      "../main/pms/tps/atm/atmAwardAction.do?newEdit=false&searchMode=common&method=inquiryForPublic&pkAtmMain=51602620&tenderCaseNo=KMA-L-10405\n",
      "../main/pms/tps/atm/atmAwardAction.do?newEdit=false&searchMode=common&method=inquiryForPublic&pkAtmMain=51602629&tenderCaseNo=104-9\n",
      "../main/pms/tps/atm/atmAwardAction.do?newEdit=false&searchMode=common&method=inquiryForPublic&pkAtmMain=51602645&tenderCaseNo=104009\n",
      "../main/pms/tps/atm/atmAwardAction.do?newEdit=false&searchMode=common&method=inquiryForPublic&pkAtmMain=51602652&tenderCaseNo=1040720\n",
      "../main/pms/tps/atm/atmAwardAction.do?newEdit=false&searchMode=common&method=inquiryForPublic&pkAtmMain=51602662&tenderCaseNo=3410400166-S04060\n",
      "../main/pms/tps/atm/atmAwardAction.do?newEdit=false&searchMode=common&method=inquiryForPublic&pkAtmMain=51602670&tenderCaseNo=10400004\n",
      "../main/pms/tps/atm/atmAwardAction.do?newEdit=false&searchMode=common&method=inquiryForPublic&pkAtmMain=51602674&tenderCaseNo=104-0022205-052-2-1\n",
      "../main/pms/tps/atm/atmAwardAction.do?newEdit=false&searchMode=common&method=inquiryForPublic&pkAtmMain=51602677&tenderCaseNo=104A102\n",
      "../main/pms/tps/atm/atmAwardAction.do?newEdit=false&searchMode=common&method=inquiryForPublic&pkAtmMain=51602678&tenderCaseNo=1040701\n",
      "../main/pms/tps/atm/atmAwardAction.do?newEdit=false&searchMode=common&method=inquiryForPublic&pkAtmMain=51602681&tenderCaseNo=MDK0470002\n",
      "../main/pms/tps/atm/atmAwardAction.do?newEdit=false&searchMode=common&method=inquiryForPublic&pkAtmMain=51602691&tenderCaseNo=104AP03\n",
      "../main/pms/tps/atm/atmAwardAction.do?newEdit=false&searchMode=common&method=inquiryForPublic&pkAtmMain=51602702&tenderCaseNo=104-07-03\n",
      "../main/pms/tps/atm/atmAwardAction.do?newEdit=false&searchMode=common&method=inquiryForPublic&pkAtmMain=51602706&tenderCaseNo=104TFDA-MD-032\n",
      "../main/pms/tps/atm/atmAwardAction.do?newEdit=false&searchMode=common&method=inquiryForPublic&pkAtmMain=51602714&tenderCaseNo=M04C5346\n",
      "../main/pms/tps/atm/atmAwardAction.do?newEdit=false&searchMode=common&method=inquiryForPublic&pkAtmMain=51602720&tenderCaseNo=104072306\n",
      "../main/pms/tps/atm/atmAwardAction.do?newEdit=false&searchMode=common&method=inquiryForPublic&pkAtmMain=51602725&tenderCaseNo=EEA0423002\n",
      "../main/pms/tps/atm/atmAwardAction.do?newEdit=false&searchMode=common&method=inquiryForPublic&pkAtmMain=51602740&tenderCaseNo=104-0022204-078-2-4\n",
      "../main/pms/tps/atm/atmAwardAction.do?newEdit=false&searchMode=common&method=inquiryForPublic&pkAtmMain=51602744&tenderCaseNo=DDA0442003\n"
     ]
    }
   ],
   "source": [
    "for bid_row in bid_rows: \n",
    "    links =  bid_row.select('a')[0]['href']\n",
    "    print links\n"
   ]
  },
  {
   "cell_type": "markdown",
   "metadata": {},
   "source": [
    "## 取得實際連結"
   ]
  },
  {
   "cell_type": "code",
   "execution_count": 33,
   "metadata": {
    "collapsed": false
   },
   "outputs": [],
   "source": [
    "for bid_row in bid_rows: \n",
    "    link = [tag['href'] for tag in bid_row.select('a')][0] \n",
    "\n",
    "    link_href = \"http://web.pcc.gov.tw/tps\" + link[2:] \n",
    "\n",
    "    #print link_href\n"
   ]
  },
  {
   "cell_type": "markdown",
   "metadata": {},
   "source": [
    "## 使用urljoin"
   ]
  },
  {
   "cell_type": "code",
   "execution_count": 34,
   "metadata": {
    "collapsed": false
   },
   "outputs": [],
   "source": [
    "import urlparse\n",
    "for bid_row in bid_rows: \n",
    "    link = [tag['href'] for tag in bid_row.select('a')][0] \n",
    "\n",
    "    link_href = urlparse.urljoin(\"http://web.pcc.gov.tw/tps/pss/tender.do?searchMode=common&searchType=advance\", link)\n",
    "\n",
    "    #print link_href\n"
   ]
  },
  {
   "cell_type": "markdown",
   "metadata": {},
   "source": [
    "## 複習一下如何使用Python做檔案寫入"
   ]
  },
  {
   "cell_type": "code",
   "execution_count": 35,
   "metadata": {
    "collapsed": false
   },
   "outputs": [],
   "source": [
    "f = open(\"test.txt\", 'w') \n",
    "f.write(\"Hello World\\n\") \n",
    "f.close() "
   ]
  },
  {
   "cell_type": "markdown",
   "metadata": {},
   "source": [
    "## 將每頁標案清單的連結存入檔案"
   ]
  },
  {
   "cell_type": "code",
   "execution_count": 36,
   "metadata": {
    "collapsed": false
   },
   "outputs": [],
   "source": [
    "bid_file = open(\"bid_list.txt\", 'w') \n",
    "page_format = \"http://web.pcc.gov.tw/tps/pss/tender.do?searchMode=common&searchType=advance&searchTarget=ATM&method=search&isSpdt=&pageIndex=%d\" \n",
    "for page in range(1, page_number + 1): \n",
    "    bid_list = rs.get(page_format%(page)) \n",
    "    bid_response = bid_list.text.encode('utf8') \n",
    "    bid_soup = BeautifulSoup(bid_response) \n",
    "    bid_table = bid_soup.select(\"#print_area\") [0]\n",
    "    bid_rows = bid_table.select('tr')[1:-1] \n",
    "    for bid_row in bid_rows:         \n",
    "        link = bid_row.select('a')[0]['href'] \n",
    "        link_href = \"http://web.pcc.gov.tw/tps\" + link[2:] \n",
    "        bid_file.write(link_href + \"\\n\") \n",
    "bid_file.close() "
   ]
  },
  {
   "cell_type": "markdown",
   "metadata": {},
   "source": [
    "## 0. 引入該用的package"
   ]
  },
  {
   "cell_type": "code",
   "execution_count": 37,
   "metadata": {
    "collapsed": false
   },
   "outputs": [],
   "source": [
    "import requests\n",
    "import urlparse \n",
    "from bs4 import BeautifulSoup \n",
    "from math import ceil"
   ]
  },
  {
   "cell_type": "markdown",
   "metadata": {},
   "source": [
    "## 1. 設定查詢條件"
   ]
  },
  {
   "cell_type": "code",
   "execution_count": 42,
   "metadata": {
    "collapsed": false
   },
   "outputs": [],
   "source": [
    "payload = { 'method':'search', 'searchMethod':'true', 'searchTarget':'ATM',\n",
    " 'orgName':'', 'orgId':'', 'hid_1':'1',\n",
    " 'tenderName':'', 'tenderId':'', 'tenderStatus':'4,5,21,29',\n",
    " 'tenderWay':'', 'awardAnnounceStartDate':'104/07/24',\n",
    " 'awardAnnounceEndDate':'104/07/24', 'radProctrgCate':'3', \n",
    " 'proctrgCate':'3', 'tenderRange':'', 'minBudget':'',\n",
    " 'maxBudget':'', 'item':'','hid_2':'1',\n",
    " 'gottenVendorName':'', 'gottenVendorId':'', 'hid_3':'1',\n",
    " 'submitVendorName':'', 'submitVendorId':'', 'location':'',\n",
    " 'priorityCate':'', 'isReConstruct':'', 'btnQuery':'查詢' }\n",
    "\n",
    "rs = requests.session() \n",
    "user_post = rs.post(\"http://web.pcc.gov.tw/tps/pss/tender.do?searchMode=common&searchType=advance\", data=payload) \n",
    "response_text = user_post.text.encode('utf8')\n"
   ]
  },
  {
   "cell_type": "markdown",
   "metadata": {},
   "source": [
    "## 2. 計算抓取頁數"
   ]
  },
  {
   "cell_type": "code",
   "execution_count": 43,
   "metadata": {
    "collapsed": false
   },
   "outputs": [],
   "source": [
    "soup = BeautifulSoup(response_text) \n",
    "rec_number_element = soup.select(\".T11b\" )[0] \n",
    "rec_number = int(rec_number_element.text)\n",
    "page_number = int(ceil(float(rec_number) / 100))\n"
   ]
  },
  {
   "cell_type": "markdown",
   "metadata": {},
   "source": [
    "## 3. 依每頁抓取所有標案連結 &     4. 存入每頁標案連結"
   ]
  },
  {
   "cell_type": "code",
   "execution_count": 44,
   "metadata": {
    "collapsed": false
   },
   "outputs": [],
   "source": [
    "bid_file = open(\"bid_list.txt\", 'w') \n",
    "page_format = \"http://web.pcc.gov.tw/tps/pss/tender.do?searchMode=common&searchType=advance&searchTarget=ATM&method=search&isSpdt=&pageIndex=%d\" \n",
    "for page in range(1, page_number + 1): \n",
    "    bid_list = rs.get(page_format%(page)) \n",
    "    bid_response = bid_list.text.encode('utf8') \n",
    "    bid_soup = BeautifulSoup(bid_response)\n",
    "    bid_table = bid_soup.select(\"#print_area\")[0] \n",
    "    bid_rows = bid_table.select('tr')[1:-1] \n",
    "    for bid_row in bid_rows: \n",
    "        link = [tag['href'] for tag in bid_row.select('a')][0] \n",
    "        link_href = urlparse.urljoin(\"http://web.pcc.gov.tw/tps/pss/tender.do?searchMode=common&searchType=advance\", link) \n",
    "        bid_file.write(link_href + \"\\n\") \n",
    "bid_file.close() "
   ]
  },
  {
   "cell_type": "markdown",
   "metadata": {},
   "source": [
    "## 計算總共存了多少個連結"
   ]
  },
  {
   "cell_type": "code",
   "execution_count": 45,
   "metadata": {
    "collapsed": false
   },
   "outputs": [
    {
     "name": "stdout",
     "output_type": "stream",
     "text": [
      "214\n"
     ]
    }
   ],
   "source": [
    "line_num = 0 \n",
    "f = open(\"bid_list.txt\", \"r\") \n",
    "for line in f.readlines(): \n",
    "    line_num = line_num + 1 \n",
    "print line_num \n",
    "f.close() "
   ]
  },
  {
   "cell_type": "markdown",
   "metadata": {},
   "source": [
    "## 判斷抓下來的資料筆數  是否與網頁上呈現的相同"
   ]
  },
  {
   "cell_type": "code",
   "execution_count": 46,
   "metadata": {
    "collapsed": false
   },
   "outputs": [
    {
     "name": "stdout",
     "output_type": "stream",
     "text": [
      "214\n",
      "record number on web page is equal to number of lines in file\n"
     ]
    }
   ],
   "source": [
    "soup = BeautifulSoup(response_text) \n",
    "rec_number_element = soup.select(\".T11b\" )[0] \n",
    "rec_number = int(rec_number_element.text)\n",
    "\n",
    "line_num = 0 \n",
    "f = open(\"bid_list.txt\", \"r\") \n",
    "for line in f.readlines(): \n",
    "    line_num = line_num + 1 \n",
    "print line_num \n",
    "f.close() \n",
    "\n",
    "#使用if 判斷\n",
    "if rec_number == line_num: \n",
    "    print \"record number on web page is equal to number of lines in file\" \n"
   ]
  },
  {
   "cell_type": "markdown",
   "metadata": {},
   "source": [
    "## 使用requests.get 抓取標案細節"
   ]
  },
  {
   "cell_type": "code",
   "execution_count": 47,
   "metadata": {
    "collapsed": false
   },
   "outputs": [],
   "source": [
    "request_get = requests.get(\"http://web.pcc.gov.tw/tps/main/pms/tps/atm/atmAwardAction.do?newEdit=false&searchMode=common&method=inquiryForPublic&pkAtmMain=51603709&tenderCaseNo=104040\") \n",
    "response = request_get.text.encode('utf8') \n",
    "#print response"
   ]
  },
  {
   "cell_type": "markdown",
   "metadata": {},
   "source": [
    "## 取得id為printArea 的區塊"
   ]
  },
  {
   "cell_type": "code",
   "execution_count": 48,
   "metadata": {
    "collapsed": false
   },
   "outputs": [],
   "source": [
    "request_get = requests.get(\"http://web.pcc.gov.tw/tps/main/pms/tps/atm/atmAwardAction.do?newEdit=false&searchMode=common&method=inquiryForPublic&pkAtmMain=51603709&tenderCaseNo=104040\") \n",
    "response = request_get.text.encode('utf8') \n",
    "soup = BeautifulSoup(response)\n",
    "printarea = soup.select('#printArea') [0]\n",
    "#print printarea\n"
   ]
  },
  {
   "cell_type": "markdown",
   "metadata": {},
   "source": [
    "## 將標案資料寫進檔案中"
   ]
  },
  {
   "cell_type": "code",
   "execution_count": 49,
   "metadata": {
    "collapsed": false
   },
   "outputs": [
    {
     "ename": "TypeError",
     "evalue": "expected a character buffer object",
     "output_type": "error",
     "traceback": [
      "\u001b[1;31m---------------------------------------------------------------------------\u001b[0m",
      "\u001b[1;31mTypeError\u001b[0m                                 Traceback (most recent call last)",
      "\u001b[1;32m<ipython-input-49-9caff65addb3>\u001b[0m in \u001b[0;36m<module>\u001b[1;34m()\u001b[0m\n\u001b[0;32m      4\u001b[0m \u001b[0msoup\u001b[0m \u001b[1;33m=\u001b[0m \u001b[0mBeautifulSoup\u001b[0m\u001b[1;33m(\u001b[0m\u001b[0mresponse\u001b[0m\u001b[1;33m)\u001b[0m\u001b[1;33m\u001b[0m\u001b[0m\n\u001b[0;32m      5\u001b[0m \u001b[0mprintarea\u001b[0m \u001b[1;33m=\u001b[0m \u001b[0msoup\u001b[0m\u001b[1;33m.\u001b[0m\u001b[0mselect\u001b[0m\u001b[1;33m(\u001b[0m\u001b[1;34m'#printArea'\u001b[0m\u001b[1;33m)\u001b[0m \u001b[1;33m[\u001b[0m\u001b[1;36m0\u001b[0m\u001b[1;33m]\u001b[0m\u001b[1;33m\u001b[0m\u001b[0m\n\u001b[1;32m----> 6\u001b[1;33m \u001b[0mbid_detail\u001b[0m\u001b[1;33m.\u001b[0m\u001b[0mwrite\u001b[0m\u001b[1;33m(\u001b[0m\u001b[0mprintarea\u001b[0m\u001b[1;33m)\u001b[0m\u001b[1;33m\u001b[0m\u001b[0m\n\u001b[0m\u001b[0;32m      7\u001b[0m \u001b[0mbid_detail\u001b[0m\u001b[1;33m.\u001b[0m\u001b[0mclose\u001b[0m\u001b[1;33m(\u001b[0m\u001b[1;33m)\u001b[0m\u001b[1;33m\u001b[0m\u001b[0m\n",
      "\u001b[1;31mTypeError\u001b[0m: expected a character buffer object"
     ]
    }
   ],
   "source": [
    "bid_detail = open(\"bid_detail.txt\", 'w') \n",
    "request_get = requests.get(\"http://web.pcc.gov.tw/tps/main/pms/tps/atm/atmAwardAction.do?newEdit=false&searchMode=common&method=inquiryForPublic&pkAtmMain=51603709&tenderCaseNo=104040\") \n",
    "response = request_get.text.encode('utf8') \n",
    "soup = BeautifulSoup(response)\n",
    "printarea = soup.select('#printArea') [0]\n",
    "bid_detail.write(printarea) \n",
    "bid_detail.close()"
   ]
  },
  {
   "cell_type": "markdown",
   "metadata": {},
   "source": [
    "## 使用prettify 將soup 抓到的tag   轉換成str"
   ]
  },
  {
   "cell_type": "code",
   "execution_count": 50,
   "metadata": {
    "collapsed": false
   },
   "outputs": [],
   "source": [
    "bid_detail = open(\"bid_detail.txt\", 'w') \n",
    "request_get = requests.get(\"http://web.pcc.gov.tw/tps/main/pms/tps/atm/atmAwardAction.do?newEdit=false&searchMode=common&method=inquiryForPublic&pkAtmMain=51603709&tenderCaseNo=104040\") \n",
    "response = request_get.text.encode('utf8') \n",
    "soup = BeautifulSoup(response)\n",
    "printarea = soup.select('#printArea') [0] \n",
    "bid_detail.write(printarea.prettify(\"utf-8\")) \n",
    "bid_detail.close()"
   ]
  },
  {
   "cell_type": "markdown",
   "metadata": {},
   "source": [
    "## 怎麼找出案號是否會重複?"
   ]
  },
  {
   "cell_type": "code",
   "execution_count": 51,
   "metadata": {
    "collapsed": false
   },
   "outputs": [
    {
     "name": "stdout",
     "output_type": "stream",
     "text": [
      "1040707\n",
      "1040702\n"
     ]
    }
   ],
   "source": [
    "case_dic = {} \n",
    "f = open(\"bid_list.txt\", \"r\") \n",
    "for line in f.readlines(): \n",
    "    rec = line.strip() \n",
    "    caseno = rec.split('tenderCaseNo=')[1] \n",
    "    if caseno not in case_dic: \n",
    "        case_dic[caseno] = 1 \n",
    "    else: \n",
    "        print caseno \n",
    "f.close()"
   ]
  },
  {
   "cell_type": "markdown",
   "metadata": {},
   "source": [
    "## 如何從url 取得這兩個值?"
   ]
  },
  {
   "cell_type": "code",
   "execution_count": 52,
   "metadata": {
    "collapsed": false
   },
   "outputs": [],
   "source": [
    "link = \"http://web.pcc.gov.tw/tps/main/pms/tps/atm/atmAwardAction.do?newEdit=false&searchMode=common&method=inquiryForPublic&pkAtmMain=51239291&tenderCaseNo=0607L1030328\" "
   ]
  },
  {
   "cell_type": "markdown",
   "metadata": {},
   "source": [
    "## 使用split "
   ]
  },
  {
   "cell_type": "code",
   "execution_count": 53,
   "metadata": {
    "collapsed": false
   },
   "outputs": [
    {
     "name": "stdout",
     "output_type": "stream",
     "text": [
      "51239291 0607L1030328\n"
     ]
    }
   ],
   "source": [
    "rear_substring = link.split(\"pkAtmMain=\")[1] \n",
    "param = rear_substring.split(\"&tenderCaseNo=\") \n",
    "pkAtmMain= param[0] \n",
    "caseno= param[1] \n",
    "print pkAtmMain,caseno "
   ]
  },
  {
   "cell_type": "markdown",
   "metadata": {},
   "source": [
    "## re.match 範例"
   ]
  },
  {
   "cell_type": "code",
   "execution_count": 54,
   "metadata": {
    "collapsed": false
   },
   "outputs": [
    {
     "name": "stdout",
     "output_type": "stream",
     "text": [
      "David Chiu\n"
     ]
    }
   ],
   "source": [
    "import re \n",
    "m = re.match(r\"(?P<FirstName>\\w+) (?P<LastName>\\w+)\", \"David Chiu\") \n",
    "print m.group(\"FirstName\"), m.group(\"LastName\") "
   ]
  },
  {
   "cell_type": "markdown",
   "metadata": {},
   "source": [
    "## 使用re.match"
   ]
  },
  {
   "cell_type": "code",
   "execution_count": 55,
   "metadata": {
    "collapsed": false
   },
   "outputs": [
    {
     "name": "stdout",
     "output_type": "stream",
     "text": [
      "51239291 0607L1030328\n"
     ]
    }
   ],
   "source": [
    "import re \n",
    "link = \"http://web.pcc.gov.tw/tps/main/pms/tps/atm/atmAwardAction.do?newEdit=false&searchMode=common&method=inquiryForPublic&pkAtmMain=51239291&tenderCaseNo=0607L1030328\" \n",
    "m = re.match(r\"([^ ]+)pkAtmMain=(?P<pkAtmMain>\\w+)&tenderCaseNo=(?P<tenderCaseNo>\\w+)\", link) \n",
    "print m.group('pkAtmMain'), m.group('tenderCaseNo')"
   ]
  },
  {
   "cell_type": "markdown",
   "metadata": {},
   "source": [
    "## 抓取標案細節完成版"
   ]
  },
  {
   "cell_type": "code",
   "execution_count": null,
   "metadata": {
    "collapsed": false
   },
   "outputs": [],
   "source": [
    "# -*- coding: utf-8 -*- \n",
    "from bs4 import BeautifulSoup \n",
    "import re, requests \n",
    "import time\n",
    "\n",
    "bid_list = open('bid_list.txt', 'r') \n",
    "for line in bid_list.readlines(): \n",
    "    pagelink = line.strip() \n",
    "    m = re.match(r\"([^ ]+)pkAtmMain=(?P<pkAtmMain>.+)&tenderCaseNo=(?P<tenderCaseNo>.+)\", pagelink) \n",
    "    filename = \"%s_%s\"%(m.group('pkAtmMain'), m.group('tenderCaseNo')) \n",
    "    request_get = requests.get(pagelink) \n",
    "    response = request_get.text.encode('utf8') \n",
    "    soup = BeautifulSoup(response) \n",
    "    printarea = soup.select('#printArea')[0] \n",
    "    #print filename\n",
    "    bid_detail = open(\"gov/%s.txt\"%(filename), 'w') \n",
    "    bid_detail.write(printarea .prettify(\"utf-8\")) \n",
    "    bid_detail.close() \n",
    "    time.sleep(0.01)\n",
    "bid_list.close()\n"
   ]
  },
  {
   "cell_type": "markdown",
   "metadata": {},
   "source": [
    "## Findbook 詢價"
   ]
  },
  {
   "cell_type": "code",
   "execution_count": 60,
   "metadata": {
    "collapsed": false
   },
   "outputs": [],
   "source": [
    "import requests\n",
    "import time \n",
    "booklist = [9789863021582, 9789866031472]\n",
    "find_url = 'http://findbook.tw/book/%s/basic'\n",
    "for book in booklist:\n",
    "    f = open('%s.html'%(book), 'w')\n",
    "    res = requests.get(find_url%(book))\n",
    "    f.write(res.text.encode('utf-8'))\n",
    "    f.close()\n",
    "    time.sleep(1)"
   ]
  },
  {
   "cell_type": "markdown",
   "metadata": {},
   "source": [
    "## 取得頁面的encoding"
   ]
  },
  {
   "cell_type": "code",
   "execution_count": 61,
   "metadata": {
    "collapsed": false
   },
   "outputs": [
    {
     "name": "stdout",
     "output_type": "stream",
     "text": [
      "ISO-8859-1\n"
     ]
    }
   ],
   "source": [
    "import requests\n",
    "import time \n",
    "res = requests.get('http://findbook.tw/book/9789863021582/basic')\n",
    "print res.encoding"
   ]
  },
  {
   "cell_type": "markdown",
   "metadata": {},
   "source": [
    "## 更改response 的encoding"
   ]
  },
  {
   "cell_type": "code",
   "execution_count": 62,
   "metadata": {
    "collapsed": false
   },
   "outputs": [
    {
     "name": "stdout",
     "output_type": "stream",
     "text": [
      "utf-8\n"
     ]
    }
   ],
   "source": [
    "import requests\n",
    "import time \n",
    "res = requests.get('http://findbook.tw/book/9789863021582/basic')\n",
    "res.encoding= 'utf-8'\n",
    "print res.encoding"
   ]
  },
  {
   "cell_type": "markdown",
   "metadata": {},
   "source": [
    "## 再度修改程式"
   ]
  },
  {
   "cell_type": "code",
   "execution_count": 63,
   "metadata": {
    "collapsed": false
   },
   "outputs": [],
   "source": [
    "import requests\n",
    "import time \n",
    "\n",
    "booklist = ['9789863021582', '9789866031472']\n",
    "find_url = 'http://findbook.tw/book/%s/basic'\n",
    "for book in booklist:\n",
    "    f = open('%s.html'%(book), 'w')\n",
    "    res = requests.get(find_url%(book))\n",
    "    res.encoding= 'utf-8'\n",
    "    f.write(res.text.encode('utf-8'))\n",
    "    f.close()\n",
    "    time.sleep(1)"
   ]
  },
  {
   "cell_type": "markdown",
   "metadata": {},
   "source": [
    "## 用爬蟲取得PTT資訊"
   ]
  },
  {
   "cell_type": "code",
   "execution_count": 64,
   "metadata": {
    "collapsed": false
   },
   "outputs": [
    {
     "name": "stderr",
     "output_type": "stream",
     "text": [
      "C:\\Python27\\lib\\site-packages\\requests\\packages\\urllib3\\util\\ssl_.py:90: InsecurePlatformWarning: A true SSLContext object is not available. This prevents urllib3 from configuring SSL appropriately and may cause certain SSL connections to fail. For more information, see https://urllib3.readthedocs.org/en/latest/security.html#insecureplatformwarning.\n",
      "  InsecurePlatformWarning\n"
     ]
    },
    {
     "ename": "SSLError",
     "evalue": "hostname 'www.ptt.cc' doesn't match either of 'images.ptt.cc', 'ptt.cc'",
     "output_type": "error",
     "traceback": [
      "\u001b[1;31m---------------------------------------------------------------------------\u001b[0m",
      "\u001b[1;31mSSLError\u001b[0m                                  Traceback (most recent call last)",
      "\u001b[1;32m<ipython-input-64-3534d650611a>\u001b[0m in \u001b[0;36m<module>\u001b[1;34m()\u001b[0m\n\u001b[0;32m      1\u001b[0m \u001b[1;32mimport\u001b[0m \u001b[0mrequests\u001b[0m\u001b[1;33m\u001b[0m\u001b[0m\n\u001b[1;32m----> 2\u001b[1;33m \u001b[0mres\u001b[0m \u001b[1;33m=\u001b[0m \u001b[0mrequests\u001b[0m\u001b[1;33m.\u001b[0m\u001b[0mget\u001b[0m\u001b[1;33m(\u001b[0m\u001b[1;34m'http://www.ptt.cc/bbs/Food/index.html'\u001b[0m\u001b[1;33m)\u001b[0m\u001b[1;33m\u001b[0m\u001b[0m\n\u001b[0m\u001b[0;32m      3\u001b[0m \u001b[1;32mprint\u001b[0m \u001b[0mres\u001b[0m\u001b[1;33m.\u001b[0m\u001b[0mtext\u001b[0m\u001b[1;33m\u001b[0m\u001b[0m\n",
      "\u001b[1;32mC:\\Python27\\lib\\site-packages\\requests\\api.pyc\u001b[0m in \u001b[0;36mget\u001b[1;34m(url, params, **kwargs)\u001b[0m\n\u001b[0;32m     67\u001b[0m \u001b[1;33m\u001b[0m\u001b[0m\n\u001b[0;32m     68\u001b[0m     \u001b[0mkwargs\u001b[0m\u001b[1;33m.\u001b[0m\u001b[0msetdefault\u001b[0m\u001b[1;33m(\u001b[0m\u001b[1;34m'allow_redirects'\u001b[0m\u001b[1;33m,\u001b[0m \u001b[0mTrue\u001b[0m\u001b[1;33m)\u001b[0m\u001b[1;33m\u001b[0m\u001b[0m\n\u001b[1;32m---> 69\u001b[1;33m     \u001b[1;32mreturn\u001b[0m \u001b[0mrequest\u001b[0m\u001b[1;33m(\u001b[0m\u001b[1;34m'get'\u001b[0m\u001b[1;33m,\u001b[0m \u001b[0murl\u001b[0m\u001b[1;33m,\u001b[0m \u001b[0mparams\u001b[0m\u001b[1;33m=\u001b[0m\u001b[0mparams\u001b[0m\u001b[1;33m,\u001b[0m \u001b[1;33m**\u001b[0m\u001b[0mkwargs\u001b[0m\u001b[1;33m)\u001b[0m\u001b[1;33m\u001b[0m\u001b[0m\n\u001b[0m\u001b[0;32m     70\u001b[0m \u001b[1;33m\u001b[0m\u001b[0m\n\u001b[0;32m     71\u001b[0m \u001b[1;33m\u001b[0m\u001b[0m\n",
      "\u001b[1;32mC:\\Python27\\lib\\site-packages\\requests\\api.pyc\u001b[0m in \u001b[0;36mrequest\u001b[1;34m(method, url, **kwargs)\u001b[0m\n\u001b[0;32m     48\u001b[0m \u001b[1;33m\u001b[0m\u001b[0m\n\u001b[0;32m     49\u001b[0m     \u001b[0msession\u001b[0m \u001b[1;33m=\u001b[0m \u001b[0msessions\u001b[0m\u001b[1;33m.\u001b[0m\u001b[0mSession\u001b[0m\u001b[1;33m(\u001b[0m\u001b[1;33m)\u001b[0m\u001b[1;33m\u001b[0m\u001b[0m\n\u001b[1;32m---> 50\u001b[1;33m     \u001b[0mresponse\u001b[0m \u001b[1;33m=\u001b[0m \u001b[0msession\u001b[0m\u001b[1;33m.\u001b[0m\u001b[0mrequest\u001b[0m\u001b[1;33m(\u001b[0m\u001b[0mmethod\u001b[0m\u001b[1;33m=\u001b[0m\u001b[0mmethod\u001b[0m\u001b[1;33m,\u001b[0m \u001b[0murl\u001b[0m\u001b[1;33m=\u001b[0m\u001b[0murl\u001b[0m\u001b[1;33m,\u001b[0m \u001b[1;33m**\u001b[0m\u001b[0mkwargs\u001b[0m\u001b[1;33m)\u001b[0m\u001b[1;33m\u001b[0m\u001b[0m\n\u001b[0m\u001b[0;32m     51\u001b[0m     \u001b[1;31m# By explicitly closing the session, we avoid leaving sockets open which\u001b[0m\u001b[1;33m\u001b[0m\u001b[1;33m\u001b[0m\u001b[0m\n\u001b[0;32m     52\u001b[0m     \u001b[1;31m# can trigger a ResourceWarning in some cases, and look like a memory leak\u001b[0m\u001b[1;33m\u001b[0m\u001b[1;33m\u001b[0m\u001b[0m\n",
      "\u001b[1;32mC:\\Python27\\lib\\site-packages\\requests\\sessions.pyc\u001b[0m in \u001b[0;36mrequest\u001b[1;34m(self, method, url, params, data, headers, cookies, files, auth, timeout, allow_redirects, proxies, hooks, stream, verify, cert, json)\u001b[0m\n\u001b[0;32m    463\u001b[0m         }\n\u001b[0;32m    464\u001b[0m         \u001b[0msend_kwargs\u001b[0m\u001b[1;33m.\u001b[0m\u001b[0mupdate\u001b[0m\u001b[1;33m(\u001b[0m\u001b[0msettings\u001b[0m\u001b[1;33m)\u001b[0m\u001b[1;33m\u001b[0m\u001b[0m\n\u001b[1;32m--> 465\u001b[1;33m         \u001b[0mresp\u001b[0m \u001b[1;33m=\u001b[0m \u001b[0mself\u001b[0m\u001b[1;33m.\u001b[0m\u001b[0msend\u001b[0m\u001b[1;33m(\u001b[0m\u001b[0mprep\u001b[0m\u001b[1;33m,\u001b[0m \u001b[1;33m**\u001b[0m\u001b[0msend_kwargs\u001b[0m\u001b[1;33m)\u001b[0m\u001b[1;33m\u001b[0m\u001b[0m\n\u001b[0m\u001b[0;32m    466\u001b[0m \u001b[1;33m\u001b[0m\u001b[0m\n\u001b[0;32m    467\u001b[0m         \u001b[1;32mreturn\u001b[0m \u001b[0mresp\u001b[0m\u001b[1;33m\u001b[0m\u001b[0m\n",
      "\u001b[1;32mC:\\Python27\\lib\\site-packages\\requests\\sessions.pyc\u001b[0m in \u001b[0;36msend\u001b[1;34m(self, request, **kwargs)\u001b[0m\n\u001b[0;32m    592\u001b[0m \u001b[1;33m\u001b[0m\u001b[0m\n\u001b[0;32m    593\u001b[0m         \u001b[1;31m# Resolve redirects if allowed.\u001b[0m\u001b[1;33m\u001b[0m\u001b[1;33m\u001b[0m\u001b[0m\n\u001b[1;32m--> 594\u001b[1;33m         \u001b[0mhistory\u001b[0m \u001b[1;33m=\u001b[0m \u001b[1;33m[\u001b[0m\u001b[0mresp\u001b[0m \u001b[1;32mfor\u001b[0m \u001b[0mresp\u001b[0m \u001b[1;32min\u001b[0m \u001b[0mgen\u001b[0m\u001b[1;33m]\u001b[0m \u001b[1;32mif\u001b[0m \u001b[0mallow_redirects\u001b[0m \u001b[1;32melse\u001b[0m \u001b[1;33m[\u001b[0m\u001b[1;33m]\u001b[0m\u001b[1;33m\u001b[0m\u001b[0m\n\u001b[0m\u001b[0;32m    595\u001b[0m \u001b[1;33m\u001b[0m\u001b[0m\n\u001b[0;32m    596\u001b[0m         \u001b[1;31m# Shuffle things around if there's history.\u001b[0m\u001b[1;33m\u001b[0m\u001b[1;33m\u001b[0m\u001b[0m\n",
      "\u001b[1;32mC:\\Python27\\lib\\site-packages\\requests\\sessions.pyc\u001b[0m in \u001b[0;36mresolve_redirects\u001b[1;34m(self, resp, req, stream, timeout, verify, cert, proxies, **adapter_kwargs)\u001b[0m\n\u001b[0;32m    194\u001b[0m                 \u001b[0mproxies\u001b[0m\u001b[1;33m=\u001b[0m\u001b[0mproxies\u001b[0m\u001b[1;33m,\u001b[0m\u001b[1;33m\u001b[0m\u001b[0m\n\u001b[0;32m    195\u001b[0m                 \u001b[0mallow_redirects\u001b[0m\u001b[1;33m=\u001b[0m\u001b[0mFalse\u001b[0m\u001b[1;33m,\u001b[0m\u001b[1;33m\u001b[0m\u001b[0m\n\u001b[1;32m--> 196\u001b[1;33m                 \u001b[1;33m**\u001b[0m\u001b[0madapter_kwargs\u001b[0m\u001b[1;33m\u001b[0m\u001b[0m\n\u001b[0m\u001b[0;32m    197\u001b[0m             )\n\u001b[0;32m    198\u001b[0m \u001b[1;33m\u001b[0m\u001b[0m\n",
      "\u001b[1;32mC:\\Python27\\lib\\site-packages\\requests\\sessions.pyc\u001b[0m in \u001b[0;36msend\u001b[1;34m(self, request, **kwargs)\u001b[0m\n\u001b[0;32m    571\u001b[0m \u001b[1;33m\u001b[0m\u001b[0m\n\u001b[0;32m    572\u001b[0m         \u001b[1;31m# Send the request\u001b[0m\u001b[1;33m\u001b[0m\u001b[1;33m\u001b[0m\u001b[0m\n\u001b[1;32m--> 573\u001b[1;33m         \u001b[0mr\u001b[0m \u001b[1;33m=\u001b[0m \u001b[0madapter\u001b[0m\u001b[1;33m.\u001b[0m\u001b[0msend\u001b[0m\u001b[1;33m(\u001b[0m\u001b[0mrequest\u001b[0m\u001b[1;33m,\u001b[0m \u001b[1;33m**\u001b[0m\u001b[0mkwargs\u001b[0m\u001b[1;33m)\u001b[0m\u001b[1;33m\u001b[0m\u001b[0m\n\u001b[0m\u001b[0;32m    574\u001b[0m \u001b[1;33m\u001b[0m\u001b[0m\n\u001b[0;32m    575\u001b[0m         \u001b[1;31m# Total elapsed time of the request (approximately)\u001b[0m\u001b[1;33m\u001b[0m\u001b[1;33m\u001b[0m\u001b[0m\n",
      "\u001b[1;32mC:\\Python27\\lib\\site-packages\\requests\\adapters.pyc\u001b[0m in \u001b[0;36msend\u001b[1;34m(self, request, stream, timeout, verify, cert, proxies)\u001b[0m\n\u001b[0;32m    429\u001b[0m         \u001b[1;32mexcept\u001b[0m \u001b[1;33m(\u001b[0m\u001b[0m_SSLError\u001b[0m\u001b[1;33m,\u001b[0m \u001b[0m_HTTPError\u001b[0m\u001b[1;33m)\u001b[0m \u001b[1;32mas\u001b[0m \u001b[0me\u001b[0m\u001b[1;33m:\u001b[0m\u001b[1;33m\u001b[0m\u001b[0m\n\u001b[0;32m    430\u001b[0m             \u001b[1;32mif\u001b[0m \u001b[0misinstance\u001b[0m\u001b[1;33m(\u001b[0m\u001b[0me\u001b[0m\u001b[1;33m,\u001b[0m \u001b[0m_SSLError\u001b[0m\u001b[1;33m)\u001b[0m\u001b[1;33m:\u001b[0m\u001b[1;33m\u001b[0m\u001b[0m\n\u001b[1;32m--> 431\u001b[1;33m                 \u001b[1;32mraise\u001b[0m \u001b[0mSSLError\u001b[0m\u001b[1;33m(\u001b[0m\u001b[0me\u001b[0m\u001b[1;33m,\u001b[0m \u001b[0mrequest\u001b[0m\u001b[1;33m=\u001b[0m\u001b[0mrequest\u001b[0m\u001b[1;33m)\u001b[0m\u001b[1;33m\u001b[0m\u001b[0m\n\u001b[0m\u001b[0;32m    432\u001b[0m             \u001b[1;32melif\u001b[0m \u001b[0misinstance\u001b[0m\u001b[1;33m(\u001b[0m\u001b[0me\u001b[0m\u001b[1;33m,\u001b[0m \u001b[0mReadTimeoutError\u001b[0m\u001b[1;33m)\u001b[0m\u001b[1;33m:\u001b[0m\u001b[1;33m\u001b[0m\u001b[0m\n\u001b[0;32m    433\u001b[0m                 \u001b[1;32mraise\u001b[0m \u001b[0mReadTimeout\u001b[0m\u001b[1;33m(\u001b[0m\u001b[0me\u001b[0m\u001b[1;33m,\u001b[0m \u001b[0mrequest\u001b[0m\u001b[1;33m=\u001b[0m\u001b[0mrequest\u001b[0m\u001b[1;33m)\u001b[0m\u001b[1;33m\u001b[0m\u001b[0m\n",
      "\u001b[1;31mSSLError\u001b[0m: hostname 'www.ptt.cc' doesn't match either of 'images.ptt.cc', 'ptt.cc'"
     ]
    }
   ],
   "source": [
    "import requests\n",
    "res = requests.get('http://www.ptt.cc/bbs/Food/index.html')\n",
    "print res.text\n"
   ]
  },
  {
   "cell_type": "markdown",
   "metadata": {},
   "source": [
    "## 新增Verify 的選項"
   ]
  },
  {
   "cell_type": "code",
   "execution_count": 65,
   "metadata": {
    "collapsed": false
   },
   "outputs": [
    {
     "name": "stderr",
     "output_type": "stream",
     "text": [
      "C:\\Python27\\lib\\site-packages\\requests\\packages\\urllib3\\util\\ssl_.py:90: InsecurePlatformWarning: A true SSLContext object is not available. This prevents urllib3 from configuring SSL appropriately and may cause certain SSL connections to fail. For more information, see https://urllib3.readthedocs.org/en/latest/security.html#insecureplatformwarning.\n",
      "  InsecurePlatformWarning\n",
      "C:\\Python27\\lib\\site-packages\\requests\\packages\\urllib3\\connectionpool.py:768: InsecureRequestWarning: Unverified HTTPS request is being made. Adding certificate verification is strongly advised. See: https://urllib3.readthedocs.org/en/latest/security.html\n",
      "  InsecureRequestWarning)\n",
      "C:\\Python27\\lib\\site-packages\\requests\\packages\\urllib3\\connectionpool.py:768: InsecureRequestWarning: Unverified HTTPS request is being made. Adding certificate verification is strongly advised. See: https://urllib3.readthedocs.org/en/latest/security.html\n",
      "  InsecureRequestWarning)\n",
      "C:\\Python27\\lib\\site-packages\\requests\\packages\\urllib3\\connectionpool.py:768: InsecureRequestWarning: Unverified HTTPS request is being made. Adding certificate verification is strongly advised. See: https://urllib3.readthedocs.org/en/latest/security.html\n",
      "  InsecureRequestWarning)\n"
     ]
    }
   ],
   "source": [
    "import requests\n",
    "payload = {'from':'/bbs/sex/index.html','yes':'yes'}\n",
    "rs = requests.session()\n",
    "res = rs.post('https://www.ptt.cc/ask/over18', verify=False, data= payload)\n",
    "res2 = rs.get('http://www.ptt.cc/bbs/sex/index.html', verify=False)\n",
    "#print res2.text"
   ]
  },
  {
   "cell_type": "markdown",
   "metadata": {},
   "source": [
    "## 取得所有連結"
   ]
  },
  {
   "cell_type": "code",
   "execution_count": 71,
   "metadata": {
    "collapsed": false
   },
   "outputs": [
    {
     "name": "stderr",
     "output_type": "stream",
     "text": [
      "C:\\Python27\\lib\\site-packages\\requests\\packages\\urllib3\\util\\ssl_.py:90: InsecurePlatformWarning: A true SSLContext object is not available. This prevents urllib3 from configuring SSL appropriately and may cause certain SSL connections to fail. For more information, see https://urllib3.readthedocs.org/en/latest/security.html#insecureplatformwarning.\n",
      "  InsecurePlatformWarning\n",
      "C:\\Python27\\lib\\site-packages\\requests\\packages\\urllib3\\connectionpool.py:768: InsecureRequestWarning: Unverified HTTPS request is being made. Adding certificate verification is strongly advised. See: https://urllib3.readthedocs.org/en/latest/security.html\n",
      "  InsecureRequestWarning)\n"
     ]
    }
   ],
   "source": [
    "import requests\n",
    "from bs4 import BeautifulSoup\n",
    "res = requests.get('http://www.ptt.cc/bbs/Food/index.html', verify=False)\n",
    "soup = BeautifulSoup(res.text)\n",
    "links = [tag['href'] for tag in soup.select('.r-ent a')] \n",
    "#print links"
   ]
  },
  {
   "cell_type": "markdown",
   "metadata": {},
   "source": [
    "## 用爬蟲取得Yahoo股市的投資組合"
   ]
  },
  {
   "cell_type": "code",
   "execution_count": 91,
   "metadata": {
    "collapsed": false
   },
   "outputs": [
    {
     "name": "stderr",
     "output_type": "stream",
     "text": [
      "C:\\Python27\\lib\\site-packages\\requests\\packages\\urllib3\\util\\ssl_.py:90: InsecurePlatformWarning: A true SSLContext object is not available. This prevents urllib3 from configuring SSL appropriately and may cause certain SSL connections to fail. For more information, see https://urllib3.readthedocs.org/en/latest/security.html#insecureplatformwarning.\n",
      "  InsecurePlatformWarning\n",
      "C:\\Python27\\lib\\site-packages\\requests\\packages\\urllib3\\util\\ssl_.py:90: InsecurePlatformWarning: A true SSLContext object is not available. This prevents urllib3 from configuring SSL appropriately and may cause certain SSL connections to fail. For more information, see https://urllib3.readthedocs.org/en/latest/security.html#insecureplatformwarning.\n",
      "  InsecurePlatformWarning\n"
     ]
    },
    {
     "name": "stdout",
     "output_type": "stream",
     "text": [
      "/\n"
     ]
    }
   ],
   "source": [
    "# -*- coding: utf-8 -*- \n",
    "import requests\n",
    "from bs4 import BeautifulSoup\n",
    "rs = requests.session()\n",
    "res = rs.get('https://login.yahoo.com/')\n",
    "soup = BeautifulSoup(res.text)\n",
    "login_form = soup.find('form', attrs={'id':'mbr-login-form'})\n",
    "hiddens = login_form.findAll('input', attrs={'type':'hidden'})\n",
    "payload = {}\n",
    "for h in hiddens:\n",
    "    payload[str(h.get('name'))] = str(h.get('value'))\n",
    "\n",
    "payload['login'] = 'xpertslayers@yahoo.com.tw'\n",
    "payload['passwd'] = 'Amadeus38'\n",
    "print login_form.get('action')\n",
    "post_url = str('https://login.yahoo.com/config/login?.intl=tw&.done=https%3A%2F%2Ftw.yahoo.com%2F')\n",
    "res2 = rs.post(post_url, cookies=res.cookies, data=payload)\n"
   ]
  },
  {
   "cell_type": "markdown",
   "metadata": {},
   "source": [
    "## 轉跳到投資組合頁面"
   ]
  },
  {
   "cell_type": "code",
   "execution_count": 93,
   "metadata": {
    "collapsed": false
   },
   "outputs": [
    {
     "name": "stderr",
     "output_type": "stream",
     "text": [
      "C:\\Python27\\lib\\site-packages\\requests\\packages\\urllib3\\util\\ssl_.py:90: InsecurePlatformWarning: A true SSLContext object is not available. This prevents urllib3 from configuring SSL appropriately and may cause certain SSL connections to fail. For more information, see https://urllib3.readthedocs.org/en/latest/security.html#insecureplatformwarning.\n",
      "  InsecurePlatformWarning\n",
      "C:\\Python27\\lib\\site-packages\\requests\\packages\\urllib3\\util\\ssl_.py:90: InsecurePlatformWarning: A true SSLContext object is not available. This prevents urllib3 from configuring SSL appropriately and may cause certain SSL connections to fail. For more information, see https://urllib3.readthedocs.org/en/latest/security.html#insecureplatformwarning.\n",
      "  InsecurePlatformWarning\n"
     ]
    }
   ],
   "source": [
    "res3 = rs.get('https://tw.stock.yahoo.com/pf/mypf', cookies=res2.cookies)\n",
    "#print res3.text.encode('utf-8')\n"
   ]
  },
  {
   "cell_type": "markdown",
   "metadata": {},
   "source": [
    "## 取得Facebook的朋友清單"
   ]
  },
  {
   "cell_type": "code",
   "execution_count": 95,
   "metadata": {
    "collapsed": false
   },
   "outputs": [
    {
     "name": "stderr",
     "output_type": "stream",
     "text": [
      "C:\\Python27\\lib\\site-packages\\requests\\packages\\urllib3\\util\\ssl_.py:90: InsecurePlatformWarning: A true SSLContext object is not available. This prevents urllib3 from configuring SSL appropriately and may cause certain SSL connections to fail. For more information, see https://urllib3.readthedocs.org/en/latest/security.html#insecureplatformwarning.\n",
      "  InsecurePlatformWarning\n"
     ]
    }
   ],
   "source": [
    "import requests, json\n",
    "access_token = 'CAACEdEose0cBAOIPDjeyJZBhK0Daj9vmuZCnSju0xV73CerTVNZAxKxP8ZB9z1BJDNZAOFUZA8Pxr5HE6KgEPjryFQGU3k48jNaEpQiBc0E0D7rrHAxwLFIC3Yi8k8WfkZBA5NflHBh39f5EY1g9ftbrtz40AHLR3EuzUQqFgBAGZBCat9dZAMDbrwa26NKzXtnkK1C3p9AqDtHQL32cHiEFWiqkyCWtPW0gZD'\n",
    "graph_url = 'https://graph.facebook.com/v2.0/me/friends?access_token=%s'\n",
    "res = requests.get(graph_url%(access_token))\n",
    "j = json.loads(res.text)\n",
    "#for i in j['data']:\n",
    "#    print i['name']"
   ]
  },
  {
   "cell_type": "code",
   "execution_count": 96,
   "metadata": {
    "collapsed": false
   },
   "outputs": [
    {
     "name": "stdout",
     "output_type": "stream",
     "text": [
      "(本文已被刪除) [sunandy]  8/29\n",
      "[請益] 股票無預警大漲  8/29\n",
      "[新聞] 台股收復8000點 禁空令將解？  8/29\n",
      "[新聞] 日月光：公開收購一定會執行到底  8/29\n",
      "[新聞] 「紅色供應鏈」重擊 出口將連7黑  8/29\n",
      "[心得] 貨幣和原物料異常波動  8/29\n",
      "[公告] 股票板板規     (201411修) 11/04\n",
      "[公告] 精華區導覽Q&A  (201501版)  1/25\n",
      "[公告] 發文注意事項  4/17\n",
      "Re: [其他] 協尋阿鼻的受害者  8/25\n",
      "[閒聊]2015/08/28 盤後閒聊  8/28\n"
     ]
    },
    {
     "name": "stderr",
     "output_type": "stream",
     "text": [
      "C:\\Python27\\lib\\site-packages\\requests\\packages\\urllib3\\util\\ssl_.py:90: InsecurePlatformWarning: A true SSLContext object is not available. This prevents urllib3 from configuring SSL appropriately and may cause certain SSL connections to fail. For more information, see https://urllib3.readthedocs.org/en/latest/security.html#insecureplatformwarning.\n",
      "  InsecurePlatformWarning\n",
      "C:\\Python27\\lib\\site-packages\\requests\\packages\\urllib3\\connectionpool.py:768: InsecureRequestWarning: Unverified HTTPS request is being made. Adding certificate verification is strongly advised. See: https://urllib3.readthedocs.org/en/latest/security.html\n",
      "  InsecureRequestWarning)\n"
     ]
    }
   ],
   "source": [
    "import requests\n",
    "from bs4 import BeautifulSoup\n",
    "rs = requests.get('https://www.ptt.cc/bbs/Stock/index.html', verify=False)\n",
    "soup = BeautifulSoup(rs.text)\n",
    "for ent in  soup.select('.r-ent'):\n",
    "    print ent.select('.title')[0].text.strip(), ent.select('.date')[0].text"
   ]
  }
 ],
 "metadata": {
  "kernelspec": {
   "display_name": "Python 2",
   "language": "python",
   "name": "python2"
  },
  "language_info": {
   "codemirror_mode": {
    "name": "ipython",
    "version": 2
   },
   "file_extension": ".py",
   "mimetype": "text/x-python",
   "name": "python",
   "nbconvert_exporter": "python",
   "pygments_lexer": "ipython2",
   "version": "2.7.10"
  }
 },
 "nbformat": 4,
 "nbformat_minor": 0
}
