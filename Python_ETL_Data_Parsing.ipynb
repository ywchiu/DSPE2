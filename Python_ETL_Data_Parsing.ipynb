{
 "cells": [
  {
   "cell_type": "markdown",
   "metadata": {},
   "source": [
    "## 正規表達式"
   ]
  },
  {
   "cell_type": "code",
   "execution_count": 1,
   "metadata": {
    "collapsed": false
   },
   "outputs": [
    {
     "name": "stdout",
     "output_type": "stream",
     "text": [
      "('david', 'numerinfo')\n",
      "('david', 'numerinfo.com')\n",
      "('1999', '5')\n",
      "David Chiu\n",
      "file.txt root 10.0.0.1 ./\n"
     ]
    }
   ],
   "source": [
    "import re \n",
    "m = re.match(r\"(\\w+)@(\\w+)\", \"david@numerinfo.com\") \n",
    "print m.groups()\n",
    " \n",
    "m = re.match(r\"(\\w+)@([a-z.]+)\", \"david@numerinfo.com\") \n",
    "print m.groups() \n",
    "m = re.match(r\"(\\d+)\\.(\\d+)\", \"1999.5\") \n",
    "print m.groups() \n",
    "m = re.match(r\"(?P<first_name>\\w+) (?P<last_name>\\w+)\", \"David Chiu\") \n",
    "print m.group('first_name'), m.group('last_name')\n",
    " \n",
    "str1 = 'scp file.txt root@10.0.0.1:./' \n",
    "m=re.search('^scp ([\\w\\.]+) (\\w+)@([\\w\\.]+):(.+)',str1) \n",
    "if m: \n",
    "    print m.group(1), m.group(2), m.group(3), m.group(4)"
   ]
  },
  {
   "cell_type": "code",
   "execution_count": 6,
   "metadata": {
    "collapsed": false
   },
   "outputs": [
    {
     "name": "stdout",
     "output_type": "stream",
     "text": [
      "<_sre.SRE_Match object at 0x04A3BDE8>\n",
      "<_sre.SRE_Match object at 0x04A3BE58>\n",
      "<_sre.SRE_Match object at 0x04A3BDE8>\n",
      "<_sre.SRE_Match object at 0x04A3BE58>\n"
     ]
    }
   ],
   "source": [
    "import re\n",
    "str1 = \"0912-345-678\"\n",
    "str2 = \"0912-345678\"\n",
    "print re.match(r\"\\d{4}-?\\d{3}-?\\d{3}\", str1)\n",
    "print re.match(r\"\\d{4}-?\\d{3}-?\\d{3}\", str2)\n"
   ]
  },
  {
   "cell_type": "markdown",
   "metadata": {},
   "source": [
    "## 使用file IO讀進資料"
   ]
  },
  {
   "cell_type": "code",
   "execution_count": 2,
   "metadata": {
    "collapsed": false
   },
   "outputs": [],
   "source": [
    "# -*- coding: utf-8 -*- \n",
    "f = open(\"gov/51603709_104040.txt\", \"r\") \n",
    "#print f.read() \n",
    "f.close()"
   ]
  },
  {
   "cell_type": "markdown",
   "metadata": {},
   "source": [
    "## 把資料丟進BeautifulSoup"
   ]
  },
  {
   "cell_type": "code",
   "execution_count": 3,
   "metadata": {
    "collapsed": false
   },
   "outputs": [],
   "source": [
    "# -*- coding: utf-8 -*- \n",
    "from bs4 import BeautifulSoup \n",
    "f = open('gov/51603709_104040.txt', 'r') \n",
    "response_text = f.read() \n",
    "soup = BeautifulSoup(response_text) \n",
    "f.close()"
   ]
  },
  {
   "cell_type": "markdown",
   "metadata": {},
   "source": [
    "## 抓出含有th 的列"
   ]
  },
  {
   "cell_type": "code",
   "execution_count": 5,
   "metadata": {
    "collapsed": false
   },
   "outputs": [
    {
     "name": "stdout",
     "output_type": "stream",
     "text": [
      "[]\n",
      "[]\n",
      "[<th align=\"left\" bgcolor=\"#DAEBED\" class=\"T11b\" valign=\"middle\" width=\"200\">\n",
      "     機關代碼\n",
      "    </th>]\n",
      "[<th align=\"left\" bgcolor=\"#DAEBED\" class=\"T11b\" valign=\"middle\" width=\"200\">\n",
      "     機關名稱\n",
      "    </th>]\n",
      "[<th align=\"left\" bgcolor=\"#DAEBED\" class=\"T11b\" valign=\"middle\" width=\"200\">\n",
      "     單位名稱\n",
      "    </th>]\n",
      "[<th align=\"left\" bgcolor=\"#DAEBED\" class=\"T11b\" valign=\"middle\" width=\"200\">\n",
      "     機關地址\n",
      "    </th>]\n",
      "[<th align=\"left\" bgcolor=\"#DAEBED\" class=\"T11b\" valign=\"middle\" width=\"200\">\n",
      "     聯絡人\n",
      "    </th>]\n",
      "[<th align=\"left\" bgcolor=\"#DAEBED\" class=\"T11b\" valign=\"middle\" width=\"200\">\n",
      "     聯絡電話\n",
      "    </th>]\n",
      "[<th align=\"left\" bgcolor=\"#DAEBED\" class=\"T11b\" style=\"height: 25px\" valign=\"middle\" width=\"200\">\n",
      "     傳真號碼\n",
      "    </th>]\n",
      "[]\n",
      "[<th align=\"left\" bgcolor=\"#FFFF99\" class=\"T11b\" valign=\"middle\" width=\"200\">\n",
      "     標案案號\n",
      "    </th>]\n",
      "[<th align=\"left\" bgcolor=\"#FFFF99\" class=\"T11b\" valign=\"middle\" width=\"200\">\n",
      "     招標方式\n",
      "    </th>]\n",
      "[<th align=\"left\" bgcolor=\"#FFFF99\" class=\"T11b\" valign=\"middle\" width=\"200\">\n",
      "     決標方式\n",
      "    </th>]\n",
      "[<th align=\"left\" bgcolor=\"#FFFF99\" class=\"T11b\" valign=\"middle\" width=\"200\">\n",
      "     新增公告傳輸次數\n",
      "    </th>]\n",
      "[<th align=\"left\" bgcolor=\"#FFFF99\" class=\"T11b\" valign=\"middle\" width=\"200\">\n",
      "     是否依據採購法第106條第1項第1款辦理\n",
      "    </th>]\n",
      "[<th align=\"left\" bgcolor=\"#FFFF99\" class=\"T11b\" valign=\"middle\" width=\"200\">\n",
      "     標案名稱\n",
      "    </th>]\n",
      "[<th align=\"left\" bgcolor=\"#FFFF99\" class=\"T11b\" valign=\"middle\" width=\"200\">\n",
      "     決標資料類別\n",
      "    </th>]\n",
      "[<th align=\"left\" bgcolor=\"#FFFF99\" class=\"T11b\" valign=\"middle\" width=\"200\">\n",
      "     是否屬共同供應契約採購\n",
      "    </th>]\n",
      "[<th align=\"left\" bgcolor=\"#FFFF99\" class=\"T11b\" valign=\"middle\" width=\"200\">\n",
      "     是否屬二以上機關之聯合採購(不適用共同供應契約規定)\n",
      "    </th>]\n",
      "[<th align=\"left\" bgcolor=\"#FFFF99\" class=\"T11b\" valign=\"middle\" width=\"200\">\n",
      "     是否複數決標\n",
      "    </th>]\n",
      "[<th align=\"left\" bgcolor=\"#FFFF99\" class=\"T11b\" valign=\"middle\" width=\"200\">\n",
      "     是否共同投標\n",
      "    </th>]\n",
      "[<th align=\"left\" bgcolor=\"#FFFF99\" class=\"T11b\" valign=\"middle\" width=\"200\">\n",
      "     標的分類\n",
      "    </th>]\n",
      "[<th align=\"left\" bgcolor=\"#FFFF99\" class=\"T11b\" valign=\"middle\" width=\"200\">\n",
      "     是否屬統包\n",
      "    </th>]\n",
      "[<th align=\"left\" bgcolor=\"#FFFF99\" class=\"T11b\" valign=\"middle\" width=\"200\">\n",
      "     是否應依公共工程專業技師簽證規則實施技師簽證\n",
      "    </th>]\n",
      "[<th align=\"left\" bgcolor=\"#FFFF99\" class=\"T11b\" valign=\"middle\" width=\"200\">\n",
      "     開標時間\n",
      "    </th>]\n",
      "[<th align=\"left\" bgcolor=\"#FFFF99\" class=\"T11b\" valign=\"middle\" width=\"200\">\n",
      "     原公告日期\n",
      "    </th>]\n",
      "[<th align=\"left\" bgcolor=\"#FFFF99\" class=\"T11b\" valign=\"middle\" width=\"200\">\n",
      "     採購金額級距\n",
      "    </th>]\n",
      "[<th align=\"left\" bgcolor=\"#FFFF99\" class=\"T11b\" valign=\"middle\" width=\"200\">\n",
      "     辦理方式\n",
      "    </th>]\n",
      "[<th align=\"left\" bgcolor=\"#FFFF99\" class=\"T11b\" valign=\"middle\" width=\"200\">\n",
      "     預算金額是否公開\n",
      "    </th>]\n",
      "[<th align=\"left\" bgcolor=\"#FFFF99\" class=\"T11b\" valign=\"middle\" width=\"200\">\n",
      "     預算金額\n",
      "    </th>]\n",
      "[<th align=\"left\" bgcolor=\"#FFFF99\" class=\"T11b\" valign=\"middle\" width=\"200\">\n",
      "     是否受機關補助\n",
      "    </th>]\n",
      "[<th align=\"left\" bgcolor=\"#FFFF99\" class=\"T11b\" valign=\"middle\" width=\"200\">\n",
      "     履約地點\n",
      "    </th>]\n",
      "[<th align=\"left\" bgcolor=\"#FFFF99\" class=\"T11b\" valign=\"middle\" width=\"200\">\n",
      "     履約地點（含地區）\n",
      "    </th>]\n",
      "[<th align=\"left\" bgcolor=\"#FFFF99\" class=\"T11b\" valign=\"middle\" width=\"200\">\n",
      "     是否於招標文件載明優先決標予身心障礙福利機構團體或庇護工場\n",
      "    </th>]\n",
      "[<th align=\"left\" bgcolor=\"#FFFF99\" class=\"T11b\" valign=\"middle\" width=\"200\">\n",
      "     是否含特別預算\n",
      "    </th>]\n",
      "[<th align=\"left\" bgcolor=\"#FFFF99\" class=\"T11b\" valign=\"middle\" width=\"200\">\n",
      "     歸屬計畫類別\n",
      "    </th>]\n",
      "[<th align=\"left\" bgcolor=\"#FFFF99\" class=\"T11b\" valign=\"middle\" width=\"200\">\n",
      "     本案採購契約是否採用主管機關訂定之範本\n",
      "    </th>]\n",
      "[]\n",
      "[<th align=\"left\" bgcolor=\"#ffdd83\" class=\"T11b\" valign=\"middle\" width=\"200\">\n",
      "        投標廠商家數\n",
      "       </th>, <th align=\"left\" bgcolor=\"#ffdd83\" class=\"T11b\" valign=\"middle\" width=\"200\">\n",
      "        投標廠商1\n",
      "       </th>, <th align=\"left\" bgcolor=\"#ffdd83\" class=\"T11b\" valign=\"middle\" width=\"200\">\n",
      "        廠商代碼\n",
      "       </th>, <th align=\"left\" bgcolor=\"#ffdd83\" class=\"T11b\" valign=\"middle\" width=\"200\">\n",
      "        廠商名稱\n",
      "       </th>, <th align=\"left\" bgcolor=\"#ffdd83\" class=\"T11b\" valign=\"middle\" width=\"200\">\n",
      "        是否得標\n",
      "       </th>, <th align=\"left\" bgcolor=\"#ffdd83\" class=\"T11b\" valign=\"middle\" width=\"200\">\n",
      "        組織型態\n",
      "       </th>, <th align=\"left\" bgcolor=\"#ffdd83\" class=\"T11b\" valign=\"middle\" width=\"200\">\n",
      "        廠商業別\n",
      "       </th>, <th align=\"left\" bgcolor=\"#ffdd83\" class=\"T11b\" valign=\"middle\" width=\"200\">\n",
      "        廠商地址\n",
      "       </th>, <th align=\"left\" bgcolor=\"#ffdd83\" class=\"T11b\" valign=\"middle\" width=\"200\">\n",
      "        廠商電話\n",
      "       </th>, <th align=\"left\" bgcolor=\"#ffdd83\" class=\"T11b\" valign=\"middle\" width=\"200\">\n",
      "        決標金額\n",
      "       </th>, <th align=\"left\" bgcolor=\"#ffdd83\" class=\"T11b\" valign=\"middle\" width=\"200\">\n",
      "        得標廠商國別\n",
      "       </th>, <th align=\"left\" bgcolor=\"#ffdd83\" class=\"T11b\" valign=\"middle\" width=\"200\">\n",
      "        是否為中小企業\n",
      "       </th>, <th align=\"left\" bgcolor=\"#ffdd83\" class=\"T11b\" valign=\"middle\" width=\"200\">\n",
      "        履約起迄日期\n",
      "       </th>, <th align=\"left\" bgcolor=\"#ffdd83\" class=\"T11b\" valign=\"middle\" width=\"200\">\n",
      "        雇用員工總人數是否\n",
      "        <br>\n",
      "         超過100人\n",
      "        </br>\n",
      "</th>]\n",
      "[<th align=\"left\" bgcolor=\"#ffdd83\" class=\"T11b\" valign=\"middle\" width=\"200\">\n",
      "        投標廠商家數\n",
      "       </th>]\n",
      "[<th align=\"left\" bgcolor=\"#ffdd83\" class=\"T11b\" valign=\"middle\" width=\"200\">\n",
      "        投標廠商1\n",
      "       </th>]\n",
      "[<th align=\"left\" bgcolor=\"#ffdd83\" class=\"T11b\" valign=\"middle\" width=\"200\">\n",
      "        廠商代碼\n",
      "       </th>]\n",
      "[<th align=\"left\" bgcolor=\"#ffdd83\" class=\"T11b\" valign=\"middle\" width=\"200\">\n",
      "        廠商名稱\n",
      "       </th>]\n",
      "[<th align=\"left\" bgcolor=\"#ffdd83\" class=\"T11b\" valign=\"middle\" width=\"200\">\n",
      "        是否得標\n",
      "       </th>]\n",
      "[<th align=\"left\" bgcolor=\"#ffdd83\" class=\"T11b\" valign=\"middle\" width=\"200\">\n",
      "        組織型態\n",
      "       </th>]\n",
      "[<th align=\"left\" bgcolor=\"#ffdd83\" class=\"T11b\" valign=\"middle\" width=\"200\">\n",
      "        廠商業別\n",
      "       </th>]\n",
      "[<th align=\"left\" bgcolor=\"#ffdd83\" class=\"T11b\" valign=\"middle\" width=\"200\">\n",
      "        廠商地址\n",
      "       </th>]\n",
      "[<th align=\"left\" bgcolor=\"#ffdd83\" class=\"T11b\" valign=\"middle\" width=\"200\">\n",
      "        廠商電話\n",
      "       </th>]\n",
      "[<th align=\"left\" bgcolor=\"#ffdd83\" class=\"T11b\" valign=\"middle\" width=\"200\">\n",
      "        決標金額\n",
      "       </th>]\n",
      "[<th align=\"left\" bgcolor=\"#ffdd83\" class=\"T11b\" valign=\"middle\" width=\"200\">\n",
      "        得標廠商國別\n",
      "       </th>]\n",
      "[<th align=\"left\" bgcolor=\"#ffdd83\" class=\"T11b\" valign=\"middle\" width=\"200\">\n",
      "        是否為中小企業\n",
      "       </th>]\n",
      "[<th align=\"left\" bgcolor=\"#ffdd83\" class=\"T11b\" valign=\"middle\" width=\"200\">\n",
      "        履約起迄日期\n",
      "       </th>]\n",
      "[<th align=\"left\" bgcolor=\"#ffdd83\" class=\"T11b\" valign=\"middle\" width=\"200\">\n",
      "        雇用員工總人數是否\n",
      "        <br>\n",
      "         超過100人\n",
      "        </br>\n",
      "</th>]\n",
      "[]\n",
      "[<th align=\"left\" bgcolor=\"#FFCCCC\" class=\"T11b\" valign=\"middle\" width=\"200\">\n",
      "        決標品項數\n",
      "       </th>, <th align=\"left\" bgcolor=\"#FFCCCC\" class=\"T11b\" valign=\"middle\" width=\"200\">\n",
      "        第1品項\n",
      "       </th>, <th align=\"left\" bgcolor=\"#FFCCCC\" class=\"T11b\" valign=\"middle\" width=\"200\">\n",
      "        品項名稱\n",
      "       </th>, <th align=\"left\" bgcolor=\"#FFCCCC\" class=\"T11b\" valign=\"middle\" width=\"200\">\n",
      "        是否以單價及預估需\n",
      "        <br>\n",
      "         求數量之乘積決定最\n",
      "         <br>\n",
      "          低標\n",
      "         </br>\n",
      "</br>\n",
      "</th>, <th align=\"left\" bgcolor=\"#FFCCCC\" class=\"T11b\" valign=\"middle\" width=\"200\">\n",
      "        得標廠商1\n",
      "       </th>, <th align=\"left\" bgcolor=\"#FFCCCC\" class=\"T11b\" valign=\"middle\" width=\"200\">\n",
      "        得標廠商\n",
      "       </th>, <th align=\"left\" bgcolor=\"#FFCCCC\" class=\"T11b\" valign=\"middle\" width=\"200\">\n",
      "        預估需求數量\n",
      "       </th>, <th align=\"left\" bgcolor=\"#FFCCCC\" class=\"T11b\" valign=\"middle\" width=\"200\">\n",
      "        決標金額\n",
      "       </th>, <th align=\"left\" bgcolor=\"#FFCCCC\" class=\"T11b\" valign=\"middle\" width=\"200\">\n",
      "        底價金額\n",
      "       </th>, <th align=\"left\" bgcolor=\"#FFCCCC\" class=\"T11b\" valign=\"middle\" width=\"200\">\n",
      "        原產地國別\n",
      "       </th>]\n",
      "[<th align=\"left\" bgcolor=\"#FFCCCC\" class=\"T11b\" valign=\"middle\" width=\"200\">\n",
      "        決標品項數\n",
      "       </th>]\n",
      "[<th align=\"left\" bgcolor=\"#FFCCCC\" class=\"T11b\" valign=\"middle\" width=\"200\">\n",
      "        第1品項\n",
      "       </th>]\n",
      "[<th align=\"left\" bgcolor=\"#FFCCCC\" class=\"T11b\" valign=\"middle\" width=\"200\">\n",
      "        品項名稱\n",
      "       </th>]\n",
      "[<th align=\"left\" bgcolor=\"#FFCCCC\" class=\"T11b\" valign=\"middle\" width=\"200\">\n",
      "        是否以單價及預估需\n",
      "        <br>\n",
      "         求數量之乘積決定最\n",
      "         <br>\n",
      "          低標\n",
      "         </br>\n",
      "</br>\n",
      "</th>]\n",
      "[<th align=\"left\" bgcolor=\"#FFCCCC\" class=\"T11b\" valign=\"middle\" width=\"200\">\n",
      "        得標廠商1\n",
      "       </th>]\n",
      "[<th align=\"left\" bgcolor=\"#FFCCCC\" class=\"T11b\" valign=\"middle\" width=\"200\">\n",
      "        得標廠商\n",
      "       </th>]\n",
      "[<th align=\"left\" bgcolor=\"#FFCCCC\" class=\"T11b\" valign=\"middle\" width=\"200\">\n",
      "        預估需求數量\n",
      "       </th>]\n",
      "[<th align=\"left\" bgcolor=\"#FFCCCC\" class=\"T11b\" valign=\"middle\" width=\"200\">\n",
      "        決標金額\n",
      "       </th>]\n",
      "[<th align=\"left\" bgcolor=\"#FFCCCC\" class=\"T11b\" valign=\"middle\" width=\"200\">\n",
      "        底價金額\n",
      "       </th>]\n",
      "[<th align=\"left\" bgcolor=\"#FFCCCC\" class=\"T11b\" valign=\"middle\" width=\"200\">\n",
      "        原產地國別\n",
      "       </th>]\n",
      "[]\n",
      "[]\n",
      "[]\n",
      "[]\n",
      "[<th bgcolor=\"#ddc09e\" class=\"T11b\" width=\"200\">\n",
      "     決標公告序號\n",
      "    </th>]\n",
      "[<th bgcolor=\"#ddc09e\" class=\"T11b\" width=\"200\">\n",
      "     決標日期\n",
      "    </th>]\n",
      "[<th bgcolor=\"#ddc09e\" class=\"T11b\" width=\"200\">\n",
      "     決標公告日期\n",
      "    </th>]\n",
      "[<th bgcolor=\"#ddc09e\" class=\"T11b\" width=\"200\">\n",
      "     是否刊登公報\n",
      "    </th>]\n",
      "[<th bgcolor=\"#ddc09e\" class=\"T11b\" width=\"200\">\n",
      "     底價金額\n",
      "    </th>]\n",
      "[<th bgcolor=\"#ddc09e\" class=\"T11b\" width=\"200\">\n",
      "     底價金額是否公開\n",
      "    </th>]\n",
      "[<th bgcolor=\"#ddc09e\" class=\"T11b\" width=\"200\">\n",
      "     總決標金額\n",
      "    </th>]\n",
      "[<th bgcolor=\"#ddc09e\" class=\"T11b\" width=\"200\">\n",
      "     總決標金額是否公開\n",
      "    </th>]\n",
      "[<th bgcolor=\"#ddc09e\" class=\"T11b\" width=\"200\">\n",
      "     契約是否訂有依物價指數調整價金規定\n",
      "    </th>]\n",
      "[<th bgcolor=\"#ddc09e\" class=\"T11b\" width=\"200\">\n",
      "     未列物價調整規定說明\n",
      "    </th>]\n",
      "[<th bgcolor=\"#ddc09e\" class=\"T11b\" width=\"200\">\n",
      "     履約執行機關\n",
      "    </th>]\n",
      "[<th bgcolor=\"#ddc09e\" class=\"T11b\" width=\"200\">\n",
      "     附加說明\n",
      "    </th>]\n"
     ]
    }
   ],
   "source": [
    "# -*- coding: utf-8 -*- \n",
    "from bs4 import BeautifulSoup \n",
    "f = open('gov/51603709_104040.txt', 'r') \n",
    "response_text = f.read() \n",
    "f.close() \n",
    "soup = BeautifulSoup(response_text) \n",
    "for row in soup.select('tr') : \n",
    "    print row.select('th')"
   ]
  },
  {
   "cell_type": "markdown",
   "metadata": {},
   "source": [
    "## 列出表格中所有th 名稱"
   ]
  },
  {
   "cell_type": "code",
   "execution_count": 7,
   "metadata": {
    "collapsed": false
   },
   "outputs": [
    {
     "name": "stdout",
     "output_type": "stream",
     "text": [
      "機關代碼\n",
      "機關名稱\n",
      "單位名稱\n",
      "機關地址\n",
      "聯絡人\n",
      "聯絡電話\n",
      "傳真號碼\n",
      "標案案號\n",
      "招標方式\n",
      "決標方式\n",
      "新增公告傳輸次數\n",
      "是否依據採購法第106條第1項第1款辦理\n",
      "標案名稱\n",
      "決標資料類別\n",
      "是否屬共同供應契約採購\n",
      "是否屬二以上機關之聯合採購(不適用共同供應契約規定)\n",
      "是否複數決標\n",
      "是否共同投標\n",
      "標的分類\n",
      "是否屬統包\n",
      "是否應依公共工程專業技師簽證規則實施技師簽證\n",
      "開標時間\n",
      "原公告日期\n",
      "採購金額級距\n",
      "辦理方式\n",
      "預算金額是否公開\n",
      "預算金額\n",
      "是否受機關補助\n",
      "履約地點\n",
      "履約地點（含地區）\n",
      "是否於招標文件載明優先決標予身心障礙福利機構團體或庇護工場\n",
      "是否含特別預算\n",
      "歸屬計畫類別\n",
      "本案採購契約是否採用主管機關訂定之範本\n",
      "投標廠商家數\n",
      "投標廠商家數\n",
      "投標廠商1\n",
      "廠商代碼\n",
      "廠商名稱\n",
      "是否得標\n",
      "組織型態\n",
      "廠商業別\n",
      "廠商地址\n",
      "廠商電話\n",
      "決標金額\n",
      "得標廠商國別\n",
      "是否為中小企業\n",
      "履約起迄日期\n",
      "雇用員工總人數是否\n",
      "        \n",
      "         超過100人\n",
      "決標品項數\n",
      "決標品項數\n",
      "第1品項\n",
      "品項名稱\n",
      "是否以單價及預估需\n",
      "        \n",
      "         求數量之乘積決定最\n",
      "         \n",
      "          低標\n",
      "得標廠商1\n",
      "得標廠商\n",
      "預估需求數量\n",
      "決標金額\n",
      "底價金額\n",
      "原產地國別\n",
      "決標公告序號\n",
      "決標日期\n",
      "決標公告日期\n",
      "是否刊登公報\n",
      "底價金額\n",
      "底價金額是否公開\n",
      "總決標金額\n",
      "總決標金額是否公開\n",
      "契約是否訂有依物價指數調整價金規定\n",
      "未列物價調整規定說明\n",
      "履約執行機關\n",
      "附加說明\n"
     ]
    }
   ],
   "source": [
    "for row in soup.select('tr') : \n",
    "    th = row.select('th')\n",
    "    if len(th) > 0: \n",
    "        print th[0].text.strip()"
   ]
  },
  {
   "cell_type": "markdown",
   "metadata": {},
   "source": [
    "## 找出”機關代碼”"
   ]
  },
  {
   "cell_type": "code",
   "execution_count": 10,
   "metadata": {
    "collapsed": false
   },
   "outputs": [
    {
     "name": "stdout",
     "output_type": "stream",
     "text": [
      "A.25.6\n"
     ]
    }
   ],
   "source": [
    "for row in soup.select('tr') : \n",
    "    th = row.select('th')\n",
    "    if len(th) > 0: \n",
    "        if th[0].text.encode('utf-8').strip() == \"機關代碼\": \n",
    "            print row.select('td')[0].text.strip()"
   ]
  },
  {
   "cell_type": "code",
   "execution_count": 11,
   "metadata": {
    "collapsed": false
   },
   "outputs": [
    {
     "name": "stdout",
     "output_type": "stream",
     "text": [
      "A.25.6\n",
      "國立歷史博物館\n"
     ]
    }
   ],
   "source": [
    "for row in soup.select('tr') : \n",
    "    th = row.select('th')\n",
    "    if len(th) > 0: \n",
    "        if th[0].text.encode('utf-8').strip() == \"機關代碼\": \n",
    "            print row.select('td')[0].text.strip()\n",
    "        if th[0].text.encode('utf-8').strip() == \"機關名稱\": \n",
    "            print row.select('td')[0].text.strip()            "
   ]
  },
  {
   "cell_type": "markdown",
   "metadata": {},
   "source": [
    "## Dictionary 範例"
   ]
  },
  {
   "cell_type": "code",
   "execution_count": 13,
   "metadata": {
    "collapsed": false
   },
   "outputs": [
    {
     "name": "stdout",
     "output_type": "stream",
     "text": [
      "{'a': 100, 'c': 0.98, 'b': 'yes'}\n",
      "['a', 'c', 'b']\n",
      "[100, 0.98, 'yes']\n",
      "100\n",
      "100\n"
     ]
    }
   ],
   "source": [
    "#declare dictionary \n",
    "dic = {'a':100, 'b':\"yes\", 'c':0.98} \n",
    "print dic \n",
    "#get keys in dictionary \n",
    "print dic.keys() \n",
    "#get values in dictionary \n",
    "print dic.values() \n",
    "#get value of given key \n",
    "print dic['a'] \n",
    "#get value of given key \n",
    "print dic.get('a')"
   ]
  },
  {
   "cell_type": "markdown",
   "metadata": {},
   "source": [
    "## Dictionary 範例(二)"
   ]
  },
  {
   "cell_type": "code",
   "execution_count": 14,
   "metadata": {
    "collapsed": false
   },
   "outputs": [
    {
     "name": "stdout",
     "output_type": "stream",
     "text": [
      "{'a': 100, 'c': 0.98, 'b': 'yes', 'd': 'new'}\n",
      "{'a': 100, 'c': 0.98, 'b': 'yes', 'e': 123, 'd': 'new'}\n",
      "a 100\n",
      "c 0.98\n",
      "b yes\n",
      "e 123\n",
      "d new\n"
     ]
    }
   ],
   "source": [
    "#add entry into dictionary \n",
    "dic['d'] = 'new' \n",
    "print dic \n",
    "#add entry into dictionary \n",
    "dic.update({'e':123}) \n",
    "print dic \n",
    "# iter the dictionary \n",
    "for rec in dic: \n",
    "    print rec, dic[rec]"
   ]
  },
  {
   "cell_type": "markdown",
   "metadata": {},
   "source": [
    "## 可以使用dictionary 管理"
   ]
  },
  {
   "cell_type": "code",
   "execution_count": 12,
   "metadata": {
    "collapsed": false
   },
   "outputs": [
    {
     "name": "stdout",
     "output_type": "stream",
     "text": [
      "A.25.6\n",
      "國立歷史博物館\n",
      "100臺北市中正區南海路49號\n"
     ]
    }
   ],
   "source": [
    "dic = {\"機關代碼\":\"\", \"機關名稱\":\"\", \"機關地址\":\"\"} \n",
    "\n",
    "for row in soup.select('tr') : \n",
    "    th = row.select('th')\n",
    "    if len(th) > 0: \n",
    "        if th[0].text.encode('utf-8').strip() in dic:\n",
    "            print row.select('td')[0].text.strip()        "
   ]
  },
  {
   "cell_type": "markdown",
   "metadata": {},
   "source": [
    "## 把資料塞到dictionary value"
   ]
  },
  {
   "cell_type": "code",
   "execution_count": 15,
   "metadata": {
    "collapsed": false
   },
   "outputs": [
    {
     "name": "stdout",
     "output_type": "stream",
     "text": [
      "機關名稱 國立歷史博物館\n",
      "機關代碼 A.25.6\n",
      "機關地址 100臺北市中正區南海路49號\n"
     ]
    }
   ],
   "source": [
    "dic = {\"機關代碼\":\"\", \"機關名稱\":\"\", \"機關地址\":\"\"} \n",
    "\n",
    "for row in soup.select('tr') : \n",
    "    th = row.select('th')\n",
    "    if len(th) > 0: \n",
    "        if th[0].text.encode('utf-8').strip() in dic:\n",
    "            dic[th[0].text.encode('utf-8').strip()] = row.select('td')[0].text.strip()        \n",
    "for ele in dic:\n",
    "    print ele, dic[ele]\n"
   ]
  },
  {
   "cell_type": "markdown",
   "metadata": {},
   "source": [
    "## 把資料從字典中取出來"
   ]
  },
  {
   "cell_type": "code",
   "execution_count": 15,
   "metadata": {
    "collapsed": false
   },
   "outputs": [
    {
     "name": "stdout",
     "output_type": "stream",
     "text": [
      "機關名稱 臺灣糖業股份有限公司\n",
      "機關代碼 3.13.30\n",
      "機關地址 701臺南市東區生產路68號\n"
     ]
    }
   ],
   "source": [
    "for rec in dic: \n",
    "    print rec, dic[rec]\n",
    "\n"
   ]
  },
  {
   "cell_type": "markdown",
   "metadata": {},
   "source": [
    "## 取得標的分類"
   ]
  },
  {
   "cell_type": "code",
   "execution_count": 32,
   "metadata": {
    "collapsed": false
   },
   "outputs": [
    {
     "name": "stdout",
     "output_type": "stream",
     "text": [
      "標的分類 <勞務類>    \r\n",
      "                            842\r\n",
      "                            軟體執行服務\n"
     ]
    }
   ],
   "source": [
    "dic = {\"標的分類\":\"\"} \n",
    "\n",
    "for row in soup.select('tr') : \n",
    "    th = row.select('th')\n",
    "    if len(th) > 0: \n",
    "        if th[0].text.encode('utf-8').strip() in dic:\n",
    "            dic[th[0].text.encode('utf-8').strip()] = row.select('td')[0].text.strip()        \n",
    "for rec in dic: \n",
    "    print rec, dic[rec]"
   ]
  },
  {
   "cell_type": "markdown",
   "metadata": {},
   "source": [
    "## 使用repr 找出formatting "
   ]
  },
  {
   "cell_type": "code",
   "execution_count": 33,
   "metadata": {
    "collapsed": false
   },
   "outputs": [
    {
     "name": "stdout",
     "output_type": "stream",
     "text": [
      "\\t\\t string \\n\\t\n",
      "'\\\\t\\\\t string \\\\n\\\\t'\n"
     ]
    }
   ],
   "source": [
    "a = r'\\t\\t string \\n\\t' \n",
    "print a \n",
    "print repr(a)"
   ]
  },
  {
   "cell_type": "markdown",
   "metadata": {},
   "source": [
    "## 看看string 內含什麼字元"
   ]
  },
  {
   "cell_type": "code",
   "execution_count": 17,
   "metadata": {
    "collapsed": false
   },
   "outputs": [
    {
     "name": "stdout",
     "output_type": "stream",
     "text": [
      "'\\xe6\\xa8\\x99\\xe7\\x9a\\x84\\xe5\\x88\\x86\\xe9\\xa1\\x9e' u'<\\u52de\\u52d9\\u985e>    \\r\\n                            842\\r\\n                            \\u8edf\\u9ad4\\u57f7\\u884c\\u670d\\u52d9'\n"
     ]
    }
   ],
   "source": [
    "for rec in dic: \n",
    "    print repr(rec), repr(dic[rec])"
   ]
  },
  {
   "cell_type": "markdown",
   "metadata": {},
   "source": [
    "## 將資料依分隔符號切成陣列"
   ]
  },
  {
   "cell_type": "code",
   "execution_count": 18,
   "metadata": {
    "collapsed": false
   },
   "outputs": [
    {
     "name": "stdout",
     "output_type": "stream",
     "text": [
      "['123', '555', '111', '99']\n",
      "['123', '555,111,99']\n"
     ]
    }
   ],
   "source": [
    "a = '123,555,111,99' \n",
    "print a.split(',') \n",
    "print a.split(',',1) "
   ]
  },
  {
   "cell_type": "markdown",
   "metadata": {},
   "source": [
    "## 將陣列單元依分隔符號合成字串"
   ]
  },
  {
   "cell_type": "code",
   "execution_count": 19,
   "metadata": {
    "collapsed": false
   },
   "outputs": [
    {
     "name": "stdout",
     "output_type": "stream",
     "text": [
      "123|555|111|99\n"
     ]
    }
   ],
   "source": [
    "a = '123,555,111,99' \n",
    "ary = a.split(',') \n",
    "print '|'.join(ary)"
   ]
  },
  {
   "cell_type": "markdown",
   "metadata": {},
   "source": [
    "## 如何移除字串中內含的  換行符號及空白"
   ]
  },
  {
   "cell_type": "code",
   "execution_count": 18,
   "metadata": {
    "collapsed": false
   },
   "outputs": [
    {
     "name": "stdout",
     "output_type": "stream",
     "text": [
      "<勞務類>842軟體執行服務\n"
     ]
    }
   ],
   "source": [
    "for rec in dic: \n",
    "    print ''.join(dic[rec].split())"
   ]
  },
  {
   "cell_type": "markdown",
   "metadata": {},
   "source": [
    "## 如何替換跳脫字元"
   ]
  },
  {
   "cell_type": "code",
   "execution_count": 19,
   "metadata": {
    "collapsed": false
   },
   "outputs": [
    {
     "name": "stdout",
     "output_type": "stream",
     "text": [
      "<qoo> 123,555,111,99\n"
     ]
    }
   ],
   "source": [
    "import HTMLParser \n",
    "h = HTMLParser.HTMLParser() \n",
    "a = '&lt;qoo&gt; 123,555,111,99' \n",
    "print h.unescape(a)"
   ]
  },
  {
   "cell_type": "markdown",
   "metadata": {},
   "source": [
    "## 或使用replace"
   ]
  },
  {
   "cell_type": "code",
   "execution_count": 22,
   "metadata": {
    "collapsed": false
   },
   "outputs": [
    {
     "name": "stdout",
     "output_type": "stream",
     "text": [
      "<qoo> 123,555,111,99\n"
     ]
    }
   ],
   "source": [
    "a = '&lt;qoo&gt; 123,555,111,99' \n",
    "print a.replace('&lt;', '<').replace('&gt;', '>')"
   ]
  },
  {
   "cell_type": "markdown",
   "metadata": {},
   "source": [
    "## 時間跟字串轉換"
   ]
  },
  {
   "cell_type": "code",
   "execution_count": 23,
   "metadata": {
    "collapsed": false
   },
   "outputs": [
    {
     "name": "stdout",
     "output_type": "stream",
     "text": [
      "2014-06-20\n",
      "2014-05-03 14:00:00\n"
     ]
    }
   ],
   "source": [
    "from datetime import date,datetime \n",
    "currenttime = datetime.now() \n",
    "print currenttime.strftime(\"%Y-%m-%d\") \n",
    "a = '2014-05-03 14:00' \n",
    "print datetime.strptime(a, \"%Y-%m-%d %H:%M\")"
   ]
  },
  {
   "cell_type": "markdown",
   "metadata": {},
   "source": [
    "## 取得年分"
   ]
  },
  {
   "cell_type": "code",
   "execution_count": 25,
   "metadata": {
    "collapsed": false
   },
   "outputs": [
    {
     "name": "stdout",
     "output_type": "stream",
     "text": [
      "['102', '12/10 10:30']\n"
     ]
    }
   ],
   "source": [
    "response_date = '102/12/10 10:30' \n",
    "getyear = response_date.split('/', 1) \n",
    "print getyear"
   ]
  },
  {
   "cell_type": "markdown",
   "metadata": {},
   "source": [
    "## 轉換成西元年"
   ]
  },
  {
   "cell_type": "code",
   "execution_count": 27,
   "metadata": {
    "collapsed": false
   },
   "outputs": [
    {
     "name": "stdout",
     "output_type": "stream",
     "text": [
      "2013/12/10 10:30\n"
     ]
    }
   ],
   "source": [
    "bctime= str(int(getyear[0]) + 1911) + \"/\" + ''.join(getyear[1:]) \n",
    "print bctime"
   ]
  },
  {
   "cell_type": "markdown",
   "metadata": {},
   "source": [
    "## 轉換成時間格式"
   ]
  },
  {
   "cell_type": "code",
   "execution_count": 28,
   "metadata": {
    "collapsed": false
   },
   "outputs": [
    {
     "name": "stdout",
     "output_type": "stream",
     "text": [
      "2013-12-10 10:30:00\n"
     ]
    }
   ],
   "source": [
    "response_date = '102/12/10 10:30' \n",
    "getyear = response_date.split('/', 1) \n",
    "bctime= str(int(getyear[0]) + 1911) + \"/\" + ''.join(getyear[1:]) \n",
    "print datetime.strptime(bctime, \"%Y/%m/%d %H:%M\")"
   ]
  },
  {
   "cell_type": "markdown",
   "metadata": {},
   "source": [
    "## 使用資料宣告"
   ]
  },
  {
   "cell_type": "code",
   "execution_count": 25,
   "metadata": {
    "collapsed": false
   },
   "outputs": [],
   "source": [
    "tenderer_dic = {\"廠商代碼\":\"tenderer_code\", \"廠商名稱\":\"tenderer_name\", \"是否得標\":\"awarded\", \"組織型態\":\"orgnization_type\"} \n",
    "result_dic = {} "
   ]
  },
  {
   "cell_type": "markdown",
   "metadata": {},
   "source": [
    "## 找到award_table_tr_3"
   ]
  },
  {
   "cell_type": "code",
   "execution_count": 26,
   "metadata": {
    "collapsed": false
   },
   "outputs": [],
   "source": [
    "tender_table = soup.find('table', { \"class\" : \"table_block tender_table\" }) \n",
    "award_table_tr_3 = tender_table.findAll( 'tr',{'class':'award_table_tr_3'})"
   ]
  },
  {
   "cell_type": "markdown",
   "metadata": {},
   "source": [
    "## 取得廠商編號"
   ]
  },
  {
   "cell_type": "code",
   "execution_count": 27,
   "metadata": {
    "collapsed": false
   },
   "outputs": [
    {
     "name": "stdout",
     "output_type": "stream",
     "text": [
      "101\n"
     ]
    }
   ],
   "source": [
    "import re \n",
    "m = re.match(r'投標廠商(\\d+)' ,'投標廠商101') \n",
    "print m.group(1)"
   ]
  },
  {
   "cell_type": "markdown",
   "metadata": {},
   "source": [
    "## Strip 範例"
   ]
  },
  {
   "cell_type": "code",
   "execution_count": 28,
   "metadata": {
    "collapsed": false
   },
   "outputs": [
    {
     "name": "stdout",
     "output_type": "stream",
     "text": [
      " \t string test \t \n",
      "\r",
      " \t string test \t \n",
      "\r\n"
     ]
    }
   ],
   "source": [
    "s = \" \\t string test \\t \\n\\n\\r\" ' \\t string test \\t \\n\\n\\r' \n",
    "print s"
   ]
  },
  {
   "cell_type": "code",
   "execution_count": 29,
   "metadata": {
    "collapsed": false
   },
   "outputs": [
    {
     "name": "stdout",
     "output_type": "stream",
     "text": [
      "string test \t \n",
      "\r",
      " \t string test\n"
     ]
    }
   ],
   "source": [
    "print s.strip()"
   ]
  },
  {
   "cell_type": "code",
   "execution_count": 30,
   "metadata": {
    "collapsed": false
   },
   "outputs": [
    {
     "name": "stdout",
     "output_type": "stream",
     "text": [
      " \t string test \t \n",
      "\r",
      " \t string test\n"
     ]
    }
   ],
   "source": [
    "print s.rstrip()"
   ]
  },
  {
   "cell_type": "code",
   "execution_count": 31,
   "metadata": {
    "collapsed": false
   },
   "outputs": [
    {
     "name": "stdout",
     "output_type": "stream",
     "text": [
      "string test \t \n",
      "\r",
      " \t string test \t \n",
      "\r\n"
     ]
    }
   ],
   "source": [
    "print s.lstrip()"
   ]
  },
  {
   "cell_type": "markdown",
   "metadata": {},
   "source": [
    "## 統整程式碼"
   ]
  },
  {
   "cell_type": "code",
   "execution_count": 32,
   "metadata": {
    "collapsed": false
   },
   "outputs": [
    {
     "name": "stdout",
     "output_type": "stream",
     "text": [
      "{1: {'tenderer_name': u'\\u4e2d\\u83ef\\u96fb\\u4fe1\\u80a1\\u4efd\\u6709\\u9650\\u516c\\u53f8\\u81fa\\u7063\\u5357\\u5340\\u96fb\\u4fe1\\u5206\\u516c\\u53f8', 'orgnization_type': u'\\u516c\\u53f8\\u767b\\u8a18', 'tenderer_code': u'96979960', 'tenderer_num': 1, 'awarded': u'\\u662f'}}\n"
     ]
    }
   ],
   "source": [
    "for tr in award_table_tr_3: \n",
    "    tb =tr.find('table') \n",
    "    grp_num = 0 \n",
    "    if tb is not None: \n",
    "        row = tb.findAll('tr') \n",
    "        for r in row: \n",
    "            th = r.find('th').text \n",
    "            m = re.match(r'投標廠商(\\d+)' ,th.encode('utf-8').strip()) \n",
    "            if m is not None: \n",
    "                grp_num = int(m.group(1)) \n",
    "                result_dic[grp_num] = {'tenderer_num': grp_num} \n",
    "            else: \n",
    "                if th.encode('utf-8').strip() in tenderer_dic: \n",
    "                    result_dic[grp_num][tenderer_dic[th.encode('utf-8').strip()]] = r.find('td').text.strip()\n",
    "print result_dic\n"
   ]
  },
  {
   "cell_type": "markdown",
   "metadata": {},
   "source": [
    "## 處理金額問題"
   ]
  },
  {
   "cell_type": "code",
   "execution_count": 20,
   "metadata": {
    "collapsed": false
   },
   "outputs": [
    {
     "name": "stdout",
     "output_type": "stream",
     "text": [
      "950000\n"
     ]
    }
   ],
   "source": [
    "import re \n",
    "m = re.match( r\"([0-9,]+)元\".decode('utf-8'), '950,000元') \n",
    "print ''.join(m.groupa(1).split(','))\n"
   ]
  },
  {
   "cell_type": "markdown",
   "metadata": {},
   "source": [
    "## 整理品項跟得標廠商"
   ]
  },
  {
   "cell_type": "code",
   "execution_count": 33,
   "metadata": {
    "collapsed": false
   },
   "outputs": [
    {
     "name": "stdout",
     "output_type": "stream",
     "text": [
      "{1: {1: {'request_number': u'1', 'awarded_tenderer': u'\\u4e2d\\u83ef\\u96fb\\u4fe1\\u80a1\\u4efd\\u6709\\u9650\\u516c\\u53f8\\u81fa\\u7063\\u5357\\u5340\\u96fb\\u4fe1\\u5206\\u516c\\u53f8', 'floor_price_value': 305000, 'tender_awarding_value': 301500}}}\n"
     ]
    }
   ],
   "source": [
    "award_dic = {}\n",
    "tender_award_dic = {\"得標廠商\":\"awarded_tenderer\", \"預估需求數量\":\"request_number\", \"決標金額\":\"tender_awarding_value\", \"底價金額\":\"floor_price_value\"}\n",
    "award_table_tr_4 = tender_table.findAll( 'tr',{'class':'award_table_tr_4'})\t\t\n",
    "for tr in award_table_tr_4:\n",
    "\ttb =tr.find('table')\n",
    "\tif tb is not None:\n",
    "\t\trow = tb.findAll('tr')\n",
    "\t\titem_num = 0\n",
    "\t\tgrp_num = 0\n",
    "\t\tfor r in row:\n",
    "\t\t\tif r.find('th') is not None:\n",
    "\t\t\t\tth = r.find('th').text\n",
    "\t\t\t\t#print r.find('th').text\n",
    "\t\t\t\tm = re.match(r'第(\\d+)品項' ,th.encode('utf-8').strip())\n",
    "\t\t\t\tm2 = re.match(r'得標廠商(\\d+)' ,th.encode('utf-8').strip())\n",
    "\t\t\t\tif m is not None:\n",
    "\t\t\t\t\titem_num =  int(m.group(1).decode('utf-8'))\n",
    "\t\t\t\t\taward_dic[item_num] = {}\n",
    "\t\t\t\telif m2 is not None:\n",
    "\t\t\t\t\tgrp_num =  int(m2.group(1).decode('utf-8'))\n",
    "\t\t\t\t\taward_dic[item_num][grp_num] = {}\t\t\t\n",
    "\t\t\t\telse:\n",
    "\t\t\t\t\tif th.encode('utf-8').strip() in tender_award_dic:\n",
    "\t\t\t\t\t\t#print th.encode('utf-8').strip().decode('utf-8')\n",
    "\t\t\t\t\t\tif th.encode('utf-8').strip() == \"決標金額\" or th.encode('utf-8').strip() == \"底價金額\":\n",
    "\t\t\t\t\t\t\tm = re.match( r\"\\$?-?([0-9,]+)\", \"\".join( r.find('td').text.split()))\n",
    "\t\t\t\t\t\t\taward_dic[item_num][grp_num][tender_award_dic[th.encode('utf-8').strip()]] =  int(''.join(m.group(0).split(',')))\t\t\t\t\t\t\t\n",
    "\t\t\t\t\t\telse:\n",
    "\t\t\t\t\t\t\taward_dic[item_num][grp_num][tender_award_dic[th.encode('utf-8').strip()]] = r.find('td').text.strip()\n",
    "print award_dic"
   ]
  },
  {
   "cell_type": "markdown",
   "metadata": {},
   "source": [
    "## 步驟 0  引用套件"
   ]
  },
  {
   "cell_type": "code",
   "execution_count": 22,
   "metadata": {
    "collapsed": false
   },
   "outputs": [],
   "source": [
    "# -*- coding: utf-8 -*- \n",
    "from bs4 import BeautifulSoup \n",
    "from datetime import datetime \n",
    "import os, sys, re"
   ]
  },
  {
   "cell_type": "markdown",
   "metadata": {},
   "source": [
    "## 步驟1 建立資料抽出函式"
   ]
  },
  {
   "cell_type": "code",
   "execution_count": 41,
   "metadata": {
    "collapsed": false
   },
   "outputs": [],
   "source": [
    "def get_response_element (file_name): \n",
    "    f = open(file_name, 'r') \n",
    "    response_text = f.read() \n",
    "    f.close() \n",
    "    soup = BeautifulSoup(''.join(response_text)) \n",
    "    tender_table = soup.select('.tender_table') \n",
    "    tr = tender_table[0].select('tr') \n",
    "    return tr"
   ]
  },
  {
   "cell_type": "markdown",
   "metadata": {},
   "source": [
    "## 步驟2 建立時間轉換函式"
   ]
  },
  {
   "cell_type": "code",
   "execution_count": 104,
   "metadata": {
    "collapsed": false
   },
   "outputs": [
    {
     "name": "stdout",
     "output_type": "stream",
     "text": [
      "2015-06-03 00:00:00\n"
     ]
    }
   ],
   "source": [
    "def date_conversion(element):\n",
    "    m = re.match(r\"(\\d+/\\d+/\\d+)\",element.strip())\n",
    "    if m is not None:\n",
    "        ymd = m.group(1).split('/', 1)\n",
    "        if ymd[0] != '':\n",
    "            rt = str(int(ymd[0]) + 1911) + \"/\" + (''.join(ymd[1:]).split()[0] )\n",
    "            return datetime.strptime(rt, \"%Y/%m/%d\")\n",
    "    else:\n",
    "        return None\n",
    "\n",
    "print date_conversion('104/06/03 10:00 ')"
   ]
  },
  {
   "cell_type": "markdown",
   "metadata": {},
   "source": [
    "## 步驟3 建立金額轉換函式"
   ]
  },
  {
   "cell_type": "code",
   "execution_count": 105,
   "metadata": {
    "collapsed": false
   },
   "outputs": [],
   "source": [
    "def money_conversion(element): \n",
    "    m = re.match( r\"([0-9,]+)元\".decode('utf-8'), \"\".join(element.split()).strip()) \n",
    "    return int(''.join(m.group(1).split(',')))"
   ]
  },
  {
   "cell_type": "markdown",
   "metadata": {},
   "source": [
    "## 步驟4 建立移除空白函式"
   ]
  },
  {
   "cell_type": "code",
   "execution_count": 106,
   "metadata": {
    "collapsed": false
   },
   "outputs": [],
   "source": [
    "def remove_space(element): \n",
    "    return \"\".join(element.split())"
   ]
  },
  {
   "cell_type": "markdown",
   "metadata": {},
   "source": [
    "## 步驟5 建立轉換字典"
   ]
  },
  {
   "cell_type": "code",
   "execution_count": 107,
   "metadata": {
    "collapsed": false
   },
   "outputs": [],
   "source": [
    "name_map = {\"機關代碼\":\"entity_code\", \"機關名稱\":\"procuring_entity\",\"標案案號\":\"job_number\",\"招標方式\":\"procurement_type\",\"決標方式\":\"tender_awarding_type\",\"標案名稱\":\"subject_of_procurement\", \"決標資料類別\":\"attr_of_tender_awarding\", \\\n",
    "    \"標的分類\":\"attr_of_procurement\", \"預算金額\":\"budget_value\", \"開標時間\":\"opening_date\",\"決標公告日期\":\"tender_awarding_announce_date\",\\\n",
    "    \"歸屬計畫類別\":\"project_type\",\"總決標金額\":\"total_tender_awarding_value\",\"底價金額\":\"floor_price_value\",\"決標日期\":\"tender_awarding_date\", \"pkAtmMain\":\"pkAtmMain\"}\n",
    "tender_awards_map = {\"機關代碼\":remove_space, \"機關名稱\":remove_space, \"標案案號\":remove_space, \\\n",
    "    \"招標方式\":remove_space,\"決標方式\":remove_space,\"標案名稱\":remove_space, \"決標資料類別\":remove_space, \\\n",
    "    \"標的分類\":remove_space, \"預算金額\":money_conversion, \"開標時間\":date_conversion,\"歸屬計畫類別\":remove_space, \\\n",
    "    \"總決標金額\":money_conversion,\"底價金額\":money_conversion,\"決標日期\":date_conversion, \"決標公告日期\":date_conversion}\n"
   ]
  },
  {
   "cell_type": "markdown",
   "metadata": {},
   "source": [
    "## 步驟6 整理機關、已公告、決標資料"
   ]
  },
  {
   "cell_type": "code",
   "execution_count": 110,
   "metadata": {
    "collapsed": false
   },
   "outputs": [],
   "source": [
    "def get_award_info_dic (element):\n",
    "    returned_dic = {}\n",
    "    for row in element:\n",
    "        th = row.select('th')\n",
    "        if len(th) > 0 :\n",
    "            th_name = th[0].text.encode('utf-8').strip()\n",
    "            if th_name in  tender_awards_map:\n",
    "                returned_dic[name_map[th_name]] = tender_awards_map[th_name](row.select('td')[0].text)\n",
    "    return returned_dic\n"
   ]
  },
  {
   "cell_type": "markdown",
   "metadata": {},
   "source": [
    "## 步驟7 瀏覽整理過的資料"
   ]
  },
  {
   "cell_type": "code",
   "execution_count": 111,
   "metadata": {
    "collapsed": false
   },
   "outputs": [
    {
     "name": "stdout",
     "output_type": "stream",
     "text": [
      "opening_date 2015-06-03 00:00:00\n",
      "total_tender_awarding_value 950000\n",
      "tender_awarding_date 2015-06-25 00:00:00\n",
      "entity_code A.25.6\n",
      "procurement_type 公開取得報價單或企劃書\n",
      "procuring_entity 國立歷史博物館\n",
      "attr_of_procurement <勞務類>842軟體執行服務\n",
      "tender_awarding_announce_date 2015-07-24 00:00:00\n",
      "subject_of_procurement 國立歷史博物館「數位跨域文創資源加值網站開發委外製作案」\n",
      "project_type 非屬愛台十二項計畫\n",
      "attr_of_tender_awarding 定期彙送\n",
      "budget_value 983324\n",
      "floor_price_value 950000\n",
      "job_number 104040\n",
      "tender_awarding_type 參考最有利標精神\n"
     ]
    }
   ],
   "source": [
    "ele = get_response_element(\"gov/51603709_104040.txt\")\n",
    "award_info_dic = get_award_info_dic(ele) \n",
    "for ele in award_info_dic:\n",
    "    print ele, award_info_dic[ele]"
   ]
  },
  {
   "cell_type": "markdown",
   "metadata": {},
   "source": [
    "## 將查到書籍資料整理成dic"
   ]
  },
  {
   "cell_type": "code",
   "execution_count": 56,
   "metadata": {
    "collapsed": false
   },
   "outputs": [
    {
     "name": "stdout",
     "output_type": "stream",
     "text": [
      "純天然無毒清潔術：妙用小蘇打×檸檬酸×醋(暢銷新裝版)\n",
      "q作者：boutique, 出版社： , 出版日期：2014-01-06q\n",
      "q定價 250 元, 最低175元起...博客來、iRead 灰熊愛讀書完整列出比價資訊...q\n",
      "q商品條碼：9789863021582, ISBN：986302158X分類標籤：室內設計&raquo;藝術設計&raquo;居家生活&raquo;生活風格&raquo;清潔/收納/修繕q\n",
      "{'date': '2014-01-06', 'publisher': ' ', 'author': 'boutique', 'title': u'\\u7d14\\u5929\\u7136\\u7121\\u6bd2\\u6e05\\u6f54\\u8853\\uff1a\\u5999\\u7528\\u5c0f\\u8607\\u6253\\xd7\\u6ab8\\u6aac\\u9178\\xd7\\u918b(\\u66a2\\u92b7\\u65b0\\u88dd\\u7248)'}\n"
     ]
    }
   ],
   "source": [
    "import requests\n",
    "import re\n",
    "from BeautifulSoup import BeautifulSoup\n",
    "find_url = 'http://findbook.tw/book/%s/basic'\n",
    "book = '9789863021582'\n",
    "    \n",
    "res = requests.get(find_url%(book))\n",
    "res.encoding= 'utf-8'\n",
    "soup = BeautifulSoup(res.text.encode('utf-8'))\n",
    "profile = soup.find('div', {'class':'book-profile'})\n",
    "dic = {}\n",
    "title = profile.find('h1').text\n",
    "dic['title'] = title\n",
    "ps = profile.findAll('p')\n",
    "for p in ps:\n",
    "    print \"q\"+p.text+\"q\"\n",
    "    m = re.match(r'作者：(.*), 出版社：(.*), 出版日期：(.*)' ,p.text.encode('utf-8'))\n",
    "    if m:\n",
    "        dic['author'] =  m.group(1)\n",
    "        dic['publisher'] = m.group(2) \n",
    "        dic['date'] = m.group(3)\n",
    "print dic "
   ]
  },
  {
   "cell_type": "markdown",
   "metadata": {},
   "source": [
    "## 整理高鐵時刻表"
   ]
  },
  {
   "cell_type": "code",
   "execution_count": 57,
   "metadata": {
    "collapsed": false
   },
   "outputs": [
    {
     "name": "stdout",
     "output_type": "stream",
     "text": [
      "<section class=\"result_table\">\n",
      "<table>\n",
      "<tr>\n",
      "<th class=\"column1\" scope=\"col\">車次</th>\n",
      "<th class=\"column3\" scope=\"col\">出發時間</th>\n",
      "<th class=\"column4\" scope=\"col\">抵達時間</th>\n",
      "<th class=\"column2\" scope=\"col\">備註</th>\n",
      "</tr>\n",
      "<tr>\n",
      "<td class=\"toTouch\" colspan=\"4\">\n",
      "<table class=\"touch_table\"><tr>\n",
      "<td class=\"column1\"><a href=\"javascript:;\" title=\"0721\">0721</a></td>\n",
      "<td class=\"column3\">16:36</td>\n",
      "<td class=\"column4\">18:00</td>\n",
      "<td class=\"column2\"></td>\n",
      "</tr>\n",
      "</table>\n",
      "<div class=\"touch_show\">\n",
      "</div></td></tr></table></section>\n"
     ]
    }
   ],
   "source": [
    "import requests\n",
    "from BeautifulSoup import BeautifulSoup\n",
    "payload = {\n",
    "'StartStation':'977abb69-413a-4ccf-a109-0272c24fd490',\n",
    "'EndStation':'60831846-f0e4-47f6-9b5b-46323ebdcef7',\n",
    "'SearchDate':'2014/06/18',\n",
    "'SearchTime':'16:30',\n",
    "'SearchWay':'DepartureInMandarin'\n",
    "}\n",
    "res = requests.post('http://www.thsrc.com.tw/tw/TimeTable/SearchResult', data=payload)\n",
    "soup = BeautifulSoup(res.text)\n",
    "sec = soup.find('section', {'class':'result_table'}) \n",
    "print sec\n"
   ]
  },
  {
   "cell_type": "markdown",
   "metadata": {},
   "source": [
    "## 整理持有股資訊?"
   ]
  },
  {
   "cell_type": "code",
   "execution_count": null,
   "metadata": {
    "collapsed": false
   },
   "outputs": [],
   "source": [
    "### Input Your Code ###"
   ]
  },
  {
   "cell_type": "markdown",
   "metadata": {},
   "source": [
    "## 整理ptt 資訊?"
   ]
  },
  {
   "cell_type": "code",
   "execution_count": null,
   "metadata": {
    "collapsed": false
   },
   "outputs": [],
   "source": [
    "### Input Your Code ###"
   ]
  }
 ],
 "metadata": {
  "kernelspec": {
   "display_name": "Python 2",
   "language": "python",
   "name": "python2"
  },
  "language_info": {
   "codemirror_mode": {
    "name": "ipython",
    "version": 2
   },
   "file_extension": ".py",
   "mimetype": "text/x-python",
   "name": "python",
   "nbconvert_exporter": "python",
   "pygments_lexer": "ipython2",
   "version": "2.7.10"
  }
 },
 "nbformat": 4,
 "nbformat_minor": 0
}
