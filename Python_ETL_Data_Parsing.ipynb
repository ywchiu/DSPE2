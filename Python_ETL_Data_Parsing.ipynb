{
 "cells": [
  {
   "cell_type": "markdown",
   "metadata": {},
   "source": [
    "## 正規表達式"
   ]
  },
  {
   "cell_type": "code",
   "execution_count": 1,
   "metadata": {
    "collapsed": false
   },
   "outputs": [
    {
     "name": "stdout",
     "output_type": "stream",
     "text": [
      "('david', 'numerinfo')\n",
      "('david', 'numerinfo.com')\n",
      "('1999', '5')\n",
      "David Chiu\n",
      "file.txt root 10.0.0.1 ./\n"
     ]
    }
   ],
   "source": [
    "import re \n",
    "m = re.match(r\"(\\w+)@(\\w+)\", \"david@numerinfo.com\") \n",
    "print m.groups()\n",
    " \n",
    "m = re.match(r\"(\\w+)@([a-z.]+)\", \"david@numerinfo.com\") \n",
    "print m.groups() \n",
    "m = re.match(r\"(\\d+)\\.(\\d+)\", \"1999.5\") \n",
    "print m.groups() \n",
    "m = re.match(r\"(?P<first_name>\\w+) (?P<last_name>\\w+)\", \"David Chiu\") \n",
    "print m.group('first_name'), m.group('last_name')\n",
    " \n",
    "str1 = 'scp file.txt root@10.0.0.1:./' \n",
    "m=re.search('^scp ([\\w\\.]+) (\\w+)@([\\w\\.]+):(.+)',str1) \n",
    "if m: \n",
    "    print m.group(1), m.group(2), m.group(3), m.group(4)"
   ]
  },
  {
   "cell_type": "code",
   "execution_count": 6,
   "metadata": {
    "collapsed": false
   },
   "outputs": [
    {
     "name": "stdout",
     "output_type": "stream",
     "text": [
      "<_sre.SRE_Match object at 0x04A3BDE8>\n",
      "<_sre.SRE_Match object at 0x04A3BE58>\n",
      "<_sre.SRE_Match object at 0x04A3BDE8>\n",
      "<_sre.SRE_Match object at 0x04A3BE58>\n"
     ]
    }
   ],
   "source": [
    "import re\n",
    "str1 = \"0912-345-678\"\n",
    "str2 = \"0912-345678\"\n",
    "print re.match(r\"\\d{4}-?\\d{3}-?\\d{3}\", str1)\n",
    "print re.match(r\"\\d{4}-?\\d{3}-?\\d{3}\", str2)\n"
   ]
  },
  {
   "cell_type": "markdown",
   "metadata": {},
   "source": [
    "## 使用file IO讀進資料"
   ]
  },
  {
   "cell_type": "code",
   "execution_count": 2,
   "metadata": {
    "collapsed": false
   },
   "outputs": [],
   "source": [
    "# -*- coding: utf-8 -*- \n",
    "f = open(\"gov/51239291_0607L1030328.txt\", \"r\") \n",
    "#print f.read() \n",
    "f.close()\n",
    "\n"
   ]
  },
  {
   "cell_type": "markdown",
   "metadata": {},
   "source": [
    "## 把資料丟進BeautifulSoup"
   ]
  },
  {
   "cell_type": "code",
   "execution_count": 3,
   "metadata": {
    "collapsed": false
   },
   "outputs": [],
   "source": [
    "# -*- coding: utf-8 -*- \n",
    "from bs4 import BeautifulSoup \n",
    "f = open('gov/51239291_0607L1030328.txt', 'r') \n",
    "response_text = f.read() \n",
    "soup = BeautifulSoup(response_text) \n",
    "f.close()"
   ]
  },
  {
   "cell_type": "markdown",
   "metadata": {},
   "source": [
    "## 抓出含有th 的列"
   ]
  },
  {
   "cell_type": "code",
   "execution_count": 5,
   "metadata": {
    "collapsed": false
   },
   "outputs": [
    {
     "name": "stdout",
     "output_type": "stream",
     "text": [
      "None\n",
      "None\n",
      "None\n",
      "<th align=\"left\" bgcolor=\"#DAEBED\" class=\"T11b\" valign=\"middle\" width=\"200\">\n",
      "     機關代碼\n",
      "    </th>\n",
      "<th align=\"left\" bgcolor=\"#DAEBED\" class=\"T11b\" valign=\"middle\" width=\"200\">\n",
      "     機關名稱\n",
      "    </th>\n",
      "<th align=\"left\" bgcolor=\"#DAEBED\" class=\"T11b\" valign=\"middle\" width=\"200\">\n",
      "     單位名稱\n",
      "    </th>\n",
      "<th align=\"left\" bgcolor=\"#DAEBED\" class=\"T11b\" valign=\"middle\" width=\"200\">\n",
      "     機關地址\n",
      "    </th>\n",
      "<th align=\"left\" bgcolor=\"#DAEBED\" class=\"T11b\" valign=\"middle\" width=\"200\">\n",
      "     聯絡人\n",
      "    </th>\n",
      "<th align=\"left\" bgcolor=\"#DAEBED\" class=\"T11b\" valign=\"middle\" width=\"200\">\n",
      "     聯絡電話\n",
      "    </th>\n",
      "<th align=\"left\" bgcolor=\"#DAEBED\" class=\"T11b\" style=\"height: 25px\" valign=\"middle\" width=\"200\">\n",
      "     傳真號碼\n",
      "    </th>\n",
      "None\n",
      "<th align=\"left\" bgcolor=\"#FFFF99\" class=\"T11b\" valign=\"middle\" width=\"200\">\n",
      "     標案案號\n",
      "    </th>\n",
      "<th align=\"left\" bgcolor=\"#FFFF99\" class=\"T11b\" valign=\"middle\" width=\"200\">\n",
      "     招標方式\n",
      "    </th>\n",
      "<th align=\"left\" bgcolor=\"#FFFF99\" class=\"T11b\" valign=\"middle\" width=\"200\">\n",
      "     決標方式\n",
      "    </th>\n",
      "<th align=\"left\" bgcolor=\"#FFFF99\" class=\"T11b\" valign=\"middle\" width=\"200\">\n",
      "     是否依據採購法第106條第1項第1款辦理\n",
      "    </th>\n",
      "<th align=\"left\" bgcolor=\"#FFFF99\" class=\"T11b\" valign=\"middle\" width=\"200\">\n",
      "     標案名稱\n",
      "    </th>\n",
      "<th align=\"left\" bgcolor=\"#FFFF99\" class=\"T11b\" valign=\"middle\" width=\"200\">\n",
      "     決標資料類別\n",
      "    </th>\n",
      "<th align=\"left\" bgcolor=\"#FFFF99\" class=\"T11b\" valign=\"middle\" width=\"200\">\n",
      "     是否屬共同供應契約採購\n",
      "    </th>\n",
      "<th align=\"left\" bgcolor=\"#FFFF99\" class=\"T11b\" valign=\"middle\" width=\"200\">\n",
      "     是否複數決標\n",
      "    </th>\n",
      "<th align=\"left\" bgcolor=\"#FFFF99\" class=\"T11b\" valign=\"middle\" width=\"200\">\n",
      "     是否共同投標\n",
      "    </th>\n",
      "<th align=\"left\" bgcolor=\"#FFFF99\" class=\"T11b\" valign=\"middle\" width=\"200\">\n",
      "     標的分類\n",
      "    </th>\n",
      "<th align=\"left\" bgcolor=\"#FFFF99\" class=\"T11b\" valign=\"middle\" width=\"200\">\n",
      "     是否屬統包\n",
      "    </th>\n",
      "<th align=\"left\" bgcolor=\"#FFFF99\" class=\"T11b\" valign=\"middle\" width=\"200\">\n",
      "     是否應依公共工程專業技師簽證規則實施技師簽證\n",
      "    </th>\n",
      "<th align=\"left\" bgcolor=\"#FFFF99\" class=\"T11b\" valign=\"middle\" width=\"200\">\n",
      "     開標時間\n",
      "    </th>\n",
      "<th align=\"left\" bgcolor=\"#FFFF99\" class=\"T11b\" valign=\"middle\" width=\"200\">\n",
      "     採購金額級距\n",
      "    </th>\n",
      "<th align=\"left\" bgcolor=\"#FFFF99\" class=\"T11b\" valign=\"middle\" width=\"200\">\n",
      "     辦理方式\n",
      "    </th>\n",
      "<th align=\"left\" bgcolor=\"#FFFF99\" class=\"T11b\" valign=\"middle\" width=\"200\">\n",
      "     限制性招標\n",
      "     <br>\n",
      "      依據之法條\n",
      "     </br>\n",
      "</th>\n",
      "<th align=\"left\" bgcolor=\"#FFFF99\" class=\"T11b\" valign=\"middle\" width=\"200\">\n",
      "     是否適用條約或\n",
      "     <br>\n",
      "      協定之採購\n",
      "     </br>\n",
      "</th>\n",
      "<th align=\"left\" bgcolor=\"#FFFF99\" class=\"T11b\" valign=\"middle\" width=\"200\">\n",
      "     預算金額是否公開\n",
      "    </th>\n",
      "<th align=\"left\" bgcolor=\"#FFFF99\" class=\"T11b\" valign=\"middle\" width=\"200\">\n",
      "     預算金額\n",
      "    </th>\n",
      "<th align=\"left\" bgcolor=\"#FFFF99\" class=\"T11b\" valign=\"middle\" width=\"200\">\n",
      "     是否受機關補助\n",
      "    </th>\n",
      "<th align=\"left\" bgcolor=\"#FFFF99\" class=\"T11b\" valign=\"middle\" width=\"200\">\n",
      "     履約地點\n",
      "    </th>\n",
      "<th align=\"left\" bgcolor=\"#FFFF99\" class=\"T11b\" valign=\"middle\" width=\"200\">\n",
      "     履約地點（含地區）\n",
      "    </th>\n",
      "<th align=\"left\" bgcolor=\"#FFFF99\" class=\"T11b\" valign=\"middle\" width=\"200\">\n",
      "     是否屬優先採購身心障礙福利機構產品或勞務\n",
      "    </th>\n",
      "<th align=\"left\" bgcolor=\"#FFFF99\" class=\"T11b\" valign=\"middle\" width=\"200\">\n",
      "     是否含特別預算\n",
      "    </th>\n",
      "<th align=\"left\" bgcolor=\"#FFFF99\" class=\"T11b\" valign=\"middle\" width=\"200\">\n",
      "     歸屬計畫類別\n",
      "    </th>\n",
      "<th align=\"left\" bgcolor=\"#FFFF99\" class=\"T11b\" valign=\"middle\" width=\"200\">\n",
      "     本案採購契約是否採用主管機關訂定之範本\n",
      "    </th>\n",
      "None\n",
      "<th align=\"left\" bgcolor=\"#ffdd83\" class=\"T11b\" valign=\"middle\" width=\"200\">\n",
      "        投標廠商家數\n",
      "       </th>\n",
      "<th align=\"left\" bgcolor=\"#ffdd83\" class=\"T11b\" valign=\"middle\" width=\"200\">\n",
      "        投標廠商家數\n",
      "       </th>\n",
      "<th align=\"left\" bgcolor=\"#ffdd83\" class=\"T11b\" valign=\"middle\" width=\"200\">\n",
      "        投標廠商1\n",
      "       </th>\n",
      "<th align=\"left\" bgcolor=\"#ffdd83\" class=\"T11b\" valign=\"middle\" width=\"200\">\n",
      "        廠商代碼\n",
      "       </th>\n",
      "<th align=\"left\" bgcolor=\"#ffdd83\" class=\"T11b\" valign=\"middle\" width=\"200\">\n",
      "        廠商名稱\n",
      "       </th>\n",
      "<th align=\"left\" bgcolor=\"#ffdd83\" class=\"T11b\" valign=\"middle\" width=\"200\">\n",
      "        是否得標\n",
      "       </th>\n",
      "<th align=\"left\" bgcolor=\"#ffdd83\" class=\"T11b\" valign=\"middle\" width=\"200\">\n",
      "        組織型態\n",
      "       </th>\n",
      "<th align=\"left\" bgcolor=\"#ffdd83\" class=\"T11b\" valign=\"middle\" width=\"200\">\n",
      "        廠商業別\n",
      "       </th>\n",
      "<th align=\"left\" bgcolor=\"#ffdd83\" class=\"T11b\" valign=\"middle\" width=\"200\">\n",
      "        廠商地址\n",
      "       </th>\n",
      "<th align=\"left\" bgcolor=\"#ffdd83\" class=\"T11b\" valign=\"middle\" width=\"200\">\n",
      "        廠商電話\n",
      "       </th>\n",
      "<th align=\"left\" bgcolor=\"#ffdd83\" class=\"T11b\" valign=\"middle\" width=\"200\">\n",
      "        決標金額\n",
      "       </th>\n",
      "<th align=\"left\" bgcolor=\"#ffdd83\" class=\"T11b\" valign=\"middle\" width=\"200\">\n",
      "        得標廠商國別\n",
      "       </th>\n",
      "<th align=\"left\" bgcolor=\"#ffdd83\" class=\"T11b\" valign=\"middle\" width=\"200\">\n",
      "        是否為中小企業\n",
      "       </th>\n",
      "<th align=\"left\" bgcolor=\"#ffdd83\" class=\"T11b\" valign=\"middle\" width=\"200\">\n",
      "        履約起迄日期\n",
      "       </th>\n",
      "<th align=\"left\" bgcolor=\"#ffdd83\" class=\"T11b\" valign=\"middle\" width=\"200\">\n",
      "        雇用員工總人數是否\n",
      "        <br>\n",
      "         超過100人\n",
      "        </br>\n",
      "</th>\n",
      "<th align=\"left\" bgcolor=\"#ffdd83\" class=\"T11b\" valign=\"middle\" width=\"200\">\n",
      "        僱用員工總\n",
      "        <br>\n",
      "         人數\n",
      "        </br>\n",
      "</th>\n",
      "<th align=\"left\" bgcolor=\"#ffdd83\" class=\"T11b\" valign=\"middle\" width=\"200\">\n",
      "        已僱用原住民\n",
      "        <br>\n",
      "         人數\n",
      "        </br>\n",
      "</th>\n",
      "<th align=\"left\" bgcolor=\"#ffdd83\" class=\"T11b\" valign=\"middle\" width=\"200\">\n",
      "        已僱用身心障礙者\n",
      "        <br>\n",
      "         人數\n",
      "        </br>\n",
      "</th>\n",
      "None\n",
      "<th align=\"left\" bgcolor=\"#FFCCCC\" class=\"T11b\" valign=\"middle\" width=\"200\">\n",
      "        決標品項數\n",
      "       </th>\n",
      "<th align=\"left\" bgcolor=\"#FFCCCC\" class=\"T11b\" valign=\"middle\" width=\"200\">\n",
      "        決標品項數\n",
      "       </th>\n",
      "<th align=\"left\" bgcolor=\"#FFCCCC\" class=\"T11b\" valign=\"middle\" width=\"200\">\n",
      "        第1品項\n",
      "       </th>\n",
      "<th align=\"left\" bgcolor=\"#FFCCCC\" class=\"T11b\" valign=\"middle\" width=\"200\">\n",
      "        品項名稱\n",
      "       </th>\n",
      "<th align=\"left\" bgcolor=\"#FFCCCC\" class=\"T11b\" valign=\"middle\" width=\"200\">\n",
      "        是否以單價及預估需\n",
      "        <br>\n",
      "         求數量之乘積決定最\n",
      "         <br>\n",
      "          低標\n",
      "         </br>\n",
      "</br>\n",
      "</th>\n",
      "<th align=\"left\" bgcolor=\"#FFCCCC\" class=\"T11b\" valign=\"middle\" width=\"200\">\n",
      "        得標廠商1\n",
      "       </th>\n",
      "<th align=\"left\" bgcolor=\"#FFCCCC\" class=\"T11b\" valign=\"middle\" width=\"200\">\n",
      "        得標廠商\n",
      "       </th>\n",
      "<th align=\"left\" bgcolor=\"#FFCCCC\" class=\"T11b\" valign=\"middle\" width=\"200\">\n",
      "        預估需求數量\n",
      "       </th>\n",
      "<th align=\"left\" bgcolor=\"#FFCCCC\" class=\"T11b\" valign=\"middle\" width=\"200\">\n",
      "        決標金額\n",
      "       </th>\n",
      "<th align=\"left\" bgcolor=\"#FFCCCC\" class=\"T11b\" valign=\"middle\" width=\"200\">\n",
      "        底價金額\n",
      "       </th>\n",
      "<th align=\"left\" bgcolor=\"#FFCCCC\" class=\"T11b\" valign=\"middle\" width=\"200\">\n",
      "        原產地國別\n",
      "       </th>\n",
      "None\n",
      "None\n",
      "None\n",
      "None\n",
      "<th bgcolor=\"#ddc09e\" class=\"T11b\" width=\"200\">\n",
      "     決標公告序號\n",
      "    </th>\n",
      "<th bgcolor=\"#ddc09e\" class=\"T11b\" width=\"200\">\n",
      "     公告更正序號\n",
      "    </th>\n",
      "<th bgcolor=\"#ddc09e\" class=\"T11b\" width=\"200\">\n",
      "     決標日期\n",
      "    </th>\n",
      "<th bgcolor=\"#ddc09e\" class=\"T11b\" width=\"200\">\n",
      "     原決標公告日期\n",
      "    </th>\n",
      "<th bgcolor=\"#ddc09e\" class=\"T11b\" width=\"200\">\n",
      "     決標公告日期\n",
      "    </th>\n",
      "<th bgcolor=\"#ddc09e\" class=\"T11b\" width=\"200\">\n",
      "     是否刊登公報\n",
      "    </th>\n",
      "<th bgcolor=\"#ddc09e\" class=\"T11b\" width=\"200\">\n",
      "     底價金額\n",
      "    </th>\n",
      "<th bgcolor=\"#ddc09e\" class=\"T11b\" width=\"200\">\n",
      "     底價金額是否公開\n",
      "    </th>\n",
      "<th bgcolor=\"#ddc09e\" class=\"T11b\" width=\"200\">\n",
      "     總決標金額\n",
      "    </th>\n",
      "<th bgcolor=\"#ddc09e\" class=\"T11b\" width=\"200\">\n",
      "     總決標金額是否公開\n",
      "    </th>\n",
      "<th bgcolor=\"#ddc09e\" class=\"T11b\" width=\"200\">\n",
      "     契約是否訂有依物價指數調整價金規定\n",
      "    </th>\n",
      "<th bgcolor=\"#ddc09e\" class=\"T11b\" width=\"200\">\n",
      "     漲跌幅調整幅度\n",
      "    </th>\n",
      "<th bgcolor=\"#ddc09e\" class=\"T11b\" width=\"200\">\n",
      "     履約執行機關\n",
      "    </th>\n",
      "<th bgcolor=\"#ddc09e\" class=\"T11b\" width=\"200\">\n",
      "     附加說明\n",
      "    </th>\n"
     ]
    }
   ],
   "source": [
    "# -*- coding: utf-8 -*- \n",
    "from bs4 import BeautifulSoup \n",
    "f = open('gov/51239291_0607L1030328.txt', 'r') \n",
    "response_text = f.read() \n",
    "f.close() \n",
    "soup = BeautifulSoup(''.join(response_text)) \n",
    "tr = soup.findAll('tr') \n",
    "for row in tr: \n",
    "    print row.find('th')"
   ]
  },
  {
   "cell_type": "markdown",
   "metadata": {},
   "source": [
    "## 列出表格中所有th 名稱"
   ]
  },
  {
   "cell_type": "code",
   "execution_count": 7,
   "metadata": {
    "collapsed": false
   },
   "outputs": [
    {
     "name": "stdout",
     "output_type": "stream",
     "text": [
      "機關代碼\n",
      "機關名稱\n",
      "單位名稱\n",
      "機關地址\n",
      "聯絡人\n",
      "聯絡電話\n",
      "傳真號碼\n",
      "標案案號\n",
      "招標方式\n",
      "決標方式\n",
      "是否依據採購法第106條第1項第1款辦理\n",
      "標案名稱\n",
      "決標資料類別\n",
      "是否屬共同供應契約採購\n",
      "是否複數決標\n",
      "是否共同投標\n",
      "標的分類\n",
      "是否屬統包\n",
      "是否應依公共工程專業技師簽證規則實施技師簽證\n",
      "開標時間\n",
      "採購金額級距\n",
      "辦理方式\n",
      "限制性招標\n",
      "     \n",
      "      依據之法條\n",
      "是否適用條約或\n",
      "     \n",
      "      協定之採購\n",
      "預算金額是否公開\n",
      "預算金額\n",
      "是否受機關補助\n",
      "履約地點\n",
      "履約地點（含地區）\n",
      "是否屬優先採購身心障礙福利機構產品或勞務\n",
      "是否含特別預算\n",
      "歸屬計畫類別\n",
      "本案採購契約是否採用主管機關訂定之範本\n",
      "投標廠商家數\n",
      "投標廠商家數\n",
      "投標廠商1\n",
      "廠商代碼\n",
      "廠商名稱\n",
      "是否得標\n",
      "組織型態\n",
      "廠商業別\n",
      "廠商地址\n",
      "廠商電話\n",
      "決標金額\n",
      "得標廠商國別\n",
      "是否為中小企業\n",
      "履約起迄日期\n",
      "雇用員工總人數是否\n",
      "        \n",
      "         超過100人\n",
      "僱用員工總\n",
      "        \n",
      "         人數\n",
      "已僱用原住民\n",
      "        \n",
      "         人數\n",
      "已僱用身心障礙者\n",
      "        \n",
      "         人數\n",
      "決標品項數\n",
      "決標品項數\n",
      "第1品項\n",
      "品項名稱\n",
      "是否以單價及預估需\n",
      "        \n",
      "         求數量之乘積決定最\n",
      "         \n",
      "          低標\n",
      "得標廠商1\n",
      "得標廠商\n",
      "預估需求數量\n",
      "決標金額\n",
      "底價金額\n",
      "原產地國別\n",
      "決標公告序號\n",
      "公告更正序號\n",
      "決標日期\n",
      "原決標公告日期\n",
      "決標公告日期\n",
      "是否刊登公報\n",
      "底價金額\n",
      "底價金額是否公開\n",
      "總決標金額\n",
      "總決標金額是否公開\n",
      "契約是否訂有依物價指數調整價金規定\n",
      "漲跌幅調整幅度\n",
      "履約執行機關\n",
      "附加說明\n"
     ]
    }
   ],
   "source": [
    "for row in tr: \n",
    "    th = row.find('th') \n",
    "    if th is not None: \n",
    "        print th.text.strip()"
   ]
  },
  {
   "cell_type": "markdown",
   "metadata": {},
   "source": [
    "## 找出”機關代碼”"
   ]
  },
  {
   "cell_type": "code",
   "execution_count": 10,
   "metadata": {
    "collapsed": false
   },
   "outputs": [
    {
     "name": "stdout",
     "output_type": "stream",
     "text": [
      "3.13.30\n"
     ]
    }
   ],
   "source": [
    "for row in tr: \n",
    "    th = row.find('th') \n",
    "    if th is not None: \n",
    "        if th.text.encode('utf-8').strip() == \"機關代碼\": \n",
    "        \tprint row.find('td').text.strip()"
   ]
  },
  {
   "cell_type": "code",
   "execution_count": 11,
   "metadata": {
    "collapsed": false
   },
   "outputs": [
    {
     "name": "stdout",
     "output_type": "stream",
     "text": [
      "3.13.30\n",
      "臺灣糖業股份有限公司\n"
     ]
    }
   ],
   "source": [
    "for row in tr: \n",
    "    th = row.find('th') \n",
    "    if th is not None: \n",
    "        if th.text.encode('utf-8').strip() == \"機關代碼\": \n",
    "            print row.find('td').text.strip() \n",
    "        if th.text.encode('utf-8').strip() == \"機關名稱\": \n",
    "            print row.find('td').text.strip()\n"
   ]
  },
  {
   "cell_type": "markdown",
   "metadata": {},
   "source": [
    "## Dictionary 範例"
   ]
  },
  {
   "cell_type": "code",
   "execution_count": 13,
   "metadata": {
    "collapsed": false
   },
   "outputs": [
    {
     "name": "stdout",
     "output_type": "stream",
     "text": [
      "{'a': 100, 'c': 0.98, 'b': 'yes'}\n",
      "['a', 'c', 'b']\n",
      "[100, 0.98, 'yes']\n",
      "100\n",
      "100\n"
     ]
    }
   ],
   "source": [
    "#declare dictionary \n",
    "dic = {'a':100, 'b':\"yes\", 'c':0.98} \n",
    "print dic \n",
    "#get keys in dictionary \n",
    "print dic.keys() \n",
    "#get values in dictionary \n",
    "print dic.values() \n",
    "#get value of given key \n",
    "print dic['a'] \n",
    "#get value of given key \n",
    "print dic.get('a')"
   ]
  },
  {
   "cell_type": "markdown",
   "metadata": {},
   "source": [
    "## Dictionary 範例(二)"
   ]
  },
  {
   "cell_type": "code",
   "execution_count": 14,
   "metadata": {
    "collapsed": false
   },
   "outputs": [
    {
     "name": "stdout",
     "output_type": "stream",
     "text": [
      "{'a': 100, 'c': 0.98, 'b': 'yes', 'd': 'new'}\n",
      "{'a': 100, 'c': 0.98, 'b': 'yes', 'e': 123, 'd': 'new'}\n",
      "a 100\n",
      "c 0.98\n",
      "b yes\n",
      "e 123\n",
      "d new\n"
     ]
    }
   ],
   "source": [
    "#add entry into dictionary \n",
    "dic['d'] = 'new' \n",
    "print dic \n",
    "#add entry into dictionary \n",
    "dic.update({'e':123}) \n",
    "print dic \n",
    "# iter the dictionary \n",
    "for rec in dic: \n",
    "    print rec, dic[rec]"
   ]
  },
  {
   "cell_type": "markdown",
   "metadata": {},
   "source": [
    "## 可以使用dictionary 管理"
   ]
  },
  {
   "cell_type": "code",
   "execution_count": 13,
   "metadata": {
    "collapsed": false
   },
   "outputs": [
    {
     "name": "stdout",
     "output_type": "stream",
     "text": [
      "3.13.30\n",
      "臺灣糖業股份有限公司\n",
      "701臺南市東區生產路68號\n"
     ]
    }
   ],
   "source": [
    "dic = {\"機關代碼\":\"\", \"機關名稱\":\"\", \"機關地址\":\"\"} \n",
    "for row in tr: \n",
    "    th = row.find('th') \n",
    "    if th is not None: \n",
    "        if th.text.encode('utf-8').strip() in dic: \n",
    "            print row.find('td').text.strip()\n"
   ]
  },
  {
   "cell_type": "markdown",
   "metadata": {},
   "source": [
    "## 把資料塞到dictionary value"
   ]
  },
  {
   "cell_type": "code",
   "execution_count": 14,
   "metadata": {
    "collapsed": false
   },
   "outputs": [
    {
     "name": "stdout",
     "output_type": "stream",
     "text": [
      "{'\\xe6\\xa9\\x9f\\xe9\\x97\\x9c\\xe5\\x90\\x8d\\xe7\\xa8\\xb1': '\\xe8\\x87\\xba\\xe7\\x81\\xa3\\xe7\\xb3\\x96\\xe6\\xa5\\xad\\xe8\\x82\\xa1\\xe4\\xbb\\xbd\\xe6\\x9c\\x89\\xe9\\x99\\x90\\xe5\\x85\\xac\\xe5\\x8f\\xb8', '\\xe6\\xa9\\x9f\\xe9\\x97\\x9c\\xe4\\xbb\\xa3\\xe7\\xa2\\xbc': '3.13.30', '\\xe6\\xa9\\x9f\\xe9\\x97\\x9c\\xe5\\x9c\\xb0\\xe5\\x9d\\x80': '701\\xe8\\x87\\xba\\xe5\\x8d\\x97\\xe5\\xb8\\x82\\xe6\\x9d\\xb1\\xe5\\x8d\\x80\\xe7\\x94\\x9f\\xe7\\x94\\xa2\\xe8\\xb7\\xaf68\\xe8\\x99\\x9f'}\n"
     ]
    }
   ],
   "source": [
    "dic = {\"機關代碼\":\"\", \"機關名稱\":\"\", \"機關地址\":\"\"} \n",
    "for row in tr: \n",
    "    th = row.find('th') \n",
    "    if th is not None: \n",
    "        if th.text.encode('utf-8').strip() in dic: \n",
    "            dic[th.text.encode('utf-8').strip()] = row.find('td').text.encode('utf-8').strip() \n",
    "print dic\n"
   ]
  },
  {
   "cell_type": "markdown",
   "metadata": {},
   "source": [
    "## 把資料從字典中取出來"
   ]
  },
  {
   "cell_type": "code",
   "execution_count": 15,
   "metadata": {
    "collapsed": false
   },
   "outputs": [
    {
     "name": "stdout",
     "output_type": "stream",
     "text": [
      "機關名稱 臺灣糖業股份有限公司\n",
      "機關代碼 3.13.30\n",
      "機關地址 701臺南市東區生產路68號\n"
     ]
    }
   ],
   "source": [
    "for rec in dic: \n",
    "    print rec, dic[rec]\n",
    "\n"
   ]
  },
  {
   "cell_type": "markdown",
   "metadata": {},
   "source": [
    "## 取得標的分類"
   ]
  },
  {
   "cell_type": "code",
   "execution_count": 16,
   "metadata": {
    "collapsed": false
   },
   "outputs": [
    {
     "name": "stdout",
     "output_type": "stream",
     "text": [
      "標的分類 <勞務類>    \r\n",
      "                            752\r\n",
      "                            電信服務\n"
     ]
    }
   ],
   "source": [
    "dic = {\"標的分類\":\"\"} \n",
    "for row in tr: \n",
    "    th = row.find('th') \n",
    "    if th is not None: \n",
    "        if th.text.encode('utf-8').strip() in dic: \n",
    "            dic[th.text.encode('utf-8').strip()] = row.find('td').text.encode('utf-8').strip()\n",
    "for rec in dic: \n",
    "    print rec, dic[rec]\n"
   ]
  },
  {
   "cell_type": "markdown",
   "metadata": {},
   "source": [
    "## 使用repr 找出formatting "
   ]
  },
  {
   "cell_type": "code",
   "execution_count": 17,
   "metadata": {
    "collapsed": false
   },
   "outputs": [
    {
     "name": "stdout",
     "output_type": "stream",
     "text": [
      "\\t\\t string \\n\\t\n",
      "'\\\\t\\\\t string \\\\n\\\\t'\n"
     ]
    }
   ],
   "source": [
    "a = r'\\t\\t string \\n\\t' \n",
    "print a \n",
    "print repr(a)"
   ]
  },
  {
   "cell_type": "markdown",
   "metadata": {},
   "source": [
    "## 看看string 內含什麼字元"
   ]
  },
  {
   "cell_type": "code",
   "execution_count": 18,
   "metadata": {
    "collapsed": false
   },
   "outputs": [
    {
     "name": "stdout",
     "output_type": "stream",
     "text": [
      "'\\xe6\\xa8\\x99\\xe7\\x9a\\x84\\xe5\\x88\\x86\\xe9\\xa1\\x9e' '&lt;\\xe8\\xb2\\xa1\\xe7\\x89\\xa9\\xe9\\xa1\\x9e&gt;    \\r\\n                            32\\r\\n                            \\xe7\\xb4\\x99\\xe6\\xbc\\xbf,\\xe7\\xb4\\x99\\xe5\\x8f\\x8a\\xe7\\xb4\\x99\\xe7\\x94\\xa2\\xe5\\x93\\x81;\\xe5\\x8d\\xb0\\xe5\\x88\\xb7\\xe5\\x93\\x81\\xe5\\x8f\\x8a\\xe7\\x9b\\xb8\\xe9\\x97\\x9c\\xe7\\x9a\\x84\\xe5\\x95\\x86\\xe5\\x93\\x81'\n"
     ]
    }
   ],
   "source": [
    "for rec in dic: \n",
    "    print repr(rec), repr(dic[rec])"
   ]
  },
  {
   "cell_type": "markdown",
   "metadata": {},
   "source": [
    "## 將資料依分隔符號切成陣列"
   ]
  },
  {
   "cell_type": "code",
   "execution_count": 18,
   "metadata": {
    "collapsed": false
   },
   "outputs": [
    {
     "name": "stdout",
     "output_type": "stream",
     "text": [
      "['123', '555', '111', '99']\n",
      "['123', '555,111,99']\n"
     ]
    }
   ],
   "source": [
    "a = '123,555,111,99' \n",
    "print a.split(',') \n",
    "print a.split(',',1) "
   ]
  },
  {
   "cell_type": "markdown",
   "metadata": {},
   "source": [
    "## 將陣列單元依分隔符號合成字串"
   ]
  },
  {
   "cell_type": "code",
   "execution_count": 19,
   "metadata": {
    "collapsed": false
   },
   "outputs": [
    {
     "name": "stdout",
     "output_type": "stream",
     "text": [
      "123|555|111|99\n"
     ]
    }
   ],
   "source": [
    "a = '123,555,111,99' \n",
    "ary = a.split(',') \n",
    "print '|'.join(ary)"
   ]
  },
  {
   "cell_type": "markdown",
   "metadata": {},
   "source": [
    "## 如何移除字串中內含的  換行符號及空白"
   ]
  },
  {
   "cell_type": "code",
   "execution_count": 34,
   "metadata": {
    "collapsed": false
   },
   "outputs": [
    {
     "name": "stdout",
     "output_type": "stream",
     "text": [
      "<勞務類>752電信服務\n"
     ]
    }
   ],
   "source": [
    "for rec in dic: \n",
    "    print ''.join(dic[rec].split())"
   ]
  },
  {
   "cell_type": "markdown",
   "metadata": {},
   "source": [
    "## 如何替換跳脫字元"
   ]
  },
  {
   "cell_type": "code",
   "execution_count": 19,
   "metadata": {
    "collapsed": false
   },
   "outputs": [
    {
     "name": "stdout",
     "output_type": "stream",
     "text": [
      "<qoo> 123,555,111,99\n"
     ]
    }
   ],
   "source": [
    "import HTMLParser \n",
    "h = HTMLParser.HTMLParser() \n",
    "a = '&lt;qoo&gt; 123,555,111,99' \n",
    "print h.unescape(a)"
   ]
  },
  {
   "cell_type": "markdown",
   "metadata": {},
   "source": [
    "## 或使用replace"
   ]
  },
  {
   "cell_type": "code",
   "execution_count": 22,
   "metadata": {
    "collapsed": false
   },
   "outputs": [
    {
     "name": "stdout",
     "output_type": "stream",
     "text": [
      "<qoo> 123,555,111,99\n"
     ]
    }
   ],
   "source": [
    "a = '&lt;qoo&gt; 123,555,111,99' \n",
    "print a.replace('&lt;', '<').replace('&gt;', '>')"
   ]
  },
  {
   "cell_type": "markdown",
   "metadata": {},
   "source": [
    "## 時間跟字串轉換"
   ]
  },
  {
   "cell_type": "code",
   "execution_count": 23,
   "metadata": {
    "collapsed": false
   },
   "outputs": [
    {
     "name": "stdout",
     "output_type": "stream",
     "text": [
      "2014-06-20\n",
      "2014-05-03 14:00:00\n"
     ]
    }
   ],
   "source": [
    "from datetime import date,datetime \n",
    "currenttime = datetime.now() \n",
    "print currenttime.strftime(\"%Y-%m-%d\") \n",
    "a = '2014-05-03 14:00' \n",
    "print datetime.strptime(a, \"%Y-%m-%d %H:%M\")"
   ]
  },
  {
   "cell_type": "markdown",
   "metadata": {},
   "source": [
    "## 取得年分"
   ]
  },
  {
   "cell_type": "code",
   "execution_count": 25,
   "metadata": {
    "collapsed": false
   },
   "outputs": [
    {
     "name": "stdout",
     "output_type": "stream",
     "text": [
      "['102', '12/10 10:30']\n"
     ]
    }
   ],
   "source": [
    "response_date = '102/12/10 10:30' \n",
    "getyear = response_date.split('/', 1) \n",
    "print getyear"
   ]
  },
  {
   "cell_type": "markdown",
   "metadata": {},
   "source": [
    "## 轉換成西元年"
   ]
  },
  {
   "cell_type": "code",
   "execution_count": 27,
   "metadata": {
    "collapsed": false
   },
   "outputs": [
    {
     "name": "stdout",
     "output_type": "stream",
     "text": [
      "2013/12/10 10:30\n"
     ]
    }
   ],
   "source": [
    "bctime= str(int(getyear[0]) + 1911) + \"/\" + ''.join(getyear[1:]) \n",
    "print bctime"
   ]
  },
  {
   "cell_type": "markdown",
   "metadata": {},
   "source": [
    "## 轉換成時間格式"
   ]
  },
  {
   "cell_type": "code",
   "execution_count": 28,
   "metadata": {
    "collapsed": false
   },
   "outputs": [
    {
     "name": "stdout",
     "output_type": "stream",
     "text": [
      "2013-12-10 10:30:00\n"
     ]
    }
   ],
   "source": [
    "response_date = '102/12/10 10:30' \n",
    "getyear = response_date.split('/', 1) \n",
    "bctime= str(int(getyear[0]) + 1911) + \"/\" + ''.join(getyear[1:]) \n",
    "print datetime.strptime(bctime, \"%Y/%m/%d %H:%M\")"
   ]
  },
  {
   "cell_type": "markdown",
   "metadata": {},
   "source": [
    "## 使用資料宣告"
   ]
  },
  {
   "cell_type": "code",
   "execution_count": 25,
   "metadata": {
    "collapsed": false
   },
   "outputs": [],
   "source": [
    "tenderer_dic = {\"廠商代碼\":\"tenderer_code\", \"廠商名稱\":\"tenderer_name\", \"是否得標\":\"awarded\", \"組織型態\":\"orgnization_type\"} \n",
    "result_dic = {} "
   ]
  },
  {
   "cell_type": "markdown",
   "metadata": {},
   "source": [
    "## 找到award_table_tr_3"
   ]
  },
  {
   "cell_type": "code",
   "execution_count": 26,
   "metadata": {
    "collapsed": false
   },
   "outputs": [],
   "source": [
    "tender_table = soup.find('table', { \"class\" : \"table_block tender_table\" }) \n",
    "award_table_tr_3 = tender_table.findAll( 'tr',{'class':'award_table_tr_3'})"
   ]
  },
  {
   "cell_type": "markdown",
   "metadata": {},
   "source": [
    "## 取得廠商編號"
   ]
  },
  {
   "cell_type": "code",
   "execution_count": 27,
   "metadata": {
    "collapsed": false
   },
   "outputs": [
    {
     "name": "stdout",
     "output_type": "stream",
     "text": [
      "101\n"
     ]
    }
   ],
   "source": [
    "import re \n",
    "m = re.match(r'投標廠商(\\d+)' ,'投標廠商101') \n",
    "print m.group(1)"
   ]
  },
  {
   "cell_type": "markdown",
   "metadata": {},
   "source": [
    "## Strip 範例"
   ]
  },
  {
   "cell_type": "code",
   "execution_count": 28,
   "metadata": {
    "collapsed": false
   },
   "outputs": [
    {
     "name": "stdout",
     "output_type": "stream",
     "text": [
      " \t string test \t \n",
      "\r",
      " \t string test \t \n",
      "\r\n"
     ]
    }
   ],
   "source": [
    "s = \" \\t string test \\t \\n\\n\\r\" ' \\t string test \\t \\n\\n\\r' \n",
    "print s"
   ]
  },
  {
   "cell_type": "code",
   "execution_count": 29,
   "metadata": {
    "collapsed": false
   },
   "outputs": [
    {
     "name": "stdout",
     "output_type": "stream",
     "text": [
      "string test \t \n",
      "\r",
      " \t string test\n"
     ]
    }
   ],
   "source": [
    "print s.strip()"
   ]
  },
  {
   "cell_type": "code",
   "execution_count": 30,
   "metadata": {
    "collapsed": false
   },
   "outputs": [
    {
     "name": "stdout",
     "output_type": "stream",
     "text": [
      " \t string test \t \n",
      "\r",
      " \t string test\n"
     ]
    }
   ],
   "source": [
    "print s.rstrip()"
   ]
  },
  {
   "cell_type": "code",
   "execution_count": 31,
   "metadata": {
    "collapsed": false
   },
   "outputs": [
    {
     "name": "stdout",
     "output_type": "stream",
     "text": [
      "string test \t \n",
      "\r",
      " \t string test \t \n",
      "\r\n"
     ]
    }
   ],
   "source": [
    "print s.lstrip()"
   ]
  },
  {
   "cell_type": "markdown",
   "metadata": {},
   "source": [
    "## 統整程式碼"
   ]
  },
  {
   "cell_type": "code",
   "execution_count": 32,
   "metadata": {
    "collapsed": false
   },
   "outputs": [
    {
     "name": "stdout",
     "output_type": "stream",
     "text": [
      "{1: {'tenderer_name': u'\\u4e2d\\u83ef\\u96fb\\u4fe1\\u80a1\\u4efd\\u6709\\u9650\\u516c\\u53f8\\u81fa\\u7063\\u5357\\u5340\\u96fb\\u4fe1\\u5206\\u516c\\u53f8', 'orgnization_type': u'\\u516c\\u53f8\\u767b\\u8a18', 'tenderer_code': u'96979960', 'tenderer_num': 1, 'awarded': u'\\u662f'}}\n"
     ]
    }
   ],
   "source": [
    "for tr in award_table_tr_3: \n",
    "    tb =tr.find('table') \n",
    "    grp_num = 0 \n",
    "    if tb is not None: \n",
    "        row = tb.findAll('tr') \n",
    "        for r in row: \n",
    "            th = r.find('th').text \n",
    "            m = re.match(r'投標廠商(\\d+)' ,th.encode('utf-8').strip()) \n",
    "            if m is not None: \n",
    "                grp_num = int(m.group(1)) \n",
    "                result_dic[grp_num] = {'tenderer_num': grp_num} \n",
    "            else: \n",
    "                if th.encode('utf-8').strip() in tenderer_dic: \n",
    "                    result_dic[grp_num][tenderer_dic[th.encode('utf-8').strip()]] = r.find('td').text.strip()\n",
    "print result_dic\n"
   ]
  },
  {
   "cell_type": "markdown",
   "metadata": {},
   "source": [
    "## 處理金額問題"
   ]
  },
  {
   "cell_type": "code",
   "execution_count": 40,
   "metadata": {
    "collapsed": false
   },
   "outputs": [
    {
     "name": "stdout",
     "output_type": "stream",
     "text": [
      "352111\n"
     ]
    }
   ],
   "source": [
    "import re \n",
    "m = re.match( r\"\\$?-?([0-9,]+)\", '352,111元') \n",
    "print ''.join(m.group(1).split(','))"
   ]
  },
  {
   "cell_type": "markdown",
   "metadata": {},
   "source": [
    "## 整理品項跟得標廠商"
   ]
  },
  {
   "cell_type": "code",
   "execution_count": 33,
   "metadata": {
    "collapsed": false
   },
   "outputs": [
    {
     "name": "stdout",
     "output_type": "stream",
     "text": [
      "{1: {1: {'request_number': u'1', 'awarded_tenderer': u'\\u4e2d\\u83ef\\u96fb\\u4fe1\\u80a1\\u4efd\\u6709\\u9650\\u516c\\u53f8\\u81fa\\u7063\\u5357\\u5340\\u96fb\\u4fe1\\u5206\\u516c\\u53f8', 'floor_price_value': 305000, 'tender_awarding_value': 301500}}}\n"
     ]
    }
   ],
   "source": [
    "award_dic = {}\n",
    "tender_award_dic = {\"得標廠商\":\"awarded_tenderer\", \"預估需求數量\":\"request_number\", \"決標金額\":\"tender_awarding_value\", \"底價金額\":\"floor_price_value\"}\n",
    "award_table_tr_4 = tender_table.findAll( 'tr',{'class':'award_table_tr_4'})\t\t\n",
    "for tr in award_table_tr_4:\n",
    "\ttb =tr.find('table')\n",
    "\tif tb is not None:\n",
    "\t\trow = tb.findAll('tr')\n",
    "\t\titem_num = 0\n",
    "\t\tgrp_num = 0\n",
    "\t\tfor r in row:\n",
    "\t\t\tif r.find('th') is not None:\n",
    "\t\t\t\tth = r.find('th').text\n",
    "\t\t\t\t#print r.find('th').text\n",
    "\t\t\t\tm = re.match(r'第(\\d+)品項' ,th.encode('utf-8').strip())\n",
    "\t\t\t\tm2 = re.match(r'得標廠商(\\d+)' ,th.encode('utf-8').strip())\n",
    "\t\t\t\tif m is not None:\n",
    "\t\t\t\t\titem_num =  int(m.group(1).decode('utf-8'))\n",
    "\t\t\t\t\taward_dic[item_num] = {}\n",
    "\t\t\t\telif m2 is not None:\n",
    "\t\t\t\t\tgrp_num =  int(m2.group(1).decode('utf-8'))\n",
    "\t\t\t\t\taward_dic[item_num][grp_num] = {}\t\t\t\n",
    "\t\t\t\telse:\n",
    "\t\t\t\t\tif th.encode('utf-8').strip() in tender_award_dic:\n",
    "\t\t\t\t\t\t#print th.encode('utf-8').strip().decode('utf-8')\n",
    "\t\t\t\t\t\tif th.encode('utf-8').strip() == \"決標金額\" or th.encode('utf-8').strip() == \"底價金額\":\n",
    "\t\t\t\t\t\t\tm = re.match( r\"\\$?-?([0-9,]+)\", \"\".join( r.find('td').text.split()))\n",
    "\t\t\t\t\t\t\taward_dic[item_num][grp_num][tender_award_dic[th.encode('utf-8').strip()]] =  int(''.join(m.group(0).split(',')))\t\t\t\t\t\t\t\n",
    "\t\t\t\t\t\telse:\n",
    "\t\t\t\t\t\t\taward_dic[item_num][grp_num][tender_award_dic[th.encode('utf-8').strip()]] = r.find('td').text.strip()\n",
    "print award_dic"
   ]
  },
  {
   "cell_type": "markdown",
   "metadata": {},
   "source": [
    "## 步驟 0  引用套件"
   ]
  },
  {
   "cell_type": "code",
   "execution_count": 1,
   "metadata": {
    "collapsed": false
   },
   "outputs": [],
   "source": [
    "# -*- coding: utf-8 -*- \n",
    "from BeautifulSoup import BeautifulSoup \n",
    "from datetime import datetime \n",
    "import os, sys, re"
   ]
  },
  {
   "cell_type": "markdown",
   "metadata": {},
   "source": [
    "## 步驟1 建立資料抽出函式"
   ]
  },
  {
   "cell_type": "code",
   "execution_count": 2,
   "metadata": {
    "collapsed": false
   },
   "outputs": [],
   "source": [
    "def get_response_element (file_name): \n",
    "    f = open(file_name, 'r') \n",
    "    response_text = f.read() \n",
    "    f.close() \n",
    "    soup = BeautifulSoup(''.join(response_text)) \n",
    "    tender_table = soup.find('table', { \"class\" : \"table_block tender_table\" }) \n",
    "    tr = tender_table.findAll('tr') \n",
    "    return tr"
   ]
  },
  {
   "cell_type": "markdown",
   "metadata": {},
   "source": [
    "## 步驟2 建立時間轉換函式"
   ]
  },
  {
   "cell_type": "code",
   "execution_count": 3,
   "metadata": {
    "collapsed": false
   },
   "outputs": [],
   "source": [
    "def date_conversion(element):\n",
    "        m = re.match(r\"(\\d+/\\d+/\\d+)\",element)\n",
    "        if m is not None:\n",
    "                t = m.group(1).split('/', 1)\n",
    "                if t[0] != '':\n",
    "                        return datetime.strptime(str(int(t[0]) + 1911) + \"/\" + (''.join(t[1:]).split()[0] ), \"%Y/%m/%d\")\n",
    "        else:\n",
    "                return None\n"
   ]
  },
  {
   "cell_type": "markdown",
   "metadata": {},
   "source": [
    "## 步驟3 建立金額轉換函式"
   ]
  },
  {
   "cell_type": "code",
   "execution_count": 4,
   "metadata": {
    "collapsed": false
   },
   "outputs": [],
   "source": [
    "def money_conversion(element): \n",
    "    m = re.match( r\"\\$?-?([0-9,]+)\", \"\".join(element.split())) \n",
    "    return int(''.join(m.group(0).split(',')))"
   ]
  },
  {
   "cell_type": "markdown",
   "metadata": {},
   "source": [
    "## 步驟4 建立移除空白函式"
   ]
  },
  {
   "cell_type": "code",
   "execution_count": 5,
   "metadata": {
    "collapsed": false
   },
   "outputs": [],
   "source": [
    "def remove_space(element): \n",
    "    return \"\".join(element.split())"
   ]
  },
  {
   "cell_type": "markdown",
   "metadata": {},
   "source": [
    "## 步驟5 建立跳脫字元轉換函式"
   ]
  },
  {
   "cell_type": "code",
   "execution_count": 6,
   "metadata": {
    "collapsed": false
   },
   "outputs": [],
   "source": [
    "def unescape_conversion(element): \n",
    "    return remove_space(element).replace('&lt;', '<').replace('&gt;', '>')"
   ]
  },
  {
   "cell_type": "markdown",
   "metadata": {},
   "source": [
    "## 步驟6 建立轉換字典"
   ]
  },
  {
   "cell_type": "code",
   "execution_count": 7,
   "metadata": {
    "collapsed": false
   },
   "outputs": [],
   "source": [
    "name_map = {\"機關代碼\":\"entity_code\", \"機關名稱\":\"procuring_entity\",\"標案案號\":\"job_number\",\"招標方式\":\"procurement_type\",\\\n",
    "    \"決標方式\":\"tender_awarding_type\",\"標案名稱\":\"subject_of_procurement\", \"決標資料類別\":\"attr_of_tender_awarding\", \\\n",
    "    \"標的分類\":\"attr_of_procurement\", \"預算金額\":\"budget_value\", \"開標時間\":\"opening_date\",\"決標公告日期\":\"tender_awarding_announce_date\",\\\n",
    "    \"歸屬計畫類別\":\"project_type\",\"總決標金額\":\"total_tender_awarding_value\",\"底價金額\":\"floor_price_value\",\"決標日期\":\"tender_awarding_date\", \"pkAtmMain\":\"pkAtmMain\"}\n",
    "tender_awards_map = {\"機關代碼\":remove_space, \"機關名稱\":remove_space, \"標案案號\":remove_space, \\\n",
    "    \"招標方式\":remove_space,\"決標方式\":remove_space,\"標案名稱\":remove_space, \"決標資料類別\":remove_space, \\\n",
    "    \"標的分類\":unescape_conversion, \"預算金額\":money_conversion, \"開標時間\":date_conversion,\"歸屬計畫類別\":remove_space, \\\n",
    "    \"總決標金額\":money_conversion,\"底價金額\":money_conversion,\"決標日期\":date_conversion, \"決標公告日期\":date_conversion}\n",
    "tender_award_item_map = {\"得標廠商\":\"awarded_tenderer\", \"預估需求數量\":\"request_number\", \"決標金額\":\"tender_awarding_value\", \"底價金額\":\"floor_price_value\"}\n",
    "tenderer_map = {\"廠商代碼\":\"tenderer_code\", \"廠商名稱\":\"tenderer_name\", \"是否得標\":\"awarded\", \"組織型態\":\"orgnization_type\"}\n"
   ]
  },
  {
   "cell_type": "markdown",
   "metadata": {},
   "source": [
    "## 步驟7 整理機關、已公告、決標資料"
   ]
  },
  {
   "cell_type": "code",
   "execution_count": 8,
   "metadata": {
    "collapsed": false
   },
   "outputs": [],
   "source": [
    "def get_award_info_dic (element):\n",
    "\treturned_dic = {}\n",
    "\tfor row in element:\n",
    "\t\tth = row.find('th')\n",
    "\t\tif th is not None and row.get('class') is not None:\n",
    "\t\t    th_name = th.text.encode('utf-8').strip()\n",
    "\t\t    if ('award_table_tr_1' or 'award_table_tr_2' or  'award_table_tr_6'  in row.get('class')) and  (th_name in  tender_awards_map):\n",
    "\t\t        returned_dic[name_map[th_name]]   =   tender_awards_map[th_name](row.find('td').text)\n",
    "\treturn returned_dic\n"
   ]
  },
  {
   "cell_type": "markdown",
   "metadata": {},
   "source": [
    "## 步驟8 整理投標廠商"
   ]
  },
  {
   "cell_type": "code",
   "execution_count": 9,
   "metadata": {
    "collapsed": false
   },
   "outputs": [],
   "source": [
    "def get_tenderer_info_dic (element):\n",
    "\treturned_dic = {}\n",
    "\tgrp_num = 0\n",
    "\tfor tr in element:\n",
    "\t\tif  tr.get('class') == 'award_table_tr_3' and tr.find('table') is not None:\n",
    "\t\t\trow = tr.find('table').findAll('tr')\n",
    "\t\t\tfor r in row:\n",
    "\t\t\t\tif r.find('th') is not None:\n",
    "\t\t\t\t\tth = r.find('th').text.encode('utf-8').strip()\n",
    "\t\t\t\t\tm = re.match(r'投標廠商(\\d+)' ,th)\n",
    "\t\t\t\t\tif m is not None:\n",
    "\t\t\t\t\t\tgrp_num =  int(m.group(1).decode('utf-8'))\n",
    "\t\t\t\t\t\treturned_dic[grp_num] = {'tenderer_num': grp_num}\n",
    "\t\t\t\t\telse:\n",
    "\t\t\t\t\t\tif th in tenderer_map:\n",
    "\t\t\t\t\t\t\treturned_dic[grp_num][tenderer_map[th]] = r.find('td').text\n",
    "\treturn returned_dic\t"
   ]
  },
  {
   "cell_type": "markdown",
   "metadata": {},
   "source": [
    "## 步驟9 整理決標品項"
   ]
  },
  {
   "cell_type": "code",
   "execution_count": 10,
   "metadata": {
    "collapsed": false
   },
   "outputs": [],
   "source": [
    "def get_tender_award_item_dic (element):\n",
    "\treturned_dic = {}\n",
    "\titem_num = 0\n",
    "\tgrp_num = 0\n",
    "\tfor tr in element:\n",
    "\t\tif tr.get('class') == 'award_table_tr_4' and tr.find('table') is not None:\n",
    "\t\t\trow = tr.find('table').findAll('tr')\n",
    "\t\t\tfor r in row:\n",
    "\t\t\t\tif r.find('th') is not None:\n",
    "\t\t\t\t\tth = r.find('th').text.encode('utf-8').strip()\n",
    "\t\t\t\t\tm = re.match(r'第(\\d+)品項' ,th)\n",
    "\t\t\t\t\tm2 = re.match(r'得標廠商(\\d+)' ,th)\n",
    "\t\t\t\t\tif m is not None:\n",
    "\t\t\t\t\t\titem_num =  int(m.group(1).decode('utf-8'))\n",
    "\t\t\t\t\t\treturned_dic[item_num] = {}\n",
    "\t\t\t\t\telif m2 is not None:\n",
    "\t\t\t\t\t\tgrp_num =  int(m2.group(1).decode('utf-8'))\n",
    "\t\t\t\t\t\treturned_dic[item_num][grp_num] = {}\t\t\t\n",
    "\t\t\t\t\telse:\n",
    "\t\t\t\t\t\tif th in tender_award_item_map:\n",
    "\t\t\t\t\t\t\tif th == \"決標金額\" or th == \"底價金額\":\n",
    "\t\t\t\t\t\t\t\treturned_dic[item_num][grp_num][tender_award_item_map[th]] = money_conversion(r.find('td').text) \t\t\t\t\t\t\t\n",
    "\t\t\t\t\t\t\telse:\n",
    "\t\t\t\t\t\t\t\treturned_dic[item_num][grp_num][tender_award_item_map[th]] = r.find('td').text\n",
    "\treturn returned_dic"
   ]
  },
  {
   "cell_type": "markdown",
   "metadata": {},
   "source": [
    "## 步驟10 瀏覽整理過的資料"
   ]
  },
  {
   "cell_type": "code",
   "execution_count": 11,
   "metadata": {
    "collapsed": false
   },
   "outputs": [
    {
     "name": "stdout",
     "output_type": "stream",
     "text": [
      "{'opening_date': datetime.datetime(2013, 10, 14, 0, 0), 'tender_awarding_date': datetime.datetime(2013, 10, 14, 0, 0), 'entity_code': u'3.7.74.37', 'procurement_type': u'\\u516c\\u958b\\u53d6\\u5f97\\u5831\\u50f9\\u55ae\\u6216\\u4f01\\u5283\\u66f8', 'procuring_entity': u'\\u81fa\\u7063\\u83f8\\u9152\\u80a1\\u4efd\\u6709\\u9650\\u516c\\u53f8\\u9686\\u7530\\u9152\\u5ee0', 'attr_of_procurement': u'<\\u8ca1\\u7269\\u985e>32\\u7d19\\u6f3f,\\u7d19\\u53ca\\u7d19\\u7522\\u54c1;\\u5370\\u5237\\u54c1\\u53ca\\u76f8\\u95dc\\u7684\\u5546\\u54c1', 'tender_awarding_announce_date': datetime.datetime(2013, 10, 18, 0, 0), 'subject_of_procurement': u'5.4\\u516c\\u5347\\u87f2\\u8349\\u990a\\u751f\\u9152\\u5f69\\u76d25,000\\u500b', 'project_type': u'\\u975e\\u5c6c\\u611b\\u53f0\\u5341\\u4e8c\\u9805\\u8a08\\u756b', 'attr_of_tender_awarding': u'\\u6c7a\\u6a19\\u516c\\u544a', 'job_number': u'102-0400-1-051', 'tender_awarding_type': u'\\u6700\\u4f4e\\u6a19'}\n",
      "{1: {'tenderer_name': u'\\u8aa0\\u6bc5\\u7d19\\u5668\\u80a1\\u4efd\\u6709\\u9650\\u516c\\u53f8', 'orgnization_type': u'\\u516c\\u53f8\\u767b\\u8a18', 'tenderer_code': u'75580992', 'tenderer_num': 1, 'awarded': u'\\u662f'}, 2: {'tenderer_name': u'\\u9f8d\\u5347\\u5370\\u5237\\u6709\\u9650\\u516c\\u53f8', 'orgnization_type': u'\\u516c\\u53f8\\u767b\\u8a18', 'tenderer_code': u'70489398', 'tenderer_num': 2, 'awarded': u'\\u5426'}, 3: {'tenderer_name': u'\\u9f8d\\u5b8f\\u5370\\u5237\\u6709\\u9650\\u516c\\u53f8', 'orgnization_type': u'\\u516c\\u53f8\\u767b\\u8a18', 'tenderer_code': u'72205903', 'tenderer_num': 3, 'awarded': u'\\u5426'}, 4: {'tenderer_name': u'\\u6377\\u91c7\\u5370\\u5237\\u4e8b\\u696d\\u80a1\\u4efd\\u6709\\u9650\\u516c\\u53f8', 'orgnization_type': u'\\u516c\\u53f8\\u767b\\u8a18', 'tenderer_code': u'23518409', 'tenderer_num': 4, 'awarded': u'\\u5426'}, 5: {'tenderer_name': u'\\u5927\\u6689\\u5f69\\u8272\\u5370\\u5237\\u6709\\u9650\\u516c\\u53f8', 'orgnization_type': u'\\u516c\\u53f8\\u767b\\u8a18', 'tenderer_code': u'22098203', 'tenderer_num': 5, 'awarded': u'\\u5426'}}\n",
      "{1: {1: {'request_number': u'5000', 'awarded_tenderer': u'\\u8aa0\\u6bc5\\u7d19\\u5668\\u80a1\\u4efd\\u6709\\u9650\\u516c\\u53f8'}}}\n"
     ]
    }
   ],
   "source": [
    "ele = get_response_element(\"51081295_102-0400-1-051.txt\") \n",
    "award_info_dic = get_award_info_dic(ele) \n",
    "tenderer_info_dic = get_tenderer_info_dic(ele) \n",
    "tender_award_item_dic = get_tender_award_item_dic(ele)\n",
    "print award_info_dic\n",
    "print tenderer_info_dic \n",
    "print tender_award_item_dic "
   ]
  },
  {
   "cell_type": "markdown",
   "metadata": {},
   "source": [
    "## 將查到書籍資料整理成dic"
   ]
  },
  {
   "cell_type": "code",
   "execution_count": 56,
   "metadata": {
    "collapsed": false
   },
   "outputs": [
    {
     "name": "stdout",
     "output_type": "stream",
     "text": [
      "純天然無毒清潔術：妙用小蘇打×檸檬酸×醋(暢銷新裝版)\n",
      "q作者：boutique, 出版社： , 出版日期：2014-01-06q\n",
      "q定價 250 元, 最低175元起...博客來、iRead 灰熊愛讀書完整列出比價資訊...q\n",
      "q商品條碼：9789863021582, ISBN：986302158X分類標籤：室內設計&raquo;藝術設計&raquo;居家生活&raquo;生活風格&raquo;清潔/收納/修繕q\n",
      "{'date': '2014-01-06', 'publisher': ' ', 'author': 'boutique', 'title': u'\\u7d14\\u5929\\u7136\\u7121\\u6bd2\\u6e05\\u6f54\\u8853\\uff1a\\u5999\\u7528\\u5c0f\\u8607\\u6253\\xd7\\u6ab8\\u6aac\\u9178\\xd7\\u918b(\\u66a2\\u92b7\\u65b0\\u88dd\\u7248)'}\n"
     ]
    }
   ],
   "source": [
    "import requests\n",
    "import re\n",
    "from BeautifulSoup import BeautifulSoup\n",
    "find_url = 'http://findbook.tw/book/%s/basic'\n",
    "book = '9789863021582'\n",
    "    \n",
    "res = requests.get(find_url%(book))\n",
    "res.encoding= 'utf-8'\n",
    "soup = BeautifulSoup(res.text.encode('utf-8'))\n",
    "profile = soup.find('div', {'class':'book-profile'})\n",
    "dic = {}\n",
    "title = profile.find('h1').text\n",
    "dic['title'] = title\n",
    "ps = profile.findAll('p')\n",
    "for p in ps:\n",
    "    print \"q\"+p.text+\"q\"\n",
    "    m = re.match(r'作者：(.*), 出版社：(.*), 出版日期：(.*)' ,p.text.encode('utf-8'))\n",
    "    if m:\n",
    "        dic['author'] =  m.group(1)\n",
    "        dic['publisher'] = m.group(2) \n",
    "        dic['date'] = m.group(3)\n",
    "print dic "
   ]
  },
  {
   "cell_type": "markdown",
   "metadata": {},
   "source": [
    "## 整理高鐵時刻表"
   ]
  },
  {
   "cell_type": "code",
   "execution_count": 57,
   "metadata": {
    "collapsed": false
   },
   "outputs": [
    {
     "name": "stdout",
     "output_type": "stream",
     "text": [
      "<section class=\"result_table\">\n",
      "<table>\n",
      "<tr>\n",
      "<th class=\"column1\" scope=\"col\">車次</th>\n",
      "<th class=\"column3\" scope=\"col\">出發時間</th>\n",
      "<th class=\"column4\" scope=\"col\">抵達時間</th>\n",
      "<th class=\"column2\" scope=\"col\">備註</th>\n",
      "</tr>\n",
      "<tr>\n",
      "<td class=\"toTouch\" colspan=\"4\">\n",
      "<table class=\"touch_table\"><tr>\n",
      "<td class=\"column1\"><a href=\"javascript:;\" title=\"0721\">0721</a></td>\n",
      "<td class=\"column3\">16:36</td>\n",
      "<td class=\"column4\">18:00</td>\n",
      "<td class=\"column2\"></td>\n",
      "</tr>\n",
      "</table>\n",
      "<div class=\"touch_show\">\n",
      "</div></td></tr></table></section>\n"
     ]
    }
   ],
   "source": [
    "import requests\n",
    "from BeautifulSoup import BeautifulSoup\n",
    "payload = {\n",
    "'StartStation':'977abb69-413a-4ccf-a109-0272c24fd490',\n",
    "'EndStation':'60831846-f0e4-47f6-9b5b-46323ebdcef7',\n",
    "'SearchDate':'2014/06/18',\n",
    "'SearchTime':'16:30',\n",
    "'SearchWay':'DepartureInMandarin'\n",
    "}\n",
    "res = requests.post('http://www.thsrc.com.tw/tw/TimeTable/SearchResult', data=payload)\n",
    "soup = BeautifulSoup(res.text)\n",
    "sec = soup.find('section', {'class':'result_table'}) \n",
    "print sec\n"
   ]
  },
  {
   "cell_type": "markdown",
   "metadata": {},
   "source": [
    "## 整理持有股資訊?"
   ]
  },
  {
   "cell_type": "code",
   "execution_count": null,
   "metadata": {
    "collapsed": false
   },
   "outputs": [],
   "source": [
    "### Input Your Code ###"
   ]
  },
  {
   "cell_type": "markdown",
   "metadata": {},
   "source": [
    "## 整理ptt 資訊?"
   ]
  },
  {
   "cell_type": "code",
   "execution_count": null,
   "metadata": {
    "collapsed": false
   },
   "outputs": [],
   "source": [
    "### Input Your Code ###"
   ]
  }
 ],
 "metadata": {
  "kernelspec": {
   "display_name": "Python 2",
   "language": "python",
   "name": "python2"
  },
  "language_info": {
   "codemirror_mode": {
    "name": "ipython",
    "version": 2
   },
   "file_extension": ".py",
   "mimetype": "text/x-python",
   "name": "python",
   "nbconvert_exporter": "python",
   "pygments_lexer": "ipython2",
   "version": "2.7.10"
  }
 },
 "nbformat": 4,
 "nbformat_minor": 0
}
